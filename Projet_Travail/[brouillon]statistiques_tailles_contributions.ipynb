{
 "cells": [
  {
   "cell_type": "markdown",
   "metadata": {},
   "source": [
    "## Tailles\n",
    "\n",
    "visualisation des histogrammes des tailles des contributions en caractères"
   ]
  },
  {
   "cell_type": "markdown",
   "metadata": {},
   "source": [
    "Imports nécessaires :"
   ]
  },
  {
   "cell_type": "code",
   "execution_count": 1,
   "metadata": {},
   "outputs": [],
   "source": [
    "import pandas as pd\n",
    "import matplotlib.pyplot as plt\n",
    "import numpy as np"
   ]
  },
  {
   "cell_type": "markdown",
   "metadata": {},
   "source": [
    "Options d'affichages pandas :"
   ]
  },
  {
   "cell_type": "code",
   "execution_count": 2,
   "metadata": {},
   "outputs": [],
   "source": [
    "pd.set_option('display.max_columns', 50)\n",
    "pd.set_option('display.max_rows', 10)\n",
    "pd.set_option('display.max_colwidth', 500)"
   ]
  },
  {
   "cell_type": "markdown",
   "metadata": {},
   "source": [
    "## Import contributions"
   ]
  },
  {
   "cell_type": "code",
   "execution_count": 3,
   "metadata": {
    "scrolled": false
   },
   "outputs": [
    {
     "name": "stderr",
     "output_type": "stream",
     "text": [
      "C:\\Users\\adrie\\Anaconda3\\lib\\site-packages\\IPython\\core\\interactiveshell.py:3049: DtypeWarning: Columns (7) have mixed types. Specify dtype option on import or set low_memory=False.\n",
      "  interactivity=interactivity, compiler=compiler, result=result)\n",
      "C:\\Users\\adrie\\Anaconda3\\lib\\site-packages\\IPython\\core\\interactiveshell.py:3049: DtypeWarning: Columns (8) have mixed types. Specify dtype option on import or set low_memory=False.\n",
      "  interactivity=interactivity, compiler=compiler, result=result)\n"
     ]
    }
   ],
   "source": [
    "#Contributions :\n",
    "data_ecolo=pd.read_csv('Donnees_clean/contributions/data_ecolo.csv')\n",
    "data_serv_pub =pd.read_csv('Donnees_clean/contributions/data_serv_pub.csv')\n",
    "data_fisc= pd.read_csv('Donnees_clean/contributions/data_fisc.csv')\n",
    "data_dem=pd.read_csv('Donnees_clean/contributions/data_dem.csv')"
   ]
  },
  {
   "cell_type": "markdown",
   "metadata": {},
   "source": [
    "## Titres : "
   ]
  },
  {
   "cell_type": "markdown",
   "metadata": {},
   "source": [
    "Concatenation des titres de tous les thèmes de contribution :"
   ]
  },
  {
   "cell_type": "code",
   "execution_count": 4,
   "metadata": {},
   "outputs": [],
   "source": [
    "All_contrib_title=pd.concat([data_ecolo.title, data_serv_pub.title, data_fisc.title, data_dem.title], ignore_index=True)"
   ]
  },
  {
   "cell_type": "code",
   "execution_count": null,
   "metadata": {},
   "outputs": [],
   "source": []
  },
  {
   "cell_type": "code",
   "execution_count": null,
   "metadata": {},
   "outputs": [],
   "source": []
  },
  {
   "cell_type": "code",
   "execution_count": null,
   "metadata": {},
   "outputs": [],
   "source": []
  },
  {
   "cell_type": "code",
   "execution_count": 5,
   "metadata": {},
   "outputs": [
    {
     "data": {
      "text/plain": [
       "282562"
      ]
     },
     "execution_count": 5,
     "metadata": {},
     "output_type": "execute_result"
    }
   ],
   "source": [
    "print(data_ecolo.shape[0]+data_serv_pub.shape[0]+data_fisc.shape[0]+data_dem.shape[0])"
   ]
  },
  {
   "cell_type": "code",
   "execution_count": 6,
   "metadata": {},
   "outputs": [
    {
     "data": {
      "text/plain": [
       "(282562,)"
      ]
     },
     "execution_count": 6,
     "metadata": {},
     "output_type": "execute_result"
    }
   ],
   "source": [
    "print(All_contrib_title.shape)"
   ]
  },
  {
   "cell_type": "code",
   "execution_count": 7,
   "metadata": {},
   "outputs": [],
   "source": [
    "All_contrib_title=All_contrib_title.astype('str')\n",
    "lengths=[]\n",
    "for i in All_contrib_title:\n",
    "    lengths.append(len(i))"
   ]
  },
  {
   "cell_type": "code",
   "execution_count": 8,
   "metadata": {},
   "outputs": [
    {
     "name": "stderr",
     "output_type": "stream",
     "text": [
      "C:\\Users\\adrie\\Anaconda3\\lib\\site-packages\\matplotlib\\axes\\_axes.py:6521: MatplotlibDeprecationWarning: \n",
      "The 'normed' kwarg was deprecated in Matplotlib 2.1 and will be removed in 3.1. Use 'density' instead.\n",
      "  alternative=\"'density'\", removal=\"3.1\")\n"
     ]
    },
    {
     "data": {
      "image/png": "[encoded data removed]",
      "text/plain": [
       "<Figure size 1080x360 with 1 Axes>"
      ]
     },
     "metadata": {
      "needs_background": "light"
     },
     "output_type": "display_data"
    },
    {
     "name": "stdout",
     "output_type": "stream",
     "text": [
      "Taille moyenne des titres :  40.88023867328232\n"
     ]
    }
   ],
   "source": [
    "fig=plt.figure(figsize=(15,5))\n",
    "plt.hist(lengths,bins=50, normed=True )\n",
    "plt.show()\n",
    "print('Taille moyenne des titres : ', np.mean(lengths))"
   ]
  },
  {
   "cell_type": "markdown",
   "metadata": {},
   "source": [
    "## Réponses : "
   ]
  },
  {
   "cell_type": "code",
   "execution_count": 9,
   "metadata": {},
   "outputs": [
    {
     "name": "stdout",
     "output_type": "stream",
     "text": [
      "<class 'pandas.core.frame.DataFrame'>\n",
      "RangeIndex: 35982 entries, 0 to 35981\n",
      "Data columns (total 27 columns):\n",
      "Unnamed: 0                                                                                                                                                                                                                                             35982 non-null int64\n",
      "reference                                                                                                                                                                                                                                              35982 non-null object\n",
      "title                                                                                                                                                                                                                                                  35982 non-null object\n",
      "createdAt                                                                                                                                                                                                                                              35982 non-null object\n",
      "publishedAt                                                                                                                                                                                                                                            35982 non-null object\n",
      "updatedAt                                                                                                                                                                                                                                              1981 non-null object\n",
      "trashed                                                                                                                                                                                                                                                35982 non-null bool\n",
      "trashedStatus                                                                                                                                                                                                                                          8 non-null object\n",
      "authorId                                                                                                                                                                                                                                               35982 non-null object\n",
      "authorType                                                                                                                                                                                                                                             34654 non-null object\n",
      "authorZipCode                                                                                                                                                                                                                                          35982 non-null int64\n",
      "Quel est aujourd'hui pour vous le problème concret le plus important dans le domaine de l'environnement ?                                                                                                                                              33739 non-null object\n",
      "Que faudrait-il faire selon vous pour apporter des réponses à ce problème ?                                                                                                                                                                            32336 non-null object\n",
      "Diriez-vous que votre vie quotidienne est aujourd'hui touchée par le changement climatique ?                                                                                                                                                           32948 non-null object\n",
      "Si oui, de quelle manière votre vie quotidienne est-elle touchée par le changement climatique ?                                                                                                                                                        20863 non-null object\n",
      "À titre personnel, pensez-vous pouvoir contribuer à protéger l'environnement ?                                                                                                                                                                         32885 non-null object\n",
      "Si oui, que faites-vous aujourd'hui pour protéger l'environnement et/ou que pourriez-vous faire ?                                                                                                                                                      30662 non-null object\n",
      "Qu'est-ce qui pourrait vous inciter à changer vos comportements comme par exemple mieux entretenir et régler votre chauffage, modifier votre manière de conduire ou renoncer à prendre votre véhicule pour de très petites distances ?                 28641 non-null object\n",
      "Quelles seraient pour vous les solutions les plus simples et les plus supportables sur un plan financier pour vous inciter à changer vos comportements ?                                                                                               24980 non-null object\n",
      "Par rapport à votre mode de chauffage actuel, pensez-vous qu'il existe des solutions alternatives plus écologiques ?                                                                                                                                   31453 non-null object\n",
      "Si oui, que faudrait-il faire pour vous convaincre ou vous aider à changer de mode de chauffage ?                                                                                                                                                      20202 non-null object\n",
      "Avez-vous pour vos déplacements quotidiens la possibilité de recourir à des solutions de mobilité alternatives à la voiture individuelle comme les transports en commun, le covoiturage, l'auto-partage, le transport à la demande, le vélo, etc. ?    32460 non-null object\n",
      "Si oui, que faudrait-il faire pour vous convaincre ou vous aider à utiliser ces solutions alternatives ?                                                                                                                                               16864 non-null object\n",
      "Si non, quelles sont les solutions de mobilité alternatives que vous souhaiteriez pouvoir utiliser ?                                                                                                                                                   23292 non-null object\n",
      "Et qui doit selon vous se charger de vous proposer ce type de solutions alternatives ?                                                                                                                                                                 25753 non-null object\n",
      "Que pourrait faire la France pour faire partager ses choix en matière d'environnement au niveau européen et international ?                                                                                                                            26826 non-null object\n",
      "Y a-t-il d'autres points sur la transition écologique sur lesquels vous souhaiteriez vous exprimer ?                                                                                                                                                   25066 non-null object\n",
      "dtypes: bool(1), int64(2), object(24)\n",
      "memory usage: 7.2+ MB\n"
     ]
    }
   ],
   "source": [
    "data_ecolo.info()"
   ]
  },
  {
   "cell_type": "code",
   "execution_count": 10,
   "metadata": {},
   "outputs": [],
   "source": [
    "data_ecolo_questions=data_ecolo.drop(['Unnamed: 0', 'reference', 'title', 'createdAt', 'publishedAt', 'updatedAt','trashed', 'trashedStatus', 'authorId', 'authorType', 'authorZipCode'],axis=1)"
   ]
  },
  {
   "cell_type": "markdown",
   "metadata": {},
   "source": [
    "### Tests sur le bon fonctionnement du code utilisé :"
   ]
  },
  {
   "cell_type": "code",
   "execution_count": 11,
   "metadata": {},
   "outputs": [
    {
     "name": "stdout",
     "output_type": "stream",
     "text": [
      "575712\n"
     ]
    }
   ],
   "source": [
    "k=0\n",
    "for i in data_ecolo_questions:\n",
    "    for n in data_ecolo_questions[i]:\n",
    "        k+=1\n",
    "print(k)"
   ]
  },
  {
   "cell_type": "code",
   "execution_count": 12,
   "metadata": {
    "scrolled": true
   },
   "outputs": [
    {
     "data": {
      "text/plain": [
       "575712"
      ]
     },
     "execution_count": 12,
     "metadata": {},
     "output_type": "execute_result"
    }
   ],
   "source": [
    "data_ecolo_questions.shape[0]*data_ecolo_questions.shape[1]"
   ]
  },
  {
   "cell_type": "code",
   "execution_count": 13,
   "metadata": {
    "scrolled": true
   },
   "outputs": [],
   "source": [
    "lengths_ecolo=[]\n",
    "for i in data_ecolo_questions:\n",
    "    for rep in data_ecolo_questions[i].dropna().astype('str'):\n",
    "        lengths_ecolo.append(len(rep))"
   ]
  },
  {
   "cell_type": "code",
   "execution_count": 14,
   "metadata": {
    "scrolled": false
   },
   "outputs": [
    {
     "data": {
      "image/png": "[encoded data removed]",
      "text/plain": [
       "<Figure size 1080x360 with 1 Axes>"
      ]
     },
     "metadata": {
      "needs_background": "light"
     },
     "output_type": "display_data"
    },
    {
     "name": "stdout",
     "output_type": "stream",
     "text": [
      "Taille moyenne des réponses aux questions ecolo :  123.38813586349865\n",
      "part des contributions plus grandes que la taille d'un tweet (140) : 0.24048112627286602\n",
      "part des contributions plus grandes que la taille d'un tweet (280) : 0.10455612000820101\n",
      "part des contributions de la taille de 3 caractères : 0.28270269038886486\n"
     ]
    }
   ],
   "source": [
    "fig2=plt.figure(figsize=(15,5))\n",
    "plt.hist(lengths_ecolo,bins=70, range=(0, 500))\n",
    "plt.show()\n",
    "print('Taille moyenne des réponses aux questions ecolo : ', np.mean(lengths_ecolo))\n",
    "\n",
    "k=280\n",
    "count_ecolo_280 = len([i for i in lengths_ecolo if i > k])/len(lengths_ecolo)\n",
    "k=140\n",
    "count_ecolo_140 = len([i for i in lengths_ecolo if i > k])/len(lengths_ecolo)\n",
    "\n",
    "k=3\n",
    "count_ecolo_3 = len([i for i in lengths_ecolo if i == k])/len(lengths_ecolo)\n",
    "print(\"part des contributions plus grandes que la taille d'un tweet (140) :\", count_ecolo_140)\n",
    "print(\"part des contributions plus grandes que la taille d'un tweet (280) :\", count_ecolo_280)\n",
    "print(\"part des contributions de la taille de 3 caractères :\", count_ecolo_3)"
   ]
  },
  {
   "cell_type": "markdown",
   "metadata": {},
   "source": [
    "### Tests sur le bon fonctionnement des codes utilisés : "
   ]
  },
  {
   "cell_type": "code",
   "execution_count": 15,
   "metadata": {},
   "outputs": [
    {
     "name": "stdout",
     "output_type": "stream",
     "text": [
      "575712\n",
      "438970\n"
     ]
    },
    {
     "data": {
      "text/plain": [
       "575712"
      ]
     },
     "execution_count": 15,
     "metadata": {},
     "output_type": "execute_result"
    }
   ],
   "source": [
    "k=0\n",
    "for i in data_ecolo_questions:\n",
    "    for n in data_ecolo_questions[i]:\n",
    "        k+=1\n",
    "print(k)\n",
    "\n",
    "k=0\n",
    "lengths_ecolo=[]\n",
    "for i in data_ecolo_questions:\n",
    "    for rep in data_ecolo_questions[i].dropna().astype('str'):\n",
    "        k+=1\n",
    "print(k)\n",
    "\n",
    "data_ecolo_questions.shape[0]*data_ecolo_questions.shape[1]"
   ]
  },
  {
   "cell_type": "code",
   "execution_count": 16,
   "metadata": {},
   "outputs": [
    {
     "data": {
      "text/plain": [
       "438970"
      ]
     },
     "execution_count": 16,
     "metadata": {},
     "output_type": "execute_result"
    }
   ],
   "source": [
    "data_ecolo_questions.shape[0]*data_ecolo_questions.shape[1]-data_ecolo_questions.isna().sum().sum()"
   ]
  },
  {
   "cell_type": "markdown",
   "metadata": {},
   "source": [
    "## Utilisation propre d'une fonction : "
   ]
  },
  {
   "cell_type": "markdown",
   "metadata": {},
   "source": [
    "Fonction pour supprimer toutes les colonnes qui ne sont pas nécéssaires :"
   ]
  },
  {
   "cell_type": "code",
   "execution_count": 35,
   "metadata": {},
   "outputs": [],
   "source": [
    "def questions_columns(raw_contrib):\n",
    "    return raw_contrib.drop(['Unnamed: 0', 'reference', 'title', 'createdAt', 'publishedAt', 'updatedAt','trashed', 'trashedStatus', 'authorId', 'authorType', 'authorZipCode'],axis=1)"
   ]
  },
  {
   "cell_type": "code",
   "execution_count": 43,
   "metadata": {},
   "outputs": [],
   "source": [
    "def stat_lengths(raw_contrib):\n",
    "    lengths=[]\n",
    "    for i in raw_contrib:\n",
    "        for rep in raw_contrib[i].dropna().astype('str'):\n",
    "            lengths.append(len(rep))\n",
    "    fig2=plt.figure(figsize=(15,5))\n",
    "    plt.title('taille de chaque réponse aux questions : ')\n",
    "    plt.hist(lengths,bins=70, range=(0, 500))\n",
    "    plt.show()\n",
    "    print('Taille moyenne des réponses aux questions ecolo : ', np.mean(lengths))\n",
    "\n",
    "    k=280\n",
    "    count_280 = len([i for i in lengths if i > k])/len(lengths)\n",
    "    k=140\n",
    "    count_140 = len([i for i in lengths if i > k])/len(lengths)\n",
    "    k=3\n",
    "    count_3 = len([i for i in lengths if i == k])/len(lengths)\n",
    "    print(\"part des contributions plus grandes que la taille d'un tweet (140) :\", count_140)\n",
    "    print(\"part des contributions plus grandes que la taille d'un tweet (280) :\", count_280)\n",
    "    print(\"part des contributions de la taille de 3 caractères :\", count_3)"
   ]
  },
  {
   "cell_type": "markdown",
   "metadata": {},
   "source": [
    "### Ecologie :"
   ]
  },
  {
   "cell_type": "code",
   "execution_count": 39,
   "metadata": {},
   "outputs": [
    {
     "data": {
      "image/png": "[encoded data removed]",
      "text/plain": [
       "<Figure size 1080x360 with 1 Axes>"
      ]
     },
     "metadata": {
      "needs_background": "light"
     },
     "output_type": "display_data"
    },
    {
     "name": "stdout",
     "output_type": "stream",
     "text": [
      "Taille moyenne des réponses aux questions ecolo :  123.38813586349865\n",
      "part des contributions plus grandes que la taille d'un tweet (140) : 0.24048112627286602\n",
      "part des contributions plus grandes que la taille d'un tweet (280) : 0.10455612000820101\n",
      "part des contributions de la taille de 3 caractères : 0.28270269038886486\n"
     ]
    }
   ],
   "source": [
    "stat_lengths(questions_columns(data_ecolo))"
   ]
  },
  {
   "cell_type": "markdown",
   "metadata": {},
   "source": [
    "### Services publiques : "
   ]
  },
  {
   "cell_type": "code",
   "execution_count": 40,
   "metadata": {
    "scrolled": false
   },
   "outputs": [
    {
     "data": {
      "image/png": "[encoded data removed]",
      "text/plain": [
       "<Figure size 1080x360 with 1 Axes>"
      ]
     },
     "metadata": {
      "needs_background": "light"
     },
     "output_type": "display_data"
    },
    {
     "name": "stdout",
     "output_type": "stream",
     "text": [
      "Taille moyenne des réponses aux questions ecolo :  117.08651667485837\n",
      "part des contributions plus grandes que la taille d'un tweet (140) : 0.20631730991062683\n",
      "part des contributions plus grandes que la taille d'un tweet (280) : 0.09641247858732638\n",
      "part des contributions de la taille de 3 caractères : 0.38609795051317974\n"
     ]
    }
   ],
   "source": [
    "stat_lengths(questions_columns(data_serv_pub))"
   ]
  },
  {
   "cell_type": "markdown",
   "metadata": {},
   "source": [
    "### Fiscalité :"
   ]
  },
  {
   "cell_type": "code",
   "execution_count": 41,
   "metadata": {},
   "outputs": [
    {
     "data": {
      "image/png": "[encoded data removed]",
      "text/plain": [
       "<Figure size 1080x360 with 1 Axes>"
      ]
     },
     "metadata": {
      "needs_background": "light"
     },
     "output_type": "display_data"
    },
    {
     "name": "stdout",
     "output_type": "stream",
     "text": [
      "Taille moyenne des réponses aux questions ecolo :  191.50934827522244\n",
      "part des contributions plus grandes que la taille d'un tweet (140) : 0.3426579420362162\n",
      "part des contributions plus grandes que la taille d'un tweet (280) : 0.1615937162192415\n",
      "part des contributions de la taille de 3 caractères : 0.007760059869898106\n"
     ]
    }
   ],
   "source": [
    "stat_lengths(questions_columns(data_fisc))"
   ]
  },
  {
   "cell_type": "markdown",
   "metadata": {},
   "source": [
    "### Démocratie :"
   ]
  },
  {
   "cell_type": "code",
   "execution_count": 42,
   "metadata": {
    "scrolled": false
   },
   "outputs": [
    {
     "data": {
      "image/png": "[encoded data removed]",
      "text/plain": [
       "<Figure size 1080x360 with 1 Axes>"
      ]
     },
     "metadata": {
      "needs_background": "light"
     },
     "output_type": "display_data"
    },
    {
     "name": "stdout",
     "output_type": "stream",
     "text": [
      "Taille moyenne des réponses aux questions ecolo :  120.85659562153185\n",
      "part des contributions plus grandes que la taille d'un tweet (140) : 0.25507681112257236\n",
      "part des contributions plus grandes que la taille d'un tweet (280) : 0.09649633686657692\n",
      "part des contributions de la taille de 3 caractères : 0.19289300480212115\n"
     ]
    }
   ],
   "source": [
    "stat_lengths(questions_columns(data_dem))"
   ]
  },
  {
   "cell_type": "markdown",
   "metadata": {},
   "source": [
    "## Nombre de réponses aux questions par contributeur : "
   ]
  },
  {
   "cell_type": "markdown",
   "metadata": {},
   "source": [
    "### Fonction : "
   ]
  },
  {
   "cell_type": "code",
   "execution_count": 25,
   "metadata": {},
   "outputs": [],
   "source": [
    "def stat_n_answers(raw_contrib):\n",
    "    n_answers=raw_contrib.count(axis=1)\n",
    "    fig2=plt.figure(figsize=(15,5))\n",
    "    plt.hist(n_answers)\n",
    "    plt.title('Nombre de réponses pour chaque contributeur :')\n",
    "    plt.show()\n",
    "    print('Nombre moyen de réponses :', np.mean(n_answers))"
   ]
  },
  {
   "cell_type": "markdown",
   "metadata": {},
   "source": [
    "### Démocratie :"
   ]
  },
  {
   "cell_type": "code",
   "execution_count": 32,
   "metadata": {
    "scrolled": false
   },
   "outputs": [
    {
     "data": {
      "image/png": "[encoded data removed]",
      "text/plain": [
       "<Figure size 1080x360 with 1 Axes>"
      ]
     },
     "metadata": {
      "needs_background": "light"
     },
     "output_type": "display_data"
    },
    {
     "name": "stdout",
     "output_type": "stream",
     "text": [
      "Nombre moyen de réponses : 24.32792968155966\n"
     ]
    }
   ],
   "source": [
    "stat_n_answers(questions_columns(data_dem))"
   ]
  }
 ],
 "metadata": {
  "kernelspec": {
   "display_name": "Python 3",
   "language": "python",
   "name": "python3"
  },
  "language_info": {
   "codemirror_mode": {
    "name": "ipython",
    "version": 3
   },
   "file_extension": ".py",
   "mimetype": "text/x-python",
   "name": "python",
   "nbconvert_exporter": "python",
   "pygments_lexer": "ipython3",
   "version": "3.7.4"
  },
  "toc": {
   "base_numbering": 1,
   "nav_menu": {},
   "number_sections": true,
   "sideBar": true,
   "skip_h1_title": true,
   "title_cell": "Table of Contents",
   "title_sidebar": "Contents",
   "toc_cell": false,
   "toc_position": {},
   "toc_section_display": true,
   "toc_window_display": true
  }
 },
 "nbformat": 4,
 "nbformat_minor": 2
}
