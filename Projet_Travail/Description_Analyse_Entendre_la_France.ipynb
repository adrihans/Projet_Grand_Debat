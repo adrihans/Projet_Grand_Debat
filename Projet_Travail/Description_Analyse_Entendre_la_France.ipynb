{
 "cells": [
  {
   "cell_type": "markdown",
   "metadata": {},
   "source": [
    "# Base de données Entendre la France"
   ]
  },
  {
   "cell_type": "code",
   "execution_count": 2,
   "metadata": {},
   "outputs": [],
   "source": [
    "import numpy as np\n",
    "import pandas as pd\n",
    "import seaborn as sns\n",
    "import matplotlib.pyplot as plt\n",
    "\n",
    "import NLP_plots_models"
   ]
  },
  {
   "cell_type": "markdown",
   "metadata": {},
   "source": [
    "## Exploration des données: "
   ]
  },
  {
   "cell_type": "markdown",
   "metadata": {},
   "source": [
    "### Users:"
   ]
  },
  {
   "cell_type": "code",
   "execution_count": 2,
   "metadata": {},
   "outputs": [
    {
     "name": "stdout",
     "output_type": "stream",
     "text": [
      "<_io.TextIOWrapper name='Donnees/entendre_france/users.csv' mode='r' encoding='cp1252'>\n"
     ]
    }
   ],
   "source": [
    "with open('Donnees/entendre_france/users.csv') as f:\n",
    "    print(f)"
   ]
  },
  {
   "cell_type": "code",
   "execution_count": 3,
   "metadata": {},
   "outputs": [],
   "source": [
    "df_users=pd.read_csv('Donnees/entendre_france/users.csv', encoding='cp1252', delimiter=';')"
   ]
  },
  {
   "cell_type": "code",
   "execution_count": 4,
   "metadata": {},
   "outputs": [
    {
     "ename": "NameError",
     "evalue": "name 'users' is not defined",
     "output_type": "error",
     "traceback": [
      "\u001b[1;31m---------------------------------------------------------------------------\u001b[0m",
      "\u001b[1;31mNameError\u001b[0m                                 Traceback (most recent call last)",
      "\u001b[1;32m<ipython-input-4-ef985ddfe667>\u001b[0m in \u001b[0;36m<module>\u001b[1;34m\u001b[0m\n\u001b[1;32m----> 1\u001b[1;33m \u001b[0mdf_users\u001b[0m\u001b[1;33m.\u001b[0m\u001b[0msexe\u001b[0m\u001b[1;33m[\u001b[0m\u001b[0musers\u001b[0m\u001b[1;33m.\u001b[0m\u001b[0msexe\u001b[0m\u001b[1;33m!=\u001b[0m\u001b[1;34m'?'\u001b[0m\u001b[1;33m]\u001b[0m\u001b[1;33m.\u001b[0m\u001b[0mcount\u001b[0m\u001b[1;33m(\u001b[0m\u001b[1;33m)\u001b[0m\u001b[1;33m\u001b[0m\u001b[1;33m\u001b[0m\u001b[0m\n\u001b[0m",
      "\u001b[1;31mNameError\u001b[0m: name 'users' is not defined"
     ]
    }
   ],
   "source": [
    "df_users.sexe[df_users.sexe!='?'].count()"
   ]
  },
  {
   "cell_type": "code",
   "execution_count": null,
   "metadata": {},
   "outputs": [],
   "source": [
    "df_users.head()"
   ]
  },
  {
   "cell_type": "markdown",
   "metadata": {},
   "source": [
    "### tags"
   ]
  },
  {
   "cell_type": "code",
   "execution_count": 5,
   "metadata": {},
   "outputs": [
    {
     "name": "stdout",
     "output_type": "stream",
     "text": [
      "<_io.TextIOWrapper name='Donnees/entendre_france/tags.csv' mode='r' encoding='cp1252'>\n"
     ]
    }
   ],
   "source": [
    "with open('Donnees/entendre_france/tags.csv') as f:\n",
    "    print(f)"
   ]
  },
  {
   "cell_type": "code",
   "execution_count": 6,
   "metadata": {},
   "outputs": [],
   "source": [
    "df_tags=pd.read_csv('Donnees/entendre_france/tags.csv', encoding='utf8', delimiter=';')"
   ]
  },
  {
   "cell_type": "code",
   "execution_count": 7,
   "metadata": {},
   "outputs": [
    {
     "data": {
      "text/plain": [
       "257"
      ]
     },
     "execution_count": 7,
     "metadata": {},
     "output_type": "execute_result"
    }
   ],
   "source": [
    "df_tags.tag.nunique()"
   ]
  },
  {
   "cell_type": "code",
   "execution_count": 8,
   "metadata": {},
   "outputs": [
    {
     "data": {
      "text/html": [
       "<div>\n",
       "<style scoped>\n",
       "    .dataframe tbody tr th:only-of-type {\n",
       "        vertical-align: middle;\n",
       "    }\n",
       "\n",
       "    .dataframe tbody tr th {\n",
       "        vertical-align: top;\n",
       "    }\n",
       "\n",
       "    .dataframe thead th {\n",
       "        text-align: right;\n",
       "    }\n",
       "</style>\n",
       "<table border=\"1\" class=\"dataframe\">\n",
       "  <thead>\n",
       "    <tr style=\"text-align: right;\">\n",
       "      <th></th>\n",
       "      <th>contribution</th>\n",
       "      <th>customer_id</th>\n",
       "      <th>tag</th>\n",
       "      <th>corpus</th>\n",
       "      <th>question</th>\n",
       "      <th>count</th>\n",
       "    </tr>\n",
       "  </thead>\n",
       "  <tbody>\n",
       "    <tr>\n",
       "      <th>0</th>\n",
       "      <td>42431</td>\n",
       "      <td>38893</td>\n",
       "      <td>Diminution salaires et suppression des avantag...</td>\n",
       "      <td>Les dépenses du gouvernement et les dépenses a...</td>\n",
       "      <td>FI9</td>\n",
       "      <td>1</td>\n",
       "    </tr>\n",
       "    <tr>\n",
       "      <th>1</th>\n",
       "      <td>13610</td>\n",
       "      <td>23722</td>\n",
       "      <td>Développement voiture électrique</td>\n",
       "      <td>Il faut arrêter certaines taxes et accompagner...</td>\n",
       "      <td>TE13</td>\n",
       "      <td>1</td>\n",
       "    </tr>\n",
       "    <tr>\n",
       "      <th>2</th>\n",
       "      <td>30293</td>\n",
       "      <td>33840</td>\n",
       "      <td>Plus de transparence</td>\n",
       "      <td>Une plus grande transparence dans l'utilisatio...</td>\n",
       "      <td>FI7</td>\n",
       "      <td>1</td>\n",
       "    </tr>\n",
       "    <tr>\n",
       "      <th>3</th>\n",
       "      <td>12847</td>\n",
       "      <td>22934</td>\n",
       "      <td>Lutte évasion, fraude, optimisation</td>\n",
       "      <td>Mieux lutter contre la fraude interdire les pa...</td>\n",
       "      <td>FI8</td>\n",
       "      <td>1</td>\n",
       "    </tr>\n",
       "    <tr>\n",
       "      <th>4</th>\n",
       "      <td>4001</td>\n",
       "      <td>22938</td>\n",
       "      <td>vote obligatoire</td>\n",
       "      <td>Rendre le vote obligatoire</td>\n",
       "      <td>DC11</td>\n",
       "      <td>1</td>\n",
       "    </tr>\n",
       "  </tbody>\n",
       "</table>\n",
       "</div>"
      ],
      "text/plain": [
       "   contribution  customer_id  \\\n",
       "0         42431        38893   \n",
       "1         13610        23722   \n",
       "2         30293        33840   \n",
       "3         12847        22934   \n",
       "4          4001        22938   \n",
       "\n",
       "                                                 tag  \\\n",
       "0  Diminution salaires et suppression des avantag...   \n",
       "1                   Développement voiture électrique   \n",
       "2                               Plus de transparence   \n",
       "3                Lutte évasion, fraude, optimisation   \n",
       "4                                   vote obligatoire   \n",
       "\n",
       "                                              corpus question  count  \n",
       "0  Les dépenses du gouvernement et les dépenses a...      FI9      1  \n",
       "1  Il faut arrêter certaines taxes et accompagner...     TE13      1  \n",
       "2  Une plus grande transparence dans l'utilisatio...      FI7      1  \n",
       "3  Mieux lutter contre la fraude interdire les pa...      FI8      1  \n",
       "4                         Rendre le vote obligatoire     DC11      1  "
      ]
     },
     "execution_count": 8,
     "metadata": {},
     "output_type": "execute_result"
    }
   ],
   "source": [
    "df_tags.head()"
   ]
  },
  {
   "cell_type": "markdown",
   "metadata": {},
   "source": [
    "### Questions"
   ]
  },
  {
   "cell_type": "code",
   "execution_count": 9,
   "metadata": {},
   "outputs": [],
   "source": [
    "df_questions=pd.read_csv('Donnees/entendre_france/matching_questions.csv', encoding='utf8', delimiter=';')"
   ]
  },
  {
   "cell_type": "code",
   "execution_count": 10,
   "metadata": {},
   "outputs": [
    {
     "data": {
      "text/html": [
       "<div>\n",
       "<style scoped>\n",
       "    .dataframe tbody tr th:only-of-type {\n",
       "        vertical-align: middle;\n",
       "    }\n",
       "\n",
       "    .dataframe tbody tr th {\n",
       "        vertical-align: top;\n",
       "    }\n",
       "\n",
       "    .dataframe thead th {\n",
       "        text-align: right;\n",
       "    }\n",
       "</style>\n",
       "<table border=\"1\" class=\"dataframe\">\n",
       "  <thead>\n",
       "    <tr style=\"text-align: right;\">\n",
       "      <th></th>\n",
       "      <th>question_id</th>\n",
       "      <th>type</th>\n",
       "      <th>theme</th>\n",
       "      <th>title</th>\n",
       "    </tr>\n",
       "  </thead>\n",
       "  <tbody>\n",
       "    <tr>\n",
       "      <th>0</th>\n",
       "      <td>TE1</td>\n",
       "      <td>QCM</td>\n",
       "      <td>Transition écologique</td>\n",
       "      <td>🌎Q1 - Quel est aujourd’hui pour vous le problè...</td>\n",
       "    </tr>\n",
       "    <tr>\n",
       "      <th>1</th>\n",
       "      <td>TE2</td>\n",
       "      <td>QCM</td>\n",
       "      <td>Transition écologique</td>\n",
       "      <td>🌎Q2 - À titre personnel, pensez-vous pouvoir c...</td>\n",
       "    </tr>\n",
       "    <tr>\n",
       "      <th>2</th>\n",
       "      <td>TE3</td>\n",
       "      <td>QCM</td>\n",
       "      <td>Transition écologique</td>\n",
       "      <td>🌎Q3 - Pensez-vous que vos actions en faveur de...</td>\n",
       "    </tr>\n",
       "    <tr>\n",
       "      <th>3</th>\n",
       "      <td>TE4</td>\n",
       "      <td>QCM</td>\n",
       "      <td>Transition écologique</td>\n",
       "      <td>🌎Q4 - Diriez-vous que vous connaissez les aide...</td>\n",
       "    </tr>\n",
       "    <tr>\n",
       "      <th>4</th>\n",
       "      <td>TE5</td>\n",
       "      <td>QCM</td>\n",
       "      <td>Transition écologique</td>\n",
       "      <td>🌎Q5 - Avez-vous pour vos déplacements quotidie...</td>\n",
       "    </tr>\n",
       "  </tbody>\n",
       "</table>\n",
       "</div>"
      ],
      "text/plain": [
       "  question_id type                  theme  \\\n",
       "0         TE1  QCM  Transition écologique   \n",
       "1         TE2  QCM  Transition écologique   \n",
       "2         TE3  QCM  Transition écologique   \n",
       "3         TE4  QCM  Transition écologique   \n",
       "4         TE5  QCM  Transition écologique   \n",
       "\n",
       "                                               title  \n",
       "0  🌎Q1 - Quel est aujourd’hui pour vous le problè...  \n",
       "1  🌎Q2 - À titre personnel, pensez-vous pouvoir c...  \n",
       "2  🌎Q3 - Pensez-vous que vos actions en faveur de...  \n",
       "3  🌎Q4 - Diriez-vous que vous connaissez les aide...  \n",
       "4  🌎Q5 - Avez-vous pour vos déplacements quotidie...  "
      ]
     },
     "execution_count": 10,
     "metadata": {},
     "output_type": "execute_result"
    }
   ],
   "source": [
    "df_questions.head()"
   ]
  },
  {
   "cell_type": "code",
   "execution_count": 11,
   "metadata": {},
   "outputs": [
    {
     "data": {
      "text/html": [
       "<div>\n",
       "<style scoped>\n",
       "    .dataframe tbody tr th:only-of-type {\n",
       "        vertical-align: middle;\n",
       "    }\n",
       "\n",
       "    .dataframe tbody tr th {\n",
       "        vertical-align: top;\n",
       "    }\n",
       "\n",
       "    .dataframe thead th {\n",
       "        text-align: right;\n",
       "    }\n",
       "</style>\n",
       "<table border=\"1\" class=\"dataframe\">\n",
       "  <thead>\n",
       "    <tr style=\"text-align: right;\">\n",
       "      <th></th>\n",
       "      <th>question_id</th>\n",
       "      <th>type</th>\n",
       "      <th>theme</th>\n",
       "      <th>title</th>\n",
       "    </tr>\n",
       "  </thead>\n",
       "  <tbody>\n",
       "    <tr>\n",
       "      <th>0</th>\n",
       "      <td>TE1</td>\n",
       "      <td>QCM</td>\n",
       "      <td>Transition écologique</td>\n",
       "      <td>🌎Q1 - Quel est aujourd’hui pour vous le problè...</td>\n",
       "    </tr>\n",
       "    <tr>\n",
       "      <th>1</th>\n",
       "      <td>TE2</td>\n",
       "      <td>QCM</td>\n",
       "      <td>Transition écologique</td>\n",
       "      <td>🌎Q2 - À titre personnel, pensez-vous pouvoir c...</td>\n",
       "    </tr>\n",
       "    <tr>\n",
       "      <th>2</th>\n",
       "      <td>TE3</td>\n",
       "      <td>QCM</td>\n",
       "      <td>Transition écologique</td>\n",
       "      <td>🌎Q3 - Pensez-vous que vos actions en faveur de...</td>\n",
       "    </tr>\n",
       "    <tr>\n",
       "      <th>3</th>\n",
       "      <td>TE4</td>\n",
       "      <td>QCM</td>\n",
       "      <td>Transition écologique</td>\n",
       "      <td>🌎Q4 - Diriez-vous que vous connaissez les aide...</td>\n",
       "    </tr>\n",
       "    <tr>\n",
       "      <th>4</th>\n",
       "      <td>TE5</td>\n",
       "      <td>QCM</td>\n",
       "      <td>Transition écologique</td>\n",
       "      <td>🌎Q5 - Avez-vous pour vos déplacements quotidie...</td>\n",
       "    </tr>\n",
       "  </tbody>\n",
       "</table>\n",
       "</div>"
      ],
      "text/plain": [
       "  question_id type                  theme  \\\n",
       "0         TE1  QCM  Transition écologique   \n",
       "1         TE2  QCM  Transition écologique   \n",
       "2         TE3  QCM  Transition écologique   \n",
       "3         TE4  QCM  Transition écologique   \n",
       "4         TE5  QCM  Transition écologique   \n",
       "\n",
       "                                               title  \n",
       "0  🌎Q1 - Quel est aujourd’hui pour vous le problè...  \n",
       "1  🌎Q2 - À titre personnel, pensez-vous pouvoir c...  \n",
       "2  🌎Q3 - Pensez-vous que vos actions en faveur de...  \n",
       "3  🌎Q4 - Diriez-vous que vous connaissez les aide...  \n",
       "4  🌎Q5 - Avez-vous pour vos déplacements quotidie...  "
      ]
     },
     "execution_count": 11,
     "metadata": {},
     "output_type": "execute_result"
    }
   ],
   "source": [
    "df_questions.head()"
   ]
  },
  {
   "cell_type": "markdown",
   "metadata": {},
   "source": [
    "### matching_answers"
   ]
  },
  {
   "cell_type": "code",
   "execution_count": 12,
   "metadata": {},
   "outputs": [],
   "source": [
    "df_matching_a=pd.read_csv('Donnees/entendre_france/matching_answers_qcm.csv', encoding='utf8', delimiter=';')"
   ]
  },
  {
   "cell_type": "code",
   "execution_count": 13,
   "metadata": {},
   "outputs": [
    {
     "data": {
      "text/html": [
       "<div>\n",
       "<style scoped>\n",
       "    .dataframe tbody tr th:only-of-type {\n",
       "        vertical-align: middle;\n",
       "    }\n",
       "\n",
       "    .dataframe tbody tr th {\n",
       "        vertical-align: top;\n",
       "    }\n",
       "\n",
       "    .dataframe thead th {\n",
       "        text-align: right;\n",
       "    }\n",
       "</style>\n",
       "<table border=\"1\" class=\"dataframe\">\n",
       "  <thead>\n",
       "    <tr style=\"text-align: right;\">\n",
       "      <th></th>\n",
       "      <th>question_id</th>\n",
       "      <th>answer_id</th>\n",
       "      <th>answer_title</th>\n",
       "    </tr>\n",
       "  </thead>\n",
       "  <tbody>\n",
       "    <tr>\n",
       "      <th>0</th>\n",
       "      <td>TE1</td>\n",
       "      <td>1️⃣</td>\n",
       "      <td>La pollution de l'air</td>\n",
       "    </tr>\n",
       "    <tr>\n",
       "      <th>1</th>\n",
       "      <td>TE1</td>\n",
       "      <td>2️⃣</td>\n",
       "      <td>Les dérèglements climatiques (crue, sécheresse)</td>\n",
       "    </tr>\n",
       "    <tr>\n",
       "      <th>2</th>\n",
       "      <td>TE1</td>\n",
       "      <td>3️⃣</td>\n",
       "      <td>L’érosion du littoral</td>\n",
       "    </tr>\n",
       "    <tr>\n",
       "      <th>3</th>\n",
       "      <td>TE1</td>\n",
       "      <td>4️⃣</td>\n",
       "      <td>La biodiversité et la disparition de certaines...</td>\n",
       "    </tr>\n",
       "    <tr>\n",
       "      <th>4</th>\n",
       "      <td>TE1</td>\n",
       "      <td>5️⃣</td>\n",
       "      <td>Autres</td>\n",
       "    </tr>\n",
       "  </tbody>\n",
       "</table>\n",
       "</div>"
      ],
      "text/plain": [
       "  question_id answer_id                                       answer_title\n",
       "0         TE1       1️⃣                              La pollution de l'air\n",
       "1         TE1       2️⃣    Les dérèglements climatiques (crue, sécheresse)\n",
       "2         TE1       3️⃣                              L’érosion du littoral\n",
       "3         TE1       4️⃣  La biodiversité et la disparition de certaines...\n",
       "4         TE1       5️⃣                                             Autres"
      ]
     },
     "execution_count": 13,
     "metadata": {},
     "output_type": "execute_result"
    }
   ],
   "source": [
    "df_matching_a.head()"
   ]
  },
  {
   "cell_type": "code",
   "execution_count": 14,
   "metadata": {},
   "outputs": [
    {
     "data": {
      "text/plain": [
       "26"
      ]
     },
     "execution_count": 14,
     "metadata": {},
     "output_type": "execute_result"
    }
   ],
   "source": [
    "df_matching_a.answer_id[df_matching_a.answer_id=='4️⃣'].count()"
   ]
  },
  {
   "cell_type": "markdown",
   "metadata": {},
   "source": [
    "### Free"
   ]
  },
  {
   "cell_type": "code",
   "execution_count": 5,
   "metadata": {},
   "outputs": [],
   "source": [
    "df_free=pd.read_csv('Donnees/entendre_france/answers_free.csv', encoding='utf8', delimiter=';')"
   ]
  },
  {
   "cell_type": "code",
   "execution_count": 6,
   "metadata": {},
   "outputs": [
    {
     "data": {
      "text/plain": [
       "(53908, 3)"
      ]
     },
     "execution_count": 6,
     "metadata": {},
     "output_type": "execute_result"
    }
   ],
   "source": [
    "df_free.shape"
   ]
  },
  {
   "cell_type": "code",
   "execution_count": 7,
   "metadata": {},
   "outputs": [
    {
     "data": {
      "text/plain": [
       "10251"
      ]
     },
     "execution_count": 7,
     "metadata": {},
     "output_type": "execute_result"
    }
   ],
   "source": [
    "df_free.user_id.nunique()"
   ]
  },
  {
   "cell_type": "code",
   "execution_count": 8,
   "metadata": {},
   "outputs": [
    {
     "data": {
      "text/html": [
       "<div>\n",
       "<style scoped>\n",
       "    .dataframe tbody tr th:only-of-type {\n",
       "        vertical-align: middle;\n",
       "    }\n",
       "\n",
       "    .dataframe tbody tr th {\n",
       "        vertical-align: top;\n",
       "    }\n",
       "\n",
       "    .dataframe thead th {\n",
       "        text-align: right;\n",
       "    }\n",
       "</style>\n",
       "<table border=\"1\" class=\"dataframe\">\n",
       "  <thead>\n",
       "    <tr style=\"text-align: right;\">\n",
       "      <th></th>\n",
       "      <th>user_id</th>\n",
       "      <th>question_id</th>\n",
       "      <th>answer</th>\n",
       "    </tr>\n",
       "  </thead>\n",
       "  <tbody>\n",
       "    <tr>\n",
       "      <th>0</th>\n",
       "      <td>17943</td>\n",
       "      <td>DC11</td>\n",
       "      <td>Dites leur la vérité. Si une situation est jug...</td>\n",
       "    </tr>\n",
       "    <tr>\n",
       "      <th>1</th>\n",
       "      <td>17965</td>\n",
       "      <td>DC11</td>\n",
       "      <td>Rendre la politique intéressante</td>\n",
       "    </tr>\n",
       "    <tr>\n",
       "      <th>2</th>\n",
       "      <td>17971</td>\n",
       "      <td>DC11</td>\n",
       "      <td>Plus d'éducation civique, y compris au lycée. ...</td>\n",
       "    </tr>\n",
       "    <tr>\n",
       "      <th>3</th>\n",
       "      <td>17974</td>\n",
       "      <td>DC11</td>\n",
       "      <td>Information du citoyen + vote oblugatoire</td>\n",
       "    </tr>\n",
       "    <tr>\n",
       "      <th>4</th>\n",
       "      <td>18019</td>\n",
       "      <td>DC11</td>\n",
       "      <td>Qu'il arrête leur connerie comme les 80km/h</td>\n",
       "    </tr>\n",
       "  </tbody>\n",
       "</table>\n",
       "</div>"
      ],
      "text/plain": [
       "   user_id question_id                                             answer\n",
       "0    17943        DC11  Dites leur la vérité. Si une situation est jug...\n",
       "1    17965        DC11                   Rendre la politique intéressante\n",
       "2    17971        DC11  Plus d'éducation civique, y compris au lycée. ...\n",
       "3    17974        DC11          Information du citoyen + vote oblugatoire\n",
       "4    18019        DC11        Qu'il arrête leur connerie comme les 80km/h"
      ]
     },
     "execution_count": 8,
     "metadata": {},
     "output_type": "execute_result"
    }
   ],
   "source": [
    "df_free.head()"
   ]
  },
  {
   "cell_type": "code",
   "execution_count": null,
   "metadata": {},
   "outputs": [],
   "source": []
  },
  {
   "cell_type": "code",
   "execution_count": null,
   "metadata": {},
   "outputs": [],
   "source": []
  },
  {
   "cell_type": "code",
   "execution_count": null,
   "metadata": {},
   "outputs": [],
   "source": []
  },
  {
   "cell_type": "markdown",
   "metadata": {},
   "source": [
    "### TODO : "
   ]
  },
  {
   "cell_type": "markdown",
   "metadata": {},
   "source": [
    "~~Rassembler les écrits de chaque participant~~\n",
    "\n",
    "~~Merger écrits/données participants~~\n",
    "\n",
    "Utiliser le genre en target ? \n",
    "\n",
    "Utiliser aussi le genre sur les données twitter\n",
    "\n",
    "Utiliser la base d'entendre la France comme base de test"
   ]
  },
  {
   "cell_type": "markdown",
   "metadata": {},
   "source": [
    "## Join free/users"
   ]
  },
  {
   "cell_type": "code",
   "execution_count": 19,
   "metadata": {},
   "outputs": [
    {
     "data": {
      "text/html": [
       "<div>\n",
       "<style scoped>\n",
       "    .dataframe tbody tr th:only-of-type {\n",
       "        vertical-align: middle;\n",
       "    }\n",
       "\n",
       "    .dataframe tbody tr th {\n",
       "        vertical-align: top;\n",
       "    }\n",
       "\n",
       "    .dataframe thead th {\n",
       "        text-align: right;\n",
       "    }\n",
       "</style>\n",
       "<table border=\"1\" class=\"dataframe\">\n",
       "  <thead>\n",
       "    <tr style=\"text-align: right;\">\n",
       "      <th></th>\n",
       "      <th>user_id</th>\n",
       "      <th>code_postal</th>\n",
       "      <th>commune</th>\n",
       "      <th>type_commune</th>\n",
       "      <th>nom_departement</th>\n",
       "      <th>departement</th>\n",
       "      <th>sexe</th>\n",
       "      <th>age</th>\n",
       "      <th>formation</th>\n",
       "      <th>profession</th>\n",
       "      <th>taille_org</th>\n",
       "      <th>position_gj</th>\n",
       "    </tr>\n",
       "  </thead>\n",
       "  <tbody>\n",
       "    <tr>\n",
       "      <th>0</th>\n",
       "      <td>17469</td>\n",
       "      <td>?</td>\n",
       "      <td>?</td>\n",
       "      <td>?</td>\n",
       "      <td>?</td>\n",
       "      <td>?</td>\n",
       "      <td>Homme</td>\n",
       "      <td>?</td>\n",
       "      <td>?</td>\n",
       "      <td>?</td>\n",
       "      <td>?</td>\n",
       "      <td>?</td>\n",
       "    </tr>\n",
       "    <tr>\n",
       "      <th>1</th>\n",
       "      <td>17767</td>\n",
       "      <td>75011</td>\n",
       "      <td>PARIS 11 (75)</td>\n",
       "      <td>Urbain</td>\n",
       "      <td>Paris (75)</td>\n",
       "      <td>75</td>\n",
       "      <td>Homme</td>\n",
       "      <td>?</td>\n",
       "      <td>?</td>\n",
       "      <td>?</td>\n",
       "      <td>?</td>\n",
       "      <td>?</td>\n",
       "    </tr>\n",
       "    <tr>\n",
       "      <th>2</th>\n",
       "      <td>17816</td>\n",
       "      <td>13200</td>\n",
       "      <td>ARLES (13)</td>\n",
       "      <td>Urbain</td>\n",
       "      <td>Bouches-du-RhÃ´ne (13)</td>\n",
       "      <td>13</td>\n",
       "      <td>Homme</td>\n",
       "      <td>25-34 ans</td>\n",
       "      <td>Bac +4/5</td>\n",
       "      <td>Cadre, profession intellectuelle</td>\n",
       "      <td>Plus de 5000</td>\n",
       "      <td>Ne soutient pas</td>\n",
       "    </tr>\n",
       "    <tr>\n",
       "      <th>3</th>\n",
       "      <td>17941</td>\n",
       "      <td>?</td>\n",
       "      <td>?</td>\n",
       "      <td>?</td>\n",
       "      <td>?</td>\n",
       "      <td>?</td>\n",
       "      <td>?</td>\n",
       "      <td>?</td>\n",
       "      <td>?</td>\n",
       "      <td>?</td>\n",
       "      <td>?</td>\n",
       "      <td>?</td>\n",
       "    </tr>\n",
       "    <tr>\n",
       "      <th>4</th>\n",
       "      <td>17942</td>\n",
       "      <td>?</td>\n",
       "      <td>?</td>\n",
       "      <td>?</td>\n",
       "      <td>?</td>\n",
       "      <td>?</td>\n",
       "      <td>?</td>\n",
       "      <td>?</td>\n",
       "      <td>?</td>\n",
       "      <td>?</td>\n",
       "      <td>?</td>\n",
       "      <td>?</td>\n",
       "    </tr>\n",
       "  </tbody>\n",
       "</table>\n",
       "</div>"
      ],
      "text/plain": [
       "   user_id code_postal        commune type_commune         nom_departement  \\\n",
       "0    17469           ?              ?            ?                       ?   \n",
       "1    17767       75011  PARIS 11 (75)       Urbain              Paris (75)   \n",
       "2    17816       13200     ARLES (13)       Urbain  Bouches-du-RhÃ´ne (13)   \n",
       "3    17941           ?              ?            ?                       ?   \n",
       "4    17942           ?              ?            ?                       ?   \n",
       "\n",
       "  departement   sexe        age formation                        profession  \\\n",
       "0           ?  Homme          ?         ?                                 ?   \n",
       "1          75  Homme          ?         ?                                 ?   \n",
       "2          13  Homme  25-34 ans  Bac +4/5  Cadre, profession intellectuelle   \n",
       "3           ?      ?          ?         ?                                 ?   \n",
       "4           ?      ?          ?         ?                                 ?   \n",
       "\n",
       "     taille_org      position_gj  \n",
       "0             ?                ?  \n",
       "1             ?                ?  \n",
       "2  Plus de 5000  Ne soutient pas  \n",
       "3             ?                ?  \n",
       "4             ?                ?  "
      ]
     },
     "execution_count": 19,
     "metadata": {},
     "output_type": "execute_result"
    }
   ],
   "source": [
    "df_users.head()"
   ]
  },
  {
   "cell_type": "code",
   "execution_count": 20,
   "metadata": {},
   "outputs": [
    {
     "data": {
      "text/html": [
       "<div>\n",
       "<style scoped>\n",
       "    .dataframe tbody tr th:only-of-type {\n",
       "        vertical-align: middle;\n",
       "    }\n",
       "\n",
       "    .dataframe tbody tr th {\n",
       "        vertical-align: top;\n",
       "    }\n",
       "\n",
       "    .dataframe thead th {\n",
       "        text-align: right;\n",
       "    }\n",
       "</style>\n",
       "<table border=\"1\" class=\"dataframe\">\n",
       "  <thead>\n",
       "    <tr style=\"text-align: right;\">\n",
       "      <th></th>\n",
       "      <th>user_id</th>\n",
       "      <th>question_id</th>\n",
       "      <th>answer</th>\n",
       "    </tr>\n",
       "  </thead>\n",
       "  <tbody>\n",
       "    <tr>\n",
       "      <th>0</th>\n",
       "      <td>17943</td>\n",
       "      <td>DC11</td>\n",
       "      <td>Dites leur la vérité. Si une situation est jug...</td>\n",
       "    </tr>\n",
       "    <tr>\n",
       "      <th>1</th>\n",
       "      <td>17965</td>\n",
       "      <td>DC11</td>\n",
       "      <td>Rendre la politique intéressante</td>\n",
       "    </tr>\n",
       "    <tr>\n",
       "      <th>2</th>\n",
       "      <td>17971</td>\n",
       "      <td>DC11</td>\n",
       "      <td>Plus d'éducation civique, y compris au lycée. ...</td>\n",
       "    </tr>\n",
       "    <tr>\n",
       "      <th>3</th>\n",
       "      <td>17974</td>\n",
       "      <td>DC11</td>\n",
       "      <td>Information du citoyen + vote oblugatoire</td>\n",
       "    </tr>\n",
       "    <tr>\n",
       "      <th>4</th>\n",
       "      <td>18019</td>\n",
       "      <td>DC11</td>\n",
       "      <td>Qu'il arrête leur connerie comme les 80km/h</td>\n",
       "    </tr>\n",
       "  </tbody>\n",
       "</table>\n",
       "</div>"
      ],
      "text/plain": [
       "   user_id question_id                                             answer\n",
       "0    17943        DC11  Dites leur la vérité. Si une situation est jug...\n",
       "1    17965        DC11                   Rendre la politique intéressante\n",
       "2    17971        DC11  Plus d'éducation civique, y compris au lycée. ...\n",
       "3    17974        DC11          Information du citoyen + vote oblugatoire\n",
       "4    18019        DC11        Qu'il arrête leur connerie comme les 80km/h"
      ]
     },
     "execution_count": 20,
     "metadata": {},
     "output_type": "execute_result"
    }
   ],
   "source": [
    "df_free.head()"
   ]
  },
  {
   "cell_type": "markdown",
   "metadata": {
    "heading_collapsed": true
   },
   "source": [
    "### Une seule ligne pour chaque user :"
   ]
  },
  {
   "cell_type": "code",
   "execution_count": 21,
   "metadata": {
    "hidden": true
   },
   "outputs": [
    {
     "data": {
      "text/plain": [
       "10251"
      ]
     },
     "execution_count": 21,
     "metadata": {},
     "output_type": "execute_result"
    }
   ],
   "source": [
    "df_free.user_id.nunique()"
   ]
  },
  {
   "cell_type": "code",
   "execution_count": 22,
   "metadata": {
    "hidden": true
   },
   "outputs": [
    {
     "data": {
      "text/plain": [
       "53908"
      ]
     },
     "execution_count": 22,
     "metadata": {},
     "output_type": "execute_result"
    }
   ],
   "source": [
    "df_free.shape[0]"
   ]
  },
  {
   "cell_type": "markdown",
   "metadata": {
    "hidden": true
   },
   "source": [
    "On rassemble toutes les contributions d'un auteur unique sur une seule ligne:"
   ]
  },
  {
   "cell_type": "code",
   "execution_count": 23,
   "metadata": {
    "hidden": true
   },
   "outputs": [],
   "source": [
    "df_unique_free=df_free.groupby('user_id')['answer'].apply(' '.join).reset_index()"
   ]
  },
  {
   "cell_type": "markdown",
   "metadata": {
    "hidden": true
   },
   "source": [
    "On vérfie que le résultat est le bon:"
   ]
  },
  {
   "cell_type": "code",
   "execution_count": 24,
   "metadata": {
    "hidden": true
   },
   "outputs": [
    {
     "data": {
      "text/plain": [
       "10251"
      ]
     },
     "execution_count": 24,
     "metadata": {},
     "output_type": "execute_result"
    }
   ],
   "source": [
    "#Nombre de user_id uniques dans df_free:\n",
    "df_free.user_id.nunique()"
   ]
  },
  {
   "cell_type": "code",
   "execution_count": 25,
   "metadata": {
    "hidden": true
   },
   "outputs": [
    {
     "data": {
      "text/plain": [
       "(10251, 2)"
      ]
     },
     "execution_count": 25,
     "metadata": {},
     "output_type": "execute_result"
    }
   ],
   "source": [
    "#Taille de df_unique_free:\n",
    "df_unique_free.shape"
   ]
  },
  {
   "cell_type": "markdown",
   "metadata": {
    "hidden": true
   },
   "source": [
    "Le résultat est bon. "
   ]
  },
  {
   "cell_type": "code",
   "execution_count": 26,
   "metadata": {
    "hidden": true
   },
   "outputs": [
    {
     "data": {
      "text/html": [
       "<div>\n",
       "<style scoped>\n",
       "    .dataframe tbody tr th:only-of-type {\n",
       "        vertical-align: middle;\n",
       "    }\n",
       "\n",
       "    .dataframe tbody tr th {\n",
       "        vertical-align: top;\n",
       "    }\n",
       "\n",
       "    .dataframe thead th {\n",
       "        text-align: right;\n",
       "    }\n",
       "</style>\n",
       "<table border=\"1\" class=\"dataframe\">\n",
       "  <thead>\n",
       "    <tr style=\"text-align: right;\">\n",
       "      <th></th>\n",
       "      <th>user_id</th>\n",
       "      <th>answer</th>\n",
       "    </tr>\n",
       "  </thead>\n",
       "  <tbody>\n",
       "    <tr>\n",
       "      <th>0</th>\n",
       "      <td>17816</td>\n",
       "      <td>C’est un point essentiel selon moi. Communique...</td>\n",
       "    </tr>\n",
       "    <tr>\n",
       "      <th>1</th>\n",
       "      <td>17942</td>\n",
       "      <td>Le regard &amp;&amp;De l hautre &amp;&amp;De ce qu il fait Un ...</td>\n",
       "    </tr>\n",
       "    <tr>\n",
       "      <th>2</th>\n",
       "      <td>17943</td>\n",
       "      <td>Dites leur la vérité. Si une situation est jug...</td>\n",
       "    </tr>\n",
       "    <tr>\n",
       "      <th>3</th>\n",
       "      <td>17947</td>\n",
       "      <td>Rendre les actes ou paroles homophobe plus con...</td>\n",
       "    </tr>\n",
       "    <tr>\n",
       "      <th>4</th>\n",
       "      <td>17948</td>\n",
       "      <td>Les conditions sont alarmique avec tout ces pe...</td>\n",
       "    </tr>\n",
       "  </tbody>\n",
       "</table>\n",
       "</div>"
      ],
      "text/plain": [
       "   user_id                                             answer\n",
       "0    17816  C’est un point essentiel selon moi. Communique...\n",
       "1    17942  Le regard &&De l hautre &&De ce qu il fait Un ...\n",
       "2    17943  Dites leur la vérité. Si une situation est jug...\n",
       "3    17947  Rendre les actes ou paroles homophobe plus con...\n",
       "4    17948  Les conditions sont alarmique avec tout ces pe..."
      ]
     },
     "execution_count": 26,
     "metadata": {},
     "output_type": "execute_result"
    }
   ],
   "source": [
    "df_unique_free.head()"
   ]
  },
  {
   "cell_type": "markdown",
   "metadata": {
    "heading_collapsed": true
   },
   "source": [
    "### Rassembler écrits et infos des utilisateurs: "
   ]
  },
  {
   "cell_type": "code",
   "execution_count": 27,
   "metadata": {
    "hidden": true
   },
   "outputs": [],
   "source": [
    "df_users.user_id=df_users.user_id.astype('int64')"
   ]
  },
  {
   "cell_type": "code",
   "execution_count": 28,
   "metadata": {
    "hidden": true
   },
   "outputs": [],
   "source": [
    "df_unique_free.user_id=df_unique_free.user_id.astype('int64')"
   ]
  },
  {
   "cell_type": "code",
   "execution_count": 29,
   "metadata": {
    "hidden": true
   },
   "outputs": [],
   "source": [
    "df_info_free = pd.merge(df_unique_free, df_users,left_on='user_id', right_on='user_id', how='left')"
   ]
  },
  {
   "cell_type": "code",
   "execution_count": 30,
   "metadata": {
    "hidden": true
   },
   "outputs": [
    {
     "name": "stdout",
     "output_type": "stream",
     "text": [
      "<class 'pandas.core.frame.DataFrame'>\n",
      "Int64Index: 10251 entries, 0 to 10250\n",
      "Data columns (total 13 columns):\n",
      "user_id            10251 non-null int64\n",
      "answer             10251 non-null object\n",
      "code_postal        10055 non-null object\n",
      "commune            10055 non-null object\n",
      "type_commune       10055 non-null object\n",
      "nom_departement    10055 non-null object\n",
      "departement        10055 non-null object\n",
      "sexe               10055 non-null object\n",
      "age                10055 non-null object\n",
      "formation          10055 non-null object\n",
      "profession         10055 non-null object\n",
      "taille_org         10055 non-null object\n",
      "position_gj        10055 non-null object\n",
      "dtypes: int64(1), object(12)\n",
      "memory usage: 1.1+ MB\n"
     ]
    }
   ],
   "source": [
    "df_info_free.info()"
   ]
  },
  {
   "cell_type": "code",
   "execution_count": 31,
   "metadata": {
    "hidden": true
   },
   "outputs": [
    {
     "data": {
      "text/plain": [
       "(196, 13)"
      ]
     },
     "execution_count": 31,
     "metadata": {},
     "output_type": "execute_result"
    }
   ],
   "source": [
    "df_info_free[df_info_free.code_postal.isna()].shape"
   ]
  },
  {
   "cell_type": "markdown",
   "metadata": {
    "hidden": true
   },
   "source": [
    "Il y a 196 user_id qui sont dans la base des réponses 'free' mais pas dans la base des utilisateurs (avec leurs informations associées). \n",
    "\n",
    "N'ayant d'autre choix, on les supprime. "
   ]
  },
  {
   "cell_type": "code",
   "execution_count": 38,
   "metadata": {
    "hidden": true
   },
   "outputs": [],
   "source": [
    "df_info_free = pd.merge(df_unique_free, df_users,left_on='user_id', right_on='user_id', how='inner')"
   ]
  },
  {
   "cell_type": "code",
   "execution_count": 40,
   "metadata": {
    "hidden": true
   },
   "outputs": [
    {
     "data": {
      "text/plain": [
       "(10055, 13)"
      ]
     },
     "execution_count": 40,
     "metadata": {},
     "output_type": "execute_result"
    }
   ],
   "source": [
    "df_info_free.shape"
   ]
  },
  {
   "cell_type": "code",
   "execution_count": 41,
   "metadata": {
    "hidden": true
   },
   "outputs": [
    {
     "data": {
      "text/html": [
       "<div>\n",
       "<style scoped>\n",
       "    .dataframe tbody tr th:only-of-type {\n",
       "        vertical-align: middle;\n",
       "    }\n",
       "\n",
       "    .dataframe tbody tr th {\n",
       "        vertical-align: top;\n",
       "    }\n",
       "\n",
       "    .dataframe thead th {\n",
       "        text-align: right;\n",
       "    }\n",
       "</style>\n",
       "<table border=\"1\" class=\"dataframe\">\n",
       "  <thead>\n",
       "    <tr style=\"text-align: right;\">\n",
       "      <th></th>\n",
       "      <th>user_id</th>\n",
       "      <th>answer</th>\n",
       "      <th>code_postal</th>\n",
       "      <th>commune</th>\n",
       "      <th>type_commune</th>\n",
       "      <th>nom_departement</th>\n",
       "      <th>departement</th>\n",
       "      <th>sexe</th>\n",
       "      <th>age</th>\n",
       "      <th>formation</th>\n",
       "      <th>profession</th>\n",
       "      <th>taille_org</th>\n",
       "      <th>position_gj</th>\n",
       "    </tr>\n",
       "  </thead>\n",
       "  <tbody>\n",
       "    <tr>\n",
       "      <th>0</th>\n",
       "      <td>17816</td>\n",
       "      <td>C’est un point essentiel selon moi. Communique...</td>\n",
       "      <td>13200</td>\n",
       "      <td>ARLES (13)</td>\n",
       "      <td>Urbain</td>\n",
       "      <td>Bouches-du-RhÃ´ne (13)</td>\n",
       "      <td>13</td>\n",
       "      <td>Homme</td>\n",
       "      <td>25-34 ans</td>\n",
       "      <td>Bac +4/5</td>\n",
       "      <td>Cadre, profession intellectuelle</td>\n",
       "      <td>Plus de 5000</td>\n",
       "      <td>Ne soutient pas</td>\n",
       "    </tr>\n",
       "    <tr>\n",
       "      <th>1</th>\n",
       "      <td>17942</td>\n",
       "      <td>Le regard &amp;&amp;De l hautre &amp;&amp;De ce qu il fait Un ...</td>\n",
       "      <td>?</td>\n",
       "      <td>?</td>\n",
       "      <td>?</td>\n",
       "      <td>?</td>\n",
       "      <td>?</td>\n",
       "      <td>?</td>\n",
       "      <td>?</td>\n",
       "      <td>?</td>\n",
       "      <td>?</td>\n",
       "      <td>?</td>\n",
       "      <td>?</td>\n",
       "    </tr>\n",
       "    <tr>\n",
       "      <th>2</th>\n",
       "      <td>17943</td>\n",
       "      <td>Dites leur la vérité. Si une situation est jug...</td>\n",
       "      <td>10000</td>\n",
       "      <td>TROYES (10)</td>\n",
       "      <td>Urbain</td>\n",
       "      <td>Aube (10)</td>\n",
       "      <td>10</td>\n",
       "      <td>?</td>\n",
       "      <td>45-54 ans</td>\n",
       "      <td>?</td>\n",
       "      <td>Sans activitÃ©</td>\n",
       "      <td>?</td>\n",
       "      <td>Ne soutient pas</td>\n",
       "    </tr>\n",
       "    <tr>\n",
       "      <th>3</th>\n",
       "      <td>17947</td>\n",
       "      <td>Rendre les actes ou paroles homophobe plus con...</td>\n",
       "      <td>?</td>\n",
       "      <td>?</td>\n",
       "      <td>?</td>\n",
       "      <td>?</td>\n",
       "      <td>?</td>\n",
       "      <td>?</td>\n",
       "      <td>?</td>\n",
       "      <td>?</td>\n",
       "      <td>?</td>\n",
       "      <td>?</td>\n",
       "      <td>?</td>\n",
       "    </tr>\n",
       "    <tr>\n",
       "      <th>4</th>\n",
       "      <td>17948</td>\n",
       "      <td>Les conditions sont alarmique avec tout ces pe...</td>\n",
       "      <td>3320</td>\n",
       "      <td>POUZY MESANGY (3)</td>\n",
       "      <td>Rural</td>\n",
       "      <td>Allier (3)</td>\n",
       "      <td>3</td>\n",
       "      <td>?</td>\n",
       "      <td>45-54 ans</td>\n",
       "      <td>?</td>\n",
       "      <td>?</td>\n",
       "      <td>?</td>\n",
       "      <td>Soutient</td>\n",
       "    </tr>\n",
       "  </tbody>\n",
       "</table>\n",
       "</div>"
      ],
      "text/plain": [
       "   user_id                                             answer code_postal  \\\n",
       "0    17816  C’est un point essentiel selon moi. Communique...       13200   \n",
       "1    17942  Le regard &&De l hautre &&De ce qu il fait Un ...           ?   \n",
       "2    17943  Dites leur la vérité. Si une situation est jug...       10000   \n",
       "3    17947  Rendre les actes ou paroles homophobe plus con...           ?   \n",
       "4    17948  Les conditions sont alarmique avec tout ces pe...        3320   \n",
       "\n",
       "             commune type_commune         nom_departement departement   sexe  \\\n",
       "0         ARLES (13)       Urbain  Bouches-du-RhÃ´ne (13)          13  Homme   \n",
       "1                  ?            ?                       ?           ?      ?   \n",
       "2        TROYES (10)       Urbain               Aube (10)          10      ?   \n",
       "3                  ?            ?                       ?           ?      ?   \n",
       "4  POUZY MESANGY (3)        Rural              Allier (3)           3      ?   \n",
       "\n",
       "         age formation                        profession    taille_org  \\\n",
       "0  25-34 ans  Bac +4/5  Cadre, profession intellectuelle  Plus de 5000   \n",
       "1          ?         ?                                 ?             ?   \n",
       "2  45-54 ans         ?                    Sans activitÃ©             ?   \n",
       "3          ?         ?                                 ?             ?   \n",
       "4  45-54 ans         ?                                 ?             ?   \n",
       "\n",
       "       position_gj  \n",
       "0  Ne soutient pas  \n",
       "1                ?  \n",
       "2  Ne soutient pas  \n",
       "3                ?  \n",
       "4         Soutient  "
      ]
     },
     "execution_count": 41,
     "metadata": {},
     "output_type": "execute_result"
    }
   ],
   "source": [
    "df_info_free.head()"
   ]
  },
  {
   "cell_type": "markdown",
   "metadata": {
    "hidden": true
   },
   "source": [
    "On remplace les '?' par des nans: "
   ]
  },
  {
   "cell_type": "code",
   "execution_count": 42,
   "metadata": {
    "hidden": true
   },
   "outputs": [],
   "source": [
    "df_info_free.replace({'?' : np.nan}, inplace=True)"
   ]
  },
  {
   "cell_type": "markdown",
   "metadata": {},
   "source": [
    "### Saving :"
   ]
  },
  {
   "cell_type": "code",
   "execution_count": 52,
   "metadata": {},
   "outputs": [],
   "source": [
    "df_info_free.to_csv('Donnees_clean/Entendre_La_France/info_free.csv',index=False)"
   ]
  },
  {
   "cell_type": "markdown",
   "metadata": {},
   "source": [
    "### Analyse des informations de la base de données"
   ]
  },
  {
   "cell_type": "code",
   "execution_count": 9,
   "metadata": {},
   "outputs": [],
   "source": [
    "df_info_free=pd.read_csv('Donnees_clean/Entendre_La_France/info_free.csv')"
   ]
  },
  {
   "cell_type": "code",
   "execution_count": 10,
   "metadata": {
    "scrolled": true
   },
   "outputs": [
    {
     "name": "stdout",
     "output_type": "stream",
     "text": [
      "<class 'pandas.core.frame.DataFrame'>\n",
      "RangeIndex: 10055 entries, 0 to 10054\n",
      "Data columns (total 13 columns):\n",
      "user_id            10055 non-null int64\n",
      "answer             10055 non-null object\n",
      "code_postal        8188 non-null float64\n",
      "commune            8188 non-null object\n",
      "type_commune       8106 non-null object\n",
      "nom_departement    8188 non-null object\n",
      "departement        8188 non-null object\n",
      "sexe               8334 non-null object\n",
      "age                7496 non-null object\n",
      "formation          5665 non-null object\n",
      "profession         5792 non-null object\n",
      "taille_org         2506 non-null object\n",
      "position_gj        5516 non-null object\n",
      "dtypes: float64(1), int64(1), object(11)\n",
      "memory usage: 1021.3+ KB\n"
     ]
    }
   ],
   "source": [
    "df_info_free.info()"
   ]
  },
  {
   "cell_type": "markdown",
   "metadata": {
    "heading_collapsed": true
   },
   "source": [
    "#### Sexes:"
   ]
  },
  {
   "cell_type": "code",
   "execution_count": 15,
   "metadata": {
    "hidden": true
   },
   "outputs": [
    {
     "data": {
      "image/png": "[encoded data removed]",
      "text/plain": [
       "<Figure size 432x288 with 1 Axes>"
      ]
     },
     "metadata": {
      "needs_background": "light"
     },
     "output_type": "display_data"
    }
   ],
   "source": [
    "plt.title('repartition des sexes: ')\n",
    "sns.countplot(df_info_free.sexe)\n",
    "plt.show()"
   ]
  },
  {
   "cell_type": "markdown",
   "metadata": {
    "heading_collapsed": true
   },
   "source": [
    "#### Ages:"
   ]
  },
  {
   "cell_type": "code",
   "execution_count": 12,
   "metadata": {
    "hidden": true,
    "scrolled": true
   },
   "outputs": [
    {
     "data": {
      "image/png": "[encoded data removed]",
      "text/plain": [
       "<Figure size 1080x360 with 1 Axes>"
      ]
     },
     "metadata": {
      "needs_background": "light"
     },
     "output_type": "display_data"
    }
   ],
   "source": [
    "fig=plt.figure(figsize=(15,5))\n",
    "plt.title('repartition des ages: ')\n",
    "sns.countplot(df_info_free.age)\n",
    "plt.show()"
   ]
  },
  {
   "cell_type": "code",
   "execution_count": 13,
   "metadata": {
    "hidden": true
   },
   "outputs": [
    {
     "data": {
      "image/png": "[encoded data removed]",
      "text/plain": [
       "<Figure size 504x504 with 1 Axes>"
      ]
     },
     "metadata": {},
     "output_type": "display_data"
    },
    {
     "data": {
      "text/plain": [
       "True"
      ]
     },
     "execution_count": 13,
     "metadata": {},
     "output_type": "execute_result"
    }
   ],
   "source": [
    "NLP_plots_models.partis_pie_chart(df_info_free.age)"
   ]
  },
  {
   "cell_type": "markdown",
   "metadata": {},
   "source": [
    "#### Position Gilets Jaunes:"
   ]
  },
  {
   "cell_type": "code",
   "execution_count": 51,
   "metadata": {},
   "outputs": [
    {
     "data": {
      "image/png": "[encoded data removed]",
      "text/plain": [
       "<Figure size 1296x432 with 1 Axes>"
      ]
     },
     "metadata": {
      "needs_background": "light"
     },
     "output_type": "display_data"
    }
   ],
   "source": [
    "fig, ax = plt.subplots(figsize=(18,6))        \n",
    "ax = sns.countplot(df_info_free.position_gj)\n",
    "#ax.set_yscale('log')\n",
    "ax.set_title('Position Gilets Jaunes: ')\n",
    "#------ Ajouter les densités : -----\n",
    "#https://stackoverflow.com/questions/33179122/seaborn-countplot-with-frequencies\n",
    "ncount = len(df_info_free.position_gj.dropna())\n",
    "for p in ax.patches:\n",
    "    x=p.get_bbox().get_points()[:,0]\n",
    "    y=p.get_bbox().get_points()[1,1]\n",
    "    ax.annotate('{:.2f}%'.format(100.*y/ncount), (x.mean(), y), ha='center', va='bottom') # set the alignment of the text\n",
    "#----------\n",
    "plt.show()"
   ]
  },
  {
   "cell_type": "code",
   "execution_count": 14,
   "metadata": {},
   "outputs": [
    {
     "data": {
      "image/png": "[encoded data removed]",
      "text/plain": [
       "<Figure size 504x504 with 1 Axes>"
      ]
     },
     "metadata": {},
     "output_type": "display_data"
    },
    {
     "data": {
      "text/plain": [
       "True"
      ]
     },
     "execution_count": 14,
     "metadata": {},
     "output_type": "execute_result"
    }
   ],
   "source": [
    "NLP_plots_models.partis_pie_chart(df_info_free.position_gj)"
   ]
  },
  {
   "cell_type": "markdown",
   "metadata": {},
   "source": [
    "#### Formation"
   ]
  },
  {
   "cell_type": "code",
   "execution_count": 16,
   "metadata": {
    "scrolled": true
   },
   "outputs": [
    {
     "data": {
      "image/png": "[encoded data removed]",
      "text/plain": [
       "<Figure size 504x504 with 1 Axes>"
      ]
     },
     "metadata": {},
     "output_type": "display_data"
    },
    {
     "data": {
      "text/plain": [
       "True"
      ]
     },
     "execution_count": 16,
     "metadata": {},
     "output_type": "execute_result"
    }
   ],
   "source": [
    "NLP_plots_models.partis_pie_chart(df_info_free.formation)"
   ]
  },
  {
   "cell_type": "code",
   "execution_count": 19,
   "metadata": {},
   "outputs": [
    {
     "data": {
      "image/png": "[encoded data removed]",
      "text/plain": [
       "<Figure size 1296x432 with 1 Axes>"
      ]
     },
     "metadata": {
      "needs_background": "light"
     },
     "output_type": "display_data"
    }
   ],
   "source": [
    "fig, ax = plt.subplots(figsize=(18,6))        \n",
    "ax = sns.countplot(df_info_free.formation)\n",
    "#ax.set_yscale('log')\n",
    "ax.set_title('Formations: ')\n",
    "#------ Ajouter les densités : -----\n",
    "#https://stackoverflow.com/questions/33179122/seaborn-countplot-with-frequencies\n",
    "ncount = len(df_info_free.position_gj.dropna())\n",
    "for p in ax.patches:\n",
    "    x=p.get_bbox().get_points()[:,0]\n",
    "    y=p.get_bbox().get_points()[1,1]\n",
    "    ax.annotate('{:.2f}%'.format(100.*y/ncount), (x.mean(), y), ha='center', va='bottom') # set the alignment of the text\n",
    "#----------\n",
    "plt.show()"
   ]
  },
  {
   "cell_type": "markdown",
   "metadata": {},
   "source": [
    "#### Profession:"
   ]
  },
  {
   "cell_type": "code",
   "execution_count": 17,
   "metadata": {},
   "outputs": [
    {
     "data": {
      "image/png": "[encoded data removed]",
      "text/plain": [
       "<Figure size 504x504 with 1 Axes>"
      ]
     },
     "metadata": {},
     "output_type": "display_data"
    },
    {
     "data": {
      "text/plain": [
       "True"
      ]
     },
     "execution_count": 17,
     "metadata": {},
     "output_type": "execute_result"
    }
   ],
   "source": [
    "NLP_plots_models.partis_pie_chart(df_info_free.profession)"
   ]
  },
  {
   "cell_type": "code",
   "execution_count": 20,
   "metadata": {},
   "outputs": [
    {
     "data": {
      "image/png": "[encoded data removed]",
      "text/plain": [
       "<Figure size 1296x432 with 1 Axes>"
      ]
     },
     "metadata": {
      "needs_background": "light"
     },
     "output_type": "display_data"
    }
   ],
   "source": [
    "fig, ax = plt.subplots(figsize=(18,6))        \n",
    "ax = sns.countplot(df_info_free.profession)\n",
    "#ax.set_yscale('log')\n",
    "ax.set_title('Profession')\n",
    "#------ Ajouter les densités : -----\n",
    "#https://stackoverflow.com/questions/33179122/seaborn-countplot-with-frequencies\n",
    "ncount = len(df_info_free.position_gj.dropna())\n",
    "for p in ax.patches:\n",
    "    x=p.get_bbox().get_points()[:,0]\n",
    "    y=p.get_bbox().get_points()[1,1]\n",
    "    ax.annotate('{:.2f}%'.format(100.*y/ncount), (x.mean(), y), ha='center', va='bottom') # set the alignment of the text\n",
    "#----------\n",
    "plt.show()"
   ]
  }
 ],
 "metadata": {
  "kernelspec": {
   "display_name": "Python 3",
   "language": "python",
   "name": "python3"
  },
  "language_info": {
   "codemirror_mode": {
    "name": "ipython",
    "version": 3
   },
   "file_extension": ".py",
   "mimetype": "text/x-python",
   "name": "python",
   "nbconvert_exporter": "python",
   "pygments_lexer": "ipython3",
   "version": "3.7.4"
  },
  "toc": {
   "base_numbering": 1,
   "nav_menu": {},
   "number_sections": true,
   "sideBar": true,
   "skip_h1_title": true,
   "title_cell": "Table of Contents",
   "title_sidebar": "Contents",
   "toc_cell": false,
   "toc_position": {},
   "toc_section_display": true,
   "toc_window_display": true
  }
 },
 "nbformat": 4,
 "nbformat_minor": 2
}
