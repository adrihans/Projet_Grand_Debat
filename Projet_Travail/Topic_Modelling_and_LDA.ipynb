{
 "cells": [
  {
   "cell_type": "markdown",
   "metadata": {},
   "source": [
    "# Topic Modelling and LDA"
   ]
  },
  {
   "cell_type": "markdown",
   "metadata": {},
   "source": [
    "**Documentation :**\n",
    "\n",
    "https://medium.com/nanonets/topic-modeling-with-lsa-psla-lda-and-lda2vec-555ff65b0b05\n",
    "\n",
    "https://towardsdatascience.com/nlp-extracting-the-main-topics-from-your-dataset-using-lda-in-minutes-21486f5aa925\n",
    "\n",
    "https://towardsdatascience.com/the-complete-guide-for-topics-extraction-in-python-a6aaa6cedbbc\n",
    "\n",
    "https://towardsdatascience.com/topic-modelling-in-python-with-nltk-and-gensim-4ef03213cd21\n",
    "\n",
    "https://github.com/susanli2016/Machine-Learning-with-Python/blob/master/topic_modeling_Gensim.ipynb\n",
    "\n",
    "\n",
    "https://github.com/FelixChop/MediumArticles/blob/master/LDA-BBC.ipynb\n",
    "\n",
    "\n",
    "https://pypi.org/project/spacy-lefff/\n",
    "\n",
    "\n",
    "https://radimrehurek.com/gensim/models/tfidfmodel.html\n",
    "\n",
    "https://radimrehurek.com/gensim/auto_examples/core/run_topics_and_transformations.html\n",
    "\n"
   ]
  },
  {
   "cell_type": "markdown",
   "metadata": {},
   "source": [
    "## Importing the necessary libraries : "
   ]
  },
  {
   "cell_type": "code",
   "execution_count": 1,
   "metadata": {},
   "outputs": [],
   "source": [
    "import gensim\n",
    "from gensim.utils import simple_preprocess\n",
    "from gensim.parsing.preprocessing import STOPWORDS\n",
    "from nltk.stem import WordNetLemmatizer, SnowballStemmer\n",
    "from nltk.stem.porter import *\n",
    "\n",
    "import pyLDAvis\n",
    "import pyLDAvis.gensim\n",
    "\n",
    "import numpy as np\n",
    "import pandas as pd"
   ]
  },
  {
   "cell_type": "code",
   "execution_count": 2,
   "metadata": {},
   "outputs": [],
   "source": [
    "pd.set_option('display.max_columns', 50)\n",
    "pd.set_option('display.max_rows', 100)\n",
    "pd.set_option('display.max_colwidth', 500)"
   ]
  },
  {
   "cell_type": "markdown",
   "metadata": {},
   "source": [
    "## Importing the dataset :"
   ]
  },
  {
   "cell_type": "code",
   "execution_count": 3,
   "metadata": {},
   "outputs": [
    {
     "name": "stderr",
     "output_type": "stream",
     "text": [
      "C:\\Users\\adrie\\Anaconda3\\lib\\site-packages\\IPython\\core\\interactiveshell.py:3049: DtypeWarning: Columns (8,29) have mixed types. Specify dtype option on import or set low_memory=False.\n",
      "  interactivity=interactivity, compiler=compiler, result=result)\n"
     ]
    }
   ],
   "source": [
    "data_ecolo=pd.read_csv('Donnees_clean/contributions_coordonnees_insee/data_ecolo_coord_insee.csv')"
   ]
  },
  {
   "cell_type": "code",
   "execution_count": 4,
   "metadata": {},
   "outputs": [],
   "source": [
    "data_ecolo_title=data_ecolo['title']"
   ]
  },
  {
   "cell_type": "markdown",
   "metadata": {},
   "source": [
    "## Pre-processing :\n",
    "\n",
    "- tokenization\n",
    "- removing stopwords\n",
    "- words are lemmatized (not possible in French)\n",
    "- words are stemmed"
   ]
  },
  {
   "cell_type": "markdown",
   "metadata": {},
   "source": [
    "## Stopwords in French :"
   ]
  },
  {
   "cell_type": "code",
   "execution_count": 5,
   "metadata": {},
   "outputs": [
    {
     "name": "stdout",
     "output_type": "stream",
     "text": [
      "['au', 'aux', 'avec', 'ce', 'ces', 'dans', 'de', 'des', 'du', 'elle', 'en', 'et', 'eux', 'il', 'ils', 'je', 'la', 'le', 'les', 'leur', 'lui', 'ma', 'mais', 'me', 'même', 'mes', 'moi', 'mon', 'ne', 'nos', 'notre', 'nous', 'on', 'ou', 'par', 'pas', 'pour', 'qu', 'que', 'qui', 'sa', 'se', 'ses', 'son', 'sur', 'ta', 'te', 'tes', 'toi', 'ton', 'tu', 'un', 'une', 'vos', 'votre', 'vous', 'c', 'd', 'j', 'l', 'à', 'm', 'n', 's', 't', 'y', 'été', 'étée', 'étées', 'étés', 'étant', 'étante', 'étants', 'étantes', 'suis', 'es', 'est', 'sommes', 'êtes', 'sont', 'serai', 'seras', 'sera', 'serons', 'serez', 'seront', 'serais', 'serait', 'serions', 'seriez', 'seraient', 'étais', 'était', 'étions', 'étiez', 'étaient', 'fus', 'fut', 'fûmes', 'fûtes', 'furent', 'sois', 'soit', 'soyons', 'soyez', 'soient', 'fusse', 'fusses', 'fût', 'fussions', 'fussiez', 'fussent', 'ayant', 'ayante', 'ayantes', 'ayants', 'eu', 'eue', 'eues', 'eus', 'ai', 'as', 'avons', 'avez', 'ont', 'aurai', 'auras', 'aura', 'aurons', 'aurez', 'auront', 'aurais', 'aurait', 'aurions', 'auriez', 'auraient', 'avais', 'avait', 'avions', 'aviez', 'avaient', 'eut', 'eûmes', 'eûtes', 'eurent', 'aie', 'aies', 'ait', 'ayons', 'ayez', 'aient', 'eusse', 'eusses', 'eût', 'eussions', 'eussiez', 'eussent']\n"
     ]
    }
   ],
   "source": [
    "from nltk.corpus import stopwords\n",
    "All_Stopwords=stopwords.words('French')\n",
    "print(All_Stopwords)"
   ]
  },
  {
   "cell_type": "markdown",
   "metadata": {},
   "source": [
    "## Words are stemmed : "
   ]
  },
  {
   "cell_type": "code",
   "execution_count": 6,
   "metadata": {},
   "outputs": [],
   "source": [
    "'''\n",
    "Write a function to perform the pre processing steps on the entire dataset\n",
    "'''\n",
    "# Tokenize and stemming :\n",
    "stemmer = SnowballStemmer(\"french\")\n",
    "def preprocess(text):\n",
    "    result=[]\n",
    "    # https://tedboy.github.io/nlps/generated/generated/gensim.utils.simple_preprocess.html\n",
    "    for token in gensim.utils.simple_preprocess(text) :\n",
    "        # We take the words which are not stopwords and only words with length>=3\n",
    "        if token not in All_Stopwords and len(token) >=3:\n",
    "            result.append(stemmer.stem(token))  \n",
    "            #result.append(token)\n",
    "    return result"
   ]
  },
  {
   "cell_type": "markdown",
   "metadata": {},
   "source": [
    "## We are now converting the text : "
   ]
  },
  {
   "cell_type": "code",
   "execution_count": 7,
   "metadata": {},
   "outputs": [],
   "source": [
    "import random\n",
    "text_data = []\n",
    "for line in data_ecolo_title:\n",
    "    tokens = preprocess(line)\n",
    "    text_data.append(tokens)"
   ]
  },
  {
   "cell_type": "markdown",
   "metadata": {},
   "source": [
    "## Dictionnary :"
   ]
  },
  {
   "cell_type": "code",
   "execution_count": 8,
   "metadata": {},
   "outputs": [],
   "source": [
    "dictionary = gensim.corpora.Dictionary(text_data)"
   ]
  },
  {
   "cell_type": "code",
   "execution_count": 9,
   "metadata": {},
   "outputs": [
    {
     "name": "stdout",
     "output_type": "stream",
     "text": [
      "0 impos\n",
      "1 pass\n",
      "2 transit\n",
      "3 voulu\n",
      "4 écolog\n",
      "5 air\n",
      "6 plus\n",
      "7 pollu\n",
      "8 abon\n",
      "9 absent\n",
      "10 automobil\n"
     ]
    }
   ],
   "source": [
    "'''\n",
    "Checking dictionary created\n",
    "'''\n",
    "count = 0\n",
    "for k, v in dictionary.iteritems():\n",
    "    print(k, v)\n",
    "    count += 1\n",
    "    if count > 10:\n",
    "        break"
   ]
  },
  {
   "cell_type": "code",
   "execution_count": 11,
   "metadata": {},
   "outputs": [],
   "source": [
    "\n",
    "'''\n",
    "Create the Bag-of-words model for each document i.e for each document we create a dictionary reporting how many\n",
    "words and how many times those words appear. Save this to 'bow_corpus'\n",
    "'''\n",
    "bow_corpus = [dictionary.doc2bow(doc) for doc in text_data]"
   ]
  },
  {
   "cell_type": "code",
   "execution_count": 12,
   "metadata": {},
   "outputs": [
    {
     "name": "stdout",
     "output_type": "stream",
     "text": [
      "Word 121 (\"animal\") appears 1 time.\n",
      "Word 122 (\"débat\") appears 1 time.\n",
      "Word 123 (\"expériment\") appears 1 time.\n",
      "Word 124 (\"national\") appears 1 time.\n"
     ]
    }
   ],
   "source": [
    "'''\n",
    "Preview BOW for our sample preprocessed document\n",
    "'''\n",
    "document_num = 42\n",
    "bow_doc_x = bow_corpus[document_num]\n",
    "\n",
    "for i in range(len(bow_doc_x)):\n",
    "    print(\"Word {} (\\\"{}\\\") appears {} time.\".format(bow_doc_x[i][0], \n",
    "                                                     dictionary[bow_doc_x[i][0]], \n",
    "                                                     bow_doc_x[i][1]))"
   ]
  },
  {
   "cell_type": "code",
   "execution_count": 13,
   "metadata": {},
   "outputs": [],
   "source": [
    "'''\n",
    "Train your lda model using gensim.models.LdaMulticore and save it to 'lda_model'\n",
    "'''\n",
    "lda_model =  gensim.models.LdaMulticore(bow_corpus, \n",
    "                                   num_topics = 10, \n",
    "                                   id2word = dictionary,                                    \n",
    "                                   passes = 10,\n",
    "                                   workers = 2)"
   ]
  },
  {
   "cell_type": "code",
   "execution_count": 14,
   "metadata": {},
   "outputs": [
    {
     "name": "stdout",
     "output_type": "stream",
     "text": [
      "Topic: 0 \n",
      "Words: 0.045*\"pollueur\" + 0.040*\"plus\" + 0.036*\"tax\" + 0.034*\"moin\" + 0.026*\"fair\" + 0.020*\"pollu\" + 0.019*\"terr\" + 0.019*\"payeur\" + 0.013*\"entrepris\" + 0.012*\"pai\"\n",
      "\n",
      "\n",
      "Topic: 1 \n",
      "Words: 0.053*\"tax\" + 0.046*\"tout\" + 0.045*\"tous\" + 0.025*\"agir\" + 0.017*\"carbon\" + 0.015*\"interdir\" + 0.015*\"emballag\" + 0.014*\"mond\" + 0.013*\"pesticid\" + 0.013*\"plastiqu\"\n",
      "\n",
      "\n",
      "Topic: 2 \n",
      "Words: 0.096*\"transport\" + 0.043*\"commun\" + 0.043*\"chang\" + 0.034*\"développ\" + 0.032*\"agricultur\" + 0.030*\"stop\" + 0.021*\"vill\" + 0.020*\"biodivers\" + 0.018*\"vivr\" + 0.017*\"mieux\"\n",
      "\n",
      "\n",
      "Topic: 3 \n",
      "Words: 0.159*\"ecolog\" + 0.039*\"bon\" + 0.037*\"aven\" + 0.037*\"vi\" + 0.034*\"enfant\" + 0.030*\"sen\" + 0.026*\"proposit\" + 0.022*\"véhicul\" + 0.014*\"meilleur\" + 0.012*\"prendr\"\n",
      "\n",
      "\n",
      "Topic: 4 \n",
      "Words: 0.066*\"planet\" + 0.042*\"pollut\" + 0.036*\"économ\" + 0.030*\"urgenc\" + 0.029*\"vrai\" + 0.027*\"polit\" + 0.018*\"écolog\" + 0.017*\"mondial\" + 0.016*\"humain\" + 0.015*\"raison\"\n",
      "\n",
      "\n",
      "Topic: 5 \n",
      "Words: 0.059*\"climat\" + 0.057*\"consomm\" + 0.050*\"non\" + 0.033*\"voitur\" + 0.032*\"produit\" + 0.030*\"local\" + 0.024*\"punit\" + 0.021*\"bio\" + 0.021*\"électr\" + 0.019*\"tva\"\n",
      "\n",
      "\n",
      "Topic: 6 \n",
      "Words: 0.218*\"écolog\" + 0.152*\"transit\" + 0.028*\"respons\" + 0.023*\"énerget\" + 0.020*\"priorit\" + 0.019*\"financ\" + 0.015*\"fiscal\" + 0.014*\"sauv\" + 0.013*\"tous\" + 0.012*\"citoyen\"\n",
      "\n",
      "\n",
      "Topic: 7 \n",
      "Words: 0.111*\"environ\" + 0.036*\"contr\" + 0.029*\"déchet\" + 0.028*\"limit\" + 0.026*\"lutt\" + 0.022*\"pollut\" + 0.020*\"réduir\" + 0.018*\"protect\" + 0.016*\"déplac\" + 0.015*\"climat\"\n",
      "\n",
      "\n",
      "Topic: 8 \n",
      "Words: 0.053*\"énerg\" + 0.030*\"nucléair\" + 0.023*\"air\" + 0.022*\"energ\" + 0.020*\"fin\" + 0.020*\"renouvel\" + 0.019*\"mettr\" + 0.018*\"plan\" + 0.017*\"développ\" + 0.016*\"plac\"\n",
      "\n",
      "\n",
      "Topic: 9 \n",
      "Words: 0.032*\"contribu\" + 0.028*\"respect\" + 0.021*\"être\" + 0.021*\"natur\" + 0.021*\"animal\" + 0.020*\"franc\" + 0.017*\"bien\" + 0.017*\"moyen\" + 0.016*\"don\" + 0.015*\"doit\"\n",
      "\n",
      "\n"
     ]
    }
   ],
   "source": [
    "'''\n",
    "For each topic, we will explore the words occuring in that topic and its relative weight\n",
    "'''\n",
    "for idx, topic in lda_model.print_topics(-1):\n",
    "    print(\"Topic: {} \\nWords: {}\".format(idx, topic ))\n",
    "    print(\"\\n\")"
   ]
  },
  {
   "cell_type": "markdown",
   "metadata": {},
   "source": [
    "### Visualization :"
   ]
  },
  {
   "cell_type": "code",
   "execution_count": 15,
   "metadata": {},
   "outputs": [
    {
     "name": "stderr",
     "output_type": "stream",
     "text": [
      "C:\\Users\\adrie\\Anaconda3\\lib\\site-packages\\pyLDAvis\\_prepare.py:257: FutureWarning: Sorting because non-concatenation axis is not aligned. A future version\n",
      "of pandas will change to not sort by default.\n",
      "\n",
      "To accept the future behavior, pass 'sort=False'.\n",
      "\n",
      "To retain the current behavior and silence the warning, pass 'sort=True'.\n",
      "\n",
      "  return pd.concat([default_term_info] + list(topic_dfs))\n"
     ]
    },
    {
     "data": {
      "text/html": [
       "\n",
       "<link rel=\"stylesheet\" type=\"text/css\" href=\"https://cdn.rawgit.com/bmabey/pyLDAvis/files/ldavis.v1.0.0.css\">\n",
       "\n",
       "\n",
       "<div id=\"ldavis_el123561286829060168753887801\"></div>\n",
       "<script type=\"text/javascript\">\n",
       "\n",
       "var ldavis_el123561286829060168753887801_data = {\"mdsDat\": {\"x\": [0.20848521191901956, 0.10310045216254336, 0.06186180339826329, -0.08739771002060112, -0.22662521353569934, -0.16266911199099257, 0.09343329117453401, 0.11192228493065155, -0.20111927901154578, 0.09900827097382726], \"y\": [0.19927758345762067, -0.12174674371283173, -0.19290088115505136, 0.005535189597512025, -0.055916037466644516, -0.06818643114647786, 0.11611552073032083, 0.07073844417379081, 0.21247313328628817, -0.16538977776452715], \"topics\": [1, 2, 3, 4, 5, 6, 7, 8, 9, 10], \"cluster\": [1, 1, 1, 1, 1, 1, 1, 1, 1, 1], \"Freq\": [12.408523559570312, 11.603891372680664, 11.045989036560059, 10.538956642150879, 10.071503639221191, 9.390937805175781, 9.027543067932129, 8.801553726196289, 8.63795280456543, 8.473153114318848]}, \"tinfo\": {\"Category\": [\"Default\", \"Default\", \"Default\", \"Default\", \"Default\", \"Default\", \"Default\", \"Default\", \"Default\", \"Default\", \"Default\", \"Default\", \"Default\", \"Default\", \"Default\", \"Default\", \"Default\", \"Default\", \"Default\", \"Default\", \"Default\", \"Default\", \"Default\", \"Default\", \"Default\", \"Default\", \"Default\", \"Default\", \"Default\", \"Default\", \"Topic1\", \"Topic1\", \"Topic1\", \"Topic1\", \"Topic1\", \"Topic1\", \"Topic1\", \"Topic1\", \"Topic1\", \"Topic1\", \"Topic1\", \"Topic1\", \"Topic1\", \"Topic1\", \"Topic1\", \"Topic1\", \"Topic1\", \"Topic1\", \"Topic1\", \"Topic1\", \"Topic1\", \"Topic1\", \"Topic1\", \"Topic1\", \"Topic1\", \"Topic1\", \"Topic1\", \"Topic1\", \"Topic1\", \"Topic1\", \"Topic1\", \"Topic1\", \"Topic1\", \"Topic1\", \"Topic1\", \"Topic1\", \"Topic1\", \"Topic1\", \"Topic1\", \"Topic1\", \"Topic1\", \"Topic1\", \"Topic1\", \"Topic1\", \"Topic1\", \"Topic1\", \"Topic1\", \"Topic1\", \"Topic1\", \"Topic1\", \"Topic1\", \"Topic1\", \"Topic1\", \"Topic1\", \"Topic1\", \"Topic2\", \"Topic2\", \"Topic2\", \"Topic2\", \"Topic2\", \"Topic2\", \"Topic2\", \"Topic2\", \"Topic2\", \"Topic2\", \"Topic2\", \"Topic2\", \"Topic2\", \"Topic2\", \"Topic2\", \"Topic2\", \"Topic2\", \"Topic2\", \"Topic2\", \"Topic2\", \"Topic2\", \"Topic2\", \"Topic2\", \"Topic2\", \"Topic2\", \"Topic2\", \"Topic2\", \"Topic2\", \"Topic2\", \"Topic2\", \"Topic2\", \"Topic2\", \"Topic2\", \"Topic2\", \"Topic2\", \"Topic2\", \"Topic2\", \"Topic2\", \"Topic2\", \"Topic2\", \"Topic2\", \"Topic2\", \"Topic2\", \"Topic2\", \"Topic2\", \"Topic2\", \"Topic2\", \"Topic2\", \"Topic2\", \"Topic2\", \"Topic2\", \"Topic2\", \"Topic2\", \"Topic2\", \"Topic3\", \"Topic3\", \"Topic3\", \"Topic3\", \"Topic3\", \"Topic3\", \"Topic3\", \"Topic3\", \"Topic3\", \"Topic3\", \"Topic3\", \"Topic3\", \"Topic3\", \"Topic3\", \"Topic3\", \"Topic3\", \"Topic3\", \"Topic3\", \"Topic3\", \"Topic3\", \"Topic3\", \"Topic3\", \"Topic3\", \"Topic3\", \"Topic3\", \"Topic3\", \"Topic3\", \"Topic3\", \"Topic3\", \"Topic3\", \"Topic3\", \"Topic3\", \"Topic3\", \"Topic3\", \"Topic3\", \"Topic3\", \"Topic3\", \"Topic3\", \"Topic3\", \"Topic3\", \"Topic3\", \"Topic3\", \"Topic3\", \"Topic3\", \"Topic3\", \"Topic3\", \"Topic3\", \"Topic3\", \"Topic4\", \"Topic4\", \"Topic4\", \"Topic4\", \"Topic4\", \"Topic4\", \"Topic4\", \"Topic4\", \"Topic4\", \"Topic4\", \"Topic4\", \"Topic4\", \"Topic4\", \"Topic4\", \"Topic4\", \"Topic4\", \"Topic4\", \"Topic4\", \"Topic4\", \"Topic4\", \"Topic4\", \"Topic4\", \"Topic4\", \"Topic4\", \"Topic4\", \"Topic4\", \"Topic4\", \"Topic4\", \"Topic4\", \"Topic4\", \"Topic4\", \"Topic4\", \"Topic4\", \"Topic4\", \"Topic4\", \"Topic4\", \"Topic4\", \"Topic4\", \"Topic4\", \"Topic4\", \"Topic4\", \"Topic4\", \"Topic4\", \"Topic4\", \"Topic5\", \"Topic5\", \"Topic5\", \"Topic5\", \"Topic5\", \"Topic5\", \"Topic5\", \"Topic5\", \"Topic5\", \"Topic5\", \"Topic5\", \"Topic5\", \"Topic5\", \"Topic5\", \"Topic5\", \"Topic5\", \"Topic5\", \"Topic5\", \"Topic5\", \"Topic5\", \"Topic5\", \"Topic5\", \"Topic5\", \"Topic5\", \"Topic5\", \"Topic5\", \"Topic5\", \"Topic5\", \"Topic5\", \"Topic5\", \"Topic5\", \"Topic5\", \"Topic5\", \"Topic5\", \"Topic5\", \"Topic5\", \"Topic5\", \"Topic5\", \"Topic5\", \"Topic5\", \"Topic5\", \"Topic5\", \"Topic5\", \"Topic5\", \"Topic5\", \"Topic6\", \"Topic6\", \"Topic6\", \"Topic6\", \"Topic6\", \"Topic6\", \"Topic6\", \"Topic6\", \"Topic6\", \"Topic6\", \"Topic6\", \"Topic6\", \"Topic6\", \"Topic6\", \"Topic6\", \"Topic6\", \"Topic6\", \"Topic6\", \"Topic6\", \"Topic6\", \"Topic6\", \"Topic6\", \"Topic6\", \"Topic6\", \"Topic6\", \"Topic6\", \"Topic6\", \"Topic6\", \"Topic6\", \"Topic6\", \"Topic6\", \"Topic6\", \"Topic6\", \"Topic6\", \"Topic6\", \"Topic6\", \"Topic6\", \"Topic6\", \"Topic6\", \"Topic6\", \"Topic6\", \"Topic6\", \"Topic6\", \"Topic6\", \"Topic6\", \"Topic6\", \"Topic6\", \"Topic6\", \"Topic6\", \"Topic6\", \"Topic6\", \"Topic6\", \"Topic7\", \"Topic7\", \"Topic7\", \"Topic7\", \"Topic7\", \"Topic7\", \"Topic7\", \"Topic7\", \"Topic7\", \"Topic7\", \"Topic7\", \"Topic7\", \"Topic7\", \"Topic7\", \"Topic7\", \"Topic7\", \"Topic7\", \"Topic7\", \"Topic7\", \"Topic7\", \"Topic7\", \"Topic7\", \"Topic7\", \"Topic7\", \"Topic7\", \"Topic7\", \"Topic7\", \"Topic7\", \"Topic7\", \"Topic7\", \"Topic7\", \"Topic7\", \"Topic7\", \"Topic7\", \"Topic7\", \"Topic7\", \"Topic7\", \"Topic7\", \"Topic7\", \"Topic7\", \"Topic7\", \"Topic7\", \"Topic7\", \"Topic7\", \"Topic7\", \"Topic8\", \"Topic8\", \"Topic8\", \"Topic8\", \"Topic8\", \"Topic8\", \"Topic8\", \"Topic8\", \"Topic8\", \"Topic8\", \"Topic8\", \"Topic8\", \"Topic8\", \"Topic8\", \"Topic8\", \"Topic8\", \"Topic8\", \"Topic8\", \"Topic8\", \"Topic8\", \"Topic8\", \"Topic8\", \"Topic8\", \"Topic8\", \"Topic8\", \"Topic8\", \"Topic8\", \"Topic8\", \"Topic8\", \"Topic8\", \"Topic8\", \"Topic8\", \"Topic8\", \"Topic8\", \"Topic8\", \"Topic8\", \"Topic8\", \"Topic8\", \"Topic8\", \"Topic8\", \"Topic8\", \"Topic8\", \"Topic8\", \"Topic8\", \"Topic8\", \"Topic8\", \"Topic8\", \"Topic8\", \"Topic9\", \"Topic9\", \"Topic9\", \"Topic9\", \"Topic9\", \"Topic9\", \"Topic9\", \"Topic9\", \"Topic9\", \"Topic9\", \"Topic9\", \"Topic9\", \"Topic9\", \"Topic9\", \"Topic9\", \"Topic9\", \"Topic9\", \"Topic9\", \"Topic9\", \"Topic9\", \"Topic9\", \"Topic9\", \"Topic9\", \"Topic9\", \"Topic9\", \"Topic9\", \"Topic9\", \"Topic9\", \"Topic9\", \"Topic9\", \"Topic9\", \"Topic9\", \"Topic9\", \"Topic9\", \"Topic9\", \"Topic9\", \"Topic9\", \"Topic9\", \"Topic9\", \"Topic9\", \"Topic9\", \"Topic9\", \"Topic9\", \"Topic9\", \"Topic9\", \"Topic9\", \"Topic9\", \"Topic9\", \"Topic10\", \"Topic10\", \"Topic10\", \"Topic10\", \"Topic10\", \"Topic10\", \"Topic10\", \"Topic10\", \"Topic10\", \"Topic10\", \"Topic10\", \"Topic10\", \"Topic10\", \"Topic10\", \"Topic10\", \"Topic10\", \"Topic10\", \"Topic10\", \"Topic10\", \"Topic10\", \"Topic10\", \"Topic10\", \"Topic10\", \"Topic10\", \"Topic10\", \"Topic10\", \"Topic10\", \"Topic10\", \"Topic10\", \"Topic10\", \"Topic10\", \"Topic10\", \"Topic10\", \"Topic10\", \"Topic10\", \"Topic10\", \"Topic10\", \"Topic10\", \"Topic10\", \"Topic10\", \"Topic10\", \"Topic10\", \"Topic10\", \"Topic10\", \"Topic10\"], \"Freq\": [3855.0, 2539.0, 1818.0, 1296.0, 1406.0, 1366.0, 894.0, 924.0, 759.0, 780.0, 726.0, 633.0, 925.0, 664.0, 582.0, 893.0, 923.0, 707.0, 511.0, 444.0, 424.0, 423.0, 544.0, 420.0, 440.0, 561.0, 546.0, 461.0, 386.0, 423.0, 2538.47900390625, 460.4698181152344, 316.22235107421875, 235.54559326171875, 101.39156341552734, 99.20675659179688, 89.62065887451172, 88.99468231201172, 87.24365997314453, 80.47341918945312, 79.97813415527344, 77.83429718017578, 70.45915222167969, 63.80610656738281, 59.7136116027832, 57.56451416015625, 51.25312042236328, 50.0423469543457, 40.10286331176758, 26.48894691467285, 25.01899528503418, 23.718711853027344, 35.55086135864258, 20.459379196166992, 20.349672317504883, 19.814918518066406, 105.64979553222656, 18.893869400024414, 18.569822311401367, 17.60120964050293, 3645.857421875, 93.8609390258789, 253.42880249023438, 377.87579345703125, 339.18939208984375, 57.62358474731445, 164.0201873779297, 124.55009460449219, 52.180301666259766, 138.257568359375, 76.85538482666016, 93.89886474609375, 143.7937774658203, 101.77811431884766, 177.59121704101562, 196.29019165039062, 107.68081665039062, 177.64979553222656, 116.65389251708984, 214.24301147460938, 132.00318908691406, 121.6401596069336, 152.9529571533203, 106.40359497070312, 93.32270812988281, 392.38226318359375, 241.426025390625, 200.3915557861328, 194.0700225830078, 138.14756774902344, 127.11471557617188, 113.15937042236328, 92.5948257446289, 90.228271484375, 87.04764556884766, 718.5116577148438, 63.819664001464844, 56.272884368896484, 53.72181701660156, 53.080101013183594, 94.13687896728516, 51.26433563232422, 46.935935974121094, 43.7206916809082, 41.62620162963867, 38.54833984375, 37.0402946472168, 182.26055908203125, 36.145347595214844, 35.008792877197266, 33.701087951660156, 31.602352142333984, 31.36693572998047, 30.030742645263672, 29.938919067382812, 55.71038818359375, 144.76426696777344, 103.94055938720703, 262.40521240234375, 228.4541778564453, 710.29248046875, 182.0228729248047, 142.06423950195312, 181.21124267578125, 128.94908142089844, 829.3456420898438, 111.90431213378906, 196.5791778564453, 100.17280578613281, 222.54928588867188, 122.00822448730469, 160.36582946777344, 193.67286682128906, 122.99903869628906, 142.7849884033203, 141.6328125, 125.8851547241211, 139.53262329101562, 138.05479431152344, 663.2158813476562, 511.0544128417969, 278.3153381347656, 185.55679321289062, 185.03707885742188, 175.32766723632812, 132.6505584716797, 126.60382080078125, 102.99687194824219, 92.38894653320312, 92.07469940185547, 89.46484375, 82.72614288330078, 80.5013656616211, 72.09183502197266, 104.02491760253906, 69.5099868774414, 68.77750396728516, 69.7194595336914, 65.72833251953125, 64.16410064697266, 66.22747802734375, 59.51060485839844, 51.53977966308594, 50.2719841003418, 49.677520751953125, 49.27543640136719, 41.595027923583984, 40.729496002197266, 34.32442092895508, 151.20571899414062, 184.75148010253906, 65.33621978759766, 301.34912109375, 280.7774963378906, 381.28839111328125, 67.99618530273438, 602.0908203125, 536.0372314453125, 78.74191284179688, 125.1535415649414, 186.54249572753906, 143.0342254638672, 129.7583770751953, 74.47213745117188, 99.7187271118164, 87.11885070800781, 98.45732116699219, 758.5255737304688, 422.89068603515625, 325.369873046875, 307.00506591796875, 284.263427734375, 283.2754211425781, 264.5750732421875, 258.2945861816406, 231.9481201171875, 217.2119598388672, 199.03903198242188, 177.58331298828125, 160.76451110839844, 144.53123474121094, 135.40328979492188, 132.09304809570312, 131.67706298828125, 117.97570037841797, 110.36286163330078, 100.01433563232422, 86.49125671386719, 85.08940124511719, 73.87208557128906, 74.37482452392578, 66.9665756225586, 62.9172248840332, 60.751522064208984, 58.6427116394043, 56.73019790649414, 55.61198425292969, 87.67420196533203, 207.6929931640625, 174.24705505371094, 77.08940887451172, 108.13043212890625, 155.7700958251953, 102.83455657958984, 239.89747619628906, 111.25605010986328, 136.93121337890625, 121.33723449707031, 147.13677978515625, 143.43011474609375, 122.23470306396484, 581.8031616210938, 439.3739318847656, 276.5130310058594, 247.7069091796875, 217.70053100585938, 176.74209594726562, 192.23870849609375, 131.2675323486328, 130.67794799804688, 117.8448257446289, 108.63400268554688, 106.36895751953125, 96.25629425048828, 91.3483657836914, 82.57089233398438, 76.92926788330078, 66.07965087890625, 65.42051696777344, 64.11588287353516, 63.22036361694336, 88.81930541992188, 57.8721923828125, 56.99995422363281, 55.94572067260742, 55.69458770751953, 52.479408264160156, 50.01403045654297, 47.9754524230957, 45.75692367553711, 44.80391311645508, 289.8945617675781, 1307.048583984375, 192.89869689941406, 409.64141845703125, 466.4383850097656, 577.3252563476562, 122.69054412841797, 229.36241149902344, 187.94223022460938, 94.71708679199219, 102.3938217163086, 99.27974700927734, 154.73455810546875, 125.12821197509766, 132.69566345214844, 632.4613647460938, 376.4608154296875, 307.0695495605469, 244.06106567382812, 160.26136779785156, 143.13890075683594, 120.9908218383789, 110.83363342285156, 99.1278076171875, 77.83042907714844, 72.54796600341797, 70.58172607421875, 70.35382843017578, 61.89815902709961, 53.205841064453125, 51.95487976074219, 50.67850112915039, 48.32601547241211, 44.001808166503906, 43.18158721923828, 36.69791793823242, 31.41605567932129, 31.197338104248047, 30.902652740478516, 29.47087860107422, 29.20683479309082, 28.45371437072754, 26.353246688842773, 23.71793556213379, 23.12032127380371, 30.042705535888672, 725.5919799804688, 117.52660369873047, 750.1732177734375, 69.51727294921875, 417.6602783203125, 403.095458984375, 272.06304931640625, 145.8154754638672, 271.3303527832031, 229.26419067382812, 136.7337646484375, 188.34515380859375, 109.35802459716797, 83.6961669921875, 231.42364501953125, 152.79428100585938, 77.74485778808594, 101.27883911132812, 92.24378204345703, 75.89205169677734, 75.45097351074219, 392.6192321777344, 346.6533203125, 260.4791564941406, 209.7598419189453, 206.63571166992188, 190.45068359375, 173.11790466308594, 168.6797637939453, 167.4423370361328, 164.65892028808594, 149.6499481201172, 129.240966796875, 122.00235748291016, 93.5943603515625, 81.45489501953125, 75.75990295410156, 130.3141326904297, 59.42249298095703, 55.52216720581055, 55.04542922973633, 51.60988998413086, 49.461387634277344, 49.02165985107422, 48.09624099731445, 46.86094665527344, 47.391876220703125, 42.793128967285156, 42.343807220458984, 42.22712326049805, 40.84889602661133, 252.60874938964844, 119.72505187988281, 169.95481872558594, 73.08305358886719, 150.76918029785156, 261.1155700683594, 173.21051025390625, 186.8401641845703, 88.86271667480469, 242.47694396972656, 93.29273986816406, 88.12830352783203, 70.19869995117188, 85.61671447753906, 75.18453979492188, 342.1246643066406, 181.6259765625, 188.1362762451172, 158.6379852294922, 135.8321075439453, 127.48930358886719, 121.12445831298828, 114.20481872558594, 119.91609954833984, 108.3864974975586, 98.62580108642578, 88.8246841430664, 87.0489273071289, 71.53082275390625, 68.66240692138672, 66.67757415771484, 58.7525749206543, 57.00000762939453, 54.016239166259766, 50.5986328125, 48.41255187988281, 48.01869583129883, 45.464202880859375, 43.69399642944336, 42.37885665893555, 41.91727828979492, 37.75496292114258, 32.706233978271484, 30.01335906982422, 49.688838958740234, 778.952392578125, 196.8787384033203, 421.70458984375, 358.88751220703125, 86.1341323852539, 318.55206298828125, 495.6026306152344, 98.77561950683594, 142.22134399414062, 67.34229278564453, 69.1952896118164, 114.98651885986328, 171.01773071289062, 79.93553924560547, 208.45167541503906, 104.72248840332031, 92.20799255371094, 78.02373504638672, 1295.84130859375, 419.6307373046875, 343.24481201171875, 326.9072570800781, 297.1218566894531, 209.83152770996094, 185.3044891357422, 166.8273162841797, 142.82318115234375, 137.2349853515625, 130.6345977783203, 99.44152069091797, 92.33124542236328, 84.32798767089844, 80.4380111694336, 74.5159683227539, 61.188724517822266, 57.84109878540039, 50.61085891723633, 39.572444915771484, 36.02686309814453, 35.93571472167969, 40.85179901123047, 34.112796783447266, 80.7943115234375, 31.640775680541992, 31.445390701293945, 29.44392204284668, 28.56840705871582, 26.24234390258789, 147.1422119140625, 234.60154724121094, 96.72952270507812, 117.9033203125, 110.40778350830078, 117.33812713623047, 97.52372741699219, 65.11229705810547, 77.9658432006836, 75.85102081298828, 250.45062255859375, 92.77099609375, 173.1467742919922, 76.41917419433594, 85.15715789794922, 81.2089614868164, 79.9219741821289, 81.90512084960938, 1817.495361328125, 444.1155090332031, 423.92889404296875, 422.6063537597656, 385.81451416015625, 346.8475036621094, 302.01617431640625, 160.45433044433594, 125.63581085205078, 115.96552276611328, 97.90605926513672, 92.84852600097656, 92.69986724853516, 77.93807220458984, 74.95403289794922, 67.97744750976562, 62.637027740478516, 59.13332748413086, 47.17950439453125, 45.942840576171875, 45.106483459472656, 37.51252746582031, 33.29256057739258, 27.503063201904297, 27.26020050048828, 24.97210121154785, 24.870548248291016, 24.219133377075195, 23.84818458557129, 22.0723819732666, 138.6133270263672, 95.40692901611328, 246.04312133789062, 112.18600463867188, 83.23201751708984, 77.39369201660156, 80.90736389160156, 102.60175323486328, 55.58426284790039, 74.5488052368164, 89.84136962890625, 87.14379119873047, 113.81514739990234, 102.34373474121094, 73.54550170898438], \"Term\": [\"\\u00e9colog\", \"transit\", \"ecolog\", \"environ\", \"transport\", \"tax\", \"planet\", \"climat\", \"\\u00e9nerg\", \"consomm\", \"tout\", \"non\", \"tous\", \"pollueur\", \"commun\", \"pollut\", \"chang\", \"d\\u00e9velopp\", \"moin\", \"bon\", \"aven\", \"vi\", \"\\u00e9conom\", \"contr\", \"agricultur\", \"voitur\", \"produit\", \"respons\", \"enfant\", \"nucl\\u00e9air\", \"transit\", \"respons\", \"financ\", \"sauv\", \"accompagn\", \"pragmat\", \"partag\", \"energet\", \"term\", \"bonus\", \"tard\", \"malus\", \"justic\", \"long\", \"r\\u00e9pons\", \"\\u00e9co\", \"solidair\", \"\\u00e9quit\", \"minister\", \"exploit\", \"\\u00e9lev\", \"attaqu\", \"indispens\", \"men\", \"rend\", \"d\\u00e9ploi\", \"just\", \"opportun\", \"support\", \"mobilis\", \"\\u00e9colog\", \"engag\", \"fiscal\", \"\\u00e9nerget\", \"priorit\", \"accept\", \"social\", \"individuel\", \"n\\u00e9cessair\", \"trop\", \"v\\u00e9rit\", \"r\\u00e9el\", \"action\", \"peut\", \"\\u00eatre\", \"citoyen\", \"\\u00e9tat\", \"polit\", \"collect\", \"tous\", \"doit\", \"aid\", \"plus\", \"fair\", \"national\", \"agir\", \"interdir\", \"pesticid\", \"avant\", \"temp\", \"concern\", \"affair\", \"gestion\", \"ecolo\", \"responsabilis\", \"tout\", \"empreint\", \"cess\", \"accessibl\", \"sous\", \"programm\", \"surv\", \"form\", \"group\", \"selon\", \"polut\", \"int\\u00e9r\\u00eat\", \"carbur\", \"r\\u00e9volu\", \"s\\u00e9cur\", \"trans\", \"combustibl\", \"suremballag\", \"anti\", \"bilan\", \"obsolescent\", \"glyphosat\", \"particip\", \"carbon\", \"emballag\", \"tous\", \"faut\", \"econom\", \"industriel\", \"chacun\", \"tax\", \"interdict\", \"plastiqu\", \"ensembl\", \"mond\", \"niveau\", \"vert\", \"entrepris\", \"utilis\", \"produit\", \"stop\", \"arr\\u00eat\", \"citoyen\", \"franc\", \"pollueur\", \"moin\", \"payeur\", \"pai\", \"gros\", \"taxat\", \"lourd\", \"poid\", \"train\", \"vrais\", \"maritim\", \"a\\u00e9rien\", \"choix\", \"argent\", \"g\\u00e9n\\u00e9ral\", \"appliqu\", \"marchandis\", \"sanction\", \"princip\", \"bateau\", \"paris\", \"reven\", \"accord\", \"polluent\", \"forc\", \"vision\", \"fret\", \"d\\u00e9carbon\", \"avion\", \"mang\", \"camion\", \"pay\", \"k\\u00e9rosen\", \"pollu\", \"terr\", \"fair\", \"cher\", \"plus\", \"tax\", \"lobb\", \"societ\", \"entrepris\", \"voitur\", \"franc\", \"cel\", \"grand\", \"mieux\", \"transport\", \"\\u00e9nerg\", \"nucl\\u00e9air\", \"air\", \"energ\", \"fin\", \"renouvel\", \"mettr\", \"plan\", \"plac\", \"hydrogen\", \"solair\", \"\\u00e9olien\", \"recyclag\", \"recherch\", \"consign\", \"mis\", \"tri\", \"fossil\", \"panneau\", \"central\", \"bouteil\", \"thermiqu\", \"biolog\", \"stopp\", \"verr\", \"install\", \"\\u00e9colo\", \"marshall\", \"nucleair\", \"avanc\", \"moteur\", \"propr\", \"invest\", \"rapid\", \"sort\", \"eau\", \"altern\", \"d\\u00e9velopp\", \"automobil\", \"\\u00e9lectr\", \"v\\u00e9hicul\", \"pollut\", \"plus\", \"\\u00e9conom\", \"commun\", \"agricultur\", \"biodivers\", \"vivr\", \"gratuit\", \"log\", \"ferroutag\", \"territoir\", \"rout\", \"rural\", \"mobil\", \"\\u00e9levag\", \"pist\", \"respir\", \"campagn\", \"cyclabl\", \"parking\", \"covoiturag\", \"voi\", \"autorout\", \"espec\", \"r\\u00e9seau\", \"intens\", \"d\\u00e9mograph\", \"am\\u00e9nag\", \"sauvegard\", \"heur\", \"r\\u00e9tabl\", \"paradigm\", \"repens\", \"vill\", \"transport\", \"durabl\", \"stop\", \"d\\u00e9velopp\", \"chang\", \"v\\u00e9lo\", \"mieux\", \"model\", \"chass\", \"comport\", \"isol\", \"aid\", \"favoris\", \"plus\", \"non\", \"local\", \"punit\", \"tva\", \"diesel\", \"global\", \"court\", \"nouveau\", \"circuit\", \"educ\", \"produir\", \"environnemental\", \"essenc\", \"revoir\", \"changeon\", \"hypocris\", \"privil\\u00e9gi\", \"enjeux\", \"penson\", \"p\\u00e9dagog\", \"fabriqu\", \"r\\u00e9duit\", \"combat\", \"exemplar\", \"expliqu\", \"\\u00e9chang\", \"biodiversit\", \"gagn\", \"suggest\", \"locat\", \"avantag\", \"consomm\", \"baiss\", \"climat\", \"sensibilis\", \"voitur\", \"produit\", \"bio\", \"import\", \"\\u00e9lectr\", \"solut\", \"r\\u00e9chauff\", \"incit\", \"oui\", \"d\\u00e9regl\", \"chang\", \"favoris\", \"electr\", \"urgenc\", \"pollu\", \"pens\", \"autr\", \"contribu\", \"respect\", \"natur\", \"bien\", \"moyen\", \"don\", \"rendr\", \"servic\", \"exempl\", \"publiqu\", \"obligatoir\", \"g\\u00e9ner\", \"routi\", \"habit\", \"prim\", \"vehicul\", \"viv\", \"montr\", \"g\\u00e9n\\u00e9ralis\", \"vis\", \"ind\\u00e9pend\", \"commercial\", \"cred\", \"renforc\", \"arbre\", \"condit\", \"budget\", \"amelior\", \"ecotax\", \"class\", \"animal\", \"europ\", \"etat\", \"auss\", \"futur\", \"\\u00eatre\", \"product\", \"doit\", \"qualit\", \"franc\", \"public\", \"am\\u00e9lior\", \"homm\", \"citoyen\", \"san\", \"vrai\", \"raison\", \"humain\", \"efficac\", \"croissanc\", \"id\\u00e9\", \"eco\", \"sauvon\", \"pris\", \"halt\", \"d\\u00e9croiss\", \"sujet\", \"bas\", \"sobriet\", \"point\", \"surpopul\", \"gest\", \"dang\", \"capital\", \"transparent\", \"prioritair\", \"emplois\", \"r\\u00e9alist\", \"mondialis\", \"trouv\", \"logiqu\", \"eduqu\", \"heureux\", \"volontar\", \"id\\u00e9olog\", \"planet\", \"mondial\", \"\\u00e9conom\", \"urgenc\", \"pouvoir\", \"polit\", \"pollut\", \"conscienc\", \"problem\", \"quand\", \"possibl\", \"mesur\", \"plus\", \"seul\", \"\\u00e9colog\", \"grand\", \"ver\", \"solut\", \"environ\", \"contr\", \"d\\u00e9chet\", \"limit\", \"lutt\", \"protect\", \"d\\u00e9plac\", \"quotidien\", \"travail\", \"gaspillag\", \"r\\u00e9duct\", \"coh\\u00e9rent\", \"\\u00e9miss\", \"facilit\", \"effet\", \"inutil\", \"proxim\", \"initi\", \"serr\", \"rechauff\", \"domicil\", \"agisson\", \"papi\", \"def\", \"respectu\", \"surfac\", \"r\\u00e9flexion\", \"atmospher\", \"pun\", \"attent\", \"encourag\", \"r\\u00e9duir\", \"ressourc\", \"sant\", \"t\\u00e9l\\u00e9travail\", \"proteg\", \"impact\", \"sol\", \"gaz\", \"sain\", \"pollut\", \"pr\\u00e9serv\", \"climat\", \"urbain\", \"eau\", \"r\\u00e9chauff\", \"priorit\", \"plus\", \"ecolog\", \"bon\", \"aven\", \"vi\", \"enfant\", \"sen\", \"proposit\", \"meilleur\", \"demain\", \"avis\", \"arr\\u00eaton\", \"peu\", \"quel\", \"pourquoi\", \"habitud\", \"chos\", \"hybrid\", \"contr\\u00f4l\", \"hui\", \"approch\", \"aujourd\", \"modest\", \"pr\\u00e9par\", \"recharg\", \"maitris\", \"born\", \"permacultur\", \"integr\", \"mensong\", \"p\\u00e9ag\", \"prendr\", \"concret\", \"v\\u00e9hicul\", \"simpl\", \"question\", \"human\", \"aliment\", \"petit\", \"technolog\", \"prix\", \"mod\", \"terr\", \"chang\", \"planet\", \"mond\"], \"Total\": [3855.0, 2539.0, 1818.0, 1296.0, 1406.0, 1366.0, 894.0, 924.0, 759.0, 780.0, 726.0, 633.0, 925.0, 664.0, 582.0, 893.0, 923.0, 707.0, 511.0, 444.0, 424.0, 423.0, 544.0, 420.0, 440.0, 561.0, 546.0, 461.0, 386.0, 423.0, 2539.34521484375, 461.3360900878906, 317.09002685546875, 236.4119415283203, 102.25789642333984, 100.07304382324219, 90.48741912841797, 89.86096954345703, 88.11183166503906, 81.33970642089844, 80.8443832397461, 78.70061492919922, 71.32542419433594, 64.67450714111328, 60.58488464355469, 58.470149993896484, 52.119422912597656, 50.91141128540039, 41.15364456176758, 27.355337142944336, 25.885631561279297, 24.585168838500977, 36.97815704345703, 21.325773239135742, 21.21619987487793, 20.68132209777832, 110.39022064208984, 19.760160446166992, 19.436113357543945, 18.467506408691406, 3855.080322265625, 102.0431137084961, 287.8166198730469, 447.8725891113281, 419.88134765625, 64.42761993408203, 202.93234252929688, 155.61508178710938, 59.10114669799805, 191.73216247558594, 95.807373046875, 129.52493286132812, 233.6084442138672, 145.4796142578125, 439.47467041015625, 580.3653564453125, 188.01162719726562, 498.0032043457031, 221.45530700683594, 925.3320922851562, 352.1817932128906, 468.47930908203125, 1347.736572265625, 678.4732666015625, 179.521484375, 393.2433776855469, 242.28729248046875, 201.25270080566406, 194.93161010742188, 139.0087127685547, 127.97589874267578, 114.04159545898438, 93.45604705810547, 91.0893783569336, 87.90913391113281, 726.7520141601562, 64.68328857421875, 57.134063720703125, 54.583030700683594, 53.941261291503906, 95.66453552246094, 52.125465393066406, 47.808799743652344, 44.58437728881836, 42.48735809326172, 39.40950393676758, 37.90193176269531, 186.55801391601562, 37.01671600341797, 35.87001037597656, 34.56228256225586, 32.463626861572266, 32.22868728637695, 30.891874313354492, 30.800060272216797, 57.84193801879883, 154.2980499267578, 110.69493865966797, 305.71087646484375, 265.34722900390625, 925.3320922851562, 213.63201904296875, 163.38754272460938, 221.2105255126953, 151.04942321777344, 1366.16943359375, 133.5833740234375, 273.5234680175781, 124.9366683959961, 381.4501647949219, 178.64205932617188, 270.4891052246094, 444.16461181640625, 277.2063903808594, 546.6864013671875, 552.0488891601562, 341.476806640625, 580.3653564453125, 681.0892333984375, 664.07666015625, 511.9201354980469, 279.176025390625, 186.41754150390625, 185.89779663085938, 176.1886444091797, 133.5113525390625, 127.46455383300781, 103.85780334472656, 93.24967956542969, 92.95023345947266, 90.35856628417969, 83.58806610107422, 81.36249542236328, 72.95532989501953, 105.27400207519531, 70.37091827392578, 69.63842010498047, 70.61624145507812, 66.6028823852539, 65.02487182617188, 67.12549591064453, 60.37138366699219, 52.40108871459961, 51.13298034667969, 50.53831481933594, 50.13618469238281, 42.455955505371094, 41.590232849121094, 35.18559265136719, 156.52183532714844, 203.81715393066406, 70.35291290283203, 397.3784484863281, 368.6860046386719, 678.4732666015625, 75.3902587890625, 1347.736572265625, 1366.16943359375, 93.92361450195312, 211.3011932373047, 444.16461181640625, 561.5531005859375, 681.0892333984375, 93.1001968383789, 475.26806640625, 317.2475280761719, 1406.2843017578125, 759.3868408203125, 423.75189208984375, 326.2310791015625, 307.8663024902344, 285.1265563964844, 284.1366271972656, 265.4364013671875, 259.15618896484375, 232.8093719482422, 218.07313537597656, 199.90020751953125, 178.46908569335938, 161.62620544433594, 145.39532470703125, 136.26454162597656, 132.95445251464844, 132.5382843017578, 118.83696746826172, 111.22404479980469, 100.87567138671875, 87.35243225097656, 85.95071411132812, 74.73334503173828, 75.25127410888672, 67.82775115966797, 63.78788757324219, 61.6127815246582, 59.50389862060547, 57.591392517089844, 56.473262786865234, 89.1789321899414, 265.77313232421875, 245.0749053955078, 86.65666961669922, 149.8202667236328, 275.6588134765625, 146.236572265625, 707.1033935546875, 175.3121795654297, 471.9738464355469, 368.1702880859375, 893.8696899414062, 1347.736572265625, 544.7061157226562, 582.6657104492188, 440.23834228515625, 277.3755798339844, 248.56944274902344, 218.5631103515625, 177.60462951660156, 193.20762634277344, 132.13006591796875, 131.54046630859375, 118.7156982421875, 109.49756622314453, 107.2314682006836, 97.11878967285156, 92.21087646484375, 83.43544006347656, 77.79175567626953, 66.94224548339844, 66.28318786621094, 64.97846221923828, 64.08954620361328, 90.09227752685547, 58.7347297668457, 57.862510681152344, 56.808353424072266, 56.55710220336914, 53.34193801879883, 50.876564025878906, 48.83802795410156, 46.61953353881836, 45.68363952636719, 302.0074462890625, 1406.2843017578125, 226.9560089111328, 552.0488891601562, 707.1033935546875, 923.233642578125, 145.2879638671875, 317.2475280761719, 254.9897003173828, 132.91616821289062, 174.04977416992188, 169.88877868652344, 468.47930908203125, 455.282470703125, 1347.736572265625, 633.32177734375, 377.322265625, 307.9323425292969, 244.92156982421875, 161.1216583251953, 143.99923706054688, 121.85106658935547, 111.69908142089844, 99.98802185058594, 78.69068908691406, 73.40873718261719, 71.44197082519531, 71.21407318115234, 62.7584342956543, 54.06607437133789, 52.81523513793945, 51.53877258300781, 49.1862907409668, 44.8620719909668, 44.04185485839844, 37.558250427246094, 32.27629089355469, 32.05759811401367, 31.76290512084961, 30.331195831298828, 30.067134857177734, 29.31395149230957, 27.213481903076172, 24.57817268371582, 23.980609893798828, 31.163528442382812, 780.3741455078125, 126.55774688720703, 924.0839233398438, 77.97743225097656, 561.5531005859375, 546.6864013671875, 359.4468688964844, 191.3864288330078, 471.9738464355469, 386.4674987792969, 218.70660400390625, 354.6291809082031, 177.5517120361328, 119.37358856201172, 923.233642578125, 455.282470703125, 139.70480346679688, 460.9308776855469, 397.3784484863281, 133.19895935058594, 331.1014404296875, 393.4776306152344, 347.5117492675781, 261.3375244140625, 210.63507080078125, 207.52052307128906, 191.40264892578125, 173.98753356933594, 169.53814697265625, 168.30072021484375, 165.517333984375, 150.51022338867188, 130.09934997558594, 122.86082458496094, 94.45292663574219, 82.31707000732422, 76.61834716796875, 132.08596801757812, 60.28082275390625, 56.380680084228516, 55.903846740722656, 52.46830749511719, 50.320247650146484, 49.880027770996094, 48.95466995239258, 47.719337463378906, 48.2645263671875, 43.65154266357422, 43.20216369628906, 43.08551788330078, 41.7083625793457, 262.209228515625, 125.943603515625, 211.6869354248047, 82.26546478271484, 195.6942138671875, 439.47467041015625, 281.3092041015625, 352.1817932128906, 129.88624572753906, 681.0892333984375, 173.89845275878906, 200.71656799316406, 112.99150085449219, 580.3653564453125, 389.5763854980469, 342.9859924316406, 182.48756408691406, 189.1246337890625, 159.5085906982422, 136.69342041015625, 128.35061645507812, 121.98580932617188, 115.06633758544922, 120.84126281738281, 109.24890899658203, 99.48710632324219, 89.68621063232422, 87.91142272949219, 72.3921127319336, 69.5247802734375, 67.53887176513672, 59.61389923095703, 57.86130905151367, 54.87757873535156, 51.460262298583984, 49.27389144897461, 48.88078308105469, 46.327266693115234, 44.55531311035156, 43.24858856201172, 42.77857971191406, 38.616275787353516, 33.56752014160156, 30.874670028686523, 51.16669464111328, 894.2920532226562, 228.10934448242188, 544.7061157226562, 460.9308776855469, 98.92234802246094, 498.0032043457031, 893.8696899414062, 124.01290893554688, 237.76153564453125, 79.55864715576172, 84.45509338378906, 202.3036651611328, 1347.736572265625, 156.37449645996094, 3855.080322265625, 475.26806640625, 293.1956787109375, 386.4674987792969, 1296.7020263671875, 420.4914245605469, 344.1064758300781, 327.7693176269531, 297.9825134277344, 210.69248962402344, 186.1651611328125, 167.70257568359375, 143.7028045654297, 138.09568786621094, 131.4954071044922, 100.30220794677734, 93.22148132324219, 85.188720703125, 81.29869079589844, 75.37670135498047, 62.04947280883789, 58.70372772216797, 51.47151184082031, 40.43310546875, 36.887542724609375, 36.79640197753906, 41.850929260253906, 34.97350311279297, 82.89041900634766, 32.5015869140625, 32.306095123291016, 30.304569244384766, 29.429187774658203, 27.10303497314453, 167.38693237304688, 277.57086181640625, 114.44869232177734, 148.7093505859375, 152.26348876953125, 167.2750244140625, 140.64524841308594, 82.45726776123047, 109.72623443603516, 107.14957427978516, 893.8696899414062, 165.1034698486328, 924.0839233398438, 140.46925354003906, 275.6588134765625, 218.70660400390625, 419.88134765625, 1347.736572265625, 1818.3568115234375, 444.9764404296875, 424.78985595703125, 423.4851379394531, 386.6754455566406, 347.7084045410156, 302.8969421386719, 161.44166564941406, 126.49671936035156, 116.82643127441406, 98.7760009765625, 93.70948791503906, 93.560791015625, 78.7991714477539, 75.81497192382812, 68.83841705322266, 63.502899169921875, 59.99436950683594, 48.04042053222656, 46.80381393432617, 45.96739959716797, 38.37349319458008, 34.15349578857422, 28.36400032043457, 28.121200561523438, 25.833038330078125, 25.73151397705078, 25.080171585083008, 24.709199905395508, 22.93354034423828, 162.46194458007812, 120.09710693359375, 368.1702880859375, 153.1020965576172, 110.1872787475586, 111.2469711303711, 128.03982543945312, 195.828857421875, 77.73368072509766, 144.63079833984375, 224.43162536621094, 368.6860046386719, 923.233642578125, 894.2920532226562, 381.4501647949219], \"loglift\": [30.0, 29.0, 28.0, 27.0, 26.0, 25.0, 24.0, 23.0, 22.0, 21.0, 20.0, 19.0, 18.0, 17.0, 16.0, 15.0, 14.0, 13.0, 12.0, 11.0, 10.0, 9.0, 8.0, 7.0, 6.0, 5.0, 4.0, 3.0, 2.0, 1.0, 2.086400032043457, 2.08489990234375, 2.0840001106262207, 2.0831000804901123, 2.0782999992370605, 2.0780999660491943, 2.077199935913086, 2.0771000385284424, 2.076900005340576, 2.0761001110076904, 2.0759999752044678, 2.075700044631958, 2.0745999813079834, 2.0732998847961426, 2.0722999572753906, 2.071199893951416, 2.069999933242798, 2.0696001052856445, 2.0608999729156494, 2.0546000003814697, 2.0527000427246094, 2.0508999824523926, 2.0473999977111816, 2.045300006866455, 2.045099973678589, 2.0439999103546143, 2.0429000854492188, 2.0420000553131104, 2.0411999225616455, 2.0387001037597656, 2.0309998989105225, 2.003200054168701, 1.9594999551773071, 1.9168000221252441, 1.8733999729156494, 1.9752000570297241, 1.873900055885315, 1.8640999794006348, 1.9622000455856323, 1.7597999572753906, 1.8664000034332275, 1.7651000022888184, 1.6015000343322754, 1.7295000553131104, 1.1806999444961548, 1.0026999711990356, 1.5295000076293945, 1.055999994277954, 1.4457999467849731, 0.6237000226974487, 1.1054999828338623, 0.7383999824523926, -0.0892999991774559, 0.23420000076293945, 1.4326000213623047, 2.151599884033203, 2.1503000259399414, 2.1494998931884766, 2.149399995803833, 2.147599935531616, 2.1470999717712402, 2.1461000442504883, 2.1445999145507812, 2.1442999839782715, 2.1440000534057617, 2.142400026321411, 2.140399932861328, 2.1386001110076904, 2.1379001140594482, 2.137700080871582, 2.137700080871582, 2.137200117111206, 2.1354000568389893, 2.1342999935150146, 2.1333999633789062, 2.131700038909912, 2.1308000087738037, 2.130500078201294, 2.130000114440918, 2.129499912261963, 2.1285998821258545, 2.1268999576568604, 2.126699924468994, 2.1256000995635986, 2.125499963760376, 2.116300106048584, 2.090100049972534, 2.09089994430542, 2.0011000633239746, 2.0041000843048096, 1.8894000053405762, 1.9937000274658203, 2.0139999389648438, 1.9543999433517456, 1.9955999851226807, 1.6547000408172607, 1.976699948310852, 1.8235000371932983, 1.9328999519348145, 1.6150000095367432, 1.7725000381469727, 1.631100058555603, 1.323799967765808, 1.3411999940872192, 0.8112999796867371, 0.79339998960495, 1.155900001525879, 0.7285000085830688, 0.5577999949455261, 2.2018001079559326, 2.2014000415802, 2.200000047683716, 2.198499917984009, 2.198499917984009, 2.198199987411499, 2.1965999603271484, 2.1963000297546387, 2.1947999000549316, 2.1937999725341797, 2.1935999393463135, 2.19320011138916, 2.192699909210205, 2.192500114440918, 2.191200017929077, 2.191200017929077, 2.1907999515533447, 2.190700054168701, 2.1902999877929688, 2.1898999214172363, 2.1898000240325928, 2.1895999908447266, 2.188699960708618, 2.186500072479248, 2.1861000061035156, 2.1858999729156494, 2.185800075531006, 2.1826000213623047, 2.1821999549865723, 2.178299903869629, 2.1684999465942383, 2.1048998832702637, 2.1291000843048096, 1.9264999628067017, 1.9306999444961548, 1.6267999410629272, 2.099900007247925, 1.3973000049591064, 1.2675000429153442, 2.0267999172210693, 1.6793999671936035, 1.3356000185012817, 0.8355000019073486, 0.5450999736785889, 1.9799000024795532, 0.6416000127792358, 0.9107000231742859, -0.4560000002384186, 2.249000072479248, 2.2481000423431396, 2.2474000453948975, 2.247299909591675, 2.2471001148223877, 2.2471001148223877, 2.246799945831299, 2.246799945831299, 2.2464001178741455, 2.2460999488830566, 2.245800018310547, 2.2451000213623047, 2.2446999549865723, 2.2441000938415527, 2.243799924850464, 2.2435998916625977, 2.2435998916625977, 2.242799997329712, 2.242300033569336, 2.241499900817871, 2.2402000427246094, 2.240000009536743, 2.2385001182556152, 2.2383999824523926, 2.237299919128418, 2.236299991607666, 2.2360000610351562, 2.2355000972747803, 2.234999895095825, 2.2346999645233154, 2.233099937438965, 2.003499984741211, 1.909000039100647, 2.1331000328063965, 1.9240000247955322, 1.6792999505996704, 1.8980000019073486, 1.169100046157837, 1.7954000234603882, 1.0125999450683594, 1.1401000022888184, 0.44589999318122864, 0.009800000116229057, 0.7558000087738037, 2.2939999103546143, 2.2934999465942383, 2.29229998588562, 2.2920000553131104, 2.2915000915527344, 2.290600061416626, 2.2904000282287598, 2.2888998985290527, 2.2888998985290527, 2.288100004196167, 2.2874999046325684, 2.287400007247925, 2.2864999771118164, 2.286099910736084, 2.2850000858306885, 2.2843000888824463, 2.2825000286102295, 2.282399892807007, 2.282099962234497, 2.2818000316619873, 2.2811999320983887, 2.2806999683380127, 2.280400037765503, 2.2802000045776367, 2.280100107192993, 2.2792000770568848, 2.27839994430542, 2.277600049972534, 2.2767999172210693, 2.2760000228881836, 2.254499912261963, 2.2223000526428223, 2.1328999996185303, 1.9970999956130981, 1.8794000148773193, 1.8259999752044678, 2.1263999938964844, 1.9710999727249146, 1.990399956703186, 1.9565999507904053, 1.7648999691009521, 1.7582999467849731, 1.1877000331878662, 1.0039000511169434, -0.022700000554323196, 2.3640999794006348, 2.363100051879883, 2.362600088119507, 2.3619000911712646, 2.360100030899048, 2.3594000339508057, 2.358299970626831, 2.357599973678589, 2.356800079345703, 2.3543999195098877, 2.353600025177002, 2.353300094604492, 2.353300094604492, 2.351599931716919, 2.349400043487549, 2.3489999771118164, 2.348599910736084, 2.3478000164031982, 2.346100091934204, 2.3457000255584717, 2.3422999382019043, 2.338399887084961, 2.338200092315674, 2.3380000591278076, 2.336699962615967, 2.336400032043457, 2.335599899291992, 2.3333001136779785, 2.3297998905181885, 2.328900098800659, 2.3287999629974365, 2.29259991645813, 2.2913999557495117, 2.156899929046631, 2.2506000995635986, 2.0694000720977783, 2.060699939727783, 2.086899995803833, 2.0934998989105225, 1.8118000030517578, 1.8432999849319458, 1.8956999778747559, 1.7325999736785889, 1.8808000087738037, 2.0104000568389893, 0.9818000197410583, 1.2735999822616577, 1.7792999744415283, 0.8500999808311462, 0.9049999713897705, 1.802899956703186, 0.8865000009536743, 2.4026999473571777, 2.402400016784668, 2.401599884033203, 2.400700092315674, 2.400599956512451, 2.399899959564209, 2.399899959564209, 2.3998000621795654, 2.3998000621795654, 2.3996999263763428, 2.399199962615967, 2.3982999324798584, 2.397900104522705, 2.3958001136779785, 2.394399881362915, 2.3935999870300293, 2.391400098800659, 2.390500068664551, 2.3894999027252197, 2.389400005340576, 2.388400077819824, 2.387700080871582, 2.387500047683716, 2.387200117111206, 2.386699914932251, 2.3866000175476074, 2.384999990463257, 2.3847999572753906, 2.3847999572753906, 2.3840999603271484, 2.3675999641418457, 2.354300022125244, 2.18530011177063, 2.2864999771118164, 2.1440999507904053, 1.8842999935150146, 1.9198999404907227, 1.7710000276565552, 2.0253000259399414, 1.3720999956130981, 1.7821999788284302, 1.5817999839782715, 1.9289000034332275, 0.491100013256073, 0.7598000168800354, 2.4277000427246094, 2.42549991607666, 2.424999952316284, 2.424799919128418, 2.4238998889923096, 2.4235000610351562, 2.4231998920440674, 2.4226999282836914, 2.422600030899048, 2.422300100326538, 2.4214999675750732, 2.420599937438965, 2.4203999042510986, 2.418299913406372, 2.417799949645996, 2.4173998832702637, 2.4156999588012695, 2.4151999950408936, 2.414400100708008, 2.4133999347686768, 2.412600040435791, 2.412400007247925, 2.411400079727173, 2.4107000827789307, 2.409899950027466, 2.409899950027466, 2.4077000617980957, 2.4042000770568848, 2.401900053024292, 2.400899887084961, 2.2922000885009766, 2.2829999923706055, 2.174299955368042, 2.180000066757202, 2.291800022125244, 1.9833999872207642, 1.840499997138977, 2.202699899673462, 1.9163999557495117, 2.2634999752044678, 2.2309999465942383, 1.8653000593185425, 0.36579999327659607, 1.7591999769210815, -0.487199991941452, 0.9176999926567078, 1.2733999490737915, 0.8302000164985657, 2.4482998847961426, 2.447000026702881, 2.446500062942505, 2.4463999271392822, 2.4460999965667725, 2.4449000358581543, 2.4444000720977783, 2.4437999725341797, 2.4428999423980713, 2.4428000450134277, 2.4423999786376953, 2.4403998851776123, 2.4393999576568604, 2.438800096511841, 2.4384000301361084, 2.4375, 2.434999942779541, 2.4342000484466553, 2.4321000576019287, 2.427500009536743, 2.4254000186920166, 2.425299882888794, 2.424799919128418, 2.424099922180176, 2.4233999252319336, 2.4221999645233154, 2.421999931335449, 2.4202001094818115, 2.419300079345703, 2.4166998863220215, 2.3201000690460205, 2.2808001041412354, 2.2808001041412354, 2.216900110244751, 2.1275999546051025, 2.094399929046631, 2.082900047302246, 2.2128000259399414, 2.107300043106079, 2.103600025177002, 1.1766999959945679, 1.8725999593734741, 0.7742999792098999, 1.8401999473571777, 1.2742999792099, 1.458299994468689, 0.7900999784469604, -0.3515999913215637, 2.4677999019622803, 2.4663000106811523, 2.466200113296509, 2.466200113296509, 2.4660000801086426, 2.4658000469207764, 2.465399980545044, 2.462100028991699, 2.461400032043457, 2.460900068283081, 2.459399938583374, 2.4590001106262207, 2.4590001106262207, 2.4572999477386475, 2.4567999839782715, 2.455699920654297, 2.4544999599456787, 2.4537999629974365, 2.450200080871582, 2.449700117111206, 2.449399948120117, 2.4456000328063965, 2.442699909210205, 2.4374001026153564, 2.4372000694274902, 2.4344000816345215, 2.4342000484466553, 2.433300018310547, 2.432800054550171, 2.430000066757202, 2.309499979019165, 2.238100051879883, 2.065200090408325, 2.1572999954223633, 2.187700033187866, 2.1054000854492188, 2.009200096130371, 1.8219000101089478, 2.1328999996185303, 1.8055000305175781, 1.5527000427246094, 1.0259000062942505, 0.375, 0.30059999227523804, 0.8222000002861023], \"logprob\": [30.0, 29.0, 28.0, 27.0, 26.0, 25.0, 24.0, 23.0, 22.0, 21.0, 20.0, 19.0, 18.0, 17.0, 16.0, 15.0, 14.0, 13.0, 12.0, 11.0, 10.0, 9.0, 8.0, 7.0, 6.0, 5.0, 4.0, 3.0, 2.0, 1.0, -1.8853000402450562, -3.592400074005127, -3.9681999683380127, -4.262700080871582, -5.105599880218506, -5.127399921417236, -5.229000091552734, -5.236000061035156, -5.255899906158447, -5.336699962615967, -5.342899799346924, -5.369999885559082, -5.469600200653076, -5.56879997253418, -5.6350998878479, -5.6717000007629395, -5.787799835205078, -5.811800003051758, -6.033199787139893, -6.44789981842041, -6.505000114440918, -6.5584001541137695, -6.15369987487793, -6.706200122833252, -6.711599826812744, -6.7382001876831055, -5.064499855041504, -6.785799980163574, -6.803100109100342, -6.8566999435424805, -1.523300051689148, -5.182799816131592, -4.189499855041504, -3.79010009765625, -3.898099899291992, -5.6707000732421875, -4.624599933624268, -4.899899959564209, -5.769899845123291, -4.795499801635742, -5.382699966430664, -5.182400226593018, -4.756199836730957, -5.101799964904785, -4.545100212097168, -4.445000171661377, -5.045499801635742, -4.5447998046875, -4.965400218963623, -4.357500076293945, -4.841800212860107, -4.923600196838379, -4.694499969482422, -5.057400226593018, -5.188600063323975, -3.68530011177063, -4.171000003814697, -4.3572998046875, -4.389400005340576, -4.729300022125244, -4.8125, -4.928800106048584, -5.129300117492676, -5.155200004577637, -5.191100120544434, -3.080399990081787, -5.501500129699707, -5.627399921417236, -5.673799991607666, -5.685800075531006, -5.112800121307373, -5.720600128173828, -5.808800220489502, -5.879799842834473, -5.928899765014648, -6.00570011138916, -6.045599937438965, -4.452099800109863, -6.070000171661377, -6.1020002365112305, -6.140100002288818, -6.204400062561035, -6.2118000984191895, -6.25540018081665, -6.258399963378906, -5.637400150299072, -4.682499885559082, -5.013800144195557, -4.087699890136719, -4.226200103759766, -3.091900110244751, -4.453499794006348, -4.701300144195557, -4.457900047302246, -4.7982001304626465, -2.9368999004364014, -4.939899921417236, -4.376500129699707, -5.0507001876831055, -4.252399921417236, -4.853499889373779, -4.580100059509277, -4.39139986038208, -4.845399856567383, -4.696199893951416, -4.7042999267578125, -4.822199821472168, -4.719299793243408, -4.729899883270264, -3.1112000942230225, -3.371799945831299, -3.979599952697754, -4.384900093078613, -4.387800216674805, -4.441699981689453, -4.720600128173828, -4.767199993133545, -4.973599910736084, -5.082300186157227, -5.085700035095215, -5.114500045776367, -5.192800045013428, -5.21999979019165, -5.330399990081787, -4.963699817657471, -5.366799831390381, -5.377399921417236, -5.363800048828125, -5.422800064086914, -5.446899890899658, -5.415200233459473, -5.522200107574463, -5.665999889373779, -5.690899848937988, -5.7027997970581055, -5.710899829864502, -5.880300045013428, -5.901400089263916, -6.072500228881836, -4.589700222015381, -4.3892998695373535, -5.428800106048584, -3.9000000953674316, -3.9707000255584717, -3.664799928665161, -5.388899803161621, -3.207900047302246, -3.3241000175476074, -5.242099761962891, -4.778800010681152, -4.379700183868408, -4.645199775695801, -4.742599964141846, -5.297900199890137, -5.00600004196167, -5.140999794006348, -5.018700122833252, -2.9298999309539795, -3.51419997215271, -3.776400089263916, -3.8345000743865967, -3.911400079727173, -3.914900064468384, -3.9832000732421875, -4.007199764251709, -4.114799976348877, -4.1803998947143555, -4.2677998542785645, -4.381899833679199, -4.481400012969971, -4.587800025939941, -4.65310001373291, -4.677800178527832, -4.681000232696533, -4.790800094604492, -4.857500076293945, -4.955999851226807, -5.10129976272583, -5.117599964141846, -5.258999824523926, -5.252200126647949, -5.357100009918213, -5.41949987411499, -5.454500198364258, -5.4899001121521, -5.5229997634887695, -5.542900085449219, -5.087699890136719, -4.225299835205078, -4.4008002281188965, -5.216400146484375, -4.877999782562256, -4.512899875640869, -4.928199768066406, -4.081099987030029, -4.8495001792907715, -4.6417999267578125, -4.762700080871582, -4.570000171661377, -4.5954999923706055, -4.75540018081665, -3.1498000621795654, -3.4305999279022217, -3.893699884414673, -4.003699779510498, -4.132800102233887, -4.341300010681152, -4.257199764251709, -4.638700008392334, -4.643199920654297, -4.746600151062012, -4.828000068664551, -4.848999977111816, -4.94890022277832, -5.001299858093262, -5.10230016708374, -5.173099994659424, -5.325099945068359, -5.335100173950195, -5.355299949645996, -5.36929988861084, -5.029300212860107, -5.457699775695801, -5.472899913787842, -5.491600036621094, -5.496099948883057, -5.555500030517578, -5.603600025177002, -5.645299911499023, -5.692599773406982, -5.713699817657471, -3.846400022506714, -2.340399980545044, -4.253799915313721, -3.500699996948242, -3.370800018310547, -3.1575000286102295, -4.706299781799316, -4.080599784851074, -4.279799938201904, -4.965099811553955, -4.8871002197265625, -4.918000221252441, -4.4741997718811035, -4.686600208282471, -4.627900123596191, -2.9964001178741455, -3.515199899673462, -3.718899965286255, -3.9486000537872314, -4.369200229644775, -4.4822001457214355, -4.650300025939941, -4.73799991607666, -4.849599838256836, -5.0914998054504395, -5.1616997718811035, -5.189199924468994, -5.192500114440918, -5.320499897003174, -5.471799850463867, -5.49560022354126, -5.520500183105469, -5.567999839782715, -5.661799907684326, -5.680600166320801, -5.843299865722656, -5.998700141906738, -6.00570011138916, -6.015100002288818, -6.062600135803223, -6.071599960327148, -6.097700119018555, -6.1743998527526855, -6.279799938201904, -6.305300235748291, -6.043399810791016, -2.8589999675750732, -4.679299831390381, -2.825700044631958, -5.204400062561035, -3.41129994392395, -3.4467999935150146, -3.8399999141693115, -4.463600158691406, -3.8427000045776367, -4.011099815368652, -4.5279998779296875, -4.207699775695801, -4.751399993896484, -5.018799781799316, -4.001699924468994, -4.416900157928467, -5.092599868774414, -4.828100204467773, -4.921599864959717, -5.116700172424316, -5.122499942779541, -3.4337000846862793, -3.558199882507324, -3.8440001010894775, -4.0605998039245605, -4.0756001472473145, -4.157100200653076, -4.252600193023682, -4.278500080108643, -4.285900115966797, -4.302599906921387, -4.398200035095215, -4.5447998046875, -4.602499961853027, -4.867599964141846, -5.006499767303467, -5.078999996185303, -4.536600112915039, -5.321899890899658, -5.389699935913086, -5.398399829864502, -5.462800025939941, -5.505300045013428, -5.5142998695373535, -5.533299922943115, -5.559299945831299, -5.548099994659424, -5.650100231170654, -5.660699844360352, -5.66349983215332, -5.696599960327148, -3.8747000694274902, -4.621300220489502, -4.270999908447266, -5.1149001121521, -4.3907999992370605, -3.841599941253662, -4.251999855041504, -4.176300048828125, -4.919400215148926, -3.915600061416626, -4.870800018310547, -4.927700042724609, -5.155200004577637, -4.956600189208984, -5.086599826812744, -3.5460000038146973, -4.179200172424316, -4.144000053405762, -4.314499855041504, -4.469799995422363, -4.533100128173828, -4.584400177001953, -4.643199920654297, -4.594399929046631, -4.695499897003174, -4.78980016708374, -4.894499778747559, -4.914700031280518, -5.111000061035156, -5.1519999504089355, -5.181300163269043, -5.307799816131592, -5.338099956512451, -5.391900062561035, -5.457200050354004, -5.501399993896484, -5.5096001625061035, -5.564199924468994, -5.604000091552734, -5.634500026702881, -5.645500183105469, -5.750100135803223, -5.893599987030029, -5.979499816894531, -5.475399971008301, -2.7232000827789307, -4.098599910736084, -3.336899995803833, -3.498199939727783, -4.925300121307373, -3.6173999309539795, -3.1754000186920166, -4.788300037384033, -4.423799991607666, -5.17140007019043, -5.144199848175049, -4.63640022277832, -4.2393999099731445, -5.0, -4.041500091552734, -4.729899883270264, -4.857100009918213, -5.024199962615967, -2.195499897003174, -3.322999954223633, -3.5239999294281006, -3.572700023651123, -3.668299913406372, -4.01609992980957, -4.140399932861328, -4.2453999519348145, -4.4008002281188965, -4.440700054168701, -4.489999771118164, -4.762800216674805, -4.836999893188477, -4.927700042724609, -4.974899768829346, -5.051400184631348, -5.2484002113342285, -5.304699897766113, -5.438199996948242, -5.684299945831299, -5.77810001373291, -5.780700206756592, -5.652500152587891, -5.832699775695801, -4.9704999923706055, -5.9079999923706055, -5.9141998291015625, -5.979899883270264, -6.0100998878479, -6.09499979019165, -4.370999813079834, -3.9045000076293945, -4.790500164031982, -4.59250020980835, -4.658199787139893, -4.597300052642822, -4.782299995422363, -5.186299800872803, -5.006100177764893, -5.033599853515625, -3.839099884033203, -4.832300186157227, -4.2083001136779785, -5.026199817657471, -4.917900085449219, -4.965400218963623, -4.981400012969971, -4.9567999839782715, -1.8379000425338745, -3.2471001148223877, -3.293600082397461, -3.2967000007629395, -3.3877999782562256, -3.49429988861084, -3.632699966430664, -4.265100002288818, -4.509799957275391, -4.589900016784668, -4.759099960327148, -4.81220006942749, -4.813799858093262, -4.987199783325195, -5.026299953460693, -5.124000072479248, -5.2058000564575195, -5.263400077819824, -5.489200115203857, -5.515699863433838, -5.53410005569458, -5.718500137329102, -5.837800025939941, -6.028800010681152, -6.037700176239014, -6.125400066375732, -6.129499912261963, -6.156000137329102, -6.17140007019043, -6.248799800872803, -4.411499977111816, -4.784999847412109, -3.837599992752075, -4.623000144958496, -4.921500205993652, -4.994200229644775, -4.94980001449585, -4.712299823760986, -5.325200080871582, -5.031700134277344, -4.845099925994873, -4.8755998611450195, -4.60860013961792, -4.714799880981445, -5.045199871063232]}, \"token.table\": {\"Topic\": [1, 8, 2, 1, 3, 1, 3, 5, 6, 9, 10, 2, 2, 9, 5, 1, 2, 3, 4, 5, 6, 7, 10, 4, 6, 7, 10, 2, 4, 5, 6, 7, 5, 7, 9, 5, 2, 7, 2, 3, 10, 7, 3, 2, 3, 4, 6, 7, 9, 10, 10, 9, 1, 9, 10, 3, 7, 3, 4, 9, 5, 2, 3, 4, 5, 6, 7, 8, 10, 4, 2, 6, 10, 3, 10, 3, 6, 10, 8, 3, 7, 2, 5, 6, 5, 6, 4, 10, 1, 10, 4, 7, 2, 3, 5, 8, 2, 4, 2, 3, 2, 3, 4, 2, 2, 7, 5, 6, 10, 6, 5, 7, 3, 4, 3, 10, 6, 1, 2, 7, 8, 9, 10, 7, 6, 9, 9, 1, 5, 9, 6, 2, 7, 5, 1, 3, 5, 2, 1, 10, 7, 8, 10, 4, 3, 6, 9, 7, 10, 6, 5, 7, 8, 5, 8, 9, 10, 6, 1, 2, 7, 9, 7, 5, 8, 3, 9, 8, 5, 9, 1, 6, 9, 4, 5, 4, 7, 9, 8, 2, 10, 2, 8, 7, 6, 8, 9, 8, 6, 7, 10, 2, 9, 8, 2, 1, 6, 9, 4, 1, 10, 1, 7, 6, 2, 5, 1, 2, 3, 4, 7, 9, 6, 2, 5, 6, 2, 7, 3, 7, 7, 6, 6, 1, 6, 9, 1, 2, 3, 8, 10, 2, 10, 4, 5, 6, 9, 5, 4, 1, 1, 6, 3, 2, 4, 1, 2, 3, 4, 5, 6, 7, 3, 7, 10, 6, 9, 4, 9, 8, 2, 6, 2, 5, 2, 3, 4, 5, 8, 9, 5, 3, 2, 7, 3, 7, 7, 10, 8, 5, 8, 7, 8, 10, 8, 1, 8, 10, 10, 4, 6, 8, 6, 8, 6, 9, 2, 3, 6, 10, 1, 5, 6, 9, 1, 6, 1, 4, 2, 5, 7, 9, 4, 10, 5, 2, 5, 2, 2, 9, 1, 4, 4, 5, 7, 1, 10, 1, 2, 3, 9, 3, 8, 6, 6, 5, 8, 1, 3, 9, 10, 1, 3, 3, 3, 4, 10, 1, 10, 1, 8, 10, 4, 3, 5, 1, 4, 5, 1, 5, 6, 10, 5, 6, 8, 10, 3, 2, 4, 5, 7, 10, 1, 8, 8, 7, 4, 6, 7, 1, 3, 4, 5, 6, 7, 7, 1, 2, 6, 6, 4, 4, 1, 3, 7, 2, 9, 1, 1, 6, 10, 3, 4, 9, 5, 3, 5, 1, 1, 2, 3, 8, 3, 6, 7, 10, 6, 10, 2, 3, 8, 10, 10, 1, 7, 8, 5, 4, 4, 7, 8, 10, 2, 4, 1, 2, 3, 4, 5, 6, 7, 8, 9, 3, 8, 1, 3, 8, 2, 3, 6, 3, 3, 4, 8, 9, 2, 3, 8, 10, 8, 10, 1, 3, 10, 7, 3, 1, 9, 8, 8, 6, 2, 7, 10, 1, 6, 8, 4, 7, 6, 2, 6, 2, 4, 10, 4, 5, 9, 5, 7, 9, 9, 10, 7, 9, 10, 5, 7, 7, 9, 6, 10, 6, 7, 10, 4, 8, 10, 1, 10, 9, 8, 4, 10, 10, 9, 4, 4, 1, 7, 7, 4, 5, 7, 5, 9, 5, 1, 2, 1, 9, 3, 6, 5, 7, 5, 8, 6, 9, 9, 4, 9, 6, 1, 3, 4, 9, 9, 1, 5, 5, 2, 5, 9, 1, 2, 3, 4, 7, 8, 10, 3, 6, 7, 9, 1, 5, 8, 2, 10, 6, 9, 9, 7, 1, 3, 4, 7, 8, 8, 10, 8, 1, 6, 10, 3, 6, 8, 4, 9, 4, 1, 4, 6, 8, 4, 8, 2, 2, 5, 4, 6, 8, 1, 2, 9, 8, 2, 2, 1, 2, 3, 3, 2, 10, 2, 1, 3, 10, 5, 4, 1, 2, 2, 10, 3, 2, 1, 8, 3, 5, 9, 4, 1, 3, 8, 6, 5, 9, 5, 9, 6, 8, 2, 4, 9, 7, 1, 3, 4, 5, 6, 8, 4, 2, 4, 8, 10, 5, 9, 7, 3, 4, 7, 5, 5, 3, 6, 8, 8, 3, 4, 10, 3, 5, 9, 1, 4, 6, 6, 1, 4, 1, 8, 4, 8, 3, 4, 6, 10, 1, 5, 9, 4, 1, 7, 4, 1, 1, 2, 3, 6, 1, 7], \"Freq\": [0.9002349972724915, 0.0931277647614479, 0.9893184900283813, 0.9876987934112549, 0.9938483238220215, 0.6164160966873169, 0.1412620097398758, 0.02568400278687477, 0.004280667286366224, 0.12413934618234634, 0.08561334013938904, 0.9908665418624878, 0.9968381524085999, 0.9783565402030945, 0.9971871376037598, 0.26041704416275024, 0.13020852208137512, 0.05549871549010277, 0.10886286199092865, 0.3308577239513397, 0.012807396240532398, 0.07044067978858948, 0.03201849013566971, 0.9962263703346252, 0.2577323019504547, 0.10153090953826904, 0.6326156854629517, 0.04102940857410431, 0.7043381929397583, 0.19147057831287384, 0.05470587685704231, 0.9721735119819641, 0.29892897605895996, 0.43842917680740356, 0.25907179713249207, 0.990149736404419, 0.03432373329997063, 0.9648783206939697, 0.9711291790008545, 0.9878982305526733, 0.9828258752822876, 0.9849256873130798, 0.9955446720123291, 0.36898553371429443, 0.19913505017757416, 0.13178054988384247, 0.09956752508878708, 0.029284566640853882, 0.0351414792239666, 0.13470900058746338, 0.9921438097953796, 0.956951379776001, 0.9761983156204224, 0.9593021869659424, 0.9789546728134155, 0.09724615514278412, 0.8873711228370667, 0.18823564052581787, 0.6331562399864197, 0.17112331092357635, 0.9829996228218079, 0.18423357605934143, 0.1812133491039276, 0.054364003241062164, 0.027182001620531082, 0.22651667892932892, 0.10570778697729111, 0.151011124253273, 0.06644489616155624, 0.9916197061538696, 0.9952208399772644, 0.9626637697219849, 0.9981405735015869, 0.9858083724975586, 0.9929260015487671, 0.9849647283554077, 0.9323806762695312, 0.06321225315332413, 0.9896324872970581, 0.9909480810165405, 0.9969849586486816, 0.9740240573883057, 0.2420385479927063, 0.7567182183265686, 0.9986459612846375, 0.955176591873169, 0.9901871681213379, 0.997805655002594, 0.9835295081138611, 0.967752993106842, 0.984517514705658, 0.985073983669281, 0.02555553987622261, 0.9647216200828552, 0.9947811365127563, 0.9840084314346313, 0.8570188879966736, 0.1406557708978653, 0.9755678176879883, 0.021441051736474037, 0.19334007799625397, 0.7948426008224487, 0.9913192987442017, 0.9801508188247681, 0.85402512550354, 0.13902734220027924, 0.6249772310256958, 0.2502075135707855, 0.12347903847694397, 0.9802820086479187, 0.7147362232208252, 0.2783709466457367, 0.901973307132721, 0.09285019338130951, 0.9929646849632263, 0.9878205060958862, 0.9901186227798462, 0.33771830797195435, 0.24122735857963562, 0.14818251132965088, 0.07064515352249146, 0.1033831536769867, 0.09821399301290512, 0.983016312122345, 0.8116145730018616, 0.18721243739128113, 0.9870171546936035, 0.5283232927322388, 0.27996620535850525, 0.18965451419353485, 0.967009425163269, 0.9857185482978821, 0.973763108253479, 0.9988574981689453, 0.2183283567428589, 0.18960092961788177, 0.5860392451286316, 0.9923743605613708, 0.1998382806777954, 0.7910265326499939, 0.9738000631332397, 0.7983039617538452, 0.19352823495864868, 0.9907199740409851, 0.06919758021831512, 0.9303230047225952, 0.9988313317298889, 0.9987861514091492, 0.9834256172180176, 0.9930155277252197, 0.9806408286094666, 0.9823570847511292, 0.994927167892456, 0.9898220896720886, 0.9851142764091492, 0.9721645712852478, 0.9960732460021973, 0.9930384159088135, 0.3748064339160919, 0.09370160847902298, 0.5309757590293884, 0.9759392142295837, 0.9926717281341553, 0.8503850698471069, 0.14540262520313263, 0.9892604947090149, 0.996784508228302, 0.9951038360595703, 0.9857705235481262, 0.9937412738800049, 0.967056155204773, 0.703673243522644, 0.2931971848011017, 0.3394128680229187, 0.6590266823768616, 0.5659169554710388, 0.12334087491035461, 0.30835220217704773, 0.991918683052063, 0.988040566444397, 0.9992538094520569, 0.8690993189811707, 0.12852877378463745, 0.9748055338859558, 0.9912227392196655, 0.9840410351753235, 0.9840256571769714, 0.9968115091323853, 0.5583201050758362, 0.3077918589115143, 0.12884309887886047, 0.8592514991760254, 0.13567128777503967, 0.9819809794425964, 0.9894363880157471, 0.08961272984743118, 0.029870910570025444, 0.8782047629356384, 0.9971861243247986, 0.9904188513755798, 0.9982532262802124, 0.9211792349815369, 0.06859845668077469, 0.9758816957473755, 0.8004055023193359, 0.19209732115268707, 0.1238279640674591, 0.43677499890327454, 0.42101508378982544, 0.0022514176089316607, 0.018011340871453285, 0.9994586110115051, 0.9938135743141174, 0.011099730618298054, 0.9878759980201721, 0.9829517602920532, 0.1936822384595871, 0.8030726909637451, 0.03970031067728996, 0.9528074264526367, 0.9922714233398438, 0.9759812355041504, 0.9561113119125366, 0.9504543542861938, 0.9851363897323608, 0.9860460162162781, 0.15623313188552856, 0.12085958570241928, 0.5615549087524414, 0.09727723151445389, 0.0619036927819252, 0.8519322276115417, 0.14510934054851532, 0.21525098383426666, 0.2745548188686371, 0.33605509996414185, 0.17132221162319183, 0.9937496185302734, 0.9960489273071289, 0.9965624213218689, 0.8790319561958313, 0.11813077330589294, 0.9778424501419067, 0.9830825924873352, 0.9929569959640503, 0.09249889105558395, 0.2026166170835495, 0.1908707320690155, 0.024960018694400787, 0.046983566135168076, 0.08515770733356476, 0.3553132116794586, 0.9773380160331726, 0.7716119885444641, 0.22484058141708374, 0.9554088115692139, 0.9920657277107239, 0.2825213074684143, 0.7108600735664368, 0.9897021055221558, 0.9951201677322388, 0.993060827255249, 0.9397397041320801, 0.058328669518232346, 0.2104075700044632, 0.2104075700044632, 0.22303202748298645, 0.10941193997859955, 0.22092795372009277, 0.02524890936911106, 0.9974235892295837, 0.9951704740524292, 0.9868927597999573, 0.9915499091148376, 0.9869052767753601, 0.9932480454444885, 0.995204746723175, 0.9892505407333374, 0.9885682463645935, 0.9827707409858704, 0.9830932021141052, 0.619515597820282, 0.3717093765735626, 0.9783428311347961, 0.9940534830093384, 0.008989009074866772, 0.2876482903957367, 0.6921536922454834, 0.9920806884765625, 0.9950790405273438, 0.9845644235610962, 0.9894771575927734, 0.0195439625531435, 0.9771981835365295, 0.2986236810684204, 0.6967885494232178, 0.005225030705332756, 0.22467632591724396, 0.7628545165061951, 0.005225030705332756, 0.22558775544166565, 0.13253280520439148, 0.5301312208175659, 0.10997402667999268, 0.9735476970672607, 0.027042992413043976, 0.8032640218734741, 0.19278337061405182, 0.818225085735321, 0.17630264163017273, 0.9910744428634644, 0.9880121946334839, 0.9876483082771301, 0.9569312334060669, 0.9850937724113464, 0.8384276628494263, 0.15720519423484802, 0.9946869015693665, 0.9762035608291626, 0.9950023889541626, 0.28562694787979126, 0.7099869847297668, 0.3060826063156128, 0.5827341675758362, 0.10595167428255081, 0.9602299928665161, 0.03623509407043457, 0.9814172387123108, 0.05685621127486229, 0.9239134192466736, 0.9976528882980347, 0.841109037399292, 0.1490572988986969, 0.9964956641197205, 0.9591082334518433, 0.9965956211090088, 0.9817997813224792, 0.9895707368850708, 0.9961699843406677, 0.9967027902603149, 0.9601296782493591, 0.9910977482795715, 0.9663046002388, 0.9947291016578674, 0.9897769689559937, 0.9915316700935364, 0.991070032119751, 0.9378323554992676, 0.9712981581687927, 0.2520962655544281, 0.5684523582458496, 0.17795030772686005, 0.9983559250831604, 0.2742338180541992, 0.7218338251113892, 0.9719673991203308, 0.992821216583252, 0.9954559206962585, 0.9746848940849304, 0.27179771661758423, 0.3252660930156708, 0.40101301670074463, 0.7372846603393555, 0.04706072434782982, 0.21177326142787933, 0.9902669191360474, 0.9982025623321533, 0.5846111178398132, 0.13107872009277344, 0.020972594618797302, 0.07078251242637634, 0.19399650394916534, 0.13151587545871735, 0.863620936870575, 0.9875365495681763, 0.9787523746490479, 0.9867801666259766, 0.011213410645723343, 0.997491717338562, 0.5180438160896301, 0.016711091622710228, 0.28965893387794495, 0.016711091622710228, 0.1503998190164566, 0.0055703637190163136, 0.9948819875717163, 0.31347599625587463, 0.6829298734664917, 0.9979129433631897, 0.9937413930892944, 0.9897312521934509, 0.9982256293296814, 0.8798475861549377, 0.10152087360620499, 0.9966100454330444, 0.9681556820869446, 0.01728849485516548, 0.9615306258201599, 0.19712567329406738, 0.613905668258667, 0.18586134910583496, 0.9977601766586304, 0.9889947772026062, 0.979667603969574, 0.9867108464241028, 0.9842387437820435, 0.985924482345581, 0.9946134090423584, 0.05420301854610443, 0.9395189881324768, 0.9076762795448303, 0.08831445127725601, 0.995787501335144, 0.5705749988555908, 0.1051059290766716, 0.3153177797794342, 0.9807839393615723, 0.9715712666511536, 0.993775486946106, 0.17872749269008636, 0.29107049107551575, 0.5259694457054138, 0.9924288392066956, 0.701129138469696, 0.1580977588891983, 0.13747631013393402, 0.9884802103042603, 0.9965234398841858, 0.9955386519432068, 0.013418435119092464, 0.8710801005363464, 0.11405669897794724, 0.7202306985855103, 0.2778554856777191, 0.11352366954088211, 0.018549619242548943, 0.44667482376098633, 0.1061038225889206, 0.09868397563695908, 0.01706564985215664, 0.01112977135926485, 0.12687939405441284, 0.06084274873137474, 0.996355414390564, 0.9924519062042236, 0.3574274182319641, 0.002008019248023629, 0.640558123588562, 0.007549478206783533, 0.7574643492698669, 0.23151732981204987, 0.9923458099365234, 0.9983786940574646, 0.16445350646972656, 0.5548907518386841, 0.27968281507492065, 0.9896090030670166, 0.165768563747406, 0.8170022368431091, 0.9898581504821777, 0.8693687915802002, 0.12130726873874664, 0.9892774224281311, 0.14157161116600037, 0.855584979057312, 0.984000027179718, 0.9912734031677246, 0.8073709607124329, 0.19053001701831818, 0.9741467237472534, 0.9930382966995239, 0.9895462393760681, 0.4217635691165924, 0.05531325191259384, 0.5185617804527283, 0.08832378685474396, 0.3112362027168274, 0.5972370505332947, 0.38036438822746277, 0.6149816513061523, 0.9944320321083069, 0.26157593727111816, 0.7371684908866882, 0.9826002717018127, 0.010453194379806519, 0.9970387816429138, 0.7826223969459534, 0.21446862816810608, 0.9967132806777954, 0.11358539760112762, 0.17934536933898926, 0.6994469165802002, 0.9830865263938904, 0.9662261009216309, 0.26044273376464844, 0.5632831454277039, 0.17564742267131805, 0.46003860235214233, 0.5347948670387268, 0.9968744516372681, 0.9854162335395813, 0.9969722628593445, 0.9592936635017395, 0.9763439893722534, 0.6852149963378906, 0.3079617917537689, 0.1382627785205841, 0.8421460390090942, 0.9940061569213867, 0.2359618991613388, 0.753262996673584, 0.9958105683326721, 0.9973282217979431, 0.8885640501976013, 0.10385813564062119, 0.9871668219566345, 0.989288330078125, 0.997281014919281, 0.9961255788803101, 0.9426758885383606, 0.9943240880966187, 0.9804989099502563, 0.9959996938705444, 0.9850353598594666, 0.9985274076461792, 0.01206412073224783, 0.9771937727928162, 0.9868683815002441, 0.9971038699150085, 0.9896582365036011, 0.14853817224502563, 0.847541332244873, 0.9832329750061035, 0.9879150390625, 0.995891273021698, 0.9929934740066528, 0.9939713478088379, 0.9713501930236816, 0.6264100074768066, 0.3703591823577881, 0.9962325096130371, 0.1513127088546753, 0.8466306328773499, 0.9604573249816895, 0.7257289886474609, 0.16985146701335907, 0.007720521185547113, 0.09264625608921051, 0.9595712423324585, 0.9903460144996643, 0.987490713596344, 0.9828406572341919, 0.9725335836410522, 0.27998244762420654, 0.7092888951301575, 0.15401344001293182, 0.19251680374145508, 0.19765058159828186, 0.1334783136844635, 0.19251680374145508, 0.0795736089348793, 0.046204034239053726, 0.9908323287963867, 0.020173579454421997, 0.18828675150871277, 0.7934941649436951, 0.9982575178146362, 0.9748427271842957, 0.9907328486442566, 0.9885293245315552, 0.9979626536369324, 0.8976956009864807, 0.1025937870144844, 0.9908393621444702, 0.9968258142471313, 0.21103185415267944, 0.22382166981697083, 0.05115923658013344, 0.00639490457251668, 0.5115923881530762, 0.26126357913017273, 0.7315379977226257, 0.9945834875106812, 0.808151125907898, 0.07884401082992554, 0.10841051489114761, 0.591572642326355, 0.21296614408493042, 0.19403581321239471, 0.20616739988327026, 0.7882871031761169, 0.9954966902732849, 0.9785219430923462, 0.20441563427448273, 0.5925465822219849, 0.20182809233665466, 0.7208637595176697, 0.27366122603416443, 0.9825502634048462, 0.25722360610961914, 0.7426878213882446, 0.9833720326423645, 0.9764761924743652, 0.9923487901687622, 0.9775617122650146, 0.9618759751319885, 0.9845672845840454, 0.9920213222503662, 0.9784085154533386, 0.975745439529419, 0.9895554780960083, 0.6068061590194702, 0.3923378586769104, 0.9932535886764526, 0.2701531648635864, 0.7204084396362305, 0.9927435517311096, 0.9873815774917603, 0.7621661424636841, 0.23597314953804016, 0.9914473295211792, 0.9889388680458069, 0.23126831650733948, 0.7672920823097229, 0.9893333315849304, 0.009631896391510963, 0.9917405843734741, 0.9837313294410706, 0.9994702339172363, 0.991055965423584, 0.06968718767166138, 0.9293995499610901, 0.9951093196868896, 0.9959386587142944, 0.7197540402412415, 0.2764272689819336, 0.9711299538612366, 0.9962372779846191, 0.26927006244659424, 0.7224318981170654, 0.4484967291355133, 0.5410436391830444, 0.2191217988729477, 0.7788586616516113, 0.4437127113342285, 0.317452996969223, 0.23808975517749786, 0.9919295310974121, 0.24898047745227814, 0.03751760721206665, 0.16371318697929382, 0.1500704288482666, 0.08526728302240372, 0.3137836158275604, 0.9877962470054626, 0.5915210247039795, 0.20333535969257355, 0.20333535969257355, 0.998854398727417, 0.9602411985397339, 0.03642294183373451, 0.9838321208953857, 0.9893484115600586, 0.007570826914161444, 0.9842075109481812, 0.9977090954780579, 0.9849417209625244, 0.25465089082717896, 0.7443641424179077, 0.9716703295707703, 0.9971252679824829, 0.986598551273346, 0.3286522626876831, 0.6681690812110901, 0.006882882677018642, 0.8465945720672607, 0.14454053342342377, 0.8036959767341614, 0.07306326925754547, 0.11481370776891708, 0.9645082354545593, 0.9919591546058655, 0.9900543093681335, 0.9457650184631348, 0.053954776376485825, 0.22397398948669434, 0.7747296690940857, 0.002118761418387294, 0.2902703285217285, 0.5741843581199646, 0.13136321306228638, 0.9657867550849915, 0.9885157942771912, 0.9868969917297363, 0.9994905591011047, 0.8439900279045105, 0.1540616750717163, 0.9973716139793396, 0.9820981025695801, 0.5744325518608093, 0.21807162463665009, 0.17020224034786224, 0.031912919133901596, 0.4050290286540985, 0.593890905380249], \"Term\": [\"accept\", \"accept\", \"accessibl\", \"accompagn\", \"accord\", \"action\", \"action\", \"action\", \"action\", \"action\", \"action\", \"affair\", \"agir\", \"agisson\", \"agricultur\", \"aid\", \"aid\", \"aid\", \"aid\", \"aid\", \"aid\", \"aid\", \"aid\", \"air\", \"aliment\", \"aliment\", \"aliment\", \"altern\", \"altern\", \"altern\", \"altern\", \"amelior\", \"am\\u00e9lior\", \"am\\u00e9lior\", \"am\\u00e9lior\", \"am\\u00e9nag\", \"animal\", \"animal\", \"anti\", \"appliqu\", \"approch\", \"arbre\", \"argent\", \"arr\\u00eat\", \"arr\\u00eat\", \"arr\\u00eat\", \"arr\\u00eat\", \"arr\\u00eat\", \"arr\\u00eat\", \"arr\\u00eat\", \"arr\\u00eaton\", \"atmospher\", \"attaqu\", \"attent\", \"aujourd\", \"auss\", \"auss\", \"automobil\", \"automobil\", \"automobil\", \"autorout\", \"autr\", \"autr\", \"autr\", \"autr\", \"autr\", \"autr\", \"autr\", \"autr\", \"avanc\", \"avant\", \"avantag\", \"aven\", \"avion\", \"avis\", \"a\\u00e9rien\", \"baiss\", \"baiss\", \"bas\", \"bateau\", \"bien\", \"bilan\", \"bio\", \"bio\", \"biodivers\", \"biodiversit\", \"biolog\", \"bon\", \"bonus\", \"born\", \"bouteil\", \"budget\", \"camion\", \"camion\", \"campagn\", \"capital\", \"carbon\", \"carbon\", \"carbur\", \"carbur\", \"cel\", \"cel\", \"central\", \"cess\", \"chacun\", \"chacun\", \"chang\", \"chang\", \"chang\", \"changeon\", \"chass\", \"chass\", \"cher\", \"cher\", \"choix\", \"chos\", \"circuit\", \"citoyen\", \"citoyen\", \"citoyen\", \"citoyen\", \"citoyen\", \"citoyen\", \"class\", \"climat\", \"climat\", \"coh\\u00e9rent\", \"collect\", \"collect\", \"collect\", \"combat\", \"combustibl\", \"commercial\", \"commun\", \"comport\", \"comport\", \"comport\", \"concern\", \"concret\", \"concret\", \"condit\", \"conscienc\", \"conscienc\", \"consign\", \"consomm\", \"consomm\", \"contr\", \"contribu\", \"contr\\u00f4l\", \"court\", \"covoiturag\", \"cred\", \"croissanc\", \"cyclabl\", \"dang\", \"def\", \"demain\", \"diesel\", \"doit\", \"doit\", \"doit\", \"domicil\", \"don\", \"durabl\", \"durabl\", \"d\\u00e9carbon\", \"d\\u00e9chet\", \"d\\u00e9croiss\", \"d\\u00e9mograph\", \"d\\u00e9plac\", \"d\\u00e9ploi\", \"d\\u00e9regl\", \"d\\u00e9regl\", \"d\\u00e9velopp\", \"d\\u00e9velopp\", \"eau\", \"eau\", \"eau\", \"eco\", \"ecolo\", \"ecolog\", \"econom\", \"econom\", \"ecotax\", \"educ\", \"eduqu\", \"effet\", \"efficac\", \"electr\", \"electr\", \"electr\", \"emballag\", \"emballag\", \"emplois\", \"empreint\", \"encourag\", \"encourag\", \"encourag\", \"energ\", \"energet\", \"enfant\", \"engag\", \"engag\", \"enjeux\", \"ensembl\", \"ensembl\", \"entrepris\", \"entrepris\", \"entrepris\", \"entrepris\", \"entrepris\", \"environ\", \"environnemental\", \"espec\", \"espec\", \"essenc\", \"etat\", \"etat\", \"europ\", \"europ\", \"exempl\", \"exemplar\", \"expliqu\", \"exploit\", \"fabriqu\", \"facilit\", \"fair\", \"fair\", \"fair\", \"fair\", \"fair\", \"faut\", \"faut\", \"favoris\", \"favoris\", \"favoris\", \"favoris\", \"ferroutag\", \"fin\", \"financ\", \"fiscal\", \"fiscal\", \"forc\", \"form\", \"fossil\", \"franc\", \"franc\", \"franc\", \"franc\", \"franc\", \"franc\", \"franc\", \"fret\", \"futur\", \"futur\", \"gagn\", \"gaspillag\", \"gaz\", \"gaz\", \"gest\", \"gestion\", \"global\", \"glyphosat\", \"glyphosat\", \"grand\", \"grand\", \"grand\", \"grand\", \"grand\", \"grand\", \"gratuit\", \"gros\", \"group\", \"g\\u00e9ner\", \"g\\u00e9n\\u00e9ral\", \"g\\u00e9n\\u00e9ralis\", \"habit\", \"habitud\", \"halt\", \"heur\", \"heureux\", \"homm\", \"homm\", \"hui\", \"humain\", \"human\", \"human\", \"human\", \"hybrid\", \"hydrogen\", \"hypocris\", \"id\\u00e9\", \"id\\u00e9olog\", \"id\\u00e9olog\", \"impact\", \"impact\", \"import\", \"import\", \"import\", \"import\", \"incit\", \"incit\", \"incit\", \"incit\", \"indispens\", \"indispens\", \"individuel\", \"individuel\", \"industriel\", \"industriel\", \"ind\\u00e9pend\", \"initi\", \"install\", \"integr\", \"intens\", \"interdict\", \"interdict\", \"interdir\", \"int\\u00e9r\\u00eat\", \"inutil\", \"invest\", \"invest\", \"isol\", \"isol\", \"isol\", \"just\", \"just\", \"justic\", \"k\\u00e9rosen\", \"k\\u00e9rosen\", \"limit\", \"lobb\", \"lobb\", \"local\", \"locat\", \"log\", \"logiqu\", \"long\", \"lourd\", \"lutt\", \"maitris\", \"malus\", \"mang\", \"marchandis\", \"maritim\", \"marshall\", \"meilleur\", \"men\", \"mensong\", \"mesur\", \"mesur\", \"mesur\", \"mettr\", \"mieux\", \"mieux\", \"minister\", \"mis\", \"mobil\", \"mobilis\", \"mod\", \"mod\", \"mod\", \"model\", \"model\", \"model\", \"modest\", \"moin\", \"mond\", \"mond\", \"mond\", \"mond\", \"mond\", \"mondial\", \"mondial\", \"mondialis\", \"montr\", \"moteur\", \"moteur\", \"moyen\", \"national\", \"national\", \"national\", \"national\", \"national\", \"national\", \"natur\", \"niveau\", \"niveau\", \"non\", \"nouveau\", \"nucleair\", \"nucl\\u00e9air\", \"n\\u00e9cessair\", \"n\\u00e9cessair\", \"obligatoir\", \"obsolescent\", \"obsolescent\", \"opportun\", \"oui\", \"oui\", \"oui\", \"pai\", \"panneau\", \"papi\", \"paradigm\", \"paris\", \"parking\", \"partag\", \"particip\", \"particip\", \"pay\", \"pay\", \"payeur\", \"pens\", \"pens\", \"pens\", \"penson\", \"permacultur\", \"pesticid\", \"petit\", \"petit\", \"petit\", \"peu\", \"peut\", \"peut\", \"peut\", \"pist\", \"plac\", \"plan\", \"planet\", \"planet\", \"planet\", \"plastiqu\", \"plastiqu\", \"plus\", \"plus\", \"plus\", \"plus\", \"plus\", \"plus\", \"plus\", \"plus\", \"plus\", \"poid\", \"point\", \"polit\", \"polit\", \"polit\", \"pollu\", \"pollu\", \"pollu\", \"polluent\", \"pollueur\", \"pollut\", \"pollut\", \"pollut\", \"polut\", \"possibl\", \"possibl\", \"pourquoi\", \"pouvoir\", \"pouvoir\", \"pragmat\", \"prendr\", \"prendr\", \"prim\", \"princip\", \"priorit\", \"priorit\", \"prioritair\", \"pris\", \"privil\\u00e9gi\", \"prix\", \"prix\", \"prix\", \"problem\", \"problem\", \"problem\", \"product\", \"product\", \"produir\", \"produit\", \"produit\", \"programm\", \"programm\", \"proposit\", \"propr\", \"propr\", \"protect\", \"proteg\", \"proteg\", \"proteg\", \"proxim\", \"pr\\u00e9par\", \"pr\\u00e9serv\", \"pr\\u00e9serv\", \"pr\\u00e9serv\", \"public\", \"public\", \"publiqu\", \"pun\", \"punit\", \"p\\u00e9ag\", \"p\\u00e9dagog\", \"qualit\", \"qualit\", \"quand\", \"quand\", \"quel\", \"question\", \"question\", \"quotidien\", \"raison\", \"rapid\", \"rapid\", \"recharg\", \"rechauff\", \"recherch\", \"recyclag\", \"rend\", \"rendr\", \"renforc\", \"renouvel\", \"repens\", \"respect\", \"respectu\", \"respectu\", \"respir\", \"respons\", \"responsabilis\", \"ressourc\", \"ressourc\", \"reven\", \"revoir\", \"rout\", \"routi\", \"rural\", \"r\\u00e9alist\", \"r\\u00e9chauff\", \"r\\u00e9chauff\", \"r\\u00e9duct\", \"r\\u00e9duir\", \"r\\u00e9duir\", \"r\\u00e9duit\", \"r\\u00e9el\", \"r\\u00e9el\", \"r\\u00e9el\", \"r\\u00e9el\", \"r\\u00e9flexion\", \"r\\u00e9pons\", \"r\\u00e9seau\", \"r\\u00e9tabl\", \"r\\u00e9volu\", \"sain\", \"sain\", \"san\", \"san\", \"san\", \"san\", \"san\", \"san\", \"san\", \"sanction\", \"sant\", \"sant\", \"sant\", \"sauv\", \"sauvegard\", \"sauvon\", \"selon\", \"sen\", \"sensibilis\", \"sensibilis\", \"serr\", \"servic\", \"seul\", \"seul\", \"seul\", \"seul\", \"seul\", \"simpl\", \"simpl\", \"sobriet\", \"social\", \"social\", \"social\", \"societ\", \"societ\", \"societ\", \"sol\", \"sol\", \"solair\", \"solidair\", \"solut\", \"solut\", \"solut\", \"sort\", \"sort\", \"sous\", \"stop\", \"stop\", \"stopp\", \"suggest\", \"sujet\", \"support\", \"suremballag\", \"surfac\", \"surpopul\", \"surv\", \"s\\u00e9cur\", \"tard\", \"tax\", \"tax\", \"taxat\", \"technolog\", \"technolog\", \"temp\", \"term\", \"terr\", \"terr\", \"territoir\", \"thermiqu\", \"tous\", \"tous\", \"tout\", \"tout\", \"train\", \"trans\", \"transit\", \"transparent\", \"transport\", \"transport\", \"travail\", \"tri\", \"trop\", \"trop\", \"trouv\", \"tva\", \"t\\u00e9l\\u00e9travail\", \"t\\u00e9l\\u00e9travail\", \"urbain\", \"urbain\", \"urgenc\", \"urgenc\", \"utilis\", \"utilis\", \"utilis\", \"vehicul\", \"ver\", \"ver\", \"ver\", \"ver\", \"ver\", \"ver\", \"verr\", \"vert\", \"vert\", \"vert\", \"vi\", \"vill\", \"vill\", \"vis\", \"vision\", \"viv\", \"viv\", \"vivr\", \"voi\", \"voitur\", \"voitur\", \"volontar\", \"vrai\", \"vrais\", \"v\\u00e9hicul\", \"v\\u00e9hicul\", \"v\\u00e9lo\", \"v\\u00e9lo\", \"v\\u00e9lo\", \"v\\u00e9rit\", \"v\\u00e9rit\", \"v\\u00e9rit\", \"\\u00e9chang\", \"\\u00e9co\", \"\\u00e9colo\", \"\\u00e9colog\", \"\\u00e9colog\", \"\\u00e9conom\", \"\\u00e9conom\", \"\\u00e9lectr\", \"\\u00e9lectr\", \"\\u00e9lectr\", \"\\u00e9lectr\", \"\\u00e9lev\", \"\\u00e9levag\", \"\\u00e9miss\", \"\\u00e9nerg\", \"\\u00e9nerget\", \"\\u00e9nerget\", \"\\u00e9olien\", \"\\u00e9quit\", \"\\u00e9tat\", \"\\u00e9tat\", \"\\u00e9tat\", \"\\u00e9tat\", \"\\u00eatre\", \"\\u00eatre\"]}, \"R\": 30, \"lambda.step\": 0.01, \"plot.opts\": {\"xlab\": \"PC1\", \"ylab\": \"PC2\"}, \"topic.order\": [7, 2, 1, 9, 3, 6, 10, 5, 8, 4]};\n",
       "\n",
       "function LDAvis_load_lib(url, callback){\n",
       "  var s = document.createElement('script');\n",
       "  s.src = url;\n",
       "  s.async = true;\n",
       "  s.onreadystatechange = s.onload = callback;\n",
       "  s.onerror = function(){console.warn(\"failed to load library \" + url);};\n",
       "  document.getElementsByTagName(\"head\")[0].appendChild(s);\n",
       "}\n",
       "\n",
       "if(typeof(LDAvis) !== \"undefined\"){\n",
       "   // already loaded: just create the visualization\n",
       "   !function(LDAvis){\n",
       "       new LDAvis(\"#\" + \"ldavis_el123561286829060168753887801\", ldavis_el123561286829060168753887801_data);\n",
       "   }(LDAvis);\n",
       "}else if(typeof define === \"function\" && define.amd){\n",
       "   // require.js is available: use it to load d3/LDAvis\n",
       "   require.config({paths: {d3: \"https://cdnjs.cloudflare.com/ajax/libs/d3/3.5.5/d3.min\"}});\n",
       "   require([\"d3\"], function(d3){\n",
       "      window.d3 = d3;\n",
       "      LDAvis_load_lib(\"https://cdn.rawgit.com/bmabey/pyLDAvis/files/ldavis.v1.0.0.js\", function(){\n",
       "        new LDAvis(\"#\" + \"ldavis_el123561286829060168753887801\", ldavis_el123561286829060168753887801_data);\n",
       "      });\n",
       "    });\n",
       "}else{\n",
       "    // require.js not available: dynamically load d3 & LDAvis\n",
       "    LDAvis_load_lib(\"https://cdnjs.cloudflare.com/ajax/libs/d3/3.5.5/d3.min.js\", function(){\n",
       "         LDAvis_load_lib(\"https://cdn.rawgit.com/bmabey/pyLDAvis/files/ldavis.v1.0.0.js\", function(){\n",
       "                 new LDAvis(\"#\" + \"ldavis_el123561286829060168753887801\", ldavis_el123561286829060168753887801_data);\n",
       "            })\n",
       "         });\n",
       "}\n",
       "</script>"
      ],
      "text/plain": [
       "<IPython.core.display.HTML object>"
      ]
     },
     "execution_count": 15,
     "metadata": {},
     "output_type": "execute_result"
    }
   ],
   "source": [
    "LDAvis = pyLDAvis.gensim.prepare(topic_model=lda_model, corpus=bow_corpus, dictionary=dictionary)\n",
    "pyLDAvis.enable_notebook()\n",
    "pyLDAvis.display(LDAvis)"
   ]
  },
  {
   "cell_type": "markdown",
   "metadata": {},
   "source": [
    "## TF-IDF & LDA : \n",
    "\n",
    "**Documentation :**\n",
    "\n",
    "https://towardsdatascience.com/transforming-tokens-into-useful-features-bow-tf-idf-e924ed536bcf\n",
    "\n",
    "https://scikit-learn.org/stable/modules/generated/sklearn.feature_extraction.text.TfidfVectorizer.html"
   ]
  },
  {
   "cell_type": "code",
   "execution_count": 45,
   "metadata": {},
   "outputs": [],
   "source": [
    "\"\"\"\n",
    "from sklearn.feature_extraction.text import TfidfVectorizer \n",
    "import pandas as pd \n",
    "tfidf = TfidfVectorizer(min_df=2,max_df=0.5,ngram_range=(1,2)) \n",
    "tfidf_corpus=tfidf.fit_transform(data_ecolo_title)\n",
    "#pd.DataFrame(tfidf_corpus.todense(),columns=tfidf.get_feature_names())\n",
    "\"\"\""
   ]
  },
  {
   "cell_type": "code",
   "execution_count": null,
   "metadata": {},
   "outputs": [],
   "source": []
  },
  {
   "cell_type": "code",
   "execution_count": null,
   "metadata": {},
   "outputs": [],
   "source": []
  },
  {
   "cell_type": "code",
   "execution_count": null,
   "metadata": {},
   "outputs": [],
   "source": []
  },
  {
   "cell_type": "code",
   "execution_count": null,
   "metadata": {},
   "outputs": [],
   "source": []
  },
  {
   "cell_type": "code",
   "execution_count": 15,
   "metadata": {},
   "outputs": [
    {
     "data": {
      "text/plain": [
       "'\\nimport gensim.downloader as api\\nfrom gensim.models import TfidfModel\\nfrom gensim.corpora import Dictionary\\n\\ndataset = api.load(\"text8\")\\ndct = Dictionary(dataset)  # fit dictionary\\ncorpus = [dct.doc2bow(line) for line in dataset]  # convert corpus to BoW format\\n\\nmodel = TfidfModel(corpus)  # fit model\\nvector = model[corpus[0]]  # apply model to the first corpus document\\n\\n'"
      ]
     },
     "execution_count": 15,
     "metadata": {},
     "output_type": "execute_result"
    }
   ],
   "source": [
    "\"\"\"\n",
    ">>> import gensim.downloader as api\n",
    ">>> from gensim.models import TfidfModel\n",
    ">>> from gensim.corpora import Dictionary\n",
    ">>>\n",
    ">>> dataset = api.load(\"text8\")\n",
    ">>> dct = Dictionary(dataset)  # fit dictionary\n",
    ">>> corpus = [dct.doc2bow(line) for line in dataset]  # convert corpus to BoW format\n",
    ">>>\n",
    ">>> model = TfidfModel(corpus)  # fit model\n",
    ">>> vector = model[corpus[0]]  # apply model to the first corpus document\n",
    "\n",
    "\"\"\""
   ]
  },
  {
   "cell_type": "code",
   "execution_count": 46,
   "metadata": {},
   "outputs": [],
   "source": [
    "from gensim.models import TfidfModel\n",
    "from gensim.corpora import Dictionary\n",
    "\n",
    "model = TfidfModel(bow_corpus)  # fit model\n",
    "#vector = model[corpus[0]]  # apply model to the first corpus document\n",
    "tfidf_corpus = [model[doc] for doc in bow_corpus]"
   ]
  },
  {
   "cell_type": "code",
   "execution_count": 47,
   "metadata": {
    "scrolled": true
   },
   "outputs": [
    {
     "name": "stdout",
     "output_type": "stream",
     "text": [
      "[(6, 0.10630688106798118), (10, 0.16912687859842718), (64, 0.14980552494211433), (97, 0.10277655557397265), (111, 0.17717815981646975), (120, 0.15710070254590772), (124, 0.16807640136779797), (137, 0.11590120509598058), (251, 0.2447252384137833), (252, 0.18860484270421257), (253, 0.33549200234271476), (254, 0.2254784353875924), (255, 0.30029610632445053), (256, 0.1371748165693755), (257, 0.3132858643411846), (258, 0.1735066473240022), (259, 0.3132858643411846), (260, 0.1747549877903323), (261, 0.20078758864981927), (262, 0.20952934239551896), (263, 0.2311133892938003), (264, 0.2586713864123982)]\n"
     ]
    }
   ],
   "source": [
    "print(tfidf_corpus[105])"
   ]
  },
  {
   "cell_type": "markdown",
   "metadata": {},
   "source": [
    "applying LDA : "
   ]
  },
  {
   "cell_type": "code",
   "execution_count": 54,
   "metadata": {},
   "outputs": [],
   "source": [
    "'''\n",
    "Train your lda model using gensim.models.LdaMulticore and save it to 'lda_model'\n",
    "'''\n",
    "lda_model_tfidf =  gensim.models.LdaMulticore(tfidf_corpus, \n",
    "                                   num_topics = 5, \n",
    "                                   id2word = dictionary,                                    \n",
    "                                   passes = 10,\n",
    "                                   workers = 2)"
   ]
  },
  {
   "cell_type": "code",
   "execution_count": 55,
   "metadata": {},
   "outputs": [
    {
     "name": "stdout",
     "output_type": "stream",
     "text": [
      "Topic: 0 \n",
      "Words: 0.064*\"transit\" + 0.062*\"écolog\" + 0.031*\"transport\" + 0.020*\"urgenc\" + 0.016*\"aven\" + 0.015*\"commun\" + 0.014*\"développ\" + 0.013*\"énerget\" + 0.013*\"proposit\" + 0.012*\"énerg\"\n",
      "\n",
      "\n",
      "Topic: 1 \n",
      "Words: 0.084*\"ecolog\" + 0.037*\"pollut\" + 0.036*\"environ\" + 0.020*\"contribu\" + 0.015*\"nucléair\" + 0.014*\"voitur\" + 0.011*\"air\" + 0.010*\"plastiqu\" + 0.010*\"déchet\" + 0.008*\"econom\"\n",
      "\n",
      "\n",
      "Topic: 2 \n",
      "Words: 0.028*\"climat\" + 0.021*\"chang\" + 0.020*\"planet\" + 0.015*\"priorit\" + 0.013*\"agir\" + 0.012*\"environ\" + 0.012*\"vi\" + 0.011*\"respect\" + 0.011*\"terr\" + 0.010*\"mond\"\n",
      "\n",
      "\n",
      "Topic: 3 \n",
      "Words: 0.019*\"respons\" + 0.015*\"bon\" + 0.013*\"sen\" + 0.012*\"punit\" + 0.012*\"écolog\" + 0.011*\"agricultur\" + 0.011*\"citoyen\" + 0.010*\"tous\" + 0.009*\"bio\" + 0.009*\"non\"\n",
      "\n",
      "\n",
      "Topic: 4 \n",
      "Words: 0.031*\"tax\" + 0.023*\"pollueur\" + 0.014*\"moin\" + 0.013*\"payeur\" + 0.011*\"mieux\" + 0.011*\"pollu\" + 0.010*\"plus\" + 0.010*\"carbon\" + 0.010*\"vivr\" + 0.010*\"consomm\"\n",
      "\n",
      "\n"
     ]
    }
   ],
   "source": [
    "'''\n",
    "For each topic, we will explore the words occuring in that topic and its relative weight\n",
    "'''\n",
    "for idx, topic in lda_model_tfidf.print_topics(-1):\n",
    "    print(\"Topic: {} \\nWords: {}\".format(idx, topic ))\n",
    "    print(\"\\n\")"
   ]
  },
  {
   "cell_type": "markdown",
   "metadata": {},
   "source": [
    "Visualisation :"
   ]
  },
  {
   "cell_type": "code",
   "execution_count": 56,
   "metadata": {},
   "outputs": [
    {
     "name": "stderr",
     "output_type": "stream",
     "text": [
      "C:\\Users\\adrie\\Anaconda3\\lib\\site-packages\\pyLDAvis\\_prepare.py:257: FutureWarning: Sorting because non-concatenation axis is not aligned. A future version\n",
      "of pandas will change to not sort by default.\n",
      "\n",
      "To accept the future behavior, pass 'sort=False'.\n",
      "\n",
      "To retain the current behavior and silence the warning, pass 'sort=True'.\n",
      "\n",
      "  return pd.concat([default_term_info] + list(topic_dfs))\n"
     ]
    },
    {
     "data": {
      "text/html": [
       "\n",
       "<link rel=\"stylesheet\" type=\"text/css\" href=\"https://cdn.rawgit.com/bmabey/pyLDAvis/files/ldavis.v1.0.0.css\">\n",
       "\n",
       "\n",
       "<div id=\"ldavis_el1627617889216300246859984748\"></div>\n",
       "<script type=\"text/javascript\">\n",
       "\n",
       "var ldavis_el1627617889216300246859984748_data = {\"mdsDat\": {\"x\": [0.271144860688218, -0.020236334113369177, 0.018002934205616848, -0.06113682594520561, -0.20777463483525996], \"y\": [0.1292009238998639, -0.24391288238774503, -0.07621970320041942, 0.007330070611596308, 0.18360159107670415], \"topics\": [1, 2, 3, 4, 5], \"cluster\": [1, 1, 1, 1, 1], \"Freq\": [21.58248519897461, 21.38088607788086, 20.00669288635254, 19.343820571899414, 17.686119079589844]}, \"tinfo\": {\"Category\": [\"Default\", \"Default\", \"Default\", \"Default\", \"Default\", \"Default\", \"Default\", \"Default\", \"Default\", \"Default\", \"Default\", \"Default\", \"Default\", \"Default\", \"Default\", \"Default\", \"Default\", \"Default\", \"Default\", \"Default\", \"Default\", \"Default\", \"Default\", \"Default\", \"Default\", \"Default\", \"Default\", \"Default\", \"Default\", \"Default\", \"Topic1\", \"Topic1\", \"Topic1\", \"Topic1\", \"Topic1\", \"Topic1\", \"Topic1\", \"Topic1\", \"Topic1\", \"Topic1\", \"Topic1\", \"Topic1\", \"Topic1\", \"Topic1\", \"Topic1\", \"Topic1\", \"Topic1\", \"Topic1\", \"Topic1\", \"Topic1\", \"Topic1\", \"Topic1\", \"Topic1\", \"Topic1\", \"Topic1\", \"Topic1\", \"Topic1\", \"Topic1\", \"Topic1\", \"Topic1\", \"Topic1\", \"Topic1\", \"Topic1\", \"Topic1\", \"Topic1\", \"Topic1\", \"Topic1\", \"Topic1\", \"Topic1\", \"Topic1\", \"Topic1\", \"Topic1\", \"Topic1\", \"Topic1\", \"Topic1\", \"Topic1\", \"Topic1\", \"Topic2\", \"Topic2\", \"Topic2\", \"Topic2\", \"Topic2\", \"Topic2\", \"Topic2\", \"Topic2\", \"Topic2\", \"Topic2\", \"Topic2\", \"Topic2\", \"Topic2\", \"Topic2\", \"Topic2\", \"Topic2\", \"Topic2\", \"Topic2\", \"Topic2\", \"Topic2\", \"Topic2\", \"Topic2\", \"Topic2\", \"Topic2\", \"Topic2\", \"Topic2\", \"Topic2\", \"Topic2\", \"Topic2\", \"Topic2\", \"Topic2\", \"Topic2\", \"Topic2\", \"Topic2\", \"Topic2\", \"Topic2\", \"Topic2\", \"Topic2\", \"Topic2\", \"Topic2\", \"Topic2\", \"Topic2\", \"Topic2\", \"Topic2\", \"Topic3\", \"Topic3\", \"Topic3\", \"Topic3\", \"Topic3\", \"Topic3\", \"Topic3\", \"Topic3\", \"Topic3\", \"Topic3\", \"Topic3\", \"Topic3\", \"Topic3\", \"Topic3\", \"Topic3\", \"Topic3\", \"Topic3\", \"Topic3\", \"Topic3\", \"Topic3\", \"Topic3\", \"Topic3\", \"Topic3\", \"Topic3\", \"Topic3\", \"Topic3\", \"Topic3\", \"Topic3\", \"Topic3\", \"Topic3\", \"Topic3\", \"Topic3\", \"Topic3\", \"Topic3\", \"Topic3\", \"Topic3\", \"Topic3\", \"Topic3\", \"Topic3\", \"Topic3\", \"Topic3\", \"Topic3\", \"Topic3\", \"Topic4\", \"Topic4\", \"Topic4\", \"Topic4\", \"Topic4\", \"Topic4\", \"Topic4\", \"Topic4\", \"Topic4\", \"Topic4\", \"Topic4\", \"Topic4\", \"Topic4\", \"Topic4\", \"Topic4\", \"Topic4\", \"Topic4\", \"Topic4\", \"Topic4\", \"Topic4\", \"Topic4\", \"Topic4\", \"Topic4\", \"Topic4\", \"Topic4\", \"Topic4\", \"Topic4\", \"Topic4\", \"Topic4\", \"Topic4\", \"Topic4\", \"Topic4\", \"Topic4\", \"Topic4\", \"Topic4\", \"Topic4\", \"Topic4\", \"Topic4\", \"Topic4\", \"Topic4\", \"Topic4\", \"Topic4\", \"Topic4\", \"Topic4\", \"Topic5\", \"Topic5\", \"Topic5\", \"Topic5\", \"Topic5\", \"Topic5\", \"Topic5\", \"Topic5\", \"Topic5\", \"Topic5\", \"Topic5\", \"Topic5\", \"Topic5\", \"Topic5\", \"Topic5\", \"Topic5\", \"Topic5\", \"Topic5\", \"Topic5\", \"Topic5\", \"Topic5\", \"Topic5\", \"Topic5\", \"Topic5\", \"Topic5\", \"Topic5\", \"Topic5\", \"Topic5\", \"Topic5\", \"Topic5\", \"Topic5\", \"Topic5\", \"Topic5\", \"Topic5\", \"Topic5\", \"Topic5\", \"Topic5\", \"Topic5\", \"Topic5\", \"Topic5\", \"Topic5\", \"Topic5\", \"Topic5\", \"Topic5\", \"Topic5\"], \"Freq\": [931.0, 875.0, 1108.0, 412.0, 569.0, 369.0, 462.0, 397.0, 275.0, 267.0, 238.0, 326.0, 220.0, 343.0, 212.0, 205.0, 191.0, 197.0, 172.0, 179.0, 179.0, 164.0, 166.0, 173.0, 182.0, 163.0, 151.0, 218.0, 198.0, 144.0, 267.15472412109375, 211.85585021972656, 204.4298095703125, 173.2030792236328, 872.2305297851562, 141.698974609375, 133.9513397216797, 178.72512817382812, 108.24475860595703, 118.66858673095703, 83.88089752197266, 99.13218688964844, 110.63096618652344, 94.90859985351562, 72.98817443847656, 70.71320343017578, 67.10547637939453, 58.08628463745117, 49.40303421020508, 41.97761917114258, 41.60368347167969, 41.351619720458984, 50.796531677246094, 39.27762222290039, 90.53363800048828, 36.37348556518555, 34.81792449951172, 34.52595520019531, 33.5768928527832, 33.53572082519531, 124.88985443115234, 90.28694152832031, 420.2351379394531, 191.42596435546875, 840.3948364257812, 59.172237396240234, 148.36367797851562, 165.18675231933594, 57.16337585449219, 92.61390686035156, 110.20194244384766, 80.28858184814453, 78.08232116699219, 94.2659683227539, 92.97281646728516, 91.79053497314453, 73.56432342529297, 368.7951354980469, 196.7678985595703, 179.0877227783203, 162.73928833007812, 144.240478515625, 127.23141479492188, 93.61233520507812, 84.58523559570312, 77.28713989257812, 75.74281311035156, 74.62250518798828, 74.36473846435547, 74.70183563232422, 71.26172637939453, 67.03594207763672, 64.77327728271484, 62.876651763916016, 62.50385284423828, 61.05104446411133, 74.46961212158203, 61.11994934082031, 59.21057891845703, 58.091392517089844, 55.03995132446289, 51.73307800292969, 50.10916519165039, 45.87425994873047, 45.32948684692383, 44.125648498535156, 45.464324951171875, 144.7860870361328, 108.57087707519531, 103.05670166015625, 286.952392578125, 133.17071533203125, 268.97845458984375, 119.92194366455078, 74.14400482177734, 75.79901123046875, 166.41830444335938, 90.38565826416016, 68.2990493774414, 68.04290008544922, 73.65625, 238.28726196289062, 190.35122680664062, 166.2257080078125, 150.55787658691406, 97.57868194580078, 89.02442169189453, 86.96784210205078, 85.40828704833984, 82.08502960205078, 81.22335815429688, 75.98339080810547, 70.81555938720703, 70.12847137451172, 67.03009796142578, 66.63265228271484, 66.8211441040039, 69.39385223388672, 63.59975051879883, 98.78953552246094, 60.62422561645508, 54.158592224121094, 52.168331146240234, 50.692108154296875, 50.494178771972656, 49.98419189453125, 50.34324264526367, 48.404579162597656, 47.05116653442383, 46.37081527709961, 43.69195556640625, 45.04017639160156, 111.81304168701172, 137.4533233642578, 132.5701446533203, 111.66047668457031, 85.07568359375, 121.95916748046875, 150.4140167236328, 71.17216491699219, 68.6373291015625, 57.97085952758789, 63.082096099853516, 65.0318603515625, 274.7283935546875, 163.47531127929688, 124.26593017578125, 122.51168060302734, 110.7254638671875, 86.13645935058594, 85.0488052368164, 77.4223403930664, 72.61061096191406, 71.27568054199219, 84.53813171386719, 60.44107437133789, 56.306907653808594, 51.24497985839844, 50.14176559448242, 44.68781280517578, 42.14079666137695, 40.448265075683594, 41.748023986816406, 38.36357116699219, 37.97332000732422, 136.2527313232422, 34.78083419799805, 34.071327209472656, 32.266353607177734, 37.958641052246094, 32.09571838378906, 33.07194519042969, 31.061975479125977, 138.00096130371094, 46.8672981262207, 372.29931640625, 169.8382568359375, 89.53999328613281, 55.40330505371094, 115.72807312011719, 99.11386108398438, 124.84598541259766, 65.06150817871094, 51.43772506713867, 67.29908752441406, 63.30936050415039, 52.91127014160156, 57.52877426147461, 928.5701904296875, 220.06480407714844, 411.4720458984375, 171.4510955810547, 112.62323760986328, 87.2811508178711, 85.81478118896484, 74.2417984008789, 64.77226257324219, 64.55966186523438, 62.18204116821289, 62.19609451293945, 57.33335494995117, 54.63505935668945, 56.2127685546875, 50.96180725097656, 50.61989212036133, 50.16659927368164, 47.932228088378906, 41.517852783203125, 39.22583770751953, 38.269935607910156, 37.42570114135742, 34.94580841064453, 34.992713928222656, 31.27613639831543, 29.783414840698242, 29.114147186279297, 27.974506378173828, 27.776742935180664, 56.55995559692383, 38.3540153503418, 402.81982421875, 153.95233154296875, 109.4731216430664, 119.14453887939453, 74.95386505126953, 68.02426147460938, 64.12368774414062, 49.630958557128906, 74.41893768310547, 45.39112854003906, 61.767913818359375, 54.92372131347656, 50.12333297729492], \"Term\": [\"ecolog\", \"transit\", \"\\u00e9colog\", \"pollut\", \"environ\", \"climat\", \"transport\", \"tax\", \"pollueur\", \"urgenc\", \"respons\", \"chang\", \"contribu\", \"planet\", \"aven\", \"commun\", \"bon\", \"priorit\", \"nucl\\u00e9air\", \"agir\", \"\\u00e9nerget\", \"payeur\", \"sen\", \"proposit\", \"moin\", \"vi\", \"punit\", \"d\\u00e9velopp\", \"voitur\", \"terr\", \"urgenc\", \"aven\", \"commun\", \"proposit\", \"transit\", \"vrai\", \"energ\", \"\\u00e9nerget\", \"emballag\", \"vert\", \"gratuit\", \"hydrogen\", \"renouvel\", \"plan\", \"log\", \"sauvon\", \"isol\", \"d\\u00e9croiss\", \"accompagn\", \"sobriet\", \"acc\\u00e9ler\", \"pist\", \"v\\u00e9rit\", \"surpopul\", \"invest\", \"habitat\", \"march\", \"biolog\", \"cyclabl\", \"moteur\", \"financ\", \"durabl\", \"transport\", \"d\\u00e9velopp\", \"\\u00e9colog\", \"servic\", \"\\u00e9conom\", \"\\u00e9nerg\", \"public\", \"fiscal\", \"polit\", \"propr\", \"ver\", \"aid\", \"enfant\", \"stop\", \"planet\", \"climat\", \"priorit\", \"agir\", \"vi\", \"terr\", \"sauv\", \"r\\u00e9chauff\", \"quotidien\", \"proteg\", \"recyclag\", \"pr\\u00e9serv\", \"eco\", \"humain\", \"mainten\", \"chacun\", \"d\\u00e9regl\", \"pens\", \"conscienc\", \"pragmat\", \"trop\", \"temp\", \"qualit\", \"respir\", \"mobil\", \"engag\", \"pris\", \"intelligent\", \"gestion\", \"ressourc\", \"homm\", \"respect\", \"natur\", \"lutt\", \"chang\", \"mond\", \"planet\", \"contr\", \"mod\", \"protect\", \"environ\", \"tout\", \"model\", \"enfant\", \"\\u00e9colog\", \"respons\", \"bon\", \"sen\", \"punit\", \"raison\", \"pesticid\", \"futur\", \"d\\u00e9plac\", \"glyphosat\", \"oui\", \"id\\u00e9\", \"simpl\", \"gaspillag\", \"aliment\", \"concern\", \"v\\u00e9lo\", \"sant\", \"exempl\", \"animal\", \"just\", \"interdict\", \"coh\\u00e9rent\", \"responsabilis\", \"educ\", \"\\u00e9levag\", \"g\\u00e9ner\", \"projet\", \"court\", \"quelqu\", \"alimentair\", \"nouveau\", \"bio\", \"agricultur\", \"citoyen\", \"non\", \"local\", \"tous\", \"\\u00e9colog\", \"solut\", \"produit\", \"interdir\", \"favoris\", \"consomm\", \"pollueur\", \"payeur\", \"carbon\", \"vivr\", \"ferroutag\", \"carbur\", \"avis\", \"gros\", \"pai\", \"import\", \"solair\", \"effort\", \"sain\", \"partag\", \"prix\", \"panneau\", \"vrais\", \"a\\u00e9rien\", \"arr\\u00eaton\", \"maritim\", \"g\\u00e9n\\u00e9ral\", \"pollu\", \"\\u00e9duc\", \"autonom\", \"produir\", \"campagn\", \"norm\", \"r\\u00e9pons\", \"r\\u00e9alist\", \"mieux\", \"particuli\", \"tax\", \"moin\", \"biodivers\", \"\\u00e9olien\", \"consomm\", \"fair\", \"plus\", \"autr\", \"taxat\", \"entrepris\", \"produit\", \"san\", \"franc\", \"ecolog\", \"contribu\", \"pollut\", \"nucl\\u00e9air\", \"plastiqu\", \"econom\", \"t\\u00e9l\\u00e9travail\", \"demain\", \"affair\", \"ecolo\", \"electr\", \"r\\u00e9duct\", \"particip\", \"routi\", \"consign\", \"lourd\", \"halt\", \"poid\", \"d\\u00e9bat\", \"gaz\", \"eolien\", \"vitess\", \"imp\\u00f4t\", \"bouteil\", \"\\u00e9colo\", \"effet\", \"sauvegard\", \"z\\u00e9ro\", \"verr\", \"avanc\", \"tri\", \"\\u00e9miss\", \"environ\", \"voitur\", \"d\\u00e9chet\", \"air\", \"limit\", \"r\\u00e9duir\", \"action\", \"sort\", \"\\u00e9lectr\", \"camion\", \"tous\", \"\\u00e9nerg\", \"stop\"], \"Total\": [931.0, 875.0, 1108.0, 412.0, 569.0, 369.0, 462.0, 397.0, 275.0, 267.0, 238.0, 326.0, 220.0, 343.0, 212.0, 205.0, 191.0, 197.0, 172.0, 179.0, 179.0, 164.0, 166.0, 173.0, 182.0, 163.0, 151.0, 218.0, 198.0, 144.0, 267.876708984375, 212.57618713378906, 205.151611328125, 173.9229736328125, 875.9826049804688, 142.42189025878906, 134.67190551757812, 179.85549926757812, 108.97432708740234, 119.49237823486328, 84.6063232421875, 100.03401947021484, 111.64409637451172, 95.7844009399414, 73.7099380493164, 71.43057250976562, 67.8465576171875, 58.80595397949219, 50.12498474121094, 42.69453430175781, 42.32256317138672, 42.06886672973633, 51.693328857421875, 39.99643325805664, 92.221923828125, 37.09457015991211, 35.54304504394531, 35.24636459350586, 34.29286193847656, 34.25836181640625, 131.2147216796875, 94.55718994140625, 462.4012451171875, 218.92234802246094, 1108.1900634765625, 63.734947204589844, 191.84605407714844, 248.96563720703125, 63.623207092285156, 123.99108123779297, 168.08197021484375, 112.7631607055664, 108.18217468261719, 159.4949188232422, 161.56044006347656, 221.10671997070312, 343.13702392578125, 369.50933837890625, 197.48289489746094, 179.80136108398438, 163.4550323486328, 144.9568328857422, 127.95661163330078, 94.32490539550781, 85.3056411743164, 78.00078582763672, 76.46468353271484, 75.33578491210938, 75.07918548583984, 75.4239501953125, 71.98263549804688, 67.75153350830078, 65.48426818847656, 63.59049606323242, 63.217018127441406, 61.76377868652344, 75.33958435058594, 61.83435821533203, 59.92707824707031, 58.80504608154297, 55.7581787109375, 52.44713592529297, 50.823970794677734, 46.58948516845703, 46.044429779052734, 44.84239196777344, 46.22807693481445, 147.9602813720703, 115.23471069335938, 109.1243896484375, 326.60809326171875, 148.30340576171875, 343.13702392578125, 141.42984008789062, 92.80652618408203, 98.24685668945312, 569.78271484375, 208.09934997558594, 110.58628845214844, 161.56044006347656, 1108.1900634765625, 238.99822998046875, 191.06056213378906, 166.93316650390625, 151.26646423339844, 98.28809356689453, 89.7334976196289, 87.67948913574219, 86.11872863769531, 82.792236328125, 81.9383316040039, 76.69129943847656, 71.52662658691406, 70.83824157714844, 67.74067687988281, 67.3420639038086, 67.53401947021484, 70.13548278808594, 64.3114013671875, 99.91475677490234, 61.335777282714844, 54.873291015625, 52.87822341918945, 51.40092849731445, 51.20295715332031, 50.69044876098633, 51.056270599365234, 49.119712829589844, 47.76026153564453, 47.086429595947266, 44.404945373535156, 45.8705940246582, 130.44830322265625, 174.64817810058594, 218.8507537841797, 196.10797119140625, 137.2865753173828, 305.8941955566406, 1108.1900634765625, 140.85498046875, 147.83352661132812, 83.90947723388672, 153.95779418945312, 265.6962890625, 275.432861328125, 164.17813110351562, 124.97393798828125, 123.21875762939453, 111.43183135986328, 86.84280395507812, 85.75308990478516, 78.12724304199219, 73.31859588623047, 71.98397827148438, 85.38609313964844, 61.14895248413086, 57.015098571777344, 51.952239990234375, 50.855079650878906, 45.3928108215332, 42.846954345703125, 41.152976989746094, 42.477264404296875, 39.0684928894043, 38.683536529541016, 138.89781188964844, 35.48809814453125, 34.777069091796875, 32.973304748535156, 38.79597091674805, 32.80394744873047, 33.80412673950195, 31.766836166381836, 141.24755859375, 48.01744842529297, 397.1488037109375, 182.5275115966797, 144.09909057617188, 71.40837860107422, 265.6962890625, 204.8711395263672, 346.0089416503906, 113.8740234375, 72.68926239013672, 139.01368713378906, 147.83352661132812, 119.32645416259766, 196.30197143554688, 931.3685302734375, 220.7725372314453, 412.8180847167969, 172.24041748046875, 113.396484375, 87.98835754394531, 86.52323913574219, 74.94822692871094, 65.47903442382812, 65.26473999023438, 62.892234802246094, 62.91596984863281, 58.04440689086914, 55.34284210205078, 56.951759338378906, 51.66802215576172, 51.32887649536133, 50.873329162597656, 48.64143371582031, 42.22459411621094, 39.93301010131836, 38.97579574584961, 38.141910552978516, 35.650421142578125, 35.700923919677734, 31.984621047973633, 30.49313735961914, 29.82175064086914, 28.678504943847656, 28.48800277709961, 58.2255973815918, 39.91594696044922, 569.78271484375, 198.79339599609375, 141.08299255371094, 160.9522705078125, 117.30572509765625, 107.97480773925781, 98.6951904296875, 63.33939743041992, 159.5745849609375, 63.03093338012695, 305.8941955566406, 248.96563720703125, 221.10671997070312], \"loglift\": [30.0, 29.0, 28.0, 27.0, 26.0, 25.0, 24.0, 23.0, 22.0, 21.0, 20.0, 19.0, 18.0, 17.0, 16.0, 15.0, 14.0, 13.0, 12.0, 11.0, 10.0, 9.0, 8.0, 7.0, 6.0, 5.0, 4.0, 3.0, 2.0, 1.0, 1.5305999517440796, 1.5298999547958374, 1.5298000574111938, 1.529099941253662, 1.5290000438690186, 1.5282000303268433, 1.527899980545044, 1.5269999504089355, 1.5266000032424927, 1.5263999700546265, 1.5247000455856323, 1.5241999626159668, 1.5241999626159668, 1.5240999460220337, 1.5233999490737915, 1.5232000350952148, 1.5223000049591064, 1.5210000276565552, 1.5188000202178955, 1.5163999795913696, 1.5161999464035034, 1.5161000490188599, 1.5157999992370605, 1.5152000188827515, 1.514799952507019, 1.513700008392334, 1.5126999616622925, 1.5125999450683594, 1.5121999979019165, 1.5119999647140503, 1.4838999509811401, 1.4871000051498413, 1.4377000331878662, 1.3990999460220337, 1.256700038909912, 1.4589999914169312, 1.2762999534606934, 1.1230000257492065, 1.426200032234192, 1.2415000200271606, 1.111199975013733, 1.193600058555603, 1.207200050354004, 1.0074000358581543, 0.9807000160217285, 0.65420001745224, -0.0066999997943639755, 1.5406999588012695, 1.5390000343322754, 1.538699984550476, 1.5383000373840332, 1.5377000570297241, 1.5369999408721924, 1.535099983215332, 1.5341999530792236, 1.5334999561309814, 1.5332000255584717, 1.5332000255584717, 1.5331000089645386, 1.5331000089645386, 1.5326000452041626, 1.532099962234497, 1.5318000316619873, 1.5313999652862549, 1.5312999486923218, 1.5311000347137451, 1.5311000347137451, 1.5311000347137451, 1.5305999517440796, 1.530500054359436, 1.5297000408172607, 1.5290000438690186, 1.528499960899353, 1.5271999835968018, 1.5269999504089355, 1.5266000032424927, 1.5260000228881836, 1.5210000276565552, 1.4831000566482544, 1.4854999780654907, 1.4132000207901, 1.434999942779541, 1.2992000579833984, 1.3776999711990356, 1.3181999921798706, 1.2833000421524048, 0.31189998984336853, 0.7087000012397766, 1.0607999563217163, 0.6779000163078308, -1.1684000492095947, 1.6060999631881714, 1.6053999662399292, 1.6049000024795532, 1.6044000387191772, 1.6018999814987183, 1.601199984550476, 1.6009999513626099, 1.6008000373840332, 1.6004999876022339, 1.6002999544143677, 1.5997999906539917, 1.5990999937057495, 1.5989999771118164, 1.5986000299453735, 1.5985000133514404, 1.5985000133514404, 1.5985000133514404, 1.5980000495910645, 1.5978000164031982, 1.5973999500274658, 1.5959999561309814, 1.5956000089645386, 1.5951999425888062, 1.5951999425888062, 1.5951000452041626, 1.5950000286102295, 1.5944000482559204, 1.594099998474121, 1.5937999486923218, 1.592900037765503, 1.5908000469207764, 1.4550000429153442, 1.3696000576019287, 1.107800006866455, 1.0458999872207642, 1.1305999755859375, 0.6895999908447266, -0.3880000114440918, 0.9265000224113464, 0.8418999910354614, 1.239300012588501, 0.7168999910354614, 0.20160000026226044, 1.6402000188827515, 1.6384999752044678, 1.6370999813079834, 1.6369999647140503, 1.6363999843597412, 1.634600043296814, 1.634600043296814, 1.6337000131607056, 1.6331000328063965, 1.6328999996185303, 1.6327999830245972, 1.6311999559402466, 1.6303000450134277, 1.62909996509552, 1.6287000179290771, 1.6270999908447266, 1.6261999607086182, 1.625499963760376, 1.625499963760376, 1.6246000528335571, 1.6243000030517578, 1.6236000061035156, 1.6226999759674072, 1.6223000288009644, 1.6210999488830566, 1.621000051498413, 1.621000051498413, 1.62090003490448, 1.6203999519348145, 1.6195000410079956, 1.6186000108718872, 1.5781999826431274, 1.5707000494003296, 1.1670000553131104, 1.3890000581741333, 0.8116999864578247, 0.916700005531311, 0.6233999729156494, 1.0829999446868896, 1.2970000505447388, 0.9174000024795532, 0.794700026512146, 0.8295999765396118, 0.4153999984264374, 1.7294000387191772, 1.729200005531311, 1.729099988937378, 1.7278000116348267, 1.7254999876022339, 1.7243000268936157, 1.7242000102996826, 1.7229000329971313, 1.721500039100647, 1.721500039100647, 1.7209999561309814, 1.720900058746338, 1.7201000452041626, 1.719499945640564, 1.7193000316619873, 1.7186000347137451, 1.718500018119812, 1.718400001525879, 1.7177000045776367, 1.715499997138977, 1.7144999504089355, 1.7141000032424927, 1.7134000062942505, 1.712399959564209, 1.712399959564209, 1.7100000381469727, 1.708799958229065, 1.708400011062622, 1.7074999809265137, 1.7071000337600708, 1.7034000158309937, 1.6924999952316284, 1.385599970817566, 1.4767999649047852, 1.478700041770935, 1.4315999746322632, 1.284500002861023, 1.270400047302246, 1.301200032234192, 1.4884999990463257, 0.9696000218391418, 1.404099941253662, 0.13249999284744263, 0.22100000083446503, 0.24819999933242798], \"logprob\": [30.0, 29.0, 28.0, 27.0, 26.0, 25.0, 24.0, 23.0, 22.0, 21.0, 20.0, 19.0, 18.0, 17.0, 16.0, 15.0, 14.0, 13.0, 12.0, 11.0, 10.0, 9.0, 8.0, 7.0, 6.0, 5.0, 4.0, 3.0, 2.0, 1.0, -3.9245998859405518, -4.156499862670898, -4.192200183868408, -4.357900142669678, -2.741300106048584, -4.558700084686279, -4.6149001121521, -4.326499938964844, -4.828000068664551, -4.736100196838379, -5.083000183105469, -4.915900230407715, -4.80620002746582, -4.959499835968018, -5.222099781036377, -5.253799915313721, -5.306099891662598, -5.450500011444092, -5.612400054931641, -5.775300025939941, -5.784200191497803, -5.790299892425537, -5.58459997177124, -5.841700077056885, -5.006700038909912, -5.918499946594238, -5.962299823760986, -5.970699787139893, -5.998499870300293, -5.999800205230713, -4.684999942779541, -5.009399890899658, -3.47160005569458, -4.257900238037109, -2.7785000801086426, -5.4319000244140625, -4.512700080871582, -4.405300140380859, -5.4664998054504395, -4.98390007019043, -4.810100078582764, -5.126800060272217, -5.154600143432617, -4.966300010681152, -4.980100154876709, -4.9928998947143555, -5.214200019836426, -3.5927999019622803, -4.2210001945495605, -4.315100193023682, -4.410900115966797, -4.531499862670898, -4.6570000648498535, -4.963799953460693, -5.065199851989746, -5.1554999351501465, -5.1757001876831055, -5.1905999183654785, -5.193999767303467, -5.189499855041504, -5.236599922180176, -5.297800064086914, -5.332099914550781, -5.361800193786621, -5.367800235748291, -5.391300201416016, -5.192599773406982, -5.390200138092041, -5.421899795532227, -5.440999984741211, -5.494900226593018, -5.5569000244140625, -5.588799953460693, -5.67710018157959, -5.689000129699707, -5.716000080108643, -5.686100006103516, -4.527699947357178, -4.8155999183654785, -4.867700099945068, -3.8436999320983887, -4.611400127410889, -3.908400058746338, -4.71619987487793, -5.197000026702881, -5.174900054931641, -4.388500213623047, -4.998899936676025, -5.279099941253662, -5.282899856567383, -5.20359992980957, -3.963099956512451, -4.187699794769287, -4.323200225830078, -4.4222002029418945, -4.855899810791016, -4.947700023651123, -4.9710001945495605, -4.989099979400635, -5.028800010681152, -5.039400100708008, -5.106100082397461, -5.176499843597412, -5.186200141906738, -5.231400012969971, -5.237400054931641, -5.234600067138672, -5.196800231933594, -5.283999919891357, -4.843599796295166, -5.331900119781494, -5.444699764251709, -5.482100009918213, -5.510799884796143, -5.514699935913086, -5.524899959564209, -5.5177001953125, -5.557000160217285, -5.585299968719482, -5.599899768829346, -5.65939998626709, -5.629000186920166, -4.719699859619141, -4.513299942016602, -4.549499988555908, -4.721099853515625, -4.993000030517578, -4.632900238037109, -4.4232001304626465, -5.171500205993652, -5.207699775695801, -5.3765997886657715, -5.292099952697754, -5.26170015335083, -3.787100076675415, -4.30620002746582, -4.58050012588501, -4.594699859619141, -4.695799827575684, -4.946899890899658, -4.959700107574463, -5.053599834442139, -5.117800235748291, -5.136300086975098, -4.965700149536133, -5.301199913024902, -5.372099876403809, -5.466300010681152, -5.48799991607666, -5.6031999588012695, -5.661900043487549, -5.702899932861328, -5.671199798583984, -5.755799770355225, -5.765999794006348, -4.488399982452393, -5.853799819946289, -5.8744001388549805, -5.928899765014648, -5.76639986038208, -5.934199810028076, -5.904200077056885, -5.966899871826172, -4.475599765777588, -5.555600166320801, -3.4832000732421875, -4.26800012588501, -4.908199787139893, -5.388199806213379, -4.651599884033203, -4.806600093841553, -4.575799942016602, -5.227499961853027, -5.462500095367432, -5.193699836730957, -5.254799842834473, -5.434299945831299, -5.350599765777588, -2.479599952697754, -3.9193999767303467, -3.2934999465942383, -4.169000148773193, -4.589200019836426, -4.844200134277344, -4.861100196838379, -5.00600004196167, -5.142399787902832, -5.145699977874756, -5.183199882507324, -5.183000087738037, -5.264400005340576, -5.312600135803223, -5.28410005569458, -5.382199764251709, -5.388899803161621, -5.397900104522705, -5.44350004196167, -5.587200164794922, -5.644000053405762, -5.668600082397461, -5.690899848937988, -5.759500026702881, -5.7581000328063965, -5.8703999519348145, -5.919300079345703, -5.9421000480651855, -5.98199987411499, -5.989099979400635, -5.2779998779296875, -5.666399955749512, -3.3148000240325928, -4.276599884033203, -4.617599964141846, -4.532899856567383, -4.996399879455566, -5.093400001525879, -5.152500152587891, -5.408699989318848, -5.003600120544434, -5.498000144958496, -5.189899921417236, -5.307300090789795, -5.398799896240234]}, \"token.table\": {\"Topic\": [1, 1, 2, 4, 5, 5, 2, 1, 3, 1, 2, 3, 4, 5, 2, 5, 3, 3, 2, 3, 4, 4, 1, 2, 3, 4, 5, 1, 4, 4, 1, 3, 4, 2, 4, 1, 3, 5, 1, 4, 5, 4, 4, 4, 2, 2, 3, 1, 2, 3, 4, 2, 3, 1, 3, 2, 5, 1, 2, 3, 4, 5, 2, 3, 5, 3, 1, 5, 1, 2, 5, 2, 5, 1, 3, 2, 1, 2, 3, 4, 5, 2, 5, 3, 5, 5, 3, 5, 4, 5, 1, 1, 1, 2, 2, 1, 2, 3, 4, 5, 2, 5, 5, 3, 1, 2, 3, 4, 5, 1, 2, 3, 4, 5, 4, 1, 4, 5, 1, 3, 4, 1, 2, 3, 4, 5, 3, 3, 5, 2, 3, 1, 4, 3, 4, 1, 5, 2, 2, 1, 3, 4, 5, 2, 3, 3, 5, 1, 5, 1, 3, 2, 3, 4, 5, 1, 2, 3, 4, 1, 5, 2, 3, 2, 1, 4, 2, 4, 2, 2, 3, 2, 3, 1, 2, 3, 4, 1, 2, 3, 4, 5, 1, 1, 2, 3, 1, 2, 3, 4, 5, 4, 3, 5, 3, 4, 4, 4, 5, 4, 4, 2, 3, 1, 1, 1, 2, 5, 1, 2, 3, 4, 5, 5, 1, 2, 3, 3, 4, 5, 4, 3, 5, 2, 2, 2, 4, 4, 3, 4, 5, 3, 1, 1, 2, 5, 2, 3, 2, 2, 1, 4, 3, 2, 3, 2, 3, 2, 1, 2, 3, 2, 3, 3, 2, 5, 4, 2, 5, 1, 3, 4, 5, 4, 4, 1, 2, 3, 4, 5, 3, 2, 5, 1, 3, 1, 2, 3, 3, 1, 4, 1, 2, 3, 4, 5, 3, 4, 5, 1, 3, 4, 5, 1, 4, 5, 1, 4, 5, 2, 2, 1, 2, 3, 4, 5, 1, 2, 3, 4, 5, 1, 3, 4, 5, 1, 4, 5, 2, 5, 2, 5, 1, 1, 3, 5, 5, 1, 2, 5, 4, 3, 4, 5, 1, 4, 3, 1, 5, 5, 1, 2, 3, 4, 5, 1, 2, 3, 5, 4, 1, 3, 4, 5, 3, 3, 5, 1, 4, 5, 1, 4, 4, 5], \"Freq\": [0.9775564074516296, 0.9923784732818604, 0.2533051371574402, 0.09118985384702682, 0.6484611630439758, 0.9926841259002686, 0.9955430626869202, 0.211854487657547, 0.7844341993331909, 0.5893604755401611, 0.06269792467355728, 0.1442052274942398, 0.1818239688873291, 0.012539584189653397, 0.2547338902950287, 0.7393496036529541, 0.9890660047531128, 0.9908806085586548, 0.010008531622588634, 0.9908446073532104, 0.988764226436615, 0.9776557087898254, 0.008781634271144867, 0.2107592225074768, 0.2107592225074768, 0.5708062052726746, 0.9828698635101318, 0.9972894787788391, 0.9912179112434387, 0.9719831347465515, 0.015331744216382504, 0.8585776686668396, 0.13031981885433197, 0.3747421205043793, 0.6245701909065247, 0.9930102229118347, 0.9944490790367126, 0.9817555546760559, 0.015865225344896317, 0.25384360551834106, 0.7139351963996887, 0.9794831275939941, 0.992206871509552, 0.9902950525283813, 0.988907516002655, 0.878728985786438, 0.11940916627645493, 0.013707972131669521, 0.24674350023269653, 0.6077200770378113, 0.13251039385795593, 0.9986215829849243, 0.9833915829658508, 0.9943865537643433, 0.9949204921722412, 0.9965670704841614, 0.9832883477210999, 0.04516435042023659, 0.16183891892433167, 0.24464023113250732, 0.43658870458602905, 0.11291087418794632, 0.8484772443771362, 0.1484835147857666, 0.9965007305145264, 0.9840816855430603, 0.9914599657058716, 0.9873482584953308, 0.9518049359321594, 0.042302440851926804, 0.9868130087852478, 0.21972882747650146, 0.7725948691368103, 0.986294686794281, 0.9870094656944275, 0.9926047921180725, 0.8724554777145386, 0.004567829892039299, 0.004567829892039299, 0.04567829519510269, 0.06851744651794434, 0.9856260418891907, 0.9959436058998108, 0.0021473777014762163, 0.9974569082260132, 0.9887672066688538, 0.9765061140060425, 0.9692158102989197, 0.9812105894088745, 0.9858132600784302, 0.9910591244697571, 0.9950107932090759, 0.5756359696388245, 0.42089512944221497, 0.9914745688438416, 0.23019316792488098, 0.07193536311388016, 0.1798384040594101, 0.48196694254875183, 0.03596768155694008, 0.29133912920951843, 0.7072871923446655, 0.9766356348991394, 0.9951578974723816, 0.0341678187251091, 0.3123914897441864, 0.1122656911611557, 0.4832305908203125, 0.0536922886967659, 0.3182690441608429, 0.006495286710560322, 0.40920305252075195, 0.12990573048591614, 0.1364010125398636, 0.9961246848106384, 0.9526370167732239, 0.03810548037290573, 0.007621095981448889, 0.7500539422035217, 0.22582268714904785, 0.024195289239287376, 0.1579199582338333, 0.18848511576652527, 0.18339093029499054, 0.2954631447792053, 0.17829672992229462, 0.9922503232955933, 0.9881668090820312, 0.9946809411048889, 0.9773169159889221, 0.990431010723114, 0.9928336143493652, 0.9855716824531555, 0.9793116450309753, 0.9823300242424011, 0.970492422580719, 0.9935927391052246, 0.9734343886375427, 0.9943791031837463, 0.989663302898407, 0.9909859299659729, 0.9863305687904358, 0.9700615406036377, 0.9873472452163696, 0.9840853214263916, 0.6912210583686829, 0.29794013500213623, 0.9867501854896545, 0.010843408294022083, 0.9875224828720093, 0.9945256114006042, 0.20459359884262085, 0.1449204683303833, 0.008524732664227486, 0.6393550038337708, 0.12382856756448746, 0.09469243139028549, 0.6191428303718567, 0.1675327718257904, 0.9903684854507446, 0.9870708584785461, 0.9438769817352295, 0.054983124136924744, 0.9863489866256714, 0.9847214818000793, 0.9726507663726807, 0.021239304915070534, 0.977008044719696, 0.9864023923873901, 0.7973577380180359, 0.19395187497138977, 0.6149044632911682, 0.3797939121723175, 0.005478626117110252, 0.005478626117110252, 0.060264889150857925, 0.9313664436340332, 0.006742933299392462, 0.8968101739883423, 0.047200534492731094, 0.006742933299392462, 0.040457602590322495, 0.9924584031105042, 0.01735588163137436, 0.9458955526351929, 0.03471176326274872, 0.13767926394939423, 0.050992317497730255, 0.5711139440536499, 0.19377081096172333, 0.050992317497730255, 0.9754923582077026, 0.9810206294059753, 0.9927983283996582, 0.9885483384132385, 0.9956546425819397, 0.9913464188575745, 0.9816708564758301, 0.9820067882537842, 0.9788108468055725, 0.9928240776062012, 0.9907140731811523, 0.9918258190155029, 0.9745924472808838, 0.9918107390403748, 0.2156572937965393, 0.7839433550834656, 0.9965035319328308, 0.20808710157871246, 0.1849663108587265, 0.16473563015460968, 0.36126235127449036, 0.08092276751995087, 0.9828332662582397, 0.6544426083564758, 0.09519165009260178, 0.24987807869911194, 0.0071995374746620655, 0.979137122631073, 0.0071995374746620655, 0.9984284043312073, 0.002422374440357089, 0.9955959320068359, 0.9876338839530945, 0.9975547790527344, 0.9837877750396729, 0.9831859469413757, 0.9704820513725281, 0.4667412042617798, 0.4261550307273865, 0.10822984576225281, 0.9772043824195862, 0.9946932196617126, 0.7094515562057495, 0.18623103201389313, 0.09754958748817444, 0.7735616564750671, 0.22392573952674866, 0.9871695637702942, 0.9955428242683411, 0.8958995342254639, 0.09430520981550217, 0.9982384443283081, 0.9845299124717712, 0.9769269227981567, 0.9964171051979065, 0.9970688819885254, 0.9939228892326355, 0.9942308068275452, 0.9799927473068237, 0.013517141342163086, 0.9863098859786987, 0.9958232641220093, 0.9921999573707581, 0.9812144041061401, 0.9938051104545593, 0.9758604764938354, 0.9965554475784302, 0.9854413866996765, 0.01852283999323845, 0.15744413435459137, 0.1852283924818039, 0.6297765374183655, 0.9762121438980103, 0.9821959733963013, 0.13408593833446503, 0.17598779499530792, 0.13408593833446503, 0.44415968656539917, 0.10894482582807541, 0.9838101267814636, 0.9925239086151123, 0.9838279485702515, 0.9939721822738647, 0.9944099187850952, 0.9257087707519531, 0.047069936990737915, 0.015689978376030922, 0.9926373362541199, 0.9837324619293213, 0.9954782724380493, 0.021298501640558243, 0.17038801312446594, 0.5040645599365234, 0.09229350835084915, 0.21298500895500183, 0.07893981039524078, 0.14209166169166565, 0.7893980741500854, 0.41608867049217224, 0.24874866008758545, 0.10854487121105194, 0.22613514959812164, 0.9750869274139404, 0.9366766214370728, 0.060430750250816345, 0.1650862842798233, 0.7016167044639587, 0.12381470948457718, 0.9865065813064575, 0.9933992028236389, 0.209222674369812, 0.14384058117866516, 0.39883071184158325, 0.04576746001839638, 0.2026844620704651, 0.03363778069615364, 0.4324857294559479, 0.2066320776939392, 0.14896731078624725, 0.17779968678951263, 0.9954535365104675, 0.00228315033018589, 0.001141575165092945, 0.001141575165092945, 0.9083020687103271, 0.08866757899522781, 0.002162623917683959, 0.017174577340483665, 0.9789508581161499, 0.982219398021698, 0.9939526319503784, 0.9967271685600281, 0.7210060358047485, 0.18487334251403809, 0.09243667125701904, 0.9763410091400146, 0.9958794116973877, 0.9972161650657654, 0.9749640822410583, 0.9982246160507202, 0.030182089656591415, 0.19618357717990875, 0.7746736407279968, 0.9970377683639526, 0.9802330136299133, 0.9920926094055176, 0.986587643623352, 0.9724445939064026, 0.9803667664527893, 0.7579927444458008, 0.06677554547786713, 0.1353558450937271, 0.035192519426345825, 0.003609489183872938, 0.7714518904685974, 0.19286297261714935, 0.005212512798607349, 0.03127507492899895, 0.9862461686134338, 0.28826645016670227, 0.15039989352226257, 0.08773326873779297, 0.4637329876422882, 0.986379086971283, 0.025052644312381744, 0.9520004391670227, 0.6627420783042908, 0.11246532201766968, 0.22091402113437653, 0.9952434301376343, 0.005560019053518772, 0.7702177166938782, 0.21005938947200775], \"Term\": [\"accompagn\", \"acc\\u00e9ler\", \"action\", \"action\", \"action\", \"affair\", \"agir\", \"agricultur\", \"agricultur\", \"aid\", \"aid\", \"aid\", \"aid\", \"aid\", \"air\", \"air\", \"aliment\", \"alimentair\", \"animal\", \"animal\", \"arr\\u00eaton\", \"autonom\", \"autr\", \"autr\", \"autr\", \"autr\", \"avanc\", \"aven\", \"avis\", \"a\\u00e9rien\", \"bio\", \"bio\", \"bio\", \"biodivers\", \"biodivers\", \"biolog\", \"bon\", \"bouteil\", \"camion\", \"camion\", \"camion\", \"campagn\", \"carbon\", \"carbur\", \"chacun\", \"chang\", \"chang\", \"citoyen\", \"citoyen\", \"citoyen\", \"citoyen\", \"climat\", \"coh\\u00e9rent\", \"commun\", \"concern\", \"conscienc\", \"consign\", \"consomm\", \"consomm\", \"consomm\", \"consomm\", \"consomm\", \"contr\", \"contr\", \"contribu\", \"court\", \"cyclabl\", \"demain\", \"durabl\", \"durabl\", \"d\\u00e9bat\", \"d\\u00e9chet\", \"d\\u00e9chet\", \"d\\u00e9croiss\", \"d\\u00e9plac\", \"d\\u00e9regl\", \"d\\u00e9velopp\", \"d\\u00e9velopp\", \"d\\u00e9velopp\", \"d\\u00e9velopp\", \"d\\u00e9velopp\", \"eco\", \"ecolo\", \"ecolog\", \"ecolog\", \"econom\", \"educ\", \"effet\", \"effort\", \"electr\", \"emballag\", \"energ\", \"enfant\", \"enfant\", \"engag\", \"entrepris\", \"entrepris\", \"entrepris\", \"entrepris\", \"entrepris\", \"environ\", \"environ\", \"eolien\", \"exempl\", \"fair\", \"fair\", \"fair\", \"fair\", \"fair\", \"favoris\", \"favoris\", \"favoris\", \"favoris\", \"favoris\", \"ferroutag\", \"financ\", \"financ\", \"financ\", \"fiscal\", \"fiscal\", \"fiscal\", \"franc\", \"franc\", \"franc\", \"franc\", \"franc\", \"futur\", \"gaspillag\", \"gaz\", \"gestion\", \"glyphosat\", \"gratuit\", \"gros\", \"g\\u00e9ner\", \"g\\u00e9n\\u00e9ral\", \"habitat\", \"halt\", \"homm\", \"humain\", \"hydrogen\", \"id\\u00e9\", \"import\", \"imp\\u00f4t\", \"intelligent\", \"interdict\", \"interdir\", \"interdir\", \"invest\", \"invest\", \"isol\", \"just\", \"limit\", \"limit\", \"limit\", \"limit\", \"local\", \"local\", \"local\", \"local\", \"log\", \"lourd\", \"lutt\", \"lutt\", \"mainten\", \"march\", \"maritim\", \"mieux\", \"mieux\", \"mobil\", \"mod\", \"mod\", \"model\", \"model\", \"moin\", \"moin\", \"moin\", \"moin\", \"mond\", \"mond\", \"mond\", \"mond\", \"mond\", \"moteur\", \"natur\", \"natur\", \"natur\", \"non\", \"non\", \"non\", \"non\", \"non\", \"norm\", \"nouveau\", \"nucl\\u00e9air\", \"oui\", \"pai\", \"panneau\", \"partag\", \"particip\", \"particuli\", \"payeur\", \"pens\", \"pesticid\", \"pist\", \"plan\", \"planet\", \"planet\", \"plastiqu\", \"plus\", \"plus\", \"plus\", \"plus\", \"plus\", \"poid\", \"polit\", \"polit\", \"polit\", \"pollu\", \"pollu\", \"pollu\", \"pollueur\", \"pollut\", \"pollut\", \"pragmat\", \"priorit\", \"pris\", \"prix\", \"produir\", \"produit\", \"produit\", \"produit\", \"projet\", \"proposit\", \"propr\", \"propr\", \"propr\", \"protect\", \"protect\", \"proteg\", \"pr\\u00e9serv\", \"public\", \"public\", \"punit\", \"qualit\", \"quelqu\", \"quotidien\", \"raison\", \"recyclag\", \"renouvel\", \"respect\", \"respect\", \"respir\", \"respons\", \"responsabilis\", \"ressourc\", \"routi\", \"r\\u00e9alist\", \"r\\u00e9chauff\", \"r\\u00e9duct\", \"r\\u00e9duir\", \"r\\u00e9duir\", \"r\\u00e9duir\", \"r\\u00e9duir\", \"r\\u00e9pons\", \"sain\", \"san\", \"san\", \"san\", \"san\", \"san\", \"sant\", \"sauv\", \"sauvegard\", \"sauvon\", \"sen\", \"servic\", \"servic\", \"servic\", \"simpl\", \"sobriet\", \"solair\", \"solut\", \"solut\", \"solut\", \"solut\", \"solut\", \"sort\", \"sort\", \"sort\", \"stop\", \"stop\", \"stop\", \"stop\", \"surpopul\", \"tax\", \"tax\", \"taxat\", \"taxat\", \"taxat\", \"temp\", \"terr\", \"tous\", \"tous\", \"tous\", \"tous\", \"tous\", \"tout\", \"tout\", \"tout\", \"tout\", \"tout\", \"transit\", \"transit\", \"transit\", \"transit\", \"transport\", \"transport\", \"transport\", \"tri\", \"tri\", \"trop\", \"t\\u00e9l\\u00e9travail\", \"urgenc\", \"ver\", \"ver\", \"ver\", \"verr\", \"vert\", \"vi\", \"vitess\", \"vivr\", \"voitur\", \"voitur\", \"voitur\", \"vrai\", \"vrais\", \"v\\u00e9lo\", \"v\\u00e9rit\", \"z\\u00e9ro\", \"\\u00e9colo\", \"\\u00e9colog\", \"\\u00e9colog\", \"\\u00e9colog\", \"\\u00e9colog\", \"\\u00e9colog\", \"\\u00e9conom\", \"\\u00e9conom\", \"\\u00e9conom\", \"\\u00e9conom\", \"\\u00e9duc\", \"\\u00e9lectr\", \"\\u00e9lectr\", \"\\u00e9lectr\", \"\\u00e9lectr\", \"\\u00e9levag\", \"\\u00e9miss\", \"\\u00e9miss\", \"\\u00e9nerg\", \"\\u00e9nerg\", \"\\u00e9nerg\", \"\\u00e9nerget\", \"\\u00e9nerget\", \"\\u00e9olien\", \"\\u00e9olien\"]}, \"R\": 30, \"lambda.step\": 0.01, \"plot.opts\": {\"xlab\": \"PC1\", \"ylab\": \"PC2\"}, \"topic.order\": [1, 3, 4, 5, 2]};\n",
       "\n",
       "function LDAvis_load_lib(url, callback){\n",
       "  var s = document.createElement('script');\n",
       "  s.src = url;\n",
       "  s.async = true;\n",
       "  s.onreadystatechange = s.onload = callback;\n",
       "  s.onerror = function(){console.warn(\"failed to load library \" + url);};\n",
       "  document.getElementsByTagName(\"head\")[0].appendChild(s);\n",
       "}\n",
       "\n",
       "if(typeof(LDAvis) !== \"undefined\"){\n",
       "   // already loaded: just create the visualization\n",
       "   !function(LDAvis){\n",
       "       new LDAvis(\"#\" + \"ldavis_el1627617889216300246859984748\", ldavis_el1627617889216300246859984748_data);\n",
       "   }(LDAvis);\n",
       "}else if(typeof define === \"function\" && define.amd){\n",
       "   // require.js is available: use it to load d3/LDAvis\n",
       "   require.config({paths: {d3: \"https://cdnjs.cloudflare.com/ajax/libs/d3/3.5.5/d3.min\"}});\n",
       "   require([\"d3\"], function(d3){\n",
       "      window.d3 = d3;\n",
       "      LDAvis_load_lib(\"https://cdn.rawgit.com/bmabey/pyLDAvis/files/ldavis.v1.0.0.js\", function(){\n",
       "        new LDAvis(\"#\" + \"ldavis_el1627617889216300246859984748\", ldavis_el1627617889216300246859984748_data);\n",
       "      });\n",
       "    });\n",
       "}else{\n",
       "    // require.js not available: dynamically load d3 & LDAvis\n",
       "    LDAvis_load_lib(\"https://cdnjs.cloudflare.com/ajax/libs/d3/3.5.5/d3.min.js\", function(){\n",
       "         LDAvis_load_lib(\"https://cdn.rawgit.com/bmabey/pyLDAvis/files/ldavis.v1.0.0.js\", function(){\n",
       "                 new LDAvis(\"#\" + \"ldavis_el1627617889216300246859984748\", ldavis_el1627617889216300246859984748_data);\n",
       "            })\n",
       "         });\n",
       "}\n",
       "</script>"
      ],
      "text/plain": [
       "<IPython.core.display.HTML object>"
      ]
     },
     "execution_count": 56,
     "metadata": {},
     "output_type": "execute_result"
    }
   ],
   "source": [
    "LDAvis_tfidf = pyLDAvis.gensim.prepare(topic_model=lda_model_tfidf, corpus=tfidf_corpus, dictionary=dictionary)\n",
    "pyLDAvis.enable_notebook()\n",
    "pyLDAvis.display(LDAvis_tfidf)"
   ]
  },
  {
   "cell_type": "markdown",
   "metadata": {},
   "source": [
    "## LSA : "
   ]
  },
  {
   "cell_type": "code",
   "execution_count": null,
   "metadata": {},
   "outputs": [],
   "source": []
  },
  {
   "cell_type": "code",
   "execution_count": null,
   "metadata": {},
   "outputs": [],
   "source": []
  },
  {
   "cell_type": "code",
   "execution_count": null,
   "metadata": {},
   "outputs": [],
   "source": []
  },
  {
   "cell_type": "markdown",
   "metadata": {},
   "source": [
    "## TF-IDF & svd : \n",
    "https://www.kaggle.com/shivam1600/simple-information-retrieval-using-tf-idf-and-lsa"
   ]
  }
 ],
 "metadata": {
  "kernelspec": {
   "display_name": "Python 3",
   "language": "python",
   "name": "python3"
  },
  "language_info": {
   "codemirror_mode": {
    "name": "ipython",
    "version": 3
   },
   "file_extension": ".py",
   "mimetype": "text/x-python",
   "name": "python",
   "nbconvert_exporter": "python",
   "pygments_lexer": "ipython3",
   "version": "3.7.4"
  },
  "toc": {
   "base_numbering": 1,
   "nav_menu": {},
   "number_sections": true,
   "sideBar": true,
   "skip_h1_title": true,
   "title_cell": "Table of Contents",
   "title_sidebar": "Contents",
   "toc_cell": false,
   "toc_position": {
    "height": "calc(100% - 180px)",
    "left": "10px",
    "top": "150px",
    "width": "194.2px"
   },
   "toc_section_display": true,
   "toc_window_display": true
  }
 },
 "nbformat": 4,
 "nbformat_minor": 2
}
