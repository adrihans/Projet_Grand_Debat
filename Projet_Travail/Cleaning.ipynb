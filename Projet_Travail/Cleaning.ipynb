{
 "cells": [
  {
   "cell_type": "markdown",
   "metadata": {},
   "source": [
    "# Cleaning notebook "
   ]
  },
  {
   "cell_type": "code",
   "execution_count": 1,
   "metadata": {},
   "outputs": [],
   "source": [
    "import numpy as np\n",
    "import pandas as pd "
   ]
  },
  {
   "cell_type": "code",
   "execution_count": 2,
   "metadata": {},
   "outputs": [],
   "source": [
    "pd.set_option('display.max_columns', 50)\n",
    "pd.set_option('display.max_rows', 80)\n",
    "pd.set_option('display.width', 1000)"
   ]
  },
  {
   "cell_type": "markdown",
   "metadata": {},
   "source": [
    "The purpose of this notebook is to clean the datasets I use during this project.\n",
    "\n",
    "It is divided by section, one section for every dataset used. "
   ]
  },
  {
   "cell_type": "markdown",
   "metadata": {},
   "source": [
    "## Contributions :"
   ]
  },
  {
   "cell_type": "markdown",
   "metadata": {},
   "source": [
    "### Reading data : "
   ]
  },
  {
   "cell_type": "code",
   "execution_count": 3,
   "metadata": {},
   "outputs": [
    {
     "name": "stderr",
     "output_type": "stream",
     "text": [
      "C:\\Users\\adrie\\Anaconda3\\lib\\site-packages\\IPython\\core\\interactiveshell.py:3049: DtypeWarning: Columns (6) have mixed types. Specify dtype option on import or set low_memory=False.\n",
      "  interactivity=interactivity, compiler=compiler, result=result)\n",
      "b'Skipping line 6140: expected 44 fields, saw 62\\n'\n",
      "C:\\Users\\adrie\\Anaconda3\\lib\\site-packages\\IPython\\core\\interactiveshell.py:3049: DtypeWarning: Columns (7,10) have mixed types. Specify dtype option on import or set low_memory=False.\n",
      "  interactivity=interactivity, compiler=compiler, result=result)\n",
      "C:\\Users\\adrie\\Anaconda3\\lib\\site-packages\\IPython\\core\\interactiveshell.py:3049: DtypeWarning: Columns (7) have mixed types. Specify dtype option on import or set low_memory=False.\n",
      "  interactivity=interactivity, compiler=compiler, result=result)\n"
     ]
    }
   ],
   "source": [
    "data_ecolo = pd.read_csv('Donnees/data_contributions/LA_TRANSITION_ECOLOGIQUE.csv',error_bad_lines=False)\n",
    "data_serv_pub = pd.read_csv('Donnees/data_contributions/ORGANISATION_DE_LETAT_ET_DES_SERVICES_PUBLICS.csv',error_bad_lines=False)\n",
    "data_fisc = pd.read_csv('Donnees/data_contributions/LA_FISCALITE_ET_LES_DEPENSES_PUBLIQUES.csv',error_bad_lines=False)\n",
    "data_dem = pd.read_csv('Donnees/data_contributions/DEMOCRATIE_ET_CITOYENNETE.csv',error_bad_lines=False)"
   ]
  },
  {
   "cell_type": "markdown",
   "metadata": {},
   "source": [
    "###  Cleaning it :"
   ]
  },
  {
   "cell_type": "markdown",
   "metadata": {},
   "source": [
    "On détecte qu'un des codes postaux est en fait une réponse à une question dans la base de données sur les services publiques : \n",
    "\n",
    "(Et que tout est mal indexé)"
   ]
  },
  {
   "cell_type": "code",
   "execution_count": 4,
   "metadata": {
    "scrolled": true
   },
   "outputs": [
    {
     "data": {
      "text/html": [
       "<div>\n",
       "<style scoped>\n",
       "    .dataframe tbody tr th:only-of-type {\n",
       "        vertical-align: middle;\n",
       "    }\n",
       "\n",
       "    .dataframe tbody tr th {\n",
       "        vertical-align: top;\n",
       "    }\n",
       "\n",
       "    .dataframe thead th {\n",
       "        text-align: right;\n",
       "    }\n",
       "</style>\n",
       "<table border=\"1\" class=\"dataframe\">\n",
       "  <thead>\n",
       "    <tr style=\"text-align: right;\">\n",
       "      <th></th>\n",
       "      <th>id</th>\n",
       "      <th>reference</th>\n",
       "      <th>title</th>\n",
       "      <th>createdAt</th>\n",
       "      <th>publishedAt</th>\n",
       "      <th>updatedAt</th>\n",
       "      <th>trashed</th>\n",
       "      <th>trashedStatus</th>\n",
       "      <th>authorId</th>\n",
       "      <th>authorType</th>\n",
       "      <th>authorZipCode</th>\n",
       "      <th>QUXVlc3Rpb246MTY5 - Que pensez-vous de l'organisation de l'Etat et des administrations en France ? De quelle manière cette organisation devrait-elle évoluer ?</th>\n",
       "      <th>QUXVlc3Rpb246MTcw - Selon vous, l'Etat doit-il aujourd'hui transférer de nouvelles missions aux collectivités territoriales ?</th>\n",
       "      <th>QUXVlc3Rpb246MTcx - Si oui, lesquelles ?</th>\n",
       "      <th>QUXVlc3Rpb246MjA0 - Estimez-vous avoir accès aux services publics dont vous avez besoin ?</th>\n",
       "      <th>QUXVlc3Rpb246MTcy - Si non, quels types de services publics vous manquent dans votre territoire et qu'il est nécessaire de renforcer ?</th>\n",
       "      <th>QUXVlc3Rpb246MTc0 - Quels nouveaux services ou quelles démarches souhaitez-vous voir développées sur Internet en priorité ?</th>\n",
       "      <th>QUXVlc3Rpb246MTc1 - Avez-vous déjà utilisé certaines de ces nouvelles formes de services publics ?</th>\n",
       "      <th>QUXVlc3Rpb246MTc2 - Si oui, en avez-vous été satisfait ?</th>\n",
       "      <th>QUXVlc3Rpb246MTc3 - Quelles améliorations préconiseriez-vous ?</th>\n",
       "      <th>QUXVlc3Rpb246MTc4 - Quand vous pensez à l'évolution des services publics au cours des dernières années, quels sont ceux qui ont évolué de manière positive ?</th>\n",
       "      <th>QUXVlc3Rpb246MTc5 - Quels sont les services publics qui doivent le plus évoluer selon vous ?</th>\n",
       "      <th>QUXVlc3Rpb246MTgw - Connaissez-vous le \"droit à l'erreur\", c'est-à-dire le droit d'affirmer votre bonne foi lorsque vous faites un erreur dans vos déclarations ?</th>\n",
       "      <th>QUXVlc3Rpb246MTgx - Si oui, avez-vous déjà utilisé ce droit à l'erreur ?</th>\n",
       "      <th>QUXVlc3Rpb246MTgy - Si oui, à quelle occasion en avez-vous fait usage ?</th>\n",
       "      <th>QUXVlc3Rpb246MTgz - Pouvez-vous identifier des règles que l'administration vous a déjà demandé d'appliquer et que vous avez jugées inutiles ou trop complexes ?</th>\n",
       "      <th>QUXVlc3Rpb246MTg0 - Faut-il donner plus d'autonomie aux fonctionnaires de terrain ?</th>\n",
       "      <th>QUXVlc3Rpb246MTg1 - Si oui, comment ?</th>\n",
       "      <th>QUXVlc3Rpb246MTg2 - Faut-il revoir le fonctionnement et la formation de l'administration ?</th>\n",
       "      <th>QUXVlc3Rpb246MTg3 - Si oui, comment ?</th>\n",
       "      <th>QUXVlc3Rpb246MTg4 - Comment l'Etat et les collectivités territoriales peuvent-ils s'améliorer pour mieux répondre aux défis de nos territoires les plus en difficulté ?</th>\n",
       "      <th>QUXVlc3Rpb246MTkx - Si vous avez été amené à chercher une formation, pouvez-vous indiquer les éléments de satisfaction et/ou les difficultés rencontrés en précisant, pour chaque point, l'administration concernée :</th>\n",
       "      <th>QUXVlc3Rpb246MTky - Si vous avez été amené à scolariser votre enfant, pouvez-vous indiquer les éléments de satisfaction et/ou les difficultés rencontrés en précisant, pour chaque point, l'administration concernée :</th>\n",
       "      <th>QUXVlc3Rpb246MTkz - Si vous avez été amené à chercher un emploi, pouvez-vous indiquer les éléments de satisfaction et/ou les difficultés rencontrés en précisant, pour chaque point, l'administration concernée :</th>\n",
       "      <th>QUXVlc3Rpb246MTk0 - Si vous avez été amené à préparer votre retraite, pouvez-vous indiquer les éléments de satisfaction et/ou les difficultés rencontrés en précisant, pour chaque point, l'administration concernée :</th>\n",
       "      <th>QUXVlc3Rpb246MTk1 - Si vous avez été amené à demander un remboursement de soins de santé, pouvez-vous indiquer les éléments de satisfaction et/ou les difficultés rencontrés en précisant, pour chaque point, l'administration concernée :</th>\n",
       "      <th>QUXVlc3Rpb246MTk2 - Si vous avez été amené à faire une demande d'aide pour une situation de handicap, pouvez-vous indiquer les éléments de satisfaction et/ou les difficultés rencontrés en précisant, pour chaque point, l'administration concernée :</th>\n",
       "      <th>QUXVlc3Rpb246MTk4 - Si vous avez été amené à créer une entreprise, pouvez-vous indiquer les éléments de satisfaction et/ou les difficultés rencontrés en précisant, pour chaque point, l'administration concernée :</th>\n",
       "      <th>QUXVlc3Rpb246MTk5 - Si vous avez été amené à recruter du personnel, pouvez-vous indiquer les éléments de satisfaction et/ou les difficultés rencontrés en précisant, pour chaque point, l'administration concernée :</th>\n",
       "      <th>QUXVlc3Rpb246MjAw - Si vous avez été amené à former du personnel, pouvez-vous indiquer les éléments de satisfaction et/ou les difficultés rencontrés en précisant, pour chaque point, l'administration concernée :</th>\n",
       "      <th>QUXVlc3Rpb246MjAx - Si vous avez été amené à rémunérer du personnel, pouvez-vous indiquer les éléments de satisfaction et/ou les difficultés rencontrés en précisant, pour chaque point, l'administration concernée :</th>\n",
       "      <th>QUXVlc3Rpb246MjAy - Si vous avez été amené à mettre fin à votre activité, pouvez-vous indiquer les éléments de satisfaction et/ou les difficultés rencontrés en précisant, pour chaque point, l'administration concernée :</th>\n",
       "      <th>QUXVlc3Rpb246MjAz - Si vous avez été amené à recruter une personne portant un handicap, pouvez-vous indiquer les éléments de satisfaction et/ou les difficultés rencontrés en précisant, pour chaque point, l'administration concernée :</th>\n",
       "      <th>QUXVlc3Rpb246MTg5 - Y a-t-il d'autres points sur l'organisation de l'Etat et des services publics sur lesquels vous souhaiteriez vous exprimer ?</th>\n",
       "    </tr>\n",
       "  </thead>\n",
       "  <tbody>\n",
       "    <tr>\n",
       "      <th>6096</th>\n",
       "      <td>UHJvcG9zYWw6ODBlMjFiOTMtMWYwZC0xMWU5LTk0ZDItZm...</td>\n",
       "      <td>4-6706</td>\n",
       "      <td>Ne pas privatiser les barrages français</td>\n",
       "      <td>2019-01-23 13:50:46</td>\n",
       "      <td>2019-01-23 13:50:46</td>\n",
       "      <td>NaN</td>\n",
       "      <td>False</td>\n",
       "      <td>NaN</td>\n",
       "      <td>VXNlcjoxZT, ils ne sont pas responsables jurid...</td>\n",
       "      <td>Déjà en responsabilisant un peu les fonctionna...</td>\n",
       "      <td>Moi non, mais mon frère et plusieurs amis, oui...</td>\n",
       "      <td>Non concernée</td>\n",
       "      <td>J'ai été inscrite à Pôle Emploi et franchement...</td>\n",
       "      <td>Non concernée</td>\n",
       "      <td>Pendant des années, j'ai eu des soucis récurre...</td>\n",
       "      <td>Pas de soucis particulier vis-à-vis de la MDPH...</td>\n",
       "      <td>NaN</td>\n",
       "      <td>NaN</td>\n",
       "      <td>NaN</td>\n",
       "      <td>NaN</td>\n",
       "      <td>NaN</td>\n",
       "      <td>NaN</td>\n",
       "      <td>NaN</td>\n",
       "      <td>NaN</td>\n",
       "      <td>NaN</td>\n",
       "      <td>NaN</td>\n",
       "      <td>NaN</td>\n",
       "      <td>NaN</td>\n",
       "      <td>NaN</td>\n",
       "      <td>NaN</td>\n",
       "      <td>NaN</td>\n",
       "      <td>NaN</td>\n",
       "      <td>NaN</td>\n",
       "      <td>NaN</td>\n",
       "      <td>NaN</td>\n",
       "      <td>NaN</td>\n",
       "      <td>NaN</td>\n",
       "      <td>NaN</td>\n",
       "      <td>NaN</td>\n",
       "      <td>NaN</td>\n",
       "      <td>NaN</td>\n",
       "      <td>NaN</td>\n",
       "      <td>NaN</td>\n",
       "      <td>NaN</td>\n",
       "    </tr>\n",
       "  </tbody>\n",
       "</table>\n",
       "</div>"
      ],
      "text/plain": [
       "                                                     id reference                                    title            createdAt          publishedAt updatedAt  trashed trashedStatus                                           authorId                                         authorType                                      authorZipCode QUXVlc3Rpb246MTY5 - Que pensez-vous de l'organisation de l'Etat et des administrations en France ? De quelle manière cette organisation devrait-elle évoluer ? QUXVlc3Rpb246MTcw - Selon vous, l'Etat doit-il aujourd'hui transférer de nouvelles missions aux collectivités territoriales ? QUXVlc3Rpb246MTcx - Si oui, lesquelles ? QUXVlc3Rpb246MjA0 - Estimez-vous avoir accès aux services publics dont vous avez besoin ? QUXVlc3Rpb246MTcy - Si non, quels types de services publics vous manquent dans votre territoire et qu'il est nécessaire de renforcer ?  \\\n",
       "6096  UHJvcG9zYWw6ODBlMjFiOTMtMWYwZC0xMWU5LTk0ZDItZm...    4-6706  Ne pas privatiser les barrages français  2019-01-23 13:50:46  2019-01-23 13:50:46       NaN    False           NaN  VXNlcjoxZT, ils ne sont pas responsables jurid...  Déjà en responsabilisant un peu les fonctionna...  Moi non, mais mon frère et plusieurs amis, oui...                                      Non concernée                                                                                                              J'ai été inscrite à Pôle Emploi et franchement...                                                                                                       Non concernée  Pendant des années, j'ai eu des soucis récurre...                                         Pas de soucis particulier vis-à-vis de la MDPH...                                                                                       \n",
       "\n",
       "     QUXVlc3Rpb246MTc0 - Quels nouveaux services ou quelles démarches souhaitez-vous voir développées sur Internet en priorité ? QUXVlc3Rpb246MTc1 - Avez-vous déjà utilisé certaines de ces nouvelles formes de services publics ? QUXVlc3Rpb246MTc2 - Si oui, en avez-vous été satisfait ? QUXVlc3Rpb246MTc3 - Quelles améliorations préconiseriez-vous ? QUXVlc3Rpb246MTc4 - Quand vous pensez à l'évolution des services publics au cours des dernières années, quels sont ceux qui ont évolué de manière positive ? QUXVlc3Rpb246MTc5 - Quels sont les services publics qui doivent le plus évoluer selon vous ? QUXVlc3Rpb246MTgw - Connaissez-vous le \"droit à l'erreur\", c'est-à-dire le droit d'affirmer votre bonne foi lorsque vous faites un erreur dans vos déclarations ? QUXVlc3Rpb246MTgx - Si oui, avez-vous déjà utilisé ce droit à l'erreur ? QUXVlc3Rpb246MTgy - Si oui, à quelle occasion en avez-vous fait usage ?  \\\n",
       "6096                                                NaN                                                                                                                         NaN                                                                                                NaN                                                      NaN                                                            NaN                                                                                                                                                          NaN                                                                                          NaN                                                                                                                                                               NaN                                                                      NaN                        \n",
       "\n",
       "     QUXVlc3Rpb246MTgz - Pouvez-vous identifier des règles que l'administration vous a déjà demandé d'appliquer et que vous avez jugées inutiles ou trop complexes ? QUXVlc3Rpb246MTg0 - Faut-il donner plus d'autonomie aux fonctionnaires de terrain ? QUXVlc3Rpb246MTg1 - Si oui, comment ? QUXVlc3Rpb246MTg2 - Faut-il revoir le fonctionnement et la formation de l'administration ? QUXVlc3Rpb246MTg3 - Si oui, comment ? QUXVlc3Rpb246MTg4 - Comment l'Etat et les collectivités territoriales peuvent-ils s'améliorer pour mieux répondre aux défis de nos territoires les plus en difficulté ? QUXVlc3Rpb246MTkx - Si vous avez été amené à chercher une formation, pouvez-vous indiquer les éléments de satisfaction et/ou les difficultés rencontrés en précisant, pour chaque point, l'administration concernée :  \\\n",
       "6096                                                NaN                                                                                                                                                             NaN                                                                    NaN                                                NaN                                                                           NaN                                                NaN                                                                                                                                                                     NaN                                                                                                                                                                      \n",
       "\n",
       "     QUXVlc3Rpb246MTky - Si vous avez été amené à scolariser votre enfant, pouvez-vous indiquer les éléments de satisfaction et/ou les difficultés rencontrés en précisant, pour chaque point, l'administration concernée : QUXVlc3Rpb246MTkz - Si vous avez été amené à chercher un emploi, pouvez-vous indiquer les éléments de satisfaction et/ou les difficultés rencontrés en précisant, pour chaque point, l'administration concernée : QUXVlc3Rpb246MTk0 - Si vous avez été amené à préparer votre retraite, pouvez-vous indiquer les éléments de satisfaction et/ou les difficultés rencontrés en précisant, pour chaque point, l'administration concernée : QUXVlc3Rpb246MTk1 - Si vous avez été amené à demander un remboursement de soins de santé, pouvez-vous indiquer les éléments de satisfaction et/ou les difficultés rencontrés en précisant, pour chaque point, l'administration concernée :  \\\n",
       "6096                                                NaN                                                                                                                                                                                                                    NaN                                                                                                                                                                                                               NaN                                                                                                                                                                                                                    NaN                                                                                                                                                                                           \n",
       "\n",
       "     QUXVlc3Rpb246MTk2 - Si vous avez été amené à faire une demande d'aide pour une situation de handicap, pouvez-vous indiquer les éléments de satisfaction et/ou les difficultés rencontrés en précisant, pour chaque point, l'administration concernée : QUXVlc3Rpb246MTk4 - Si vous avez été amené à créer une entreprise, pouvez-vous indiquer les éléments de satisfaction et/ou les difficultés rencontrés en précisant, pour chaque point, l'administration concernée : QUXVlc3Rpb246MTk5 - Si vous avez été amené à recruter du personnel, pouvez-vous indiquer les éléments de satisfaction et/ou les difficultés rencontrés en précisant, pour chaque point, l'administration concernée : QUXVlc3Rpb246MjAw - Si vous avez été amené à former du personnel, pouvez-vous indiquer les éléments de satisfaction et/ou les difficultés rencontrés en précisant, pour chaque point, l'administration concernée :  \\\n",
       "6096                                                NaN                                                                                                                                                                                                                                                    NaN                                                                                                                                                                                                                 NaN                                                                                                                                                                                                                  NaN                                                                                                                                                                   \n",
       "\n",
       "     QUXVlc3Rpb246MjAx - Si vous avez été amené à rémunérer du personnel, pouvez-vous indiquer les éléments de satisfaction et/ou les difficultés rencontrés en précisant, pour chaque point, l'administration concernée : QUXVlc3Rpb246MjAy - Si vous avez été amené à mettre fin à votre activité, pouvez-vous indiquer les éléments de satisfaction et/ou les difficultés rencontrés en précisant, pour chaque point, l'administration concernée : QUXVlc3Rpb246MjAz - Si vous avez été amené à recruter une personne portant un handicap, pouvez-vous indiquer les éléments de satisfaction et/ou les difficultés rencontrés en précisant, pour chaque point, l'administration concernée : QUXVlc3Rpb246MTg5 - Y a-t-il d'autres points sur l'organisation de l'Etat et des services publics sur lesquels vous souhaiteriez vous exprimer ?  \n",
       "6096                                                NaN                                                                                                                                                                                                                   NaN                                                                                                                                                                                                                        NaN                                                                                                                                                                                                                                      NaN                                                                                                "
      ]
     },
     "execution_count": 4,
     "metadata": {},
     "output_type": "execute_result"
    }
   ],
   "source": [
    "data_serv_pub[pd.to_numeric(data_serv_pub.authorZipCode, errors='coerce').isnull()]"
   ]
  },
  {
   "cell_type": "markdown",
   "metadata": {},
   "source": [
    "**On supprime cette ligne dans le ficher des contributions \"Organisation de l'état et des service publics\"**"
   ]
  },
  {
   "cell_type": "code",
   "execution_count": 5,
   "metadata": {},
   "outputs": [],
   "source": [
    "data_serv_pub.drop(6096,inplace=True)"
   ]
  },
  {
   "cell_type": "code",
   "execution_count": 8,
   "metadata": {},
   "outputs": [],
   "source": [
    "data_serv_pub=data_serv_pub.drop(['id'],axis=1)\n",
    "data_dem=data_dem.drop(['id'],axis=1)\n",
    "data_fisc=data_fisc.drop(['id'],axis=1)"
   ]
  },
  {
   "cell_type": "markdown",
   "metadata": {},
   "source": [
    "### Saving it "
   ]
  },
  {
   "cell_type": "code",
   "execution_count": 9,
   "metadata": {},
   "outputs": [],
   "source": [
    "data_ecolo.to_csv('Donnees_clean/contributions/data_ecolo.csv',index=False)\n",
    "data_serv_pub.to_csv('Donnees_clean/contributions/data_serv_pub.csv', index=False)\n",
    "data_fisc.to_csv('Donnees_clean/contributions/data_fisc.csv',index=False)\n",
    "data_dem.to_csv('Donnees_clean/contributions/data_dem.csv',index=False)"
   ]
  },
  {
   "cell_type": "markdown",
   "metadata": {
    "heading_collapsed": true
   },
   "source": [
    "## Zip code : (OK)"
   ]
  },
  {
   "cell_type": "markdown",
   "metadata": {
    "hidden": true
   },
   "source": [
    "### Reading data : "
   ]
  },
  {
   "cell_type": "code",
   "execution_count": 32,
   "metadata": {
    "hidden": true,
    "scrolled": true
   },
   "outputs": [
    {
     "data": {
      "text/html": [
       "<div>\n",
       "<style scoped>\n",
       "    .dataframe tbody tr th:only-of-type {\n",
       "        vertical-align: middle;\n",
       "    }\n",
       "\n",
       "    .dataframe tbody tr th {\n",
       "        vertical-align: top;\n",
       "    }\n",
       "\n",
       "    .dataframe thead th {\n",
       "        text-align: right;\n",
       "    }\n",
       "</style>\n",
       "<table border=\"1\" class=\"dataframe\">\n",
       "  <thead>\n",
       "    <tr style=\"text-align: right;\">\n",
       "      <th></th>\n",
       "      <th>Code_commune_INSEE</th>\n",
       "      <th>Nom_commune</th>\n",
       "      <th>Code_postal</th>\n",
       "      <th>Libelle_acheminement</th>\n",
       "      <th>Ligne_5</th>\n",
       "      <th>coordonnees_gps</th>\n",
       "    </tr>\n",
       "  </thead>\n",
       "  <tbody>\n",
       "    <tr>\n",
       "      <th>0</th>\n",
       "      <td>90093</td>\n",
       "      <td>SERMAMAGNY</td>\n",
       "      <td>90300</td>\n",
       "      <td>SERMAMAGNY</td>\n",
       "      <td>NaN</td>\n",
       "      <td>47.687801557,6.8309146345</td>\n",
       "    </tr>\n",
       "    <tr>\n",
       "      <th>1</th>\n",
       "      <td>91093</td>\n",
       "      <td>BOULLAY LES TROUX</td>\n",
       "      <td>91470</td>\n",
       "      <td>BOULLAY LES TROUX</td>\n",
       "      <td>NaN</td>\n",
       "      <td>48.6753515056,2.04828313772</td>\n",
       "    </tr>\n",
       "    <tr>\n",
       "      <th>2</th>\n",
       "      <td>91100</td>\n",
       "      <td>BOUVILLE</td>\n",
       "      <td>91880</td>\n",
       "      <td>BOUVILLE</td>\n",
       "      <td>NaN</td>\n",
       "      <td>48.4326483441,2.2783856422</td>\n",
       "    </tr>\n",
       "    <tr>\n",
       "      <th>3</th>\n",
       "      <td>91129</td>\n",
       "      <td>CERNY</td>\n",
       "      <td>91590</td>\n",
       "      <td>CERNY</td>\n",
       "      <td>NaN</td>\n",
       "      <td>48.4859798517,2.31068283872</td>\n",
       "    </tr>\n",
       "    <tr>\n",
       "      <th>4</th>\n",
       "      <td>91184</td>\n",
       "      <td>COURDIMANCHE SUR ESSONNE</td>\n",
       "      <td>91720</td>\n",
       "      <td>COURDIMANCHE SUR ESSONNE</td>\n",
       "      <td>NaN</td>\n",
       "      <td>48.418031424,2.36344067611</td>\n",
       "    </tr>\n",
       "  </tbody>\n",
       "</table>\n",
       "</div>"
      ],
      "text/plain": [
       "  Code_commune_INSEE               Nom_commune  Code_postal      Libelle_acheminement Ligne_5              coordonnees_gps\n",
       "0              90093                SERMAMAGNY        90300                SERMAMAGNY     NaN    47.687801557,6.8309146345\n",
       "1              91093         BOULLAY LES TROUX        91470         BOULLAY LES TROUX     NaN  48.6753515056,2.04828313772\n",
       "2              91100                  BOUVILLE        91880                  BOUVILLE     NaN   48.4326483441,2.2783856422\n",
       "3              91129                     CERNY        91590                     CERNY     NaN  48.4859798517,2.31068283872\n",
       "4              91184  COURDIMANCHE SUR ESSONNE        91720  COURDIMANCHE SUR ESSONNE     NaN   48.418031424,2.36344067611"
      ]
     },
     "execution_count": 32,
     "metadata": {},
     "output_type": "execute_result"
    }
   ],
   "source": [
    "Data_Zip_Code = pd.read_csv('Donnees/data_code_postal/laposte_hexasmal.csv',';')\n",
    "Data_Zip_Code.head()"
   ]
  },
  {
   "cell_type": "markdown",
   "metadata": {
    "hidden": true
   },
   "source": [
    "### Cleaning data"
   ]
  },
  {
   "cell_type": "code",
   "execution_count": 33,
   "metadata": {
    "hidden": true
   },
   "outputs": [
    {
     "data": {
      "text/plain": [
       "Code_commune_INSEE          0\n",
       "Nom_commune                 0\n",
       "Code_postal                 0\n",
       "Libelle_acheminement        0\n",
       "Ligne_5                 35944\n",
       "coordonnees_gps           269\n",
       "dtype: int64"
      ]
     },
     "execution_count": 33,
     "metadata": {},
     "output_type": "execute_result"
    }
   ],
   "source": [
    "Data_Zip_Code.isna().sum()"
   ]
  },
  {
   "cell_type": "markdown",
   "metadata": {
    "hidden": true
   },
   "source": [
    "Il y a des nans dans cette base de données à la place des coordonnées gps. "
   ]
  },
  {
   "cell_type": "markdown",
   "metadata": {
    "hidden": true
   },
   "source": [
    "On ne prend en compte que les codes postaux situés en France metropolitaine : "
   ]
  },
  {
   "cell_type": "code",
   "execution_count": 34,
   "metadata": {
    "hidden": true,
    "scrolled": true
   },
   "outputs": [],
   "source": [
    "#On ne selectionne que les codes postaux situés entre 1000 et 96000 :\n",
    "Data_Zip_Code=Data_Zip_Code.loc[Data_Zip_Code['Code_postal']>=1000]\n",
    "Data_Zip_Code=Data_Zip_Code.loc[Data_Zip_Code['Code_postal']<96000]"
   ]
  },
  {
   "cell_type": "code",
   "execution_count": 35,
   "metadata": {
    "hidden": true,
    "scrolled": true
   },
   "outputs": [
    {
     "data": {
      "text/plain": [
       "Code_commune_INSEE          0\n",
       "Nom_commune                 0\n",
       "Code_postal                 0\n",
       "Libelle_acheminement        0\n",
       "Ligne_5                 35755\n",
       "coordonnees_gps             2\n",
       "dtype: int64"
      ]
     },
     "execution_count": 35,
     "metadata": {},
     "output_type": "execute_result"
    }
   ],
   "source": [
    "Data_Zip_Code.isna().sum()"
   ]
  },
  {
   "cell_type": "markdown",
   "metadata": {
    "hidden": true
   },
   "source": [
    "On se rend compte qu'il y a beacoup moins de nans si on ne prend que les codes postaux de France metropolitaine. "
   ]
  },
  {
   "cell_type": "code",
   "execution_count": 36,
   "metadata": {
    "hidden": true
   },
   "outputs": [],
   "source": [
    "#On Organise les données en les triant selon les valeurs du code postal : \n",
    "Data_Zip_Code.sort_values(by=['Code_postal'],inplace=True)\n",
    "#On reset l'index pour avoir toujours 1,2,...n-1 : \n",
    "Data_Zip_Code.reset_index(drop=True,inplace=True)"
   ]
  },
  {
   "cell_type": "code",
   "execution_count": 38,
   "metadata": {
    "hidden": true,
    "scrolled": true
   },
   "outputs": [
    {
     "data": {
      "text/html": [
       "<div>\n",
       "<style scoped>\n",
       "    .dataframe tbody tr th:only-of-type {\n",
       "        vertical-align: middle;\n",
       "    }\n",
       "\n",
       "    .dataframe tbody tr th {\n",
       "        vertical-align: top;\n",
       "    }\n",
       "\n",
       "    .dataframe thead th {\n",
       "        text-align: right;\n",
       "    }\n",
       "</style>\n",
       "<table border=\"1\" class=\"dataframe\">\n",
       "  <thead>\n",
       "    <tr style=\"text-align: right;\">\n",
       "      <th></th>\n",
       "      <th>Code_commune_INSEE</th>\n",
       "      <th>Nom_commune</th>\n",
       "      <th>Code_postal</th>\n",
       "      <th>Libelle_acheminement</th>\n",
       "      <th>Ligne_5</th>\n",
       "      <th>coordonnees_gps</th>\n",
       "    </tr>\n",
       "  </thead>\n",
       "  <tbody>\n",
       "    <tr>\n",
       "      <th>0</th>\n",
       "      <td>01344</td>\n",
       "      <td>ST DENIS LES BOURG</td>\n",
       "      <td>1000</td>\n",
       "      <td>ST DENIS LES BOURG</td>\n",
       "      <td>NaN</td>\n",
       "      <td>46.2111998453,5.18462806771</td>\n",
       "    </tr>\n",
       "    <tr>\n",
       "      <th>1</th>\n",
       "      <td>01053</td>\n",
       "      <td>BOURG EN BRESSE</td>\n",
       "      <td>1000</td>\n",
       "      <td>BOURG EN BRESSE</td>\n",
       "      <td>NaN</td>\n",
       "      <td>46.2051520382,5.24602125501</td>\n",
       "    </tr>\n",
       "    <tr>\n",
       "      <th>2</th>\n",
       "      <td>01053</td>\n",
       "      <td>BOURG EN BRESSE</td>\n",
       "      <td>1000</td>\n",
       "      <td>BOURG EN BRESSE</td>\n",
       "      <td>BROU</td>\n",
       "      <td>46.2051520382,5.24602125501</td>\n",
       "    </tr>\n",
       "    <tr>\n",
       "      <th>3</th>\n",
       "      <td>01165</td>\n",
       "      <td>FRANCHELEINS</td>\n",
       "      <td>1090</td>\n",
       "      <td>FRANCHELEINS</td>\n",
       "      <td>NaN</td>\n",
       "      <td>46.0735946256,4.81293575559</td>\n",
       "    </tr>\n",
       "    <tr>\n",
       "      <th>4</th>\n",
       "      <td>01225</td>\n",
       "      <td>LURCY</td>\n",
       "      <td>1090</td>\n",
       "      <td>LURCY</td>\n",
       "      <td>NaN</td>\n",
       "      <td>46.061730034,4.78075207026</td>\n",
       "    </tr>\n",
       "  </tbody>\n",
       "</table>\n",
       "</div>"
      ],
      "text/plain": [
       "  Code_commune_INSEE         Nom_commune  Code_postal Libelle_acheminement Ligne_5              coordonnees_gps\n",
       "0              01344  ST DENIS LES BOURG         1000   ST DENIS LES BOURG     NaN  46.2111998453,5.18462806771\n",
       "1              01053     BOURG EN BRESSE         1000      BOURG EN BRESSE     NaN  46.2051520382,5.24602125501\n",
       "2              01053     BOURG EN BRESSE         1000      BOURG EN BRESSE    BROU  46.2051520382,5.24602125501\n",
       "3              01165        FRANCHELEINS         1090         FRANCHELEINS     NaN  46.0735946256,4.81293575559\n",
       "4              01225               LURCY         1090                LURCY     NaN   46.061730034,4.78075207026"
      ]
     },
     "execution_count": 38,
     "metadata": {},
     "output_type": "execute_result"
    }
   ],
   "source": [
    "Data_Zip_Code.head()"
   ]
  },
  {
   "cell_type": "code",
   "execution_count": 39,
   "metadata": {
    "hidden": true
   },
   "outputs": [],
   "source": [
    "#On remplace les coordonnées GPS par les coordonnées GPS précédentes dans la colonne : \n",
    "Data_Zip_Code['coordonnees_gps'].fillna(method='pad', inplace=True)"
   ]
  },
  {
   "cell_type": "code",
   "execution_count": 40,
   "metadata": {
    "hidden": true,
    "scrolled": true
   },
   "outputs": [
    {
     "data": {
      "text/plain": [
       "Code_commune_INSEE          0\n",
       "Nom_commune                 0\n",
       "Code_postal                 0\n",
       "Libelle_acheminement        0\n",
       "Ligne_5                 35755\n",
       "coordonnees_gps             0\n",
       "dtype: int64"
      ]
     },
     "execution_count": 40,
     "metadata": {},
     "output_type": "execute_result"
    }
   ],
   "source": [
    "Data_Zip_Code.isna().sum()"
   ]
  },
  {
   "cell_type": "markdown",
   "metadata": {
    "hidden": true
   },
   "source": [
    "On se fiche des ligne_5 qui continent des nans et qui correspond en fait à une sorte de lieu dit.\n",
    "\n",
    "On supprime cette colonne."
   ]
  },
  {
   "cell_type": "code",
   "execution_count": 41,
   "metadata": {
    "hidden": true
   },
   "outputs": [],
   "source": [
    "Data_Zip_Code.drop(columns='Ligne_5',inplace=True)"
   ]
  },
  {
   "cell_type": "code",
   "execution_count": 42,
   "metadata": {
    "hidden": true
   },
   "outputs": [
    {
     "data": {
      "text/html": [
       "<div>\n",
       "<style scoped>\n",
       "    .dataframe tbody tr th:only-of-type {\n",
       "        vertical-align: middle;\n",
       "    }\n",
       "\n",
       "    .dataframe tbody tr th {\n",
       "        vertical-align: top;\n",
       "    }\n",
       "\n",
       "    .dataframe thead th {\n",
       "        text-align: right;\n",
       "    }\n",
       "</style>\n",
       "<table border=\"1\" class=\"dataframe\">\n",
       "  <thead>\n",
       "    <tr style=\"text-align: right;\">\n",
       "      <th></th>\n",
       "      <th>Code_commune_INSEE</th>\n",
       "      <th>Nom_commune</th>\n",
       "      <th>Code_postal</th>\n",
       "      <th>Libelle_acheminement</th>\n",
       "      <th>coordonnees_gps</th>\n",
       "    </tr>\n",
       "  </thead>\n",
       "  <tbody>\n",
       "    <tr>\n",
       "      <th>0</th>\n",
       "      <td>01344</td>\n",
       "      <td>ST DENIS LES BOURG</td>\n",
       "      <td>1000</td>\n",
       "      <td>ST DENIS LES BOURG</td>\n",
       "      <td>46.2111998453,5.18462806771</td>\n",
       "    </tr>\n",
       "    <tr>\n",
       "      <th>1</th>\n",
       "      <td>01053</td>\n",
       "      <td>BOURG EN BRESSE</td>\n",
       "      <td>1000</td>\n",
       "      <td>BOURG EN BRESSE</td>\n",
       "      <td>46.2051520382,5.24602125501</td>\n",
       "    </tr>\n",
       "    <tr>\n",
       "      <th>2</th>\n",
       "      <td>01053</td>\n",
       "      <td>BOURG EN BRESSE</td>\n",
       "      <td>1000</td>\n",
       "      <td>BOURG EN BRESSE</td>\n",
       "      <td>46.2051520382,5.24602125501</td>\n",
       "    </tr>\n",
       "    <tr>\n",
       "      <th>3</th>\n",
       "      <td>01165</td>\n",
       "      <td>FRANCHELEINS</td>\n",
       "      <td>1090</td>\n",
       "      <td>FRANCHELEINS</td>\n",
       "      <td>46.0735946256,4.81293575559</td>\n",
       "    </tr>\n",
       "    <tr>\n",
       "      <th>4</th>\n",
       "      <td>01225</td>\n",
       "      <td>LURCY</td>\n",
       "      <td>1090</td>\n",
       "      <td>LURCY</td>\n",
       "      <td>46.061730034,4.78075207026</td>\n",
       "    </tr>\n",
       "  </tbody>\n",
       "</table>\n",
       "</div>"
      ],
      "text/plain": [
       "  Code_commune_INSEE         Nom_commune  Code_postal Libelle_acheminement              coordonnees_gps\n",
       "0              01344  ST DENIS LES BOURG         1000   ST DENIS LES BOURG  46.2111998453,5.18462806771\n",
       "1              01053     BOURG EN BRESSE         1000      BOURG EN BRESSE  46.2051520382,5.24602125501\n",
       "2              01053     BOURG EN BRESSE         1000      BOURG EN BRESSE  46.2051520382,5.24602125501\n",
       "3              01165        FRANCHELEINS         1090         FRANCHELEINS  46.0735946256,4.81293575559\n",
       "4              01225               LURCY         1090                LURCY   46.061730034,4.78075207026"
      ]
     },
     "execution_count": 42,
     "metadata": {},
     "output_type": "execute_result"
    }
   ],
   "source": [
    "Data_Zip_Code.head()"
   ]
  },
  {
   "cell_type": "code",
   "execution_count": 43,
   "metadata": {
    "hidden": true
   },
   "outputs": [
    {
     "data": {
      "text/plain": [
       "Code_commune_INSEE      0\n",
       "Nom_commune             0\n",
       "Code_postal             0\n",
       "Libelle_acheminement    0\n",
       "coordonnees_gps         0\n",
       "dtype: int64"
      ]
     },
     "execution_count": 43,
     "metadata": {},
     "output_type": "execute_result"
    }
   ],
   "source": [
    "Data_Zip_Code.isna().sum()"
   ]
  },
  {
   "cell_type": "markdown",
   "metadata": {
    "hidden": true
   },
   "source": [
    "### Saving it "
   ]
  },
  {
   "cell_type": "code",
   "execution_count": 46,
   "metadata": {
    "hidden": true
   },
   "outputs": [],
   "source": [
    "Data_Zip_Code.to_csv('Donnees_clean/data_code_postal/Data_Zip_Code.csv')"
   ]
  },
  {
   "cell_type": "markdown",
   "metadata": {},
   "source": [
    "## Elections :"
   ]
  },
  {
   "cell_type": "markdown",
   "metadata": {},
   "source": [
    "### Reading data : "
   ]
  },
  {
   "cell_type": "code",
   "execution_count": 47,
   "metadata": {},
   "outputs": [
    {
     "name": "stderr",
     "output_type": "stream",
     "text": [
      "C:\\Users\\adrie\\Anaconda3\\lib\\site-packages\\IPython\\core\\interactiveshell.py:3049: DtypeWarning: Columns (0,1) have mixed types. Specify dtype option on import or set low_memory=False.\n",
      "  interactivity=interactivity, compiler=compiler, result=result)\n"
     ]
    }
   ],
   "source": [
    "elections_pres=pd.read_csv('Donnees/presidentielles/Presidentielle_2017_Resultats_Communes_T1_clean_def.csv',error_bad_lines=False)"
   ]
  },
  {
   "cell_type": "code",
   "execution_count": 49,
   "metadata": {},
   "outputs": [
    {
     "data": {
      "text/html": [
       "<div>\n",
       "<style scoped>\n",
       "    .dataframe tbody tr th:only-of-type {\n",
       "        vertical-align: middle;\n",
       "    }\n",
       "\n",
       "    .dataframe tbody tr th {\n",
       "        vertical-align: top;\n",
       "    }\n",
       "\n",
       "    .dataframe thead th {\n",
       "        text-align: right;\n",
       "    }\n",
       "</style>\n",
       "<table border=\"1\" class=\"dataframe\">\n",
       "  <thead>\n",
       "    <tr style=\"text-align: right;\">\n",
       "      <th></th>\n",
       "      <th>CodeInsee</th>\n",
       "      <th>CodeDepartement</th>\n",
       "      <th>Département</th>\n",
       "      <th>Commune</th>\n",
       "      <th>Inscrits</th>\n",
       "      <th>Abstentions</th>\n",
       "      <th>Abstentions_ins</th>\n",
       "      <th>Votants</th>\n",
       "      <th>Votants_ins</th>\n",
       "      <th>Blancs</th>\n",
       "      <th>Blancs_ins</th>\n",
       "      <th>Blancs_vot</th>\n",
       "      <th>Nuls</th>\n",
       "      <th>Nuls_ins</th>\n",
       "      <th>Nuls_vot</th>\n",
       "      <th>Exprimés</th>\n",
       "      <th>Exprimés_ins</th>\n",
       "      <th>Exprimés_vot</th>\n",
       "      <th>LE PEN</th>\n",
       "      <th>MÉLENCHON</th>\n",
       "      <th>MACRON</th>\n",
       "      <th>FILLON</th>\n",
       "      <th>DUPONT-AIGNAN</th>\n",
       "      <th>LASSALLE</th>\n",
       "      <th>HAMON</th>\n",
       "      <th>...</th>\n",
       "      <th>POUTOU</th>\n",
       "      <th>ARTHAUD</th>\n",
       "      <th>CHEMINADE</th>\n",
       "      <th>LE PEN.ins</th>\n",
       "      <th>MÉLENCHON.ins</th>\n",
       "      <th>MACRON.ins</th>\n",
       "      <th>FILLON.ins</th>\n",
       "      <th>DUPONT-AIGNAN.ins</th>\n",
       "      <th>LASSALLE.ins</th>\n",
       "      <th>HAMON.ins</th>\n",
       "      <th>ASSELINEAU.ins</th>\n",
       "      <th>POUTOU.ins</th>\n",
       "      <th>ARTHAUD.ins</th>\n",
       "      <th>CHEMINADE.ins</th>\n",
       "      <th>LE PEN.exp</th>\n",
       "      <th>MÉLENCHON.exp</th>\n",
       "      <th>MACRON.exp</th>\n",
       "      <th>FILLON.exp</th>\n",
       "      <th>DUPONT-AIGNAN.exp</th>\n",
       "      <th>LASSALLE.exp</th>\n",
       "      <th>HAMON.exp</th>\n",
       "      <th>ASSELINEAU.exp</th>\n",
       "      <th>POUTOU.exp</th>\n",
       "      <th>ARTHAUD.exp</th>\n",
       "      <th>CHEMINADE.exp</th>\n",
       "    </tr>\n",
       "  </thead>\n",
       "  <tbody>\n",
       "    <tr>\n",
       "      <th>0</th>\n",
       "      <td>01001</td>\n",
       "      <td>01</td>\n",
       "      <td>Ain</td>\n",
       "      <td>L'Abergement-Clémenciat</td>\n",
       "      <td>598</td>\n",
       "      <td>92</td>\n",
       "      <td>15.384615</td>\n",
       "      <td>506</td>\n",
       "      <td>84.615385</td>\n",
       "      <td>2</td>\n",
       "      <td>0.334448</td>\n",
       "      <td>0.395257</td>\n",
       "      <td>9</td>\n",
       "      <td>1.505017</td>\n",
       "      <td>1.778656</td>\n",
       "      <td>495</td>\n",
       "      <td>82.775920</td>\n",
       "      <td>97.826087</td>\n",
       "      <td>126</td>\n",
       "      <td>59</td>\n",
       "      <td>119</td>\n",
       "      <td>110</td>\n",
       "      <td>34</td>\n",
       "      <td>2</td>\n",
       "      <td>29</td>\n",
       "      <td>...</td>\n",
       "      <td>4</td>\n",
       "      <td>4</td>\n",
       "      <td>2</td>\n",
       "      <td>21.070234</td>\n",
       "      <td>9.866221</td>\n",
       "      <td>19.899666</td>\n",
       "      <td>18.394649</td>\n",
       "      <td>5.685619</td>\n",
       "      <td>0.334448</td>\n",
       "      <td>4.849498</td>\n",
       "      <td>1.003344</td>\n",
       "      <td>0.668896</td>\n",
       "      <td>0.668896</td>\n",
       "      <td>0.334448</td>\n",
       "      <td>25.454545</td>\n",
       "      <td>11.919192</td>\n",
       "      <td>24.040404</td>\n",
       "      <td>22.222222</td>\n",
       "      <td>6.868687</td>\n",
       "      <td>0.404040</td>\n",
       "      <td>5.858586</td>\n",
       "      <td>1.212121</td>\n",
       "      <td>0.808081</td>\n",
       "      <td>0.808081</td>\n",
       "      <td>0.404040</td>\n",
       "    </tr>\n",
       "    <tr>\n",
       "      <th>1</th>\n",
       "      <td>01002</td>\n",
       "      <td>01</td>\n",
       "      <td>Ain</td>\n",
       "      <td>L'Abergement-de-Varey</td>\n",
       "      <td>209</td>\n",
       "      <td>25</td>\n",
       "      <td>11.961722</td>\n",
       "      <td>184</td>\n",
       "      <td>88.038278</td>\n",
       "      <td>6</td>\n",
       "      <td>2.870813</td>\n",
       "      <td>3.260870</td>\n",
       "      <td>2</td>\n",
       "      <td>0.956938</td>\n",
       "      <td>1.086957</td>\n",
       "      <td>176</td>\n",
       "      <td>84.210526</td>\n",
       "      <td>95.652174</td>\n",
       "      <td>48</td>\n",
       "      <td>33</td>\n",
       "      <td>37</td>\n",
       "      <td>34</td>\n",
       "      <td>6</td>\n",
       "      <td>0</td>\n",
       "      <td>13</td>\n",
       "      <td>...</td>\n",
       "      <td>2</td>\n",
       "      <td>2</td>\n",
       "      <td>0</td>\n",
       "      <td>22.966507</td>\n",
       "      <td>15.789474</td>\n",
       "      <td>17.703349</td>\n",
       "      <td>16.267943</td>\n",
       "      <td>2.870813</td>\n",
       "      <td>0.000000</td>\n",
       "      <td>6.220096</td>\n",
       "      <td>0.478469</td>\n",
       "      <td>0.956938</td>\n",
       "      <td>0.956938</td>\n",
       "      <td>0.000000</td>\n",
       "      <td>27.272727</td>\n",
       "      <td>18.750000</td>\n",
       "      <td>21.022727</td>\n",
       "      <td>19.318182</td>\n",
       "      <td>3.409091</td>\n",
       "      <td>0.000000</td>\n",
       "      <td>7.386364</td>\n",
       "      <td>0.568182</td>\n",
       "      <td>1.136364</td>\n",
       "      <td>1.136364</td>\n",
       "      <td>0.000000</td>\n",
       "    </tr>\n",
       "    <tr>\n",
       "      <th>2</th>\n",
       "      <td>01004</td>\n",
       "      <td>01</td>\n",
       "      <td>Ain</td>\n",
       "      <td>Ambérieu-en-Bugey</td>\n",
       "      <td>8586</td>\n",
       "      <td>1962</td>\n",
       "      <td>22.851153</td>\n",
       "      <td>6624</td>\n",
       "      <td>77.148847</td>\n",
       "      <td>114</td>\n",
       "      <td>1.327743</td>\n",
       "      <td>1.721014</td>\n",
       "      <td>58</td>\n",
       "      <td>0.675518</td>\n",
       "      <td>0.875604</td>\n",
       "      <td>6452</td>\n",
       "      <td>75.145586</td>\n",
       "      <td>97.403382</td>\n",
       "      <td>1667</td>\n",
       "      <td>1412</td>\n",
       "      <td>1332</td>\n",
       "      <td>1084</td>\n",
       "      <td>346</td>\n",
       "      <td>60</td>\n",
       "      <td>344</td>\n",
       "      <td>...</td>\n",
       "      <td>91</td>\n",
       "      <td>40</td>\n",
       "      <td>5</td>\n",
       "      <td>19.415327</td>\n",
       "      <td>16.445376</td>\n",
       "      <td>15.513627</td>\n",
       "      <td>12.625204</td>\n",
       "      <td>4.029816</td>\n",
       "      <td>0.698812</td>\n",
       "      <td>4.006522</td>\n",
       "      <td>0.826928</td>\n",
       "      <td>1.059865</td>\n",
       "      <td>0.465875</td>\n",
       "      <td>0.058234</td>\n",
       "      <td>25.836950</td>\n",
       "      <td>21.884687</td>\n",
       "      <td>20.644761</td>\n",
       "      <td>16.800992</td>\n",
       "      <td>5.362678</td>\n",
       "      <td>0.929944</td>\n",
       "      <td>5.331680</td>\n",
       "      <td>1.100434</td>\n",
       "      <td>1.410415</td>\n",
       "      <td>0.619963</td>\n",
       "      <td>0.077495</td>\n",
       "    </tr>\n",
       "    <tr>\n",
       "      <th>3</th>\n",
       "      <td>01005</td>\n",
       "      <td>01</td>\n",
       "      <td>Ain</td>\n",
       "      <td>Ambérieux-en-Dombes</td>\n",
       "      <td>1172</td>\n",
       "      <td>215</td>\n",
       "      <td>18.344710</td>\n",
       "      <td>957</td>\n",
       "      <td>81.655290</td>\n",
       "      <td>21</td>\n",
       "      <td>1.791809</td>\n",
       "      <td>2.194357</td>\n",
       "      <td>3</td>\n",
       "      <td>0.255973</td>\n",
       "      <td>0.313480</td>\n",
       "      <td>933</td>\n",
       "      <td>79.607509</td>\n",
       "      <td>97.492163</td>\n",
       "      <td>306</td>\n",
       "      <td>126</td>\n",
       "      <td>191</td>\n",
       "      <td>197</td>\n",
       "      <td>45</td>\n",
       "      <td>6</td>\n",
       "      <td>37</td>\n",
       "      <td>...</td>\n",
       "      <td>10</td>\n",
       "      <td>5</td>\n",
       "      <td>0</td>\n",
       "      <td>26.109215</td>\n",
       "      <td>10.750853</td>\n",
       "      <td>16.296928</td>\n",
       "      <td>16.808874</td>\n",
       "      <td>3.839590</td>\n",
       "      <td>0.511945</td>\n",
       "      <td>3.156997</td>\n",
       "      <td>0.853242</td>\n",
       "      <td>0.853242</td>\n",
       "      <td>0.426621</td>\n",
       "      <td>0.000000</td>\n",
       "      <td>32.797428</td>\n",
       "      <td>13.504823</td>\n",
       "      <td>20.471597</td>\n",
       "      <td>21.114684</td>\n",
       "      <td>4.823151</td>\n",
       "      <td>0.643087</td>\n",
       "      <td>3.965702</td>\n",
       "      <td>1.071811</td>\n",
       "      <td>1.071811</td>\n",
       "      <td>0.535906</td>\n",
       "      <td>0.000000</td>\n",
       "    </tr>\n",
       "    <tr>\n",
       "      <th>4</th>\n",
       "      <td>01006</td>\n",
       "      <td>01</td>\n",
       "      <td>Ain</td>\n",
       "      <td>Ambléon</td>\n",
       "      <td>99</td>\n",
       "      <td>20</td>\n",
       "      <td>20.202020</td>\n",
       "      <td>79</td>\n",
       "      <td>79.797980</td>\n",
       "      <td>2</td>\n",
       "      <td>2.020202</td>\n",
       "      <td>2.531646</td>\n",
       "      <td>0</td>\n",
       "      <td>0.000000</td>\n",
       "      <td>0.000000</td>\n",
       "      <td>77</td>\n",
       "      <td>77.777778</td>\n",
       "      <td>97.468354</td>\n",
       "      <td>18</td>\n",
       "      <td>19</td>\n",
       "      <td>15</td>\n",
       "      <td>14</td>\n",
       "      <td>4</td>\n",
       "      <td>1</td>\n",
       "      <td>3</td>\n",
       "      <td>...</td>\n",
       "      <td>2</td>\n",
       "      <td>1</td>\n",
       "      <td>0</td>\n",
       "      <td>18.181818</td>\n",
       "      <td>19.191919</td>\n",
       "      <td>15.151515</td>\n",
       "      <td>14.141414</td>\n",
       "      <td>4.040404</td>\n",
       "      <td>1.010101</td>\n",
       "      <td>3.030303</td>\n",
       "      <td>0.000000</td>\n",
       "      <td>2.020202</td>\n",
       "      <td>1.010101</td>\n",
       "      <td>0.000000</td>\n",
       "      <td>23.376623</td>\n",
       "      <td>24.675325</td>\n",
       "      <td>19.480519</td>\n",
       "      <td>18.181818</td>\n",
       "      <td>5.194805</td>\n",
       "      <td>1.298701</td>\n",
       "      <td>3.896104</td>\n",
       "      <td>0.000000</td>\n",
       "      <td>2.597403</td>\n",
       "      <td>1.298701</td>\n",
       "      <td>0.000000</td>\n",
       "    </tr>\n",
       "  </tbody>\n",
       "</table>\n",
       "<p>5 rows × 51 columns</p>\n",
       "</div>"
      ],
      "text/plain": [
       "  CodeInsee CodeDepartement Département                  Commune  Inscrits  Abstentions  Abstentions_ins  Votants  Votants_ins  Blancs  Blancs_ins  Blancs_vot  Nuls  Nuls_ins  Nuls_vot  Exprimés  Exprimés_ins  Exprimés_vot  LE PEN  MÉLENCHON  MACRON  FILLON  DUPONT-AIGNAN  LASSALLE  HAMON  ...  POUTOU  ARTHAUD  CHEMINADE  LE PEN.ins  MÉLENCHON.ins  MACRON.ins  FILLON.ins  DUPONT-AIGNAN.ins  LASSALLE.ins  HAMON.ins  ASSELINEAU.ins  POUTOU.ins  ARTHAUD.ins  CHEMINADE.ins  LE PEN.exp  MÉLENCHON.exp  MACRON.exp  FILLON.exp  DUPONT-AIGNAN.exp  LASSALLE.exp  HAMON.exp  ASSELINEAU.exp  POUTOU.exp  ARTHAUD.exp  CHEMINADE.exp\n",
       "0     01001              01         Ain  L'Abergement-Clémenciat       598           92        15.384615      506    84.615385       2    0.334448    0.395257     9  1.505017  1.778656       495     82.775920     97.826087     126         59     119     110             34         2     29  ...       4        4          2   21.070234       9.866221   19.899666   18.394649           5.685619      0.334448   4.849498        1.003344    0.668896     0.668896       0.334448   25.454545      11.919192   24.040404   22.222222           6.868687      0.404040   5.858586        1.212121    0.808081     0.808081       0.404040\n",
       "1     01002              01         Ain    L'Abergement-de-Varey       209           25        11.961722      184    88.038278       6    2.870813    3.260870     2  0.956938  1.086957       176     84.210526     95.652174      48         33      37      34              6         0     13  ...       2        2          0   22.966507      15.789474   17.703349   16.267943           2.870813      0.000000   6.220096        0.478469    0.956938     0.956938       0.000000   27.272727      18.750000   21.022727   19.318182           3.409091      0.000000   7.386364        0.568182    1.136364     1.136364       0.000000\n",
       "2     01004              01         Ain        Ambérieu-en-Bugey      8586         1962        22.851153     6624    77.148847     114    1.327743    1.721014    58  0.675518  0.875604      6452     75.145586     97.403382    1667       1412    1332    1084            346        60    344  ...      91       40          5   19.415327      16.445376   15.513627   12.625204           4.029816      0.698812   4.006522        0.826928    1.059865     0.465875       0.058234   25.836950      21.884687   20.644761   16.800992           5.362678      0.929944   5.331680        1.100434    1.410415     0.619963       0.077495\n",
       "3     01005              01         Ain      Ambérieux-en-Dombes      1172          215        18.344710      957    81.655290      21    1.791809    2.194357     3  0.255973  0.313480       933     79.607509     97.492163     306        126     191     197             45         6     37  ...      10        5          0   26.109215      10.750853   16.296928   16.808874           3.839590      0.511945   3.156997        0.853242    0.853242     0.426621       0.000000   32.797428      13.504823   20.471597   21.114684           4.823151      0.643087   3.965702        1.071811    1.071811     0.535906       0.000000\n",
       "4     01006              01         Ain                  Ambléon        99           20        20.202020       79    79.797980       2    2.020202    2.531646     0  0.000000  0.000000        77     77.777778     97.468354      18         19      15      14              4         1      3  ...       2        1          0   18.181818      19.191919   15.151515   14.141414           4.040404      1.010101   3.030303        0.000000    2.020202     1.010101       0.000000   23.376623      24.675325   19.480519   18.181818           5.194805      1.298701   3.896104        0.000000    2.597403     1.298701       0.000000\n",
       "\n",
       "[5 rows x 51 columns]"
      ]
     },
     "execution_count": 49,
     "metadata": {},
     "output_type": "execute_result"
    }
   ],
   "source": [
    "elections_pres.head()"
   ]
  },
  {
   "cell_type": "code",
   "execution_count": 54,
   "metadata": {},
   "outputs": [
    {
     "data": {
      "text/plain": [
       "CodeInsee            0\n",
       "CodeDepartement      0\n",
       "Département          0\n",
       "Commune              0\n",
       "Inscrits             0\n",
       "Abstentions          0\n",
       "Abstentions_ins      1\n",
       "Votants              0\n",
       "Votants_ins          1\n",
       "Blancs               0\n",
       "Blancs_ins           1\n",
       "Blancs_vot           2\n",
       "Nuls                 0\n",
       "Nuls_ins             1\n",
       "Nuls_vot             2\n",
       "Exprimés             0\n",
       "Exprimés_ins         1\n",
       "Exprimés_vot         2\n",
       "LE PEN               0\n",
       "MÉLENCHON            0\n",
       "MACRON               0\n",
       "FILLON               0\n",
       "DUPONT-AIGNAN        0\n",
       "LASSALLE             0\n",
       "HAMON                0\n",
       "ASSELINEAU           0\n",
       "POUTOU               0\n",
       "ARTHAUD              0\n",
       "CHEMINADE            0\n",
       "LE PEN.ins           1\n",
       "MÉLENCHON.ins        1\n",
       "MACRON.ins           1\n",
       "FILLON.ins           1\n",
       "DUPONT-AIGNAN.ins    1\n",
       "LASSALLE.ins         1\n",
       "HAMON.ins            1\n",
       "ASSELINEAU.ins       1\n",
       "POUTOU.ins           1\n",
       "ARTHAUD.ins          1\n",
       "CHEMINADE.ins        1\n",
       "LE PEN.exp           8\n",
       "MÉLENCHON.exp        8\n",
       "MACRON.exp           8\n",
       "FILLON.exp           8\n",
       "DUPONT-AIGNAN.exp    8\n",
       "LASSALLE.exp         8\n",
       "HAMON.exp            8\n",
       "ASSELINEAU.exp       8\n",
       "POUTOU.exp           8\n",
       "ARTHAUD.exp          8\n",
       "CHEMINADE.exp        8\n",
       "dtype: int64"
      ]
     },
     "execution_count": 54,
     "metadata": {},
     "output_type": "execute_result"
    }
   ],
   "source": [
    "elections_pres.isna().sum()"
   ]
  },
  {
   "cell_type": "markdown",
   "metadata": {},
   "source": [
    "Il y a peu de nans."
   ]
  },
  {
   "cell_type": "markdown",
   "metadata": {
    "heading_collapsed": true
   },
   "source": [
    "###  Cleaning it :"
   ]
  },
  {
   "cell_type": "markdown",
   "metadata": {
    "heading_collapsed": true
   },
   "source": [
    "### Saving it "
   ]
  },
  {
   "cell_type": "markdown",
   "metadata": {},
   "source": [
    "## twitter and #Elysée2017fr dataset :"
   ]
  },
  {
   "cell_type": "markdown",
   "metadata": {},
   "source": [
    "### Reading data : "
   ]
  },
  {
   "cell_type": "markdown",
   "metadata": {},
   "source": [
    "Les fichiers sont en .tab donc il faut ajuster les paramètres de `pd.read_csv` :"
   ]
  },
  {
   "cell_type": "code",
   "execution_count": 2,
   "metadata": {},
   "outputs": [],
   "source": [
    "dfprofiles=pd.read_csv('Donnees/data_elysee2017_tweets/profiles_annotations.tab', sep='\\t')"
   ]
  },
  {
   "cell_type": "code",
   "execution_count": 3,
   "metadata": {
    "scrolled": false
   },
   "outputs": [
    {
     "data": {
      "text/html": [
       "<div>\n",
       "<style scoped>\n",
       "    .dataframe tbody tr th:only-of-type {\n",
       "        vertical-align: middle;\n",
       "    }\n",
       "\n",
       "    .dataframe tbody tr th {\n",
       "        vertical-align: top;\n",
       "    }\n",
       "\n",
       "    .dataframe thead th {\n",
       "        text-align: right;\n",
       "    }\n",
       "</style>\n",
       "<table border=\"1\" class=\"dataframe\">\n",
       "  <thead>\n",
       "    <tr style=\"text-align: right;\">\n",
       "      <th></th>\n",
       "      <th>FROM_USER_ID</th>\n",
       "      <th>PROFILE_NATURE</th>\n",
       "      <th>PARTY</th>\n",
       "      <th>MEDIA_PROFESSIONAL</th>\n",
       "      <th>SEX</th>\n",
       "    </tr>\n",
       "  </thead>\n",
       "  <tbody>\n",
       "    <tr>\n",
       "      <th>0</th>\n",
       "      <td>1264925822</td>\n",
       "      <td>individual</td>\n",
       "      <td>fi</td>\n",
       "      <td>NaN</td>\n",
       "      <td>f</td>\n",
       "    </tr>\n",
       "    <tr>\n",
       "      <th>1</th>\n",
       "      <td>1265204928</td>\n",
       "      <td>individual</td>\n",
       "      <td>fi</td>\n",
       "      <td>NaN</td>\n",
       "      <td>f</td>\n",
       "    </tr>\n",
       "    <tr>\n",
       "      <th>2</th>\n",
       "      <td>1265310602</td>\n",
       "      <td>individual</td>\n",
       "      <td>fi</td>\n",
       "      <td>NaN</td>\n",
       "      <td>m</td>\n",
       "    </tr>\n",
       "    <tr>\n",
       "      <th>3</th>\n",
       "      <td>1265661672</td>\n",
       "      <td>individual</td>\n",
       "      <td>fi</td>\n",
       "      <td>NaN</td>\n",
       "      <td>m</td>\n",
       "    </tr>\n",
       "    <tr>\n",
       "      <th>4</th>\n",
       "      <td>1267543572</td>\n",
       "      <td>individual</td>\n",
       "      <td>fi</td>\n",
       "      <td>NaN</td>\n",
       "      <td>m</td>\n",
       "    </tr>\n",
       "  </tbody>\n",
       "</table>\n",
       "</div>"
      ],
      "text/plain": [
       "   FROM_USER_ID PROFILE_NATURE PARTY  MEDIA_PROFESSIONAL SEX\n",
       "0    1264925822     individual    fi                 NaN   f\n",
       "1    1265204928     individual    fi                 NaN   f\n",
       "2    1265310602     individual    fi                 NaN   m\n",
       "3    1265661672     individual    fi                 NaN   m\n",
       "4    1267543572     individual    fi                 NaN   m"
      ]
     },
     "execution_count": 3,
     "metadata": {},
     "output_type": "execute_result"
    }
   ],
   "source": [
    "dfprofiles.head()"
   ]
  },
  {
   "cell_type": "markdown",
   "metadata": {},
   "source": [
    "###  Cleaning it :"
   ]
  },
  {
   "cell_type": "markdown",
   "metadata": {},
   "source": [
    "#### Données sur le parti politique : "
   ]
  },
  {
   "cell_type": "code",
   "execution_count": 4,
   "metadata": {},
   "outputs": [
    {
     "data": {
      "text/plain": [
       "3401"
      ]
     },
     "execution_count": 4,
     "metadata": {},
     "output_type": "execute_result"
    }
   ],
   "source": [
    "dfprofiles['PARTY'].isna().sum()"
   ]
  },
  {
   "cell_type": "markdown",
   "metadata": {},
   "source": [
    "Il n'y a que 3401 nans pour le parti politique sur les 22853 profils disponibles. \n",
    "\n",
    "Etant donné qu'il serait très compliqué de les estimer (sauf à la main) donc on peut les supprimer. "
   ]
  },
  {
   "cell_type": "code",
   "execution_count": 5,
   "metadata": {},
   "outputs": [],
   "source": [
    "dfprofiles.dropna(0,subset=['PARTY'],inplace=True)"
   ]
  },
  {
   "cell_type": "markdown",
   "metadata": {},
   "source": [
    "#### Autres données : "
   ]
  },
  {
   "cell_type": "code",
   "execution_count": 6,
   "metadata": {},
   "outputs": [
    {
     "data": {
      "text/plain": [
       "array([nan,  1.])"
      ]
     },
     "execution_count": 6,
     "metadata": {},
     "output_type": "execute_result"
    }
   ],
   "source": [
    "dfprofiles.MEDIA_PROFESSIONAL.unique()"
   ]
  },
  {
   "cell_type": "markdown",
   "metadata": {},
   "source": [
    "On remplace les nan dans `MEDIA_PROFESSIONAL` par 0 \n",
    "- S'il s'agit d'un media professionel : 1\n",
    "- S'il s'agit d'un individu : 0"
   ]
  },
  {
   "cell_type": "code",
   "execution_count": 7,
   "metadata": {},
   "outputs": [],
   "source": [
    "dfprofiles['MEDIA_PROFESSIONAL'].fillna(0,inplace=True)"
   ]
  },
  {
   "cell_type": "code",
   "execution_count": 8,
   "metadata": {},
   "outputs": [
    {
     "name": "stdout",
     "output_type": "stream",
     "text": [
      "nombre de medias dans le base :  46\n",
      "nombre d'individus  dans le base :  19406\n"
     ]
    }
   ],
   "source": [
    "print('nombre de medias dans le base : ', dfprofiles[dfprofiles['MEDIA_PROFESSIONAL']==1].shape[0])\n",
    "print(\"nombre d'individus\",\" dans le base : \", dfprofiles[dfprofiles['MEDIA_PROFESSIONAL']==0].shape[0])"
   ]
  },
  {
   "cell_type": "markdown",
   "metadata": {},
   "source": [
    "**Il y a beaucoup plus d'invidus que de media, ce qui est rassurant compte tenu de l'utilisation que l'on veut faire**"
   ]
  },
  {
   "cell_type": "code",
   "execution_count": 9,
   "metadata": {},
   "outputs": [
    {
     "data": {
      "text/plain": [
       "FROM_USER_ID             0\n",
       "PROFILE_NATURE           0\n",
       "PARTY                    0\n",
       "MEDIA_PROFESSIONAL       0\n",
       "SEX                   5338\n",
       "dtype: int64"
      ]
     },
     "execution_count": 9,
     "metadata": {},
     "output_type": "execute_result"
    }
   ],
   "source": [
    "dfprofiles.isna().sum()"
   ]
  },
  {
   "cell_type": "markdown",
   "metadata": {},
   "source": [
    "Il reste 5338 nans dans les données. \n",
    "**On ne s'en occupe pas pour l'instant**"
   ]
  },
  {
   "cell_type": "markdown",
   "metadata": {},
   "source": [
    "#### Nombre d'utilisateurs uniques  : "
   ]
  },
  {
   "cell_type": "code",
   "execution_count": 10,
   "metadata": {},
   "outputs": [
    {
     "data": {
      "text/plain": [
       "19452"
      ]
     },
     "execution_count": 10,
     "metadata": {},
     "output_type": "execute_result"
    }
   ],
   "source": [
    "dfprofiles['FROM_USER_ID'].nunique()"
   ]
  },
  {
   "cell_type": "markdown",
   "metadata": {},
   "source": [
    "### Saving it "
   ]
  },
  {
   "cell_type": "code",
   "execution_count": 13,
   "metadata": {},
   "outputs": [],
   "source": [
    "dfprofiles.to_csv('Donnees_clean/twitter/utilisateurs/profiles_annotations.csv',index=False)"
   ]
  }
 ],
 "metadata": {
  "kernelspec": {
   "display_name": "Python 3",
   "language": "python",
   "name": "python3"
  },
  "language_info": {
   "codemirror_mode": {
    "name": "ipython",
    "version": 3
   },
   "file_extension": ".py",
   "mimetype": "text/x-python",
   "name": "python",
   "nbconvert_exporter": "python",
   "pygments_lexer": "ipython3",
   "version": "3.7.4"
  },
  "toc": {
   "base_numbering": 1,
   "nav_menu": {},
   "number_sections": true,
   "sideBar": true,
   "skip_h1_title": true,
   "title_cell": "Table of Contents",
   "title_sidebar": "Contents",
   "toc_cell": false,
   "toc_position": {},
   "toc_section_display": true,
   "toc_window_display": true
  }
 },
 "nbformat": 4,
 "nbformat_minor": 2
}
