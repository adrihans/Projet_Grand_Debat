{
 "cells": [
  {
   "cell_type": "markdown",
   "metadata": {},
   "source": [
    "# Concatenations :\n",
    "\n",
    "Ce Notebook a pour vocation de concaténer toutes les bases de données utilisées pour former des bases de données qui seront directement utilisables (sans répéter des calculs et sans exécuter du code lourd à chaque utilisation de façon répétée)."
   ]
  },
  {
   "cell_type": "markdown",
   "metadata": {},
   "source": [
    "**Imports des librairies nécessaires:**"
   ]
  },
  {
   "cell_type": "code",
   "execution_count": 3,
   "metadata": {},
   "outputs": [],
   "source": [
    "import os\n",
    "import pandas as pd\n",
    "import numpy as np\n",
    "import re\n",
    "import unidecode\n",
    "import spacy.lang.fr\n",
    "import seaborn as sns"
   ]
  },
  {
   "cell_type": "markdown",
   "metadata": {},
   "source": [
    "## Imports des bases de données cleanées initiales : "
   ]
  },
  {
   "cell_type": "markdown",
   "metadata": {},
   "source": [
    "Les bases de données ici importées sont des bases de données déjà cleanées dans  le notebook `Cleaning`"
   ]
  },
  {
   "cell_type": "code",
   "execution_count": 4,
   "metadata": {},
   "outputs": [
    {
     "name": "stderr",
     "output_type": "stream",
     "text": [
      "C:\\Users\\adrie\\Anaconda3\\lib\\site-packages\\IPython\\core\\interactiveshell.py:3049: DtypeWarning: Columns (6) have mixed types. Specify dtype option on import or set low_memory=False.\n",
      "  interactivity=interactivity, compiler=compiler, result=result)\n"
     ]
    }
   ],
   "source": [
    "#Code postal : \n",
    "Data_Zip_Code=pd.read_csv('Donnees_clean/data_code_postal/Data_Zip_Code.csv')\n",
    "#Contributions :\n",
    "data_ecolo=pd.read_csv('Donnees_clean/contributions/data_ecolo.csv')\n",
    "data_serv_pub =pd.read_csv('Donnees_clean/contributions/data_serv_pub.csv')\n",
    "data_fisc= pd.read_csv('Donnees_clean/contributions/data_fisc.csv')\n",
    "data_dem=pd.read_csv('Donnees_clean/contributions/data_dem.csv')"
   ]
  },
  {
   "cell_type": "markdown",
   "metadata": {},
   "source": [
    "#### Vérifications des données : "
   ]
  },
  {
   "cell_type": "code",
   "execution_count": 5,
   "metadata": {},
   "outputs": [
    {
     "data": {
      "text/html": [
       "<div>\n",
       "<style scoped>\n",
       "    .dataframe tbody tr th:only-of-type {\n",
       "        vertical-align: middle;\n",
       "    }\n",
       "\n",
       "    .dataframe tbody tr th {\n",
       "        vertical-align: top;\n",
       "    }\n",
       "\n",
       "    .dataframe thead th {\n",
       "        text-align: right;\n",
       "    }\n",
       "</style>\n",
       "<table border=\"1\" class=\"dataframe\">\n",
       "  <thead>\n",
       "    <tr style=\"text-align: right;\">\n",
       "      <th></th>\n",
       "      <th>Unnamed: 0</th>\n",
       "      <th>Code_commune_INSEE</th>\n",
       "      <th>Nom_commune</th>\n",
       "      <th>Code_postal</th>\n",
       "      <th>Libelle_acheminement</th>\n",
       "      <th>coordonnees_gps</th>\n",
       "    </tr>\n",
       "  </thead>\n",
       "  <tbody>\n",
       "    <tr>\n",
       "      <th>0</th>\n",
       "      <td>0</td>\n",
       "      <td>01344</td>\n",
       "      <td>ST DENIS LES BOURG</td>\n",
       "      <td>1000</td>\n",
       "      <td>ST DENIS LES BOURG</td>\n",
       "      <td>46.2111998453,5.18462806771</td>\n",
       "    </tr>\n",
       "    <tr>\n",
       "      <th>1</th>\n",
       "      <td>1</td>\n",
       "      <td>01053</td>\n",
       "      <td>BOURG EN BRESSE</td>\n",
       "      <td>1000</td>\n",
       "      <td>BOURG EN BRESSE</td>\n",
       "      <td>46.2051520382,5.24602125501</td>\n",
       "    </tr>\n",
       "    <tr>\n",
       "      <th>2</th>\n",
       "      <td>2</td>\n",
       "      <td>01053</td>\n",
       "      <td>BOURG EN BRESSE</td>\n",
       "      <td>1000</td>\n",
       "      <td>BOURG EN BRESSE</td>\n",
       "      <td>46.2051520382,5.24602125501</td>\n",
       "    </tr>\n",
       "    <tr>\n",
       "      <th>3</th>\n",
       "      <td>3</td>\n",
       "      <td>01165</td>\n",
       "      <td>FRANCHELEINS</td>\n",
       "      <td>1090</td>\n",
       "      <td>FRANCHELEINS</td>\n",
       "      <td>46.0735946256,4.81293575559</td>\n",
       "    </tr>\n",
       "    <tr>\n",
       "      <th>4</th>\n",
       "      <td>4</td>\n",
       "      <td>01225</td>\n",
       "      <td>LURCY</td>\n",
       "      <td>1090</td>\n",
       "      <td>LURCY</td>\n",
       "      <td>46.061730034,4.78075207026</td>\n",
       "    </tr>\n",
       "  </tbody>\n",
       "</table>\n",
       "</div>"
      ],
      "text/plain": [
       "   Unnamed: 0 Code_commune_INSEE         Nom_commune  Code_postal  \\\n",
       "0           0              01344  ST DENIS LES BOURG         1000   \n",
       "1           1              01053     BOURG EN BRESSE         1000   \n",
       "2           2              01053     BOURG EN BRESSE         1000   \n",
       "3           3              01165        FRANCHELEINS         1090   \n",
       "4           4              01225               LURCY         1090   \n",
       "\n",
       "  Libelle_acheminement              coordonnees_gps  \n",
       "0   ST DENIS LES BOURG  46.2111998453,5.18462806771  \n",
       "1      BOURG EN BRESSE  46.2051520382,5.24602125501  \n",
       "2      BOURG EN BRESSE  46.2051520382,5.24602125501  \n",
       "3         FRANCHELEINS  46.0735946256,4.81293575559  \n",
       "4                LURCY   46.061730034,4.78075207026  "
      ]
     },
     "execution_count": 5,
     "metadata": {},
     "output_type": "execute_result"
    }
   ],
   "source": [
    "Data_Zip_Code.head()"
   ]
  },
  {
   "cell_type": "code",
   "execution_count": 6,
   "metadata": {},
   "outputs": [
    {
     "data": {
      "text/html": [
       "<div>\n",
       "<style scoped>\n",
       "    .dataframe tbody tr th:only-of-type {\n",
       "        vertical-align: middle;\n",
       "    }\n",
       "\n",
       "    .dataframe tbody tr th {\n",
       "        vertical-align: top;\n",
       "    }\n",
       "\n",
       "    .dataframe thead th {\n",
       "        text-align: right;\n",
       "    }\n",
       "</style>\n",
       "<table border=\"1\" class=\"dataframe\">\n",
       "  <thead>\n",
       "    <tr style=\"text-align: right;\">\n",
       "      <th></th>\n",
       "      <th>reference</th>\n",
       "      <th>title</th>\n",
       "      <th>createdAt</th>\n",
       "      <th>publishedAt</th>\n",
       "      <th>updatedAt</th>\n",
       "      <th>trashed</th>\n",
       "      <th>trashedStatus</th>\n",
       "      <th>authorId</th>\n",
       "      <th>authorType</th>\n",
       "      <th>authorZipCode</th>\n",
       "      <th>...</th>\n",
       "      <th>Qu'est-ce qui pourrait vous inciter à changer vos comportements comme par exemple mieux entretenir et régler votre chauffage, modifier votre manière de conduire ou renoncer à prendre votre véhicule pour de très petites distances ?</th>\n",
       "      <th>Quelles seraient pour vous les solutions les plus simples et les plus supportables sur un plan financier pour vous inciter à changer vos comportements ?</th>\n",
       "      <th>Par rapport à votre mode de chauffage actuel, pensez-vous qu'il existe des solutions alternatives plus écologiques ?</th>\n",
       "      <th>Si oui, que faudrait-il faire pour vous convaincre ou vous aider à changer de mode de chauffage ?</th>\n",
       "      <th>Avez-vous pour vos déplacements quotidiens la possibilité de recourir à des solutions de mobilité alternatives à la voiture individuelle comme les transports en commun, le covoiturage, l'auto-partage, le transport à la demande, le vélo, etc. ?</th>\n",
       "      <th>Si oui, que faudrait-il faire pour vous convaincre ou vous aider à utiliser ces solutions alternatives ?</th>\n",
       "      <th>Si non, quelles sont les solutions de mobilité alternatives que vous souhaiteriez pouvoir utiliser ?</th>\n",
       "      <th>Et qui doit selon vous se charger de vous proposer ce type de solutions alternatives ?</th>\n",
       "      <th>Que pourrait faire la France pour faire partager ses choix en matière d'environnement au niveau européen et international ?</th>\n",
       "      <th>Y a-t-il d'autres points sur la transition écologique sur lesquels vous souhaiteriez vous exprimer ?</th>\n",
       "    </tr>\n",
       "  </thead>\n",
       "  <tbody>\n",
       "    <tr>\n",
       "      <th>0</th>\n",
       "      <td>2-4</td>\n",
       "      <td>transition écologique</td>\n",
       "      <td>2019-01-22 09:37:49</td>\n",
       "      <td>2019-01-22 09:37:49</td>\n",
       "      <td>NaN</td>\n",
       "      <td>False</td>\n",
       "      <td>NaN</td>\n",
       "      <td>VXNlcjoxMTQwMTc0YS0xZTFmLTExZTktOTRkMi1mYTE2M2...</td>\n",
       "      <td>Citoyen / Citoyenne</td>\n",
       "      <td>97231</td>\n",
       "      <td>...</td>\n",
       "      <td>NaN</td>\n",
       "      <td>NaN</td>\n",
       "      <td>NaN</td>\n",
       "      <td>NaN</td>\n",
       "      <td>NaN</td>\n",
       "      <td>NaN</td>\n",
       "      <td>NaN</td>\n",
       "      <td>NaN</td>\n",
       "      <td>Enseignement du tri sélectif à l'école</td>\n",
       "      <td>Multiplier les centrales géothermiques</td>\n",
       "    </tr>\n",
       "    <tr>\n",
       "      <th>1</th>\n",
       "      <td>2-5</td>\n",
       "      <td>La surpopulation</td>\n",
       "      <td>2019-01-22 09:39:33</td>\n",
       "      <td>2019-01-22 09:39:33</td>\n",
       "      <td>NaN</td>\n",
       "      <td>False</td>\n",
       "      <td>NaN</td>\n",
       "      <td>VXNlcjpjOWYxZWQ1NS0xYzEwLTExZTktOTRkMi1mYTE2M2...</td>\n",
       "      <td>Citoyen / Citoyenne</td>\n",
       "      <td>57000</td>\n",
       "      <td>...</td>\n",
       "      <td>NaN</td>\n",
       "      <td>NaN</td>\n",
       "      <td>NaN</td>\n",
       "      <td>NaN</td>\n",
       "      <td>NaN</td>\n",
       "      <td>NaN</td>\n",
       "      <td>NaN</td>\n",
       "      <td>NaN</td>\n",
       "      <td>Mettre en oeuvre au niveau national ses engage...</td>\n",
       "      <td>Les problèmes auxquels se trouve confronté l’e...</td>\n",
       "    </tr>\n",
       "    <tr>\n",
       "      <th>2</th>\n",
       "      <td>2-6</td>\n",
       "      <td>climat</td>\n",
       "      <td>2019-01-22 09:39:50</td>\n",
       "      <td>2019-01-22 09:39:50</td>\n",
       "      <td>NaN</td>\n",
       "      <td>False</td>\n",
       "      <td>NaN</td>\n",
       "      <td>VXNlcjozZjlhNzAwOS0xYTc2LTExZTktOTRkMi1mYTE2M2...</td>\n",
       "      <td>Citoyen / Citoyenne</td>\n",
       "      <td>34140</td>\n",
       "      <td>...</td>\n",
       "      <td>développer  les transports en commun ,</td>\n",
       "      <td>NaN</td>\n",
       "      <td>Non</td>\n",
       "      <td>NaN</td>\n",
       "      <td>Oui</td>\n",
       "      <td>NaN</td>\n",
       "      <td>Les transports en commun, L'auto partage, Le t...</td>\n",
       "      <td>NaN</td>\n",
       "      <td>NaN</td>\n",
       "      <td>NaN</td>\n",
       "    </tr>\n",
       "    <tr>\n",
       "      <th>3</th>\n",
       "      <td>2-7</td>\n",
       "      <td>POLLUTION AIR EAU</td>\n",
       "      <td>2019-01-22 09:40:19</td>\n",
       "      <td>2019-01-22 09:40:19</td>\n",
       "      <td>NaN</td>\n",
       "      <td>False</td>\n",
       "      <td>NaN</td>\n",
       "      <td>VXNlcjozOWQwNzJjNC0xZDEwLTExZTktOTRkMi1mYTE2M2...</td>\n",
       "      <td>Citoyen / Citoyenne</td>\n",
       "      <td>17400</td>\n",
       "      <td>...</td>\n",
       "      <td>NaN</td>\n",
       "      <td>Plus de transports publics dans les petites co...</td>\n",
       "      <td>Non</td>\n",
       "      <td>NaN</td>\n",
       "      <td>Non</td>\n",
       "      <td>Le co-voiturage ne correspond pas toujours aux...</td>\n",
       "      <td>Les transports en commun</td>\n",
       "      <td>L'Etat</td>\n",
       "      <td>Elle n'a aucun pouvoir. Impossible de contrain...</td>\n",
       "      <td>NaN</td>\n",
       "    </tr>\n",
       "    <tr>\n",
       "      <th>4</th>\n",
       "      <td>2-8</td>\n",
       "      <td>Economie vs Ecologie</td>\n",
       "      <td>2019-01-22 09:41:33</td>\n",
       "      <td>2019-01-22 09:41:33</td>\n",
       "      <td>NaN</td>\n",
       "      <td>False</td>\n",
       "      <td>NaN</td>\n",
       "      <td>VXNlcjo3M2YxN2NlZS0xZDRiLTExZTktOTRkMi1mYTE2M2...</td>\n",
       "      <td>Citoyen / Citoyenne</td>\n",
       "      <td>35430</td>\n",
       "      <td>...</td>\n",
       "      <td>Aménagement de piste cyclable, développement d...</td>\n",
       "      <td>Détaxer le mode de chauffage écologique, une a...</td>\n",
       "      <td>Oui</td>\n",
       "      <td>une aide significative pour de l'éolien ou du ...</td>\n",
       "      <td>Non</td>\n",
       "      <td>Une piste cyclable pour éviter de risquer ma v...</td>\n",
       "      <td>Les transports en commun, Le covoiturage, Le vélo</td>\n",
       "      <td>La commune, le département, la région</td>\n",
       "      <td>Demander à Nicolas Hulot</td>\n",
       "      <td>Une vrai politique écologique et non économique</td>\n",
       "    </tr>\n",
       "  </tbody>\n",
       "</table>\n",
       "<p>5 rows × 26 columns</p>\n",
       "</div>"
      ],
      "text/plain": [
       "  reference                  title            createdAt          publishedAt  \\\n",
       "0       2-4  transition écologique  2019-01-22 09:37:49  2019-01-22 09:37:49   \n",
       "1       2-5       La surpopulation  2019-01-22 09:39:33  2019-01-22 09:39:33   \n",
       "2       2-6                 climat  2019-01-22 09:39:50  2019-01-22 09:39:50   \n",
       "3       2-7      POLLUTION AIR EAU  2019-01-22 09:40:19  2019-01-22 09:40:19   \n",
       "4       2-8   Economie vs Ecologie  2019-01-22 09:41:33  2019-01-22 09:41:33   \n",
       "\n",
       "  updatedAt  trashed trashedStatus  \\\n",
       "0       NaN    False           NaN   \n",
       "1       NaN    False           NaN   \n",
       "2       NaN    False           NaN   \n",
       "3       NaN    False           NaN   \n",
       "4       NaN    False           NaN   \n",
       "\n",
       "                                            authorId           authorType  \\\n",
       "0  VXNlcjoxMTQwMTc0YS0xZTFmLTExZTktOTRkMi1mYTE2M2...  Citoyen / Citoyenne   \n",
       "1  VXNlcjpjOWYxZWQ1NS0xYzEwLTExZTktOTRkMi1mYTE2M2...  Citoyen / Citoyenne   \n",
       "2  VXNlcjozZjlhNzAwOS0xYTc2LTExZTktOTRkMi1mYTE2M2...  Citoyen / Citoyenne   \n",
       "3  VXNlcjozOWQwNzJjNC0xZDEwLTExZTktOTRkMi1mYTE2M2...  Citoyen / Citoyenne   \n",
       "4  VXNlcjo3M2YxN2NlZS0xZDRiLTExZTktOTRkMi1mYTE2M2...  Citoyen / Citoyenne   \n",
       "\n",
       "   authorZipCode  ...  \\\n",
       "0          97231  ...   \n",
       "1          57000  ...   \n",
       "2          34140  ...   \n",
       "3          17400  ...   \n",
       "4          35430  ...   \n",
       "\n",
       "  Qu'est-ce qui pourrait vous inciter à changer vos comportements comme par exemple mieux entretenir et régler votre chauffage, modifier votre manière de conduire ou renoncer à prendre votre véhicule pour de très petites distances ?  \\\n",
       "0                                                NaN                                                                                                                                                                                       \n",
       "1                                                NaN                                                                                                                                                                                       \n",
       "2             développer  les transports en commun ,                                                                                                                                                                                       \n",
       "3                                                NaN                                                                                                                                                                                       \n",
       "4  Aménagement de piste cyclable, développement d...                                                                                                                                                                                       \n",
       "\n",
       "  Quelles seraient pour vous les solutions les plus simples et les plus supportables sur un plan financier pour vous inciter à changer vos comportements ?  \\\n",
       "0                                                NaN                                                                                                         \n",
       "1                                                NaN                                                                                                         \n",
       "2                                                NaN                                                                                                         \n",
       "3  Plus de transports publics dans les petites co...                                                                                                         \n",
       "4  Détaxer le mode de chauffage écologique, une a...                                                                                                         \n",
       "\n",
       "  Par rapport à votre mode de chauffage actuel, pensez-vous qu'il existe des solutions alternatives plus écologiques ?  \\\n",
       "0                                                NaN                                                                     \n",
       "1                                                NaN                                                                     \n",
       "2                                                Non                                                                     \n",
       "3                                                Non                                                                     \n",
       "4                                                Oui                                                                     \n",
       "\n",
       "  Si oui, que faudrait-il faire pour vous convaincre ou vous aider à changer de mode de chauffage ?  \\\n",
       "0                                                NaN                                                  \n",
       "1                                                NaN                                                  \n",
       "2                                                NaN                                                  \n",
       "3                                                NaN                                                  \n",
       "4  une aide significative pour de l'éolien ou du ...                                                  \n",
       "\n",
       "  Avez-vous pour vos déplacements quotidiens la possibilité de recourir à des solutions de mobilité alternatives à la voiture individuelle comme les transports en commun, le covoiturage, l'auto-partage, le transport à la demande, le vélo, etc. ?  \\\n",
       "0                                                NaN                                                                                                                                                                                                    \n",
       "1                                                NaN                                                                                                                                                                                                    \n",
       "2                                                Oui                                                                                                                                                                                                    \n",
       "3                                                Non                                                                                                                                                                                                    \n",
       "4                                                Non                                                                                                                                                                                                    \n",
       "\n",
       "  Si oui, que faudrait-il faire pour vous convaincre ou vous aider à utiliser ces solutions alternatives ?  \\\n",
       "0                                                NaN                                                         \n",
       "1                                                NaN                                                         \n",
       "2                                                NaN                                                         \n",
       "3  Le co-voiturage ne correspond pas toujours aux...                                                         \n",
       "4  Une piste cyclable pour éviter de risquer ma v...                                                         \n",
       "\n",
       "  Si non, quelles sont les solutions de mobilité alternatives que vous souhaiteriez pouvoir utiliser ?  \\\n",
       "0                                                NaN                                                     \n",
       "1                                                NaN                                                     \n",
       "2  Les transports en commun, L'auto partage, Le t...                                                     \n",
       "3                           Les transports en commun                                                     \n",
       "4  Les transports en commun, Le covoiturage, Le vélo                                                     \n",
       "\n",
       "  Et qui doit selon vous se charger de vous proposer ce type de solutions alternatives ?  \\\n",
       "0                                                NaN                                       \n",
       "1                                                NaN                                       \n",
       "2                                                NaN                                       \n",
       "3                                             L'Etat                                       \n",
       "4              La commune, le département, la région                                       \n",
       "\n",
       "  Que pourrait faire la France pour faire partager ses choix en matière d'environnement au niveau européen et international ?  \\\n",
       "0             Enseignement du tri sélectif à l'école                                                                            \n",
       "1  Mettre en oeuvre au niveau national ses engage...                                                                            \n",
       "2                                                NaN                                                                            \n",
       "3  Elle n'a aucun pouvoir. Impossible de contrain...                                                                            \n",
       "4                           Demander à Nicolas Hulot                                                                            \n",
       "\n",
       "  Y a-t-il d'autres points sur la transition écologique sur lesquels vous souhaiteriez vous exprimer ?  \n",
       "0             Multiplier les centrales géothermiques                                                    \n",
       "1  Les problèmes auxquels se trouve confronté l’e...                                                    \n",
       "2                                                NaN                                                    \n",
       "3                                                NaN                                                    \n",
       "4    Une vrai politique écologique et non économique                                                    \n",
       "\n",
       "[5 rows x 26 columns]"
      ]
     },
     "execution_count": 6,
     "metadata": {},
     "output_type": "execute_result"
    }
   ],
   "source": [
    "data_ecolo.head()"
   ]
  },
  {
   "cell_type": "code",
   "execution_count": 7,
   "metadata": {},
   "outputs": [
    {
     "data": {
      "text/html": [
       "<div>\n",
       "<style scoped>\n",
       "    .dataframe tbody tr th:only-of-type {\n",
       "        vertical-align: middle;\n",
       "    }\n",
       "\n",
       "    .dataframe tbody tr th {\n",
       "        vertical-align: top;\n",
       "    }\n",
       "\n",
       "    .dataframe thead th {\n",
       "        text-align: right;\n",
       "    }\n",
       "</style>\n",
       "<table border=\"1\" class=\"dataframe\">\n",
       "  <thead>\n",
       "    <tr style=\"text-align: right;\">\n",
       "      <th></th>\n",
       "      <th>reference</th>\n",
       "      <th>title</th>\n",
       "      <th>createdAt</th>\n",
       "      <th>publishedAt</th>\n",
       "      <th>updatedAt</th>\n",
       "      <th>trashed</th>\n",
       "      <th>trashedStatus</th>\n",
       "      <th>authorId</th>\n",
       "      <th>authorType</th>\n",
       "      <th>authorZipCode</th>\n",
       "      <th>...</th>\n",
       "      <th>QUXVlc3Rpb246MTk0 - Si vous avez été amené à préparer votre retraite, pouvez-vous indiquer les éléments de satisfaction et/ou les difficultés rencontrés en précisant, pour chaque point, l'administration concernée :</th>\n",
       "      <th>QUXVlc3Rpb246MTk1 - Si vous avez été amené à demander un remboursement de soins de santé, pouvez-vous indiquer les éléments de satisfaction et/ou les difficultés rencontrés en précisant, pour chaque point, l'administration concernée :</th>\n",
       "      <th>QUXVlc3Rpb246MTk2 - Si vous avez été amené à faire une demande d'aide pour une situation de handicap, pouvez-vous indiquer les éléments de satisfaction et/ou les difficultés rencontrés en précisant, pour chaque point, l'administration concernée :</th>\n",
       "      <th>QUXVlc3Rpb246MTk4 - Si vous avez été amené à créer une entreprise, pouvez-vous indiquer les éléments de satisfaction et/ou les difficultés rencontrés en précisant, pour chaque point, l'administration concernée :</th>\n",
       "      <th>QUXVlc3Rpb246MTk5 - Si vous avez été amené à recruter du personnel, pouvez-vous indiquer les éléments de satisfaction et/ou les difficultés rencontrés en précisant, pour chaque point, l'administration concernée :</th>\n",
       "      <th>QUXVlc3Rpb246MjAw - Si vous avez été amené à former du personnel, pouvez-vous indiquer les éléments de satisfaction et/ou les difficultés rencontrés en précisant, pour chaque point, l'administration concernée :</th>\n",
       "      <th>QUXVlc3Rpb246MjAx - Si vous avez été amené à rémunérer du personnel, pouvez-vous indiquer les éléments de satisfaction et/ou les difficultés rencontrés en précisant, pour chaque point, l'administration concernée :</th>\n",
       "      <th>QUXVlc3Rpb246MjAy - Si vous avez été amené à mettre fin à votre activité, pouvez-vous indiquer les éléments de satisfaction et/ou les difficultés rencontrés en précisant, pour chaque point, l'administration concernée :</th>\n",
       "      <th>QUXVlc3Rpb246MjAz - Si vous avez été amené à recruter une personne portant un handicap, pouvez-vous indiquer les éléments de satisfaction et/ou les difficultés rencontrés en précisant, pour chaque point, l'administration concernée :</th>\n",
       "      <th>QUXVlc3Rpb246MTg5 - Y a-t-il d'autres points sur l'organisation de l'Etat et des services publics sur lesquels vous souhaiteriez vous exprimer ?</th>\n",
       "    </tr>\n",
       "  </thead>\n",
       "  <tbody>\n",
       "    <tr>\n",
       "      <th>0</th>\n",
       "      <td>4-3</td>\n",
       "      <td>Les avantages</td>\n",
       "      <td>2019-01-22 09:40:47</td>\n",
       "      <td>2019-01-22 09:40:47</td>\n",
       "      <td>NaN</td>\n",
       "      <td>False</td>\n",
       "      <td>NaN</td>\n",
       "      <td>VXNlcjo4Mjc4NzQxYS0xZTFkLTExZTktOTRkMi1mYTE2M2...</td>\n",
       "      <td>Citoyen / Citoyenne</td>\n",
       "      <td>79190</td>\n",
       "      <td>...</td>\n",
       "      <td>NaN</td>\n",
       "      <td>NaN</td>\n",
       "      <td>NaN</td>\n",
       "      <td>NaN</td>\n",
       "      <td>NaN</td>\n",
       "      <td>NaN</td>\n",
       "      <td>NaN</td>\n",
       "      <td>NaN</td>\n",
       "      <td>NaN</td>\n",
       "      <td>Les anciens Présidents, anciens membres du gou...</td>\n",
       "    </tr>\n",
       "    <tr>\n",
       "      <th>1</th>\n",
       "      <td>4-4</td>\n",
       "      <td>suppression des départements</td>\n",
       "      <td>2019-01-22 09:41:14</td>\n",
       "      <td>2019-01-22 09:41:14</td>\n",
       "      <td>NaN</td>\n",
       "      <td>False</td>\n",
       "      <td>NaN</td>\n",
       "      <td>VXNlcjo3ZTVjYTUwMi0xZDZlLTExZTktOTRkMi1mYTE2M2...</td>\n",
       "      <td>Citoyen / Citoyenne</td>\n",
       "      <td>94800</td>\n",
       "      <td>...</td>\n",
       "      <td>NaN</td>\n",
       "      <td>NaN</td>\n",
       "      <td>NaN</td>\n",
       "      <td>NaN</td>\n",
       "      <td>NaN</td>\n",
       "      <td>NaN</td>\n",
       "      <td>NaN</td>\n",
       "      <td>NaN</td>\n",
       "      <td>NaN</td>\n",
       "      <td>NaN</td>\n",
       "    </tr>\n",
       "    <tr>\n",
       "      <th>2</th>\n",
       "      <td>4-5</td>\n",
       "      <td>L'égalité</td>\n",
       "      <td>2019-01-22 09:42:04</td>\n",
       "      <td>2019-01-22 09:42:04</td>\n",
       "      <td>NaN</td>\n",
       "      <td>False</td>\n",
       "      <td>NaN</td>\n",
       "      <td>VXNlcjo4Mjc4NzQxYS0xZTFkLTExZTktOTRkMi1mYTE2M2...</td>\n",
       "      <td>Citoyen / Citoyenne</td>\n",
       "      <td>79190</td>\n",
       "      <td>...</td>\n",
       "      <td>NaN</td>\n",
       "      <td>NaN</td>\n",
       "      <td>NaN</td>\n",
       "      <td>NaN</td>\n",
       "      <td>NaN</td>\n",
       "      <td>NaN</td>\n",
       "      <td>NaN</td>\n",
       "      <td>NaN</td>\n",
       "      <td>NaN</td>\n",
       "      <td>Un salarié qui est logé par son employeur ; le...</td>\n",
       "    </tr>\n",
       "    <tr>\n",
       "      <th>3</th>\n",
       "      <td>4-6</td>\n",
       "      <td>Suppression du Sénat</td>\n",
       "      <td>2019-01-22 09:43:01</td>\n",
       "      <td>2019-01-22 09:43:01</td>\n",
       "      <td>NaN</td>\n",
       "      <td>False</td>\n",
       "      <td>NaN</td>\n",
       "      <td>VXNlcjpkM2IzYzU5Ni0xZDZhLTExZTktOTRkMi1mYTE2M2...</td>\n",
       "      <td>Citoyen / Citoyenne</td>\n",
       "      <td>20200</td>\n",
       "      <td>...</td>\n",
       "      <td>NaN</td>\n",
       "      <td>NaN</td>\n",
       "      <td>NaN</td>\n",
       "      <td>NaN</td>\n",
       "      <td>NaN</td>\n",
       "      <td>NaN</td>\n",
       "      <td>NaN</td>\n",
       "      <td>NaN</td>\n",
       "      <td>NaN</td>\n",
       "      <td>NaN</td>\n",
       "    </tr>\n",
       "    <tr>\n",
       "      <th>4</th>\n",
       "      <td>4-7</td>\n",
       "      <td>Réformer la justice familiale et établir la pr...</td>\n",
       "      <td>2019-01-22 09:44:15</td>\n",
       "      <td>2019-01-22 09:44:15</td>\n",
       "      <td>NaN</td>\n",
       "      <td>False</td>\n",
       "      <td>NaN</td>\n",
       "      <td>VXNlcjowYjNkNDQ0Yy0xY2YzLTExZTktOTRkMi1mYTE2M2...</td>\n",
       "      <td>Citoyen / Citoyenne</td>\n",
       "      <td>92200</td>\n",
       "      <td>...</td>\n",
       "      <td>NaN</td>\n",
       "      <td>NaN</td>\n",
       "      <td>NaN</td>\n",
       "      <td>NaN</td>\n",
       "      <td>NaN</td>\n",
       "      <td>NaN</td>\n",
       "      <td>NaN</td>\n",
       "      <td>NaN</td>\n",
       "      <td>NaN</td>\n",
       "      <td>Il est nécessaire de réformer  la justice fami...</td>\n",
       "    </tr>\n",
       "  </tbody>\n",
       "</table>\n",
       "<p>5 rows × 43 columns</p>\n",
       "</div>"
      ],
      "text/plain": [
       "  reference                                              title  \\\n",
       "0       4-3                                      Les avantages   \n",
       "1       4-4                       suppression des départements   \n",
       "2       4-5                                          L'égalité   \n",
       "3       4-6                               Suppression du Sénat   \n",
       "4       4-7  Réformer la justice familiale et établir la pr...   \n",
       "\n",
       "             createdAt          publishedAt updatedAt  trashed trashedStatus  \\\n",
       "0  2019-01-22 09:40:47  2019-01-22 09:40:47       NaN    False           NaN   \n",
       "1  2019-01-22 09:41:14  2019-01-22 09:41:14       NaN    False           NaN   \n",
       "2  2019-01-22 09:42:04  2019-01-22 09:42:04       NaN    False           NaN   \n",
       "3  2019-01-22 09:43:01  2019-01-22 09:43:01       NaN    False           NaN   \n",
       "4  2019-01-22 09:44:15  2019-01-22 09:44:15       NaN    False           NaN   \n",
       "\n",
       "                                            authorId           authorType  \\\n",
       "0  VXNlcjo4Mjc4NzQxYS0xZTFkLTExZTktOTRkMi1mYTE2M2...  Citoyen / Citoyenne   \n",
       "1  VXNlcjo3ZTVjYTUwMi0xZDZlLTExZTktOTRkMi1mYTE2M2...  Citoyen / Citoyenne   \n",
       "2  VXNlcjo4Mjc4NzQxYS0xZTFkLTExZTktOTRkMi1mYTE2M2...  Citoyen / Citoyenne   \n",
       "3  VXNlcjpkM2IzYzU5Ni0xZDZhLTExZTktOTRkMi1mYTE2M2...  Citoyen / Citoyenne   \n",
       "4  VXNlcjowYjNkNDQ0Yy0xY2YzLTExZTktOTRkMi1mYTE2M2...  Citoyen / Citoyenne   \n",
       "\n",
       "   authorZipCode  ...  \\\n",
       "0          79190  ...   \n",
       "1          94800  ...   \n",
       "2          79190  ...   \n",
       "3          20200  ...   \n",
       "4          92200  ...   \n",
       "\n",
       "  QUXVlc3Rpb246MTk0 - Si vous avez été amené à préparer votre retraite, pouvez-vous indiquer les éléments de satisfaction et/ou les difficultés rencontrés en précisant, pour chaque point, l'administration concernée :  \\\n",
       "0                                                NaN                                                                                                                                                                       \n",
       "1                                                NaN                                                                                                                                                                       \n",
       "2                                                NaN                                                                                                                                                                       \n",
       "3                                                NaN                                                                                                                                                                       \n",
       "4                                                NaN                                                                                                                                                                       \n",
       "\n",
       "  QUXVlc3Rpb246MTk1 - Si vous avez été amené à demander un remboursement de soins de santé, pouvez-vous indiquer les éléments de satisfaction et/ou les difficultés rencontrés en précisant, pour chaque point, l'administration concernée :  \\\n",
       "0                                                NaN                                                                                                                                                                                           \n",
       "1                                                NaN                                                                                                                                                                                           \n",
       "2                                                NaN                                                                                                                                                                                           \n",
       "3                                                NaN                                                                                                                                                                                           \n",
       "4                                                NaN                                                                                                                                                                                           \n",
       "\n",
       "  QUXVlc3Rpb246MTk2 - Si vous avez été amené à faire une demande d'aide pour une situation de handicap, pouvez-vous indiquer les éléments de satisfaction et/ou les difficultés rencontrés en précisant, pour chaque point, l'administration concernée :  \\\n",
       "0                                                NaN                                                                                                                                                                                                       \n",
       "1                                                NaN                                                                                                                                                                                                       \n",
       "2                                                NaN                                                                                                                                                                                                       \n",
       "3                                                NaN                                                                                                                                                                                                       \n",
       "4                                                NaN                                                                                                                                                                                                       \n",
       "\n",
       "  QUXVlc3Rpb246MTk4 - Si vous avez été amené à créer une entreprise, pouvez-vous indiquer les éléments de satisfaction et/ou les difficultés rencontrés en précisant, pour chaque point, l'administration concernée :  \\\n",
       "0                                                NaN                                                                                                                                                                    \n",
       "1                                                NaN                                                                                                                                                                    \n",
       "2                                                NaN                                                                                                                                                                    \n",
       "3                                                NaN                                                                                                                                                                    \n",
       "4                                                NaN                                                                                                                                                                    \n",
       "\n",
       "  QUXVlc3Rpb246MTk5 - Si vous avez été amené à recruter du personnel, pouvez-vous indiquer les éléments de satisfaction et/ou les difficultés rencontrés en précisant, pour chaque point, l'administration concernée :  \\\n",
       "0                                                NaN                                                                                                                                                                     \n",
       "1                                                NaN                                                                                                                                                                     \n",
       "2                                                NaN                                                                                                                                                                     \n",
       "3                                                NaN                                                                                                                                                                     \n",
       "4                                                NaN                                                                                                                                                                     \n",
       "\n",
       "  QUXVlc3Rpb246MjAw - Si vous avez été amené à former du personnel, pouvez-vous indiquer les éléments de satisfaction et/ou les difficultés rencontrés en précisant, pour chaque point, l'administration concernée :  \\\n",
       "0                                                NaN                                                                                                                                                                   \n",
       "1                                                NaN                                                                                                                                                                   \n",
       "2                                                NaN                                                                                                                                                                   \n",
       "3                                                NaN                                                                                                                                                                   \n",
       "4                                                NaN                                                                                                                                                                   \n",
       "\n",
       "  QUXVlc3Rpb246MjAx - Si vous avez été amené à rémunérer du personnel, pouvez-vous indiquer les éléments de satisfaction et/ou les difficultés rencontrés en précisant, pour chaque point, l'administration concernée :  \\\n",
       "0                                                NaN                                                                                                                                                                      \n",
       "1                                                NaN                                                                                                                                                                      \n",
       "2                                                NaN                                                                                                                                                                      \n",
       "3                                                NaN                                                                                                                                                                      \n",
       "4                                                NaN                                                                                                                                                                      \n",
       "\n",
       "  QUXVlc3Rpb246MjAy - Si vous avez été amené à mettre fin à votre activité, pouvez-vous indiquer les éléments de satisfaction et/ou les difficultés rencontrés en précisant, pour chaque point, l'administration concernée :  \\\n",
       "0                                                NaN                                                                                                                                                                           \n",
       "1                                                NaN                                                                                                                                                                           \n",
       "2                                                NaN                                                                                                                                                                           \n",
       "3                                                NaN                                                                                                                                                                           \n",
       "4                                                NaN                                                                                                                                                                           \n",
       "\n",
       "  QUXVlc3Rpb246MjAz - Si vous avez été amené à recruter une personne portant un handicap, pouvez-vous indiquer les éléments de satisfaction et/ou les difficultés rencontrés en précisant, pour chaque point, l'administration concernée :  \\\n",
       "0                                                NaN                                                                                                                                                                                         \n",
       "1                                                NaN                                                                                                                                                                                         \n",
       "2                                                NaN                                                                                                                                                                                         \n",
       "3                                                NaN                                                                                                                                                                                         \n",
       "4                                                NaN                                                                                                                                                                                         \n",
       "\n",
       "  QUXVlc3Rpb246MTg5 - Y a-t-il d'autres points sur l'organisation de l'Etat et des services publics sur lesquels vous souhaiteriez vous exprimer ?  \n",
       "0  Les anciens Présidents, anciens membres du gou...                                                                                                \n",
       "1                                                NaN                                                                                                \n",
       "2  Un salarié qui est logé par son employeur ; le...                                                                                                \n",
       "3                                                NaN                                                                                                \n",
       "4  Il est nécessaire de réformer  la justice fami...                                                                                                \n",
       "\n",
       "[5 rows x 43 columns]"
      ]
     },
     "execution_count": 7,
     "metadata": {},
     "output_type": "execute_result"
    }
   ],
   "source": [
    "data_serv_pub.head()"
   ]
  },
  {
   "cell_type": "code",
   "execution_count": 8,
   "metadata": {},
   "outputs": [
    {
     "data": {
      "text/html": [
       "<div>\n",
       "<style scoped>\n",
       "    .dataframe tbody tr th:only-of-type {\n",
       "        vertical-align: middle;\n",
       "    }\n",
       "\n",
       "    .dataframe tbody tr th {\n",
       "        vertical-align: top;\n",
       "    }\n",
       "\n",
       "    .dataframe thead th {\n",
       "        text-align: right;\n",
       "    }\n",
       "</style>\n",
       "<table border=\"1\" class=\"dataframe\">\n",
       "  <thead>\n",
       "    <tr style=\"text-align: right;\">\n",
       "      <th></th>\n",
       "      <th>reference</th>\n",
       "      <th>title</th>\n",
       "      <th>createdAt</th>\n",
       "      <th>publishedAt</th>\n",
       "      <th>updatedAt</th>\n",
       "      <th>trashed</th>\n",
       "      <th>trashedStatus</th>\n",
       "      <th>authorId</th>\n",
       "      <th>authorType</th>\n",
       "      <th>authorZipCode</th>\n",
       "      <th>QUXVlc3Rpb246MTYy - Quelles sont toutes les choses qui pourraient être faites pour améliorer l'information des citoyens sur l'utilisation des impôts ?</th>\n",
       "      <th>QUXVlc3Rpb246MTYz - Que faudrait-il faire pour rendre la fiscalité plus juste et plus efficace ?</th>\n",
       "      <th>QUXVlc3Rpb246MTY0 - Quels sont selon vous les impôts qu'il faut baisser en priorité ?</th>\n",
       "      <th>QUXVlc3Rpb246MjA2 - Afin de financer les dépenses sociales, faut-il selon vous...</th>\n",
       "      <th>QUXVlc3Rpb246MjA1 - S'il faut selon vous revoir les conditions d'attribution de certaines aides sociales, lesquelles doivent être concernées ?</th>\n",
       "      <th>QUXVlc3Rpb246MTY1 - Quels sont les domaines prioritaires où notre protection sociale doit être renforcée ?</th>\n",
       "      <th>QUXVlc3Rpb246MTY2 - Pour quelle(s) politique(s) publique(s) ou pour quels domaines d'action publique, seriez-vous prêts à payer plus d'impôts ?</th>\n",
       "      <th>QUXVlc3Rpb246MTY3 - Y a-t-il d'autres points sur les impôts et les dépenses sur lesquels vous souhaiteriez vous exprimer ?</th>\n",
       "    </tr>\n",
       "  </thead>\n",
       "  <tbody>\n",
       "    <tr>\n",
       "      <th>0</th>\n",
       "      <td>3-2</td>\n",
       "      <td>TVA sociale</td>\n",
       "      <td>2019-01-22 09:35:18</td>\n",
       "      <td>2019-01-22 09:35:18</td>\n",
       "      <td>NaN</td>\n",
       "      <td>False</td>\n",
       "      <td>NaN</td>\n",
       "      <td>VXNlcjo3ZTVjYTUwMi0xZDZlLTExZTktOTRkMi1mYTE2M2...</td>\n",
       "      <td>Citoyen / Citoyenne</td>\n",
       "      <td>94800</td>\n",
       "      <td>NaN</td>\n",
       "      <td>NaN</td>\n",
       "      <td>NaN</td>\n",
       "      <td>diminuer la CSG de 2 points et en contrepartie...</td>\n",
       "      <td>NaN</td>\n",
       "      <td>NaN</td>\n",
       "      <td>NaN</td>\n",
       "      <td>NaN</td>\n",
       "    </tr>\n",
       "    <tr>\n",
       "      <th>1</th>\n",
       "      <td>3-3</td>\n",
       "      <td>Augmentation du pouvoir d'achat</td>\n",
       "      <td>2019-01-22 09:36:50</td>\n",
       "      <td>2019-01-22 09:38:01</td>\n",
       "      <td>NaN</td>\n",
       "      <td>False</td>\n",
       "      <td>NaN</td>\n",
       "      <td>VXNlcjo5NmNhYWM4ZS0xZTIwLTExZTktOTRkMi1mYTE2M2...</td>\n",
       "      <td>Citoyen / Citoyenne</td>\n",
       "      <td>27500</td>\n",
       "      <td>NaN</td>\n",
       "      <td>NaN</td>\n",
       "      <td>NaN</td>\n",
       "      <td>NaN</td>\n",
       "      <td>NaN</td>\n",
       "      <td>NaN</td>\n",
       "      <td>NaN</td>\n",
       "      <td>Améliorer le pouvoir d’achat en augmentant les...</td>\n",
       "    </tr>\n",
       "    <tr>\n",
       "      <th>2</th>\n",
       "      <td>3-4</td>\n",
       "      <td>le patrimoine en or dans l'IFI</td>\n",
       "      <td>2019-01-22 09:38:03</td>\n",
       "      <td>2019-01-22 09:38:03</td>\n",
       "      <td>NaN</td>\n",
       "      <td>False</td>\n",
       "      <td>NaN</td>\n",
       "      <td>VXNlcjo3ZTVjYTUwMi0xZDZlLTExZTktOTRkMi1mYTE2M2...</td>\n",
       "      <td>Citoyen / Citoyenne</td>\n",
       "      <td>94800</td>\n",
       "      <td>NaN</td>\n",
       "      <td>NaN</td>\n",
       "      <td>NaN</td>\n",
       "      <td>Réforme de l'IFI pour y inclure le patrimoine ...</td>\n",
       "      <td>NaN</td>\n",
       "      <td>NaN</td>\n",
       "      <td>NaN</td>\n",
       "      <td>NaN</td>\n",
       "    </tr>\n",
       "    <tr>\n",
       "      <th>3</th>\n",
       "      <td>3-6</td>\n",
       "      <td>Pouvoir d achat</td>\n",
       "      <td>2019-01-22 09:40:03</td>\n",
       "      <td>2019-01-22 09:40:03</td>\n",
       "      <td>NaN</td>\n",
       "      <td>False</td>\n",
       "      <td>NaN</td>\n",
       "      <td>VXNlcjpjNDY0ZjllMy0xZDk4LTExZTktOTRkMi1mYTE2M2...</td>\n",
       "      <td>Citoyen / Citoyenne</td>\n",
       "      <td>35000</td>\n",
       "      <td>NaN</td>\n",
       "      <td>Repartir les richesses.  suppression de la tax...</td>\n",
       "      <td>Csg .taxe d habitation .</td>\n",
       "      <td>Revoir les conditions d'attribution de certain...</td>\n",
       "      <td>NaN</td>\n",
       "      <td>Santé. Éducation</td>\n",
       "      <td>NaN</td>\n",
       "      <td>NaN</td>\n",
       "    </tr>\n",
       "    <tr>\n",
       "      <th>4</th>\n",
       "      <td>3-8</td>\n",
       "      <td>droits et devoirs</td>\n",
       "      <td>2019-01-22 09:40:53</td>\n",
       "      <td>2019-01-22 09:40:53</td>\n",
       "      <td>NaN</td>\n",
       "      <td>False</td>\n",
       "      <td>NaN</td>\n",
       "      <td>VXNlcjo3MDdkM2IzOC0xZDYxLTExZTktOTRkMi1mYTE2M2...</td>\n",
       "      <td>Citoyen / Citoyenne</td>\n",
       "      <td>22680</td>\n",
       "      <td>NaN</td>\n",
       "      <td>Les droits soient automatiques, comme nos devo...</td>\n",
       "      <td>NaN</td>\n",
       "      <td>NaN</td>\n",
       "      <td>on nous parle toujours de nos devoirs mais rar...</td>\n",
       "      <td>NaN</td>\n",
       "      <td>NaN</td>\n",
       "      <td>NaN</td>\n",
       "    </tr>\n",
       "  </tbody>\n",
       "</table>\n",
       "</div>"
      ],
      "text/plain": [
       "  reference                            title            createdAt  \\\n",
       "0       3-2                      TVA sociale  2019-01-22 09:35:18   \n",
       "1       3-3  Augmentation du pouvoir d'achat  2019-01-22 09:36:50   \n",
       "2       3-4   le patrimoine en or dans l'IFI  2019-01-22 09:38:03   \n",
       "3       3-6                  Pouvoir d achat  2019-01-22 09:40:03   \n",
       "4       3-8                droits et devoirs  2019-01-22 09:40:53   \n",
       "\n",
       "           publishedAt updatedAt  trashed trashedStatus  \\\n",
       "0  2019-01-22 09:35:18       NaN    False           NaN   \n",
       "1  2019-01-22 09:38:01       NaN    False           NaN   \n",
       "2  2019-01-22 09:38:03       NaN    False           NaN   \n",
       "3  2019-01-22 09:40:03       NaN    False           NaN   \n",
       "4  2019-01-22 09:40:53       NaN    False           NaN   \n",
       "\n",
       "                                            authorId           authorType  \\\n",
       "0  VXNlcjo3ZTVjYTUwMi0xZDZlLTExZTktOTRkMi1mYTE2M2...  Citoyen / Citoyenne   \n",
       "1  VXNlcjo5NmNhYWM4ZS0xZTIwLTExZTktOTRkMi1mYTE2M2...  Citoyen / Citoyenne   \n",
       "2  VXNlcjo3ZTVjYTUwMi0xZDZlLTExZTktOTRkMi1mYTE2M2...  Citoyen / Citoyenne   \n",
       "3  VXNlcjpjNDY0ZjllMy0xZDk4LTExZTktOTRkMi1mYTE2M2...  Citoyen / Citoyenne   \n",
       "4  VXNlcjo3MDdkM2IzOC0xZDYxLTExZTktOTRkMi1mYTE2M2...  Citoyen / Citoyenne   \n",
       "\n",
       "   authorZipCode  \\\n",
       "0          94800   \n",
       "1          27500   \n",
       "2          94800   \n",
       "3          35000   \n",
       "4          22680   \n",
       "\n",
       "  QUXVlc3Rpb246MTYy - Quelles sont toutes les choses qui pourraient être faites pour améliorer l'information des citoyens sur l'utilisation des impôts ?  \\\n",
       "0                                                NaN                                                                                                       \n",
       "1                                                NaN                                                                                                       \n",
       "2                                                NaN                                                                                                       \n",
       "3                                                NaN                                                                                                       \n",
       "4                                                NaN                                                                                                       \n",
       "\n",
       "  QUXVlc3Rpb246MTYz - Que faudrait-il faire pour rendre la fiscalité plus juste et plus efficace ?  \\\n",
       "0                                                NaN                                                 \n",
       "1                                                NaN                                                 \n",
       "2                                                NaN                                                 \n",
       "3  Repartir les richesses.  suppression de la tax...                                                 \n",
       "4  Les droits soient automatiques, comme nos devo...                                                 \n",
       "\n",
       "  QUXVlc3Rpb246MTY0 - Quels sont selon vous les impôts qu'il faut baisser en priorité ?  \\\n",
       "0                                                NaN                                      \n",
       "1                                                NaN                                      \n",
       "2                                                NaN                                      \n",
       "3                           Csg .taxe d habitation .                                      \n",
       "4                                                NaN                                      \n",
       "\n",
       "  QUXVlc3Rpb246MjA2 - Afin de financer les dépenses sociales, faut-il selon vous...  \\\n",
       "0  diminuer la CSG de 2 points et en contrepartie...                                  \n",
       "1                                                NaN                                  \n",
       "2  Réforme de l'IFI pour y inclure le patrimoine ...                                  \n",
       "3  Revoir les conditions d'attribution de certain...                                  \n",
       "4                                                NaN                                  \n",
       "\n",
       "  QUXVlc3Rpb246MjA1 - S'il faut selon vous revoir les conditions d'attribution de certaines aides sociales, lesquelles doivent être concernées ?  \\\n",
       "0                                                NaN                                                                                               \n",
       "1                                                NaN                                                                                               \n",
       "2                                                NaN                                                                                               \n",
       "3                                                NaN                                                                                               \n",
       "4  on nous parle toujours de nos devoirs mais rar...                                                                                               \n",
       "\n",
       "  QUXVlc3Rpb246MTY1 - Quels sont les domaines prioritaires où notre protection sociale doit être renforcée ?  \\\n",
       "0                                                NaN                                                           \n",
       "1                                                NaN                                                           \n",
       "2                                                NaN                                                           \n",
       "3                                   Santé. Éducation                                                           \n",
       "4                                                NaN                                                           \n",
       "\n",
       "  QUXVlc3Rpb246MTY2 - Pour quelle(s) politique(s) publique(s) ou pour quels domaines d'action publique, seriez-vous prêts à payer plus d'impôts ?  \\\n",
       "0                                                NaN                                                                                                \n",
       "1                                                NaN                                                                                                \n",
       "2                                                NaN                                                                                                \n",
       "3                                                NaN                                                                                                \n",
       "4                                                NaN                                                                                                \n",
       "\n",
       "  QUXVlc3Rpb246MTY3 - Y a-t-il d'autres points sur les impôts et les dépenses sur lesquels vous souhaiteriez vous exprimer ?  \n",
       "0                                                NaN                                                                          \n",
       "1  Améliorer le pouvoir d’achat en augmentant les...                                                                          \n",
       "2                                                NaN                                                                          \n",
       "3                                                NaN                                                                          \n",
       "4                                                NaN                                                                          "
      ]
     },
     "execution_count": 8,
     "metadata": {},
     "output_type": "execute_result"
    }
   ],
   "source": [
    "data_fisc.head()"
   ]
  },
  {
   "cell_type": "code",
   "execution_count": 9,
   "metadata": {},
   "outputs": [
    {
     "data": {
      "text/html": [
       "<div>\n",
       "<style scoped>\n",
       "    .dataframe tbody tr th:only-of-type {\n",
       "        vertical-align: middle;\n",
       "    }\n",
       "\n",
       "    .dataframe tbody tr th {\n",
       "        vertical-align: top;\n",
       "    }\n",
       "\n",
       "    .dataframe thead th {\n",
       "        text-align: right;\n",
       "    }\n",
       "</style>\n",
       "<table border=\"1\" class=\"dataframe\">\n",
       "  <thead>\n",
       "    <tr style=\"text-align: right;\">\n",
       "      <th></th>\n",
       "      <th>reference</th>\n",
       "      <th>title</th>\n",
       "      <th>createdAt</th>\n",
       "      <th>publishedAt</th>\n",
       "      <th>updatedAt</th>\n",
       "      <th>trashed</th>\n",
       "      <th>trashedStatus</th>\n",
       "      <th>authorId</th>\n",
       "      <th>authorType</th>\n",
       "      <th>authorZipCode</th>\n",
       "      <th>...</th>\n",
       "      <th>QUXVlc3Rpb246MTM1 - Quel pourrait être le rôle de chacun pour faire reculer les incivilités dans la société ?</th>\n",
       "      <th>QUXVlc3Rpb246MTM2 - Quelles sont les discriminations les plus répandues dont vous êtes témoin ou victime ?</th>\n",
       "      <th>QUXVlc3Rpb246MTM3 - Que faudrait-il faire pour lutter contre ces discriminations et construire une société plus solidaire et plus tolérante ?</th>\n",
       "      <th>QUXVlc3Rpb246MTM4 - Pensez-vous qu'il faille instaurer des contreparties aux différentes allocations de solidarité ?</th>\n",
       "      <th>QUXVlc3Rpb246MTM5 - Si oui, lesquelles ?</th>\n",
       "      <th>QUXVlc3Rpb246MTQx - Que pensez-vous de la situation de l'immigration en France aujourd'hui et de la politique migratoire ? Quelles sont, selon vous, les critères à mettre en place pour définir la politique migratoire ?</th>\n",
       "      <th>QUXVlc3Rpb246MTQy - En matière d'immigration, une fois nos obligations d'asile remplies, souhaitez-vous que nous puissions nous fixer des objectifs annuels définis par le Parlement ?</th>\n",
       "      <th>QUXVlc3Rpb246MTQz - Que proposez-vous afin de répondre à ce défi qui va durer ?</th>\n",
       "      <th>QUXVlc3Rpb246MTQ0 - Quelles sont, selon vous, les modalités d'intégration les plus efficaces et les plus justes à mettre en place aujourd'hui dans la société ?</th>\n",
       "      <th>QUXVlc3Rpb246MTQ1 - Y a-t-il d'autres points sur la démocratie et la citoyenneté sur lesquels vous souhaiteriez vous exprimer ?</th>\n",
       "    </tr>\n",
       "  </thead>\n",
       "  <tbody>\n",
       "    <tr>\n",
       "      <th>0</th>\n",
       "      <td>1-2</td>\n",
       "      <td>Les augmentations de rémunérations</td>\n",
       "      <td>2019-01-22 09:38:41</td>\n",
       "      <td>2019-01-22 09:38:41</td>\n",
       "      <td>NaN</td>\n",
       "      <td>False</td>\n",
       "      <td>NaN</td>\n",
       "      <td>VXNlcjo4Mjc4NzQxYS0xZTFkLTExZTktOTRkMi1mYTE2M2...</td>\n",
       "      <td>Citoyen / Citoyenne</td>\n",
       "      <td>79190</td>\n",
       "      <td>...</td>\n",
       "      <td>NaN</td>\n",
       "      <td>NaN</td>\n",
       "      <td>NaN</td>\n",
       "      <td>NaN</td>\n",
       "      <td>NaN</td>\n",
       "      <td>NaN</td>\n",
       "      <td>NaN</td>\n",
       "      <td>NaN</td>\n",
       "      <td>NaN</td>\n",
       "      <td>Afin d’éviter de creuser les inégalités ne plu...</td>\n",
       "    </tr>\n",
       "    <tr>\n",
       "      <th>1</th>\n",
       "      <td>1-3</td>\n",
       "      <td>rénover l'enquête publique pour en faire un vr...</td>\n",
       "      <td>2019-01-22 09:40:04</td>\n",
       "      <td>2019-01-22 09:40:04</td>\n",
       "      <td>2019-01-22 09:41:00</td>\n",
       "      <td>False</td>\n",
       "      <td>NaN</td>\n",
       "      <td>VXNlcjo4OWQ3MzE5My0xZDYwLTExZTktOTRkMi1mYTE2M2...</td>\n",
       "      <td>Citoyen / Citoyenne</td>\n",
       "      <td>1800</td>\n",
       "      <td>...</td>\n",
       "      <td>NaN</td>\n",
       "      <td>NaN</td>\n",
       "      <td>NaN</td>\n",
       "      <td>NaN</td>\n",
       "      <td>NaN</td>\n",
       "      <td>NaN</td>\n",
       "      <td>NaN</td>\n",
       "      <td>NaN</td>\n",
       "      <td>NaN</td>\n",
       "      <td>NaN</td>\n",
       "    </tr>\n",
       "    <tr>\n",
       "      <th>2</th>\n",
       "      <td>1-4</td>\n",
       "      <td>Limitations de vitesse et sécurité routière</td>\n",
       "      <td>2019-01-22 09:44:04</td>\n",
       "      <td>2019-01-22 09:44:04</td>\n",
       "      <td>NaN</td>\n",
       "      <td>False</td>\n",
       "      <td>NaN</td>\n",
       "      <td>VXNlcjowMzYyMTUyNy0xZDEyLTExZTktOTRkMi1mYTE2M2...</td>\n",
       "      <td>Citoyen / Citoyenne</td>\n",
       "      <td>44300</td>\n",
       "      <td>...</td>\n",
       "      <td>NaN</td>\n",
       "      <td>NaN</td>\n",
       "      <td>NaN</td>\n",
       "      <td>NaN</td>\n",
       "      <td>NaN</td>\n",
       "      <td>NaN</td>\n",
       "      <td>NaN</td>\n",
       "      <td>NaN</td>\n",
       "      <td>NaN</td>\n",
       "      <td>Nous proposons le retour à la limitation de vi...</td>\n",
       "    </tr>\n",
       "    <tr>\n",
       "      <th>3</th>\n",
       "      <td>1-5</td>\n",
       "      <td>Pour un nouveau contrat citoyen</td>\n",
       "      <td>2019-01-22 09:44:05</td>\n",
       "      <td>2019-01-22 09:44:05</td>\n",
       "      <td>NaN</td>\n",
       "      <td>False</td>\n",
       "      <td>NaN</td>\n",
       "      <td>VXNlcjo4YWJlYzBmOS0xZGE3LTExZTktOTRkMi1mYTE2M2...</td>\n",
       "      <td>Citoyen / Citoyenne</td>\n",
       "      <td>29490</td>\n",
       "      <td>...</td>\n",
       "      <td>NaN</td>\n",
       "      <td>NaN</td>\n",
       "      <td>NaN</td>\n",
       "      <td>NaN</td>\n",
       "      <td>NaN</td>\n",
       "      <td>NaN</td>\n",
       "      <td>NaN</td>\n",
       "      <td>NaN</td>\n",
       "      <td>NaN</td>\n",
       "      <td>POUR UN NOUVEAU CONTRAT CITOYEN               ...</td>\n",
       "    </tr>\n",
       "    <tr>\n",
       "      <th>4</th>\n",
       "      <td>1-6</td>\n",
       "      <td>Développer les démarches de budget participati...</td>\n",
       "      <td>2019-01-22 09:45:18</td>\n",
       "      <td>2019-01-22 09:45:43</td>\n",
       "      <td>NaN</td>\n",
       "      <td>False</td>\n",
       "      <td>NaN</td>\n",
       "      <td>VXNlcjo2Nzc5MjE4OC0xZTIxLTExZTktOTRkMi1mYTE2M2...</td>\n",
       "      <td>Citoyen / Citoyenne</td>\n",
       "      <td>94300</td>\n",
       "      <td>...</td>\n",
       "      <td>NaN</td>\n",
       "      <td>NaN</td>\n",
       "      <td>NaN</td>\n",
       "      <td>NaN</td>\n",
       "      <td>NaN</td>\n",
       "      <td>NaN</td>\n",
       "      <td>NaN</td>\n",
       "      <td>NaN</td>\n",
       "      <td>NaN</td>\n",
       "      <td>NaN</td>\n",
       "    </tr>\n",
       "  </tbody>\n",
       "</table>\n",
       "<p>5 rows × 47 columns</p>\n",
       "</div>"
      ],
      "text/plain": [
       "  reference                                              title  \\\n",
       "0       1-2                 Les augmentations de rémunérations   \n",
       "1       1-3  rénover l'enquête publique pour en faire un vr...   \n",
       "2       1-4        Limitations de vitesse et sécurité routière   \n",
       "3       1-5                    Pour un nouveau contrat citoyen   \n",
       "4       1-6  Développer les démarches de budget participati...   \n",
       "\n",
       "             createdAt          publishedAt            updatedAt  trashed  \\\n",
       "0  2019-01-22 09:38:41  2019-01-22 09:38:41                  NaN    False   \n",
       "1  2019-01-22 09:40:04  2019-01-22 09:40:04  2019-01-22 09:41:00    False   \n",
       "2  2019-01-22 09:44:04  2019-01-22 09:44:04                  NaN    False   \n",
       "3  2019-01-22 09:44:05  2019-01-22 09:44:05                  NaN    False   \n",
       "4  2019-01-22 09:45:18  2019-01-22 09:45:43                  NaN    False   \n",
       "\n",
       "  trashedStatus                                           authorId  \\\n",
       "0           NaN  VXNlcjo4Mjc4NzQxYS0xZTFkLTExZTktOTRkMi1mYTE2M2...   \n",
       "1           NaN  VXNlcjo4OWQ3MzE5My0xZDYwLTExZTktOTRkMi1mYTE2M2...   \n",
       "2           NaN  VXNlcjowMzYyMTUyNy0xZDEyLTExZTktOTRkMi1mYTE2M2...   \n",
       "3           NaN  VXNlcjo4YWJlYzBmOS0xZGE3LTExZTktOTRkMi1mYTE2M2...   \n",
       "4           NaN  VXNlcjo2Nzc5MjE4OC0xZTIxLTExZTktOTRkMi1mYTE2M2...   \n",
       "\n",
       "            authorType  authorZipCode  ...  \\\n",
       "0  Citoyen / Citoyenne          79190  ...   \n",
       "1  Citoyen / Citoyenne           1800  ...   \n",
       "2  Citoyen / Citoyenne          44300  ...   \n",
       "3  Citoyen / Citoyenne          29490  ...   \n",
       "4  Citoyen / Citoyenne          94300  ...   \n",
       "\n",
       "  QUXVlc3Rpb246MTM1 - Quel pourrait être le rôle de chacun pour faire reculer les incivilités dans la société ?  \\\n",
       "0                                                NaN                                                              \n",
       "1                                                NaN                                                              \n",
       "2                                                NaN                                                              \n",
       "3                                                NaN                                                              \n",
       "4                                                NaN                                                              \n",
       "\n",
       "  QUXVlc3Rpb246MTM2 - Quelles sont les discriminations les plus répandues dont vous êtes témoin ou victime ?  \\\n",
       "0                                                NaN                                                           \n",
       "1                                                NaN                                                           \n",
       "2                                                NaN                                                           \n",
       "3                                                NaN                                                           \n",
       "4                                                NaN                                                           \n",
       "\n",
       "  QUXVlc3Rpb246MTM3 - Que faudrait-il faire pour lutter contre ces discriminations et construire une société plus solidaire et plus tolérante ?  \\\n",
       "0                                                NaN                                                                                              \n",
       "1                                                NaN                                                                                              \n",
       "2                                                NaN                                                                                              \n",
       "3                                                NaN                                                                                              \n",
       "4                                                NaN                                                                                              \n",
       "\n",
       "  QUXVlc3Rpb246MTM4 - Pensez-vous qu'il faille instaurer des contreparties aux différentes allocations de solidarité ?  \\\n",
       "0                                                NaN                                                                     \n",
       "1                                                NaN                                                                     \n",
       "2                                                NaN                                                                     \n",
       "3                                                NaN                                                                     \n",
       "4                                                NaN                                                                     \n",
       "\n",
       "  QUXVlc3Rpb246MTM5 - Si oui, lesquelles ?  \\\n",
       "0                                      NaN   \n",
       "1                                      NaN   \n",
       "2                                      NaN   \n",
       "3                                      NaN   \n",
       "4                                      NaN   \n",
       "\n",
       "  QUXVlc3Rpb246MTQx - Que pensez-vous de la situation de l'immigration en France aujourd'hui et de la politique migratoire ? Quelles sont, selon vous, les critères à mettre en place pour définir la politique migratoire ?  \\\n",
       "0                                                NaN                                                                                                                                                                           \n",
       "1                                                NaN                                                                                                                                                                           \n",
       "2                                                NaN                                                                                                                                                                           \n",
       "3                                                NaN                                                                                                                                                                           \n",
       "4                                                NaN                                                                                                                                                                           \n",
       "\n",
       "  QUXVlc3Rpb246MTQy - En matière d'immigration, une fois nos obligations d'asile remplies, souhaitez-vous que nous puissions nous fixer des objectifs annuels définis par le Parlement ?  \\\n",
       "0                                                NaN                                                                                                                                       \n",
       "1                                                NaN                                                                                                                                       \n",
       "2                                                NaN                                                                                                                                       \n",
       "3                                                NaN                                                                                                                                       \n",
       "4                                                NaN                                                                                                                                       \n",
       "\n",
       "  QUXVlc3Rpb246MTQz - Que proposez-vous afin de répondre à ce défi qui va durer ?  \\\n",
       "0                                                NaN                                \n",
       "1                                                NaN                                \n",
       "2                                                NaN                                \n",
       "3                                                NaN                                \n",
       "4                                                NaN                                \n",
       "\n",
       "  QUXVlc3Rpb246MTQ0 - Quelles sont, selon vous, les modalités d'intégration les plus efficaces et les plus justes à mettre en place aujourd'hui dans la société ?  \\\n",
       "0                                                NaN                                                                                                                \n",
       "1                                                NaN                                                                                                                \n",
       "2                                                NaN                                                                                                                \n",
       "3                                                NaN                                                                                                                \n",
       "4                                                NaN                                                                                                                \n",
       "\n",
       "  QUXVlc3Rpb246MTQ1 - Y a-t-il d'autres points sur la démocratie et la citoyenneté sur lesquels vous souhaiteriez vous exprimer ?  \n",
       "0  Afin d’éviter de creuser les inégalités ne plu...                                                                               \n",
       "1                                                NaN                                                                               \n",
       "2  Nous proposons le retour à la limitation de vi...                                                                               \n",
       "3  POUR UN NOUVEAU CONTRAT CITOYEN               ...                                                                               \n",
       "4                                                NaN                                                                               \n",
       "\n",
       "[5 rows x 47 columns]"
      ]
     },
     "execution_count": 9,
     "metadata": {},
     "output_type": "execute_result"
    }
   ],
   "source": [
    "data_dem.head()"
   ]
  },
  {
   "cell_type": "markdown",
   "metadata": {},
   "source": [
    "## Concatenation Contributions/Coordonnees GPS (OK)"
   ]
  },
  {
   "cell_type": "markdown",
   "metadata": {},
   "source": [
    "### parcours et nettoyage des données:"
   ]
  },
  {
   "cell_type": "markdown",
   "metadata": {},
   "source": [
    "On va concatener chaque thème avec les coordonnees GPS et le Code INSEE associé."
   ]
  },
  {
   "cell_type": "markdown",
   "metadata": {},
   "source": [
    "**On convertit en entiers les codes postaux dans chaque jeu de données :**"
   ]
  },
  {
   "cell_type": "code",
   "execution_count": 10,
   "metadata": {
    "scrolled": false
   },
   "outputs": [],
   "source": [
    "data_ecolo['authorZipCode']=data_ecolo['authorZipCode'].astype(np.int64)\n",
    "data_serv_pub['authorZipCode']=data_serv_pub['authorZipCode'].astype(np.int64)\n",
    "data_fisc['authorZipCode']=data_fisc['authorZipCode'].astype(np.int64)\n",
    "data_dem['authorZipCode']=data_dem['authorZipCode'].astype(np.int64)"
   ]
  },
  {
   "cell_type": "markdown",
   "metadata": {},
   "source": [
    "**On ne selectionne que les codes postaux situés entre 1000 et 96000 :**"
   ]
  },
  {
   "cell_type": "code",
   "execution_count": 14,
   "metadata": {
    "scrolled": true
   },
   "outputs": [],
   "source": [
    "#ecolo : \n",
    "data_ecolo=data_ecolo.loc[data_ecolo['authorZipCode']>=1000]\n",
    "data_ecolo=data_ecolo.loc[data_ecolo['authorZipCode']<96000]\n",
    "#serv_pub : \n",
    "data_serv_pub=data_serv_pub.loc[data_serv_pub['authorZipCode']>=1000]\n",
    "data_serv_pub=data_serv_pub.loc[data_serv_pub['authorZipCode']<96000]\n",
    "#fisc :\n",
    "data_fisc=data_fisc.loc[data_fisc['authorZipCode']>=1000]\n",
    "data_fisc=data_fisc.loc[data_fisc['authorZipCode']<96000]\n",
    "#dem\n",
    "data_dem=data_dem.loc[data_dem['authorZipCode']>=1000]\n",
    "data_dem=data_dem.loc[data_dem['authorZipCode']<96000]"
   ]
  },
  {
   "cell_type": "markdown",
   "metadata": {},
   "source": [
    "**On créée un dictionnaire pour associer code postal et coordonnées gps/Code INSEE:**"
   ]
  },
  {
   "cell_type": "code",
   "execution_count": 15,
   "metadata": {},
   "outputs": [],
   "source": [
    "CP_GPS = pd.DataFrame({'CP':Data_Zip_Code['Code_postal'], 'GPS':Data_Zip_Code['coordonnees_gps']})\n",
    "CP_Insee = pd.DataFrame({'CP':Data_Zip_Code['Code_postal'], 'Insee':Data_Zip_Code['Code_commune_INSEE']})\n",
    "\n",
    "CP_GPS_d = CP_GPS.set_index('CP').to_dict()['GPS']\n",
    "CP_Insee_d = CP_Insee.set_index('CP').to_dict()['Insee']"
   ]
  },
  {
   "cell_type": "markdown",
   "metadata": {},
   "source": [
    "**Mapping code postal/Coordonnees :**"
   ]
  },
  {
   "cell_type": "code",
   "execution_count": 16,
   "metadata": {},
   "outputs": [],
   "source": [
    "data_ecolo['Coordonnees']= data_ecolo['authorZipCode'].map(CP_GPS_d)\n",
    "data_serv_pub['Coordonnees']= data_serv_pub['authorZipCode'].map(CP_GPS_d)\n",
    "data_fisc['Coordonnees']= data_fisc['authorZipCode'].map(CP_GPS_d)\n",
    "data_dem['Coordonnees']= data_dem['authorZipCode'].map(CP_GPS_d)"
   ]
  },
  {
   "cell_type": "markdown",
   "metadata": {},
   "source": [
    "**Mapping code postal/code insee :**"
   ]
  },
  {
   "cell_type": "code",
   "execution_count": 17,
   "metadata": {},
   "outputs": [],
   "source": [
    "data_ecolo['Code_Insee']= data_ecolo['authorZipCode'].map(CP_Insee_d)\n",
    "data_serv_pub['Code_Insee']= data_serv_pub['authorZipCode'].map(CP_Insee_d)\n",
    "data_fisc['Code_Insee']= data_fisc['authorZipCode'].map(CP_Insee_d)\n",
    "data_dem['Code_Insee']= data_dem['authorZipCode'].map(CP_Insee_d)"
   ]
  },
  {
   "cell_type": "markdown",
   "metadata": {},
   "source": [
    "#### Somme des nans de chaque colonne construite : "
   ]
  },
  {
   "cell_type": "markdown",
   "metadata": {},
   "source": [
    "**Coordonnees :**"
   ]
  },
  {
   "cell_type": "code",
   "execution_count": 21,
   "metadata": {},
   "outputs": [
    {
     "data": {
      "text/plain": [
       "263"
      ]
     },
     "execution_count": 21,
     "metadata": {},
     "output_type": "execute_result"
    }
   ],
   "source": [
    "data_ecolo['Coordonnees'].isna().sum()"
   ]
  },
  {
   "cell_type": "code",
   "execution_count": 22,
   "metadata": {},
   "outputs": [
    {
     "data": {
      "text/plain": [
       "408"
      ]
     },
     "execution_count": 22,
     "metadata": {},
     "output_type": "execute_result"
    }
   ],
   "source": [
    "data_serv_pub['Coordonnees'].isna().sum()"
   ]
  },
  {
   "cell_type": "code",
   "execution_count": 23,
   "metadata": {},
   "outputs": [
    {
     "data": {
      "text/plain": [
       "776"
      ]
     },
     "execution_count": 23,
     "metadata": {},
     "output_type": "execute_result"
    }
   ],
   "source": [
    "data_fisc['Coordonnees'].isna().sum()"
   ]
  },
  {
   "cell_type": "code",
   "execution_count": 24,
   "metadata": {},
   "outputs": [
    {
     "data": {
      "text/plain": [
       "534"
      ]
     },
     "execution_count": 24,
     "metadata": {},
     "output_type": "execute_result"
    }
   ],
   "source": [
    "data_dem['Coordonnees'].isna().sum()"
   ]
  },
  {
   "cell_type": "markdown",
   "metadata": {},
   "source": [
    "**Code INSEE :** "
   ]
  },
  {
   "cell_type": "code",
   "execution_count": 25,
   "metadata": {},
   "outputs": [
    {
     "data": {
      "text/plain": [
       "263"
      ]
     },
     "execution_count": 25,
     "metadata": {},
     "output_type": "execute_result"
    }
   ],
   "source": [
    "data_ecolo['Code_Insee'].isna().sum()"
   ]
  },
  {
   "cell_type": "code",
   "execution_count": 26,
   "metadata": {},
   "outputs": [
    {
     "data": {
      "text/plain": [
       "408"
      ]
     },
     "execution_count": 26,
     "metadata": {},
     "output_type": "execute_result"
    }
   ],
   "source": [
    "data_serv_pub['Code_Insee'].isna().sum()"
   ]
  },
  {
   "cell_type": "code",
   "execution_count": 27,
   "metadata": {},
   "outputs": [
    {
     "data": {
      "text/plain": [
       "776"
      ]
     },
     "execution_count": 27,
     "metadata": {},
     "output_type": "execute_result"
    }
   ],
   "source": [
    "data_fisc['Code_Insee'].isna().sum()"
   ]
  },
  {
   "cell_type": "code",
   "execution_count": 28,
   "metadata": {},
   "outputs": [
    {
     "data": {
      "text/plain": [
       "534"
      ]
     },
     "execution_count": 28,
     "metadata": {},
     "output_type": "execute_result"
    }
   ],
   "source": [
    "data_dem['Code_Insee'].isna().sum()"
   ]
  },
  {
   "cell_type": "markdown",
   "metadata": {},
   "source": [
    "**On retrouve exactement le même nombre de nans pour chaque thème.**\n",
    "\n",
    "On peut donc se dire qu'il s'agit d'une faute de frappe. \n",
    "\n",
    "Par conséquent, on remplace chaque nans (pour les codes insee et les coordonnées) par les valeurs précédentes, en ayant trié chaque base par code postal croissant au préalable."
   ]
  },
  {
   "cell_type": "markdown",
   "metadata": {},
   "source": [
    "**Tri par code postal croissant :**"
   ]
  },
  {
   "cell_type": "code",
   "execution_count": 29,
   "metadata": {},
   "outputs": [],
   "source": [
    "data_ecolo.sort_values(by=['authorZipCode'],inplace=True)\n",
    "data_serv_pub.sort_values(by=['authorZipCode'],inplace=True)\n",
    "data_fisc.sort_values(by=['authorZipCode'],inplace=True)\n",
    "data_dem.sort_values(by=['authorZipCode'],inplace=True)\n",
    "#On reset l'index pour avoir toujours 1,2,...n-1 : \n",
    "data_ecolo.reset_index(drop=True,inplace=True)\n",
    "data_serv_pub.reset_index(drop=True,inplace=True)\n",
    "data_fisc.reset_index(drop=True,inplace=True)\n",
    "data_dem.reset_index(drop=True,inplace=True)"
   ]
  },
  {
   "cell_type": "markdown",
   "metadata": {},
   "source": [
    "**Remplacement des coordonnées GPS et des codes insee par les valeurs précédentes dans la colonne :**"
   ]
  },
  {
   "cell_type": "code",
   "execution_count": 31,
   "metadata": {},
   "outputs": [],
   "source": [
    "#Coordonnées :\n",
    "data_ecolo['Coordonnees'].fillna(method='pad', inplace=True)\n",
    "data_serv_pub['Coordonnees'].fillna(method='pad', inplace=True)\n",
    "data_fisc['Coordonnees'].fillna(method='pad', inplace=True)\n",
    "data_dem['Coordonnees'].fillna(method='pad', inplace=True)\n",
    "\n",
    "#Code insee :\n",
    "data_ecolo['Code_Insee'].fillna(method='pad', inplace=True)\n",
    "data_serv_pub['Code_Insee'].fillna(method='pad', inplace=True)\n",
    "data_fisc['Code_Insee'].fillna(method='pad', inplace=True)\n",
    "data_dem['Code_Insee'].fillna(method='pad', inplace=True)"
   ]
  },
  {
   "cell_type": "markdown",
   "metadata": {},
   "source": [
    "**Vérification du nombre de nans :**"
   ]
  },
  {
   "cell_type": "code",
   "execution_count": 32,
   "metadata": {
    "scrolled": true
   },
   "outputs": [
    {
     "data": {
      "text/plain": [
       "0"
      ]
     },
     "execution_count": 32,
     "metadata": {},
     "output_type": "execute_result"
    }
   ],
   "source": [
    "data_ecolo['Coordonnees'].isna().sum()"
   ]
  },
  {
   "cell_type": "code",
   "execution_count": 33,
   "metadata": {},
   "outputs": [
    {
     "data": {
      "text/plain": [
       "0"
      ]
     },
     "execution_count": 33,
     "metadata": {},
     "output_type": "execute_result"
    }
   ],
   "source": [
    "data_serv_pub['Coordonnees'].isna().sum()"
   ]
  },
  {
   "cell_type": "code",
   "execution_count": 34,
   "metadata": {},
   "outputs": [
    {
     "data": {
      "text/plain": [
       "0"
      ]
     },
     "execution_count": 34,
     "metadata": {},
     "output_type": "execute_result"
    }
   ],
   "source": [
    "data_fisc['Coordonnees'].isna().sum()"
   ]
  },
  {
   "cell_type": "code",
   "execution_count": 35,
   "metadata": {},
   "outputs": [
    {
     "data": {
      "text/plain": [
       "0"
      ]
     },
     "execution_count": 35,
     "metadata": {},
     "output_type": "execute_result"
    }
   ],
   "source": [
    "data_dem['Coordonnees'].isna().sum()"
   ]
  },
  {
   "cell_type": "code",
   "execution_count": 36,
   "metadata": {
    "scrolled": true
   },
   "outputs": [
    {
     "data": {
      "text/plain": [
       "0"
      ]
     },
     "execution_count": 36,
     "metadata": {},
     "output_type": "execute_result"
    }
   ],
   "source": [
    "data_ecolo['Code_Insee'].isna().sum()"
   ]
  },
  {
   "cell_type": "code",
   "execution_count": 37,
   "metadata": {},
   "outputs": [
    {
     "data": {
      "text/plain": [
       "0"
      ]
     },
     "execution_count": 37,
     "metadata": {},
     "output_type": "execute_result"
    }
   ],
   "source": [
    "data_serv_pub['Code_Insee'].isna().sum()"
   ]
  },
  {
   "cell_type": "code",
   "execution_count": 38,
   "metadata": {},
   "outputs": [
    {
     "data": {
      "text/plain": [
       "0"
      ]
     },
     "execution_count": 38,
     "metadata": {},
     "output_type": "execute_result"
    }
   ],
   "source": [
    "data_fisc['Code_Insee'].isna().sum()"
   ]
  },
  {
   "cell_type": "code",
   "execution_count": 39,
   "metadata": {},
   "outputs": [
    {
     "data": {
      "text/plain": [
       "0"
      ]
     },
     "execution_count": 39,
     "metadata": {},
     "output_type": "execute_result"
    }
   ],
   "source": [
    "data_dem['Code_Insee'].isna().sum()"
   ]
  },
  {
   "cell_type": "markdown",
   "metadata": {},
   "source": [
    "**Il n'y a plus de nans !**"
   ]
  },
  {
   "cell_type": "markdown",
   "metadata": {},
   "source": [
    "### Saving to csv :"
   ]
  },
  {
   "cell_type": "code",
   "execution_count": 40,
   "metadata": {},
   "outputs": [],
   "source": [
    "data_ecolo.to_csv('Donnees_clean/contributions_coordonnees_insee/data_ecolo_coord_insee.csv')\n",
    "data_serv_pub.to_csv('Donnees_clean/contributions_coordonnees_insee/data_serv_pub_coord_insee.csv')\n",
    "data_fisc.to_csv('Donnees_clean/contributions_coordonnees_insee/data_fisc_coord_insee.csv')\n",
    "data_dem.to_csv('Donnees_clean/contributions_coordonnees_insee/data_dem_coord_insee.csv')"
   ]
  },
  {
   "cell_type": "markdown",
   "metadata": {},
   "source": [
    "## Concatenation résultats elections"
   ]
  },
  {
   "cell_type": "markdown",
   "metadata": {},
   "source": [
    "On va concatener les bases de données des contributions **avec code insee et coordonnees** par thèmes avec les résultats des élections interessants :"
   ]
  },
  {
   "cell_type": "code",
   "execution_count": 41,
   "metadata": {},
   "outputs": [
    {
     "name": "stderr",
     "output_type": "stream",
     "text": [
      "C:\\Users\\adrie\\Anaconda3\\lib\\site-packages\\IPython\\core\\interactiveshell.py:3049: DtypeWarning: Columns (7,28) have mixed types. Specify dtype option on import or set low_memory=False.\n",
      "  interactivity=interactivity, compiler=compiler, result=result)\n",
      "C:\\Users\\adrie\\Anaconda3\\lib\\site-packages\\IPython\\core\\interactiveshell.py:3049: DtypeWarning: Columns (7,45) have mixed types. Specify dtype option on import or set low_memory=False.\n",
      "  interactivity=interactivity, compiler=compiler, result=result)\n",
      "C:\\Users\\adrie\\Anaconda3\\lib\\site-packages\\IPython\\core\\interactiveshell.py:3049: DtypeWarning: Columns (7,20) have mixed types. Specify dtype option on import or set low_memory=False.\n",
      "  interactivity=interactivity, compiler=compiler, result=result)\n",
      "C:\\Users\\adrie\\Anaconda3\\lib\\site-packages\\IPython\\core\\interactiveshell.py:3049: DtypeWarning: Columns (49) have mixed types. Specify dtype option on import or set low_memory=False.\n",
      "  interactivity=interactivity, compiler=compiler, result=result)\n"
     ]
    }
   ],
   "source": [
    "#On ouvre pour chaque thème le fichier contenant les contributions et les coordonnées/Codes INSEE associés :\n",
    "data_ecolo_coord_insee=pd.read_csv('Donnees_clean/contributions_coordonnees_insee/data_ecolo_coord_insee.csv')\n",
    "data_serv_pub_coord_insee=pd.read_csv('Donnees_clean/contributions_coordonnees_insee/data_serv_pub_coord_insee.csv')\n",
    "data_fisc_coord_insee=pd.read_csv('Donnees_clean/contributions_coordonnees_insee/data_fisc_coord_insee.csv')\n",
    "data_dem_coord_insee=pd.read_csv('Donnees_clean/contributions_coordonnees_insee/data_dem_coord_insee.csv')"
   ]
  },
  {
   "cell_type": "markdown",
   "metadata": {},
   "source": [
    "Import résultats d'élections :"
   ]
  },
  {
   "cell_type": "code",
   "execution_count": 44,
   "metadata": {
    "scrolled": true
   },
   "outputs": [
    {
     "name": "stderr",
     "output_type": "stream",
     "text": [
      "C:\\Users\\adrie\\Anaconda3\\lib\\site-packages\\IPython\\core\\interactiveshell.py:3049: DtypeWarning: Columns (0,1) have mixed types. Specify dtype option on import or set low_memory=False.\n",
      "  interactivity=interactivity, compiler=compiler, result=result)\n"
     ]
    }
   ],
   "source": [
    "#résultats d'élections :\n",
    "elections_pres=pd.read_csv('Donnees/presidentielles/Presidentielle_2017_Resultats_Communes_T1_clean_def.csv',error_bad_lines=False)"
   ]
  },
  {
   "cell_type": "code",
   "execution_count": 45,
   "metadata": {},
   "outputs": [],
   "source": [
    "elections_pres.CodeInsee=elections_pres.CodeInsee.astype(str)\n",
    "data_ecolo_coord_insee.Code_Insee=data_ecolo_coord_insee.Code_Insee.astype(str)\n",
    "data_serv_pub_coord_insee.Code_Insee=data_serv_pub_coord_insee.Code_Insee.astype(str)\n",
    "data_fisc_coord_insee.Code_Insee=data_fisc_coord_insee.Code_Insee.astype(str)\n",
    "data_dem_coord_insee.Code_Insee=data_dem_coord_insee.Code_Insee.astype(str)"
   ]
  },
  {
   "cell_type": "markdown",
   "metadata": {},
   "source": [
    "Appartenance à la commune :"
   ]
  },
  {
   "cell_type": "code",
   "execution_count": 46,
   "metadata": {},
   "outputs": [],
   "source": [
    "df_appartenance_ar=pd.read_excel('Donnees/Code_communes/table-appartenance-geo-communes-19.xls',sheet_name='ARM',header=5)"
   ]
  },
  {
   "cell_type": "code",
   "execution_count": 47,
   "metadata": {},
   "outputs": [],
   "source": [
    "CodeI_CodeC = pd.DataFrame({'CodeGeo':df_appartenance_ar['CODGEO'].astype('str'), 'CodeCom':df_appartenance_ar['COM'].astype('str')})\n",
    "CodeI_CodeC_d = CodeI_CodeC.set_index('CodeGeo').to_dict()['CodeCom']\n",
    "\n",
    "data_ecolo_coord_insee.replace({'Code_Insee': CodeI_CodeC_d},inplace=True)\n",
    "data_fisc_coord_insee.replace({'Code_Insee': CodeI_CodeC_d},inplace=True)\n",
    "data_serv_pub_coord_insee.replace({'Code_Insee': CodeI_CodeC_d},inplace=True)\n",
    "data_dem_coord_insee.replace({'Code_Insee': CodeI_CodeC_d},inplace=True)"
   ]
  },
  {
   "cell_type": "markdown",
   "metadata": {},
   "source": [
    "Merging :"
   ]
  },
  {
   "cell_type": "code",
   "execution_count": 50,
   "metadata": {},
   "outputs": [],
   "source": [
    "df_ecolo_elec=pd.merge(elections_pres, data_ecolo_coord_insee, left_on='CodeInsee',right_on='Code_Insee', how='inner')\n",
    "df_fisc_elec=pd.merge(elections_pres, data_fisc_coord_insee, left_on='CodeInsee',right_on='Code_Insee', how='inner')\n",
    "df_serv_pub_elec=pd.merge(elections_pres, data_serv_pub_coord_insee, left_on='CodeInsee',right_on='Code_Insee', how='inner')\n",
    "df_dem_elec=pd.merge(elections_pres, data_dem_coord_insee, left_on='CodeInsee',right_on='Code_Insee', how='inner')"
   ]
  },
  {
   "cell_type": "markdown",
   "metadata": {},
   "source": [
    "Saving :"
   ]
  },
  {
   "cell_type": "code",
   "execution_count": 53,
   "metadata": {},
   "outputs": [],
   "source": [
    "df_ecolo_elec.to_csv('Donnees_clean/contributions_elections/data_ecolo_elec.csv', index=False)\n",
    "df_fisc_elec.to_csv('Donnees_clean/contributions_elections/data_fisc_elec.csv', index=False)\n",
    "df_serv_pub_elec.to_csv('Donnees_clean/contributions_elections/data_serv_pub_elec.csv', index=False)\n",
    "df_dem_elec.to_csv('Donnees_clean/contributions_elections/data_dem_elec.csv', index=False)"
   ]
  },
  {
   "cell_type": "markdown",
   "metadata": {
    "heading_collapsed": true
   },
   "source": [
    "## Concaténation tweets + merge parti"
   ]
  },
  {
   "cell_type": "markdown",
   "metadata": {
    "hidden": true
   },
   "source": [
    "### Base de données #Elysée2017"
   ]
  },
  {
   "cell_type": "markdown",
   "metadata": {
    "hidden": true
   },
   "source": [
    "#### Imports :"
   ]
  },
  {
   "cell_type": "code",
   "execution_count": 4,
   "metadata": {
    "hidden": true
   },
   "outputs": [],
   "source": [
    "#https://www.newbedev.com/python/howto/how-to-iterate-over-files-in-a-given-directory/\n",
    "\n",
    "Filenames=[]\n",
    "for subdir, dirs, files in os.walk(r'C:/Users/adrie/Documents/Centrale/G3/DATA/Projet integ/Projet_Travail/Donnees/tweets_pol'):\n",
    "    for filename in files:\n",
    "        if filename.endswith(\".csv\"):\n",
    "            Filenames.append(filename)\n",
    "            \n",
    "dfprofiles_clean=pd.read_csv('Donnees_clean/twitter/utilisateurs/profiles_annotations.csv')"
   ]
  },
  {
   "cell_type": "markdown",
   "metadata": {
    "hidden": true
   },
   "source": [
    "#### Concatenation de tous les tweets de chaque profil et concatenation de tous les profils :"
   ]
  },
  {
   "cell_type": "code",
   "execution_count": 5,
   "metadata": {
    "hidden": true
   },
   "outputs": [],
   "source": [
    "df_profiles_tweets=pd.DataFrame(columns=['id_profile', 'tweets', 'party'])"
   ]
  },
  {
   "cell_type": "code",
   "execution_count": 6,
   "metadata": {
    "hidden": true
   },
   "outputs": [],
   "source": [
    "df_profiles_tweets.id_profile=[int(filename[:-4]) for filename in Filenames]"
   ]
  },
  {
   "cell_type": "code",
   "execution_count": 7,
   "metadata": {
    "hidden": true
   },
   "outputs": [],
   "source": [
    "All_tweets=[\" \".join(pd.read_csv('Donnees/tweets_pol/'+file).tweet) for file in Filenames]"
   ]
  },
  {
   "cell_type": "code",
   "execution_count": 8,
   "metadata": {
    "hidden": true
   },
   "outputs": [
    {
     "name": "stdout",
     "output_type": "stream",
     "text": [
      "<class 'pandas.core.frame.DataFrame'>\n",
      "RangeIndex: 14211 entries, 0 to 14210\n",
      "Data columns (total 3 columns):\n",
      "id_profile    14211 non-null int64\n",
      "tweets        14211 non-null object\n",
      "party         0 non-null object\n",
      "dtypes: int64(1), object(2)\n",
      "memory usage: 333.1+ KB\n"
     ]
    }
   ],
   "source": [
    "df_profiles_tweets.tweets=All_tweets\n",
    "df_profiles_tweets.tweets.astype('str', inplace=True)\n",
    "df_profiles_tweets.info()"
   ]
  },
  {
   "cell_type": "markdown",
   "metadata": {
    "hidden": true
   },
   "source": [
    "#### Mapping/merging :"
   ]
  },
  {
   "cell_type": "code",
   "execution_count": 9,
   "metadata": {
    "hidden": true
   },
   "outputs": [],
   "source": [
    "id_to_party=dfprofiles_clean.set_index('FROM_USER_ID')['PARTY'].to_dict()\n",
    "df_profiles_tweets['party']=df_profiles_tweets['id_profile'].map(id_to_party)"
   ]
  },
  {
   "cell_type": "code",
   "execution_count": 10,
   "metadata": {
    "hidden": true,
    "scrolled": true
   },
   "outputs": [
    {
     "data": {
      "text/html": [
       "<div>\n",
       "<style scoped>\n",
       "    .dataframe tbody tr th:only-of-type {\n",
       "        vertical-align: middle;\n",
       "    }\n",
       "\n",
       "    .dataframe tbody tr th {\n",
       "        vertical-align: top;\n",
       "    }\n",
       "\n",
       "    .dataframe thead th {\n",
       "        text-align: right;\n",
       "    }\n",
       "</style>\n",
       "<table border=\"1\" class=\"dataframe\">\n",
       "  <thead>\n",
       "    <tr style=\"text-align: right;\">\n",
       "      <th></th>\n",
       "      <th>id_profile</th>\n",
       "      <th>tweets</th>\n",
       "      <th>party</th>\n",
       "    </tr>\n",
       "  </thead>\n",
       "  <tbody>\n",
       "    <tr>\n",
       "      <th>0</th>\n",
       "      <td>100036070</td>\n",
       "      <td>Bisous Moi aussi :) bon après-midi bisous Ca n...</td>\n",
       "      <td>em</td>\n",
       "    </tr>\n",
       "    <tr>\n",
       "      <th>1</th>\n",
       "      <td>100042705</td>\n",
       "      <td>C'est pas déjà fait avec \"En Marche\" ? Je comp...</td>\n",
       "      <td>ps</td>\n",
       "    </tr>\n",
       "    <tr>\n",
       "      <th>2</th>\n",
       "      <td>1001415254</td>\n",
       "      <td>#directSH revirement plus que tardif des écolo...</td>\n",
       "      <td>ps</td>\n",
       "    </tr>\n",
       "    <tr>\n",
       "      <th>3</th>\n",
       "      <td>1001470369</td>\n",
       "      <td>Mort à la cité par projets Ça m’angoisse un pe...</td>\n",
       "      <td>fi</td>\n",
       "    </tr>\n",
       "    <tr>\n",
       "      <th>4</th>\n",
       "      <td>1001569926</td>\n",
       "      <td>.@vpecresse très claire sur la grève du #5déce...</td>\n",
       "      <td>em/lr</td>\n",
       "    </tr>\n",
       "  </tbody>\n",
       "</table>\n",
       "</div>"
      ],
      "text/plain": [
       "   id_profile                                             tweets  party\n",
       "0   100036070  Bisous Moi aussi :) bon après-midi bisous Ca n...     em\n",
       "1   100042705  C'est pas déjà fait avec \"En Marche\" ? Je comp...     ps\n",
       "2  1001415254  #directSH revirement plus que tardif des écolo...     ps\n",
       "3  1001470369  Mort à la cité par projets Ça m’angoisse un pe...     fi\n",
       "4  1001569926  .@vpecresse très claire sur la grève du #5déce...  em/lr"
      ]
     },
     "execution_count": 10,
     "metadata": {},
     "output_type": "execute_result"
    }
   ],
   "source": [
    "df_profiles_tweets.head()"
   ]
  },
  {
   "cell_type": "code",
   "execution_count": 11,
   "metadata": {
    "hidden": true
   },
   "outputs": [
    {
     "data": {
      "text/plain": [
       "id_profile    0\n",
       "tweets        0\n",
       "party         0\n",
       "dtype: int64"
      ]
     },
     "execution_count": 11,
     "metadata": {},
     "output_type": "execute_result"
    }
   ],
   "source": [
    "df_profiles_tweets.isna().sum()"
   ]
  },
  {
   "cell_type": "markdown",
   "metadata": {
    "hidden": true
   },
   "source": [
    "#### Saving :"
   ]
  },
  {
   "cell_type": "code",
   "execution_count": 12,
   "metadata": {
    "hidden": true
   },
   "outputs": [],
   "source": [
    "df_profiles_tweets.to_csv('Donnees_clean/twitter/tweets/tweets_elysee_2017.csv')"
   ]
  },
  {
   "cell_type": "markdown",
   "metadata": {
    "hidden": true
   },
   "source": [
    "### Parlementaires :"
   ]
  },
  {
   "cell_type": "markdown",
   "metadata": {
    "hidden": true
   },
   "source": [
    "#### Députés : "
   ]
  },
  {
   "cell_type": "markdown",
   "metadata": {
    "hidden": true
   },
   "source": [
    "##### imports :"
   ]
  },
  {
   "cell_type": "code",
   "execution_count": 40,
   "metadata": {
    "hidden": true,
    "scrolled": true
   },
   "outputs": [],
   "source": [
    "#https://www.newbedev.com/python/howto/how-to-iterate-over-files-in-a-given-directory/\n",
    "\n",
    "Filenames=[]\n",
    "for subdir, dirs, files in os.walk(r'C:/Users/adrie/Documents/Centrale/G3/DATA/Projet integ/Projet_Travail//Donnees/twitter_parlementaires/tweets_deputes'):\n",
    "    for filename in files:\n",
    "        if filename.endswith(\".csv\"):\n",
    "            Filenames.append(filename)\n",
    "            \n",
    "df_deputes_info=pd.read_csv('Donnees/twitter_parlementaires/liste_deputes_libre_office.csv')\n",
    "df_deputes=pd.read_csv('Donnees/twitter_parlementaires/deputes.csv')"
   ]
  },
  {
   "cell_type": "markdown",
   "metadata": {
    "hidden": true
   },
   "source": [
    "##### Concatenation de tous les tweets de chaque profil et concatenation de tous les profils :"
   ]
  },
  {
   "cell_type": "code",
   "execution_count": 41,
   "metadata": {
    "hidden": true
   },
   "outputs": [],
   "source": [
    "df_profiles_tweets_deputes=pd.DataFrame(columns=['id_profile', 'tweets', 'party'])"
   ]
  },
  {
   "cell_type": "code",
   "execution_count": 42,
   "metadata": {
    "hidden": true
   },
   "outputs": [],
   "source": [
    "df_profiles_tweets_deputes.id_profile=[int(filename[:-4]) for filename in Filenames]"
   ]
  },
  {
   "cell_type": "code",
   "execution_count": 43,
   "metadata": {
    "hidden": true
   },
   "outputs": [],
   "source": [
    "All_tweets=[\" \".join(pd.read_csv('C:/Users/adrie/Documents/Centrale/G3/DATA/Projet integ/Projet_Travail/Donnees/twitter_parlementaires/tweets_deputes//'+file).tweet) for file in Filenames]"
   ]
  },
  {
   "cell_type": "code",
   "execution_count": 44,
   "metadata": {
    "hidden": true,
    "scrolled": false
   },
   "outputs": [
    {
     "name": "stdout",
     "output_type": "stream",
     "text": [
      "<class 'pandas.core.frame.DataFrame'>\n",
      "RangeIndex: 532 entries, 0 to 531\n",
      "Data columns (total 3 columns):\n",
      "id_profile    532 non-null int64\n",
      "tweets        532 non-null object\n",
      "party         0 non-null object\n",
      "dtypes: int64(1), object(2)\n",
      "memory usage: 12.5+ KB\n"
     ]
    }
   ],
   "source": [
    "df_profiles_tweets_deputes.tweets=All_tweets\n",
    "df_profiles_tweets_deputes.tweets.astype('str', inplace=True)\n",
    "df_profiles_tweets_deputes.info()"
   ]
  },
  {
   "cell_type": "markdown",
   "metadata": {
    "hidden": true
   },
   "source": [
    "##### Mapping/merging :"
   ]
  },
  {
   "cell_type": "code",
   "execution_count": 45,
   "metadata": {
    "hidden": true
   },
   "outputs": [],
   "source": [
    "df_deputes_info['nom complet']=[\" \".join((df_deputes_info['Prénom'].iloc[i], df_deputes_info['Nom'].iloc[i])) for i in range(df_deputes_info.shape[0])]"
   ]
  },
  {
   "cell_type": "code",
   "execution_count": 46,
   "metadata": {
    "hidden": true
   },
   "outputs": [],
   "source": [
    "name_to_party=df_deputes_info.set_index('nom complet')['Groupe politique (abrégé)'].to_dict()\n",
    "df_deputes['party']=df_deputes['nom'].map(name_to_party)"
   ]
  },
  {
   "cell_type": "code",
   "execution_count": 47,
   "metadata": {
    "hidden": true
   },
   "outputs": [
    {
     "data": {
      "text/plain": [
       "26"
      ]
     },
     "execution_count": 47,
     "metadata": {},
     "output_type": "execute_result"
    }
   ],
   "source": [
    "df_deputes.party.isna().sum()"
   ]
  },
  {
   "cell_type": "code",
   "execution_count": 48,
   "metadata": {
    "hidden": true
   },
   "outputs": [],
   "source": [
    "df_deputes.dropna(subset=['party'], inplace=True)"
   ]
  },
  {
   "cell_type": "code",
   "execution_count": 49,
   "metadata": {
    "hidden": true,
    "scrolled": true
   },
   "outputs": [
    {
     "data": {
      "text/plain": [
       "0"
      ]
     },
     "execution_count": 49,
     "metadata": {},
     "output_type": "execute_result"
    }
   ],
   "source": [
    "df_deputes.party.isna().sum()"
   ]
  },
  {
   "cell_type": "code",
   "execution_count": 50,
   "metadata": {
    "hidden": true
   },
   "outputs": [],
   "source": [
    "id_to_party=df_deputes.set_index('twitter_id')['party'].to_dict()\n",
    "df_profiles_tweets_deputes['party']=df_profiles_tweets_deputes['id_profile'].map(id_to_party)"
   ]
  },
  {
   "cell_type": "code",
   "execution_count": 52,
   "metadata": {
    "hidden": true
   },
   "outputs": [
    {
     "data": {
      "text/plain": [
       "id_profile     0\n",
       "tweets         0\n",
       "party         26\n",
       "dtype: int64"
      ]
     },
     "execution_count": 52,
     "metadata": {},
     "output_type": "execute_result"
    }
   ],
   "source": [
    "df_profiles_tweets_deputes.isna().sum()"
   ]
  },
  {
   "cell_type": "markdown",
   "metadata": {
    "hidden": true
   },
   "source": [
    "Puisqu'il s'agit de députés n'exerçant plus, on supprime tout ceux dont on n'a pas le parti :"
   ]
  },
  {
   "cell_type": "code",
   "execution_count": 53,
   "metadata": {
    "hidden": true
   },
   "outputs": [],
   "source": [
    "df_profiles_tweets_deputes.dropna(subset=['party'], inplace=True)"
   ]
  },
  {
   "cell_type": "code",
   "execution_count": 54,
   "metadata": {
    "hidden": true,
    "scrolled": true
   },
   "outputs": [
    {
     "data": {
      "text/plain": [
       "id_profile    0\n",
       "tweets        0\n",
       "party         0\n",
       "dtype: int64"
      ]
     },
     "execution_count": 54,
     "metadata": {},
     "output_type": "execute_result"
    }
   ],
   "source": [
    "df_profiles_tweets_deputes.isna().sum()"
   ]
  },
  {
   "cell_type": "markdown",
   "metadata": {
    "hidden": true
   },
   "source": [
    "#### Sénateurs :"
   ]
  },
  {
   "cell_type": "markdown",
   "metadata": {
    "hidden": true
   },
   "source": [
    "##### imports :"
   ]
  },
  {
   "cell_type": "code",
   "execution_count": 29,
   "metadata": {
    "hidden": true
   },
   "outputs": [],
   "source": [
    "#https://www.newbedev.com/python/howto/how-to-iterate-over-files-in-a-given-directory/\n",
    "\n",
    "Filenames=[]\n",
    "for subdir, dirs, files in os.walk(r'C:/Users/adrie/Documents/Centrale/G3/DATA/Projet integ/Projet_Travail//Donnees/twitter_parlementaires/tweets_senateurs'):\n",
    "    for filename in files:\n",
    "        if filename.endswith(\".csv\"):\n",
    "            Filenames.append(filename)\n",
    "            \n",
    "df_senateurs_info=pd.read_csv('Donnees/twitter_parlementaires/ODSEN_HISTOGROUPES.csv',engine='python', error_bad_lines=False)\n",
    "df_senateurs=pd.read_csv('Donnees/twitter_parlementaires/senateurs.csv')"
   ]
  },
  {
   "cell_type": "code",
   "execution_count": 30,
   "metadata": {
    "hidden": true
   },
   "outputs": [],
   "source": [
    "df_profiles_tweets_senateurs=pd.DataFrame(columns=['id_profile', 'tweets', 'party'])"
   ]
  },
  {
   "cell_type": "code",
   "execution_count": 31,
   "metadata": {
    "hidden": true
   },
   "outputs": [],
   "source": [
    "df_profiles_tweets_senateurs.id_profile=[int(filename[:-4]) for filename in Filenames]"
   ]
  },
  {
   "cell_type": "code",
   "execution_count": 32,
   "metadata": {
    "hidden": true
   },
   "outputs": [
    {
     "name": "stdout",
     "output_type": "stream",
     "text": [
      "<class 'pandas.core.frame.DataFrame'>\n",
      "RangeIndex: 315 entries, 0 to 314\n",
      "Data columns (total 3 columns):\n",
      "id_profile    315 non-null int64\n",
      "tweets        315 non-null object\n",
      "party         0 non-null object\n",
      "dtypes: int64(1), object(2)\n",
      "memory usage: 7.5+ KB\n"
     ]
    }
   ],
   "source": [
    "All_tweets=[\" \".join(pd.read_csv('C:/Users/adrie/Documents/Centrale/G3/DATA/Projet integ/Projet_Travail/Donnees/twitter_parlementaires/tweets_senateurs//'+file).tweet) for file in Filenames]\n",
    "\n",
    "df_profiles_tweets_senateurs.tweets=All_tweets\n",
    "df_profiles_tweets_senateurs.tweets.astype('str', inplace=True)\n",
    "df_profiles_tweets_senateurs.info()"
   ]
  },
  {
   "cell_type": "code",
   "execution_count": 33,
   "metadata": {
    "hidden": true
   },
   "outputs": [],
   "source": [
    "df_senateurs_info['nom complet']=[\" \".join((df_senateurs_info['Prénom'].iloc[i], df_senateurs_info['Nom'].iloc[i])) for i in range(df_senateurs_info.shape[0])]\n",
    "name_to_party=df_senateurs_info.set_index('nom complet')['Code du groupe politique'].to_dict()\n",
    "df_senateurs['party']=df_senateurs['nom'].map(name_to_party)"
   ]
  },
  {
   "cell_type": "code",
   "execution_count": 34,
   "metadata": {
    "hidden": true
   },
   "outputs": [
    {
     "data": {
      "text/plain": [
       "8"
      ]
     },
     "execution_count": 34,
     "metadata": {},
     "output_type": "execute_result"
    }
   ],
   "source": [
    "df_senateurs['party'].isna().sum()"
   ]
  },
  {
   "cell_type": "markdown",
   "metadata": {
    "hidden": true
   },
   "source": [
    "**On supprime les nans.**"
   ]
  },
  {
   "cell_type": "code",
   "execution_count": 35,
   "metadata": {
    "hidden": true
   },
   "outputs": [],
   "source": [
    "df_senateurs.dropna(subset=['party'], inplace=True)"
   ]
  },
  {
   "cell_type": "code",
   "execution_count": 36,
   "metadata": {
    "hidden": true
   },
   "outputs": [],
   "source": [
    "id_to_party=df_senateurs.set_index('twitter_id')['party'].to_dict()\n",
    "df_profiles_tweets_senateurs['party']=df_profiles_tweets_senateurs['id_profile'].map(id_to_party)"
   ]
  },
  {
   "cell_type": "code",
   "execution_count": 37,
   "metadata": {
    "hidden": true
   },
   "outputs": [
    {
     "data": {
      "text/plain": [
       "id_profile    0\n",
       "tweets        0\n",
       "party         6\n",
       "dtype: int64"
      ]
     },
     "execution_count": 37,
     "metadata": {},
     "output_type": "execute_result"
    }
   ],
   "source": [
    "df_profiles_tweets_senateurs.isna().sum()"
   ]
  },
  {
   "cell_type": "code",
   "execution_count": 38,
   "metadata": {
    "hidden": true
   },
   "outputs": [],
   "source": [
    "df_profiles_tweets_senateurs.dropna(subset=['party'], inplace=True)"
   ]
  },
  {
   "cell_type": "code",
   "execution_count": 39,
   "metadata": {
    "hidden": true
   },
   "outputs": [
    {
     "data": {
      "text/plain": [
       "id_profile    0\n",
       "tweets        0\n",
       "party         0\n",
       "dtype: int64"
      ]
     },
     "execution_count": 39,
     "metadata": {},
     "output_type": "execute_result"
    }
   ],
   "source": [
    "df_profiles_tweets_senateurs.isna().sum()"
   ]
  },
  {
   "cell_type": "markdown",
   "metadata": {
    "hidden": true
   },
   "source": [
    "#### Concaténation des deux :"
   ]
  },
  {
   "cell_type": "markdown",
   "metadata": {
    "hidden": true
   },
   "source": [
    "##### partis des deux bases :"
   ]
  },
  {
   "cell_type": "markdown",
   "metadata": {
    "hidden": true
   },
   "source": [
    "Députés :"
   ]
  },
  {
   "cell_type": "code",
   "execution_count": 55,
   "metadata": {
    "hidden": true
   },
   "outputs": [
    {
     "data": {
      "text/plain": [
       "array(['SOC', 'NI', 'LR', 'MODEM', 'UDI-AGIR', 'LaREM', 'GDR', 'FI', 'LT'],\n",
       "      dtype=object)"
      ]
     },
     "execution_count": 55,
     "metadata": {},
     "output_type": "execute_result"
    }
   ],
   "source": [
    "df_profiles_tweets_deputes.party.unique()"
   ]
  },
  {
   "cell_type": "markdown",
   "metadata": {
    "hidden": true
   },
   "source": [
    "Senateurs :"
   ]
  },
  {
   "cell_type": "code",
   "execution_count": 56,
   "metadata": {
    "hidden": true
   },
   "outputs": [
    {
     "data": {
      "text/plain": [
       "array(['LREM', 'UMP', 'SOC', 'UC', 'CRC', 'RPR', 'NI', 'RDSE', 'RTLI',\n",
       "       'RI'], dtype=object)"
      ]
     },
     "execution_count": 56,
     "metadata": {},
     "output_type": "execute_result"
    }
   ],
   "source": [
    "df_profiles_tweets_senateurs.party.unique()"
   ]
  },
  {
   "cell_type": "markdown",
   "metadata": {
    "hidden": true
   },
   "source": [
    "##### Modification des partis : \n",
    "\n",
    "On modifie la base de données associée aux senateurs, pour ne conserver que trois partis : \n",
    "- LREM\n",
    "- LR\n",
    "- PS"
   ]
  },
  {
   "cell_type": "code",
   "execution_count": 57,
   "metadata": {
    "hidden": true
   },
   "outputs": [],
   "source": [
    "partis_dict={'LREM':'LaREM', 'UMP':'LR', 'SOC':'SOC'}"
   ]
  },
  {
   "cell_type": "code",
   "execution_count": 58,
   "metadata": {
    "hidden": true
   },
   "outputs": [],
   "source": [
    "df_profiles_tweets_senateurs.party=df_profiles_tweets_senateurs.party.map(partis_dict)"
   ]
  },
  {
   "cell_type": "code",
   "execution_count": 59,
   "metadata": {
    "hidden": true
   },
   "outputs": [
    {
     "data": {
      "text/plain": [
       "array(['LaREM', 'LR', 'SOC', nan], dtype=object)"
      ]
     },
     "execution_count": 59,
     "metadata": {},
     "output_type": "execute_result"
    }
   ],
   "source": [
    "df_profiles_tweets_senateurs.party.unique()"
   ]
  },
  {
   "cell_type": "markdown",
   "metadata": {
    "hidden": true
   },
   "source": [
    "##### concatenation :"
   ]
  },
  {
   "cell_type": "code",
   "execution_count": 60,
   "metadata": {
    "hidden": true
   },
   "outputs": [],
   "source": [
    "df_profiles_tweets_parlementaires=pd.concat((df_profiles_tweets, df_profiles_tweets_senateurs), ignore_index=False)"
   ]
  },
  {
   "cell_type": "markdown",
   "metadata": {
    "hidden": true
   },
   "source": [
    "##### Garder seulement les partis :"
   ]
  },
  {
   "cell_type": "code",
   "execution_count": 65,
   "metadata": {
    "hidden": true
   },
   "outputs": [],
   "source": [
    "parties=['LaREM', 'LR', 'SOC']\n",
    "df_profiles_tweets_parlementaires = df_profiles_tweets_parlementaires[df_profiles_tweets_parlementaires.party.isin(parties)]\n",
    "df_profiles_tweets_parlementaires.reset_index(inplace=True)"
   ]
  },
  {
   "cell_type": "markdown",
   "metadata": {
    "hidden": true
   },
   "source": [
    "#### Saving :"
   ]
  },
  {
   "cell_type": "code",
   "execution_count": 66,
   "metadata": {
    "hidden": true
   },
   "outputs": [],
   "source": [
    "df_profiles_tweets_parlementaires.to_csv('Donnees_clean/twitter/tweets/tweets_parlementaires.csv')"
   ]
  },
  {
   "cell_type": "markdown",
   "metadata": {
    "heading_collapsed": true
   },
   "source": [
    "## Concaténation tweets + sexe pour la base #Elysée2017"
   ]
  },
  {
   "cell_type": "code",
   "execution_count": 10,
   "metadata": {
    "hidden": true
   },
   "outputs": [],
   "source": [
    "#Base de données relative à l'article #Elysée2017:\n",
    "df_tweets_elysee=pd.read_csv('Donnees/data_elysee2017_tweets/profiles_annotations.tab', sep='\\t')"
   ]
  },
  {
   "cell_type": "markdown",
   "metadata": {
    "hidden": true
   },
   "source": [
    "On regarde quels sont les utilisateurs twitter pour lesquels on a le sexe:"
   ]
  },
  {
   "cell_type": "code",
   "execution_count": 11,
   "metadata": {
    "hidden": true,
    "scrolled": true
   },
   "outputs": [
    {
     "name": "stdout",
     "output_type": "stream",
     "text": [
      "Nombre d'utilisateurs twitter dont on a le sexe:  16242\n",
      "Nombre d'utilisateurs twitter total:  22853\n",
      "Proportion : 71.07%\n"
     ]
    }
   ],
   "source": [
    "print(\"Nombre d'utilisateurs twitter dont on a le sexe: \", df_tweets_elysee.SEX.count())\n",
    "print(\"Nombre d'utilisateurs twitter total: \", df_tweets_elysee.shape[0])\n",
    "print(\"Proportion : {prop:.2f}%\".format(prop= df_tweets_elysee.SEX.count()/df_tweets_elysee.shape[0] * 100) )"
   ]
  },
  {
   "cell_type": "code",
   "execution_count": 12,
   "metadata": {
    "hidden": true
   },
   "outputs": [
    {
     "name": "stdout",
     "output_type": "stream",
     "text": [
      "['f' 'm' nan]\n"
     ]
    }
   ],
   "source": [
    "#On regarde quelles sont les valeurs prises par la colonne 'SEX' de la base Entendre la France:\n",
    "print(df_tweets_elysee.SEX.unique())"
   ]
  },
  {
   "cell_type": "code",
   "execution_count": 13,
   "metadata": {
    "hidden": true
   },
   "outputs": [],
   "source": [
    "#On remplace 'm' par 'Homme' et 'f' par 'Femme' pour avoir les mêmes valeurs que dans la base Entendre la France: \n",
    "df_tweets_elysee.replace({'m':'Homme', 'f':'Femme'}, inplace=True)"
   ]
  },
  {
   "cell_type": "code",
   "execution_count": 14,
   "metadata": {
    "hidden": true
   },
   "outputs": [
    {
     "name": "stdout",
     "output_type": "stream",
     "text": [
      "['Femme' 'Homme' nan]\n"
     ]
    }
   ],
   "source": [
    "print(df_tweets_elysee.SEX.unique())"
   ]
  },
  {
   "cell_type": "markdown",
   "metadata": {
    "hidden": true
   },
   "source": [
    "Preparation de l'import de tous les tweets:"
   ]
  },
  {
   "cell_type": "code",
   "execution_count": 15,
   "metadata": {
    "hidden": true
   },
   "outputs": [],
   "source": [
    "#https://www.newbedev.com/python/howto/how-to-iterate-over-files-in-a-given-directory/\n",
    "\n",
    "Filenames=[]\n",
    "for subdir, dirs, files in os.walk(r'C:/Users/adrie/Documents/Centrale/G3/DATA/Projet integ/Projet_Travail/Donnees/tweets_pol'):\n",
    "    for filename in files:\n",
    "        if filename.endswith(\".csv\"):\n",
    "            Filenames.append(filename)\n",
    "            \n",
    "dfprofiles_clean=pd.read_csv('Donnees_clean/twitter/utilisateurs/profiles_annotations.csv')"
   ]
  },
  {
   "cell_type": "markdown",
   "metadata": {
    "hidden": true
   },
   "source": [
    "Concatenation de tous les tweets de chaque profil et concatenation de tous les profils :"
   ]
  },
  {
   "cell_type": "code",
   "execution_count": 76,
   "metadata": {
    "hidden": true
   },
   "outputs": [],
   "source": [
    "df_profiles_tweets=pd.DataFrame(columns=['id_profile', 'tweets', 'sexe'])"
   ]
  },
  {
   "cell_type": "code",
   "execution_count": 77,
   "metadata": {
    "hidden": true
   },
   "outputs": [],
   "source": [
    "df_profiles_tweets.id_profile=[int(filename[:-4]) for filename in Filenames]"
   ]
  },
  {
   "cell_type": "code",
   "execution_count": 78,
   "metadata": {
    "hidden": true
   },
   "outputs": [],
   "source": [
    "All_tweets=[\" \".join(pd.read_csv('Donnees/tweets_pol/'+file).tweet) for file in Filenames]"
   ]
  },
  {
   "cell_type": "code",
   "execution_count": 79,
   "metadata": {
    "hidden": true
   },
   "outputs": [
    {
     "name": "stdout",
     "output_type": "stream",
     "text": [
      "<class 'pandas.core.frame.DataFrame'>\n",
      "RangeIndex: 14211 entries, 0 to 14210\n",
      "Data columns (total 3 columns):\n",
      "id_profile    14211 non-null int64\n",
      "tweets        14211 non-null object\n",
      "sexe          0 non-null object\n",
      "dtypes: int64(1), object(2)\n",
      "memory usage: 333.1+ KB\n"
     ]
    }
   ],
   "source": [
    "df_profiles_tweets.tweets=All_tweets\n",
    "df_profiles_tweets.tweets.astype('str', inplace=True)\n",
    "df_profiles_tweets.info()"
   ]
  },
  {
   "cell_type": "markdown",
   "metadata": {
    "hidden": true
   },
   "source": [
    "#### Mapping/merging :"
   ]
  },
  {
   "cell_type": "code",
   "execution_count": 82,
   "metadata": {
    "hidden": true
   },
   "outputs": [],
   "source": [
    "id_to_sex=df_tweets_elysee.set_index('FROM_USER_ID')['SEX'].to_dict()\n",
    "df_profiles_tweets['sexe']=df_profiles_tweets['id_profile'].map(id_to_sex)"
   ]
  },
  {
   "cell_type": "code",
   "execution_count": 83,
   "metadata": {
    "hidden": true,
    "scrolled": true
   },
   "outputs": [
    {
     "data": {
      "text/html": [
       "<div>\n",
       "<style scoped>\n",
       "    .dataframe tbody tr th:only-of-type {\n",
       "        vertical-align: middle;\n",
       "    }\n",
       "\n",
       "    .dataframe tbody tr th {\n",
       "        vertical-align: top;\n",
       "    }\n",
       "\n",
       "    .dataframe thead th {\n",
       "        text-align: right;\n",
       "    }\n",
       "</style>\n",
       "<table border=\"1\" class=\"dataframe\">\n",
       "  <thead>\n",
       "    <tr style=\"text-align: right;\">\n",
       "      <th></th>\n",
       "      <th>id_profile</th>\n",
       "      <th>tweets</th>\n",
       "      <th>sexe</th>\n",
       "    </tr>\n",
       "  </thead>\n",
       "  <tbody>\n",
       "    <tr>\n",
       "      <th>0</th>\n",
       "      <td>100036070</td>\n",
       "      <td>Bisous Moi aussi :) bon après-midi bisous Ca n...</td>\n",
       "      <td>Homme</td>\n",
       "    </tr>\n",
       "    <tr>\n",
       "      <th>1</th>\n",
       "      <td>100042705</td>\n",
       "      <td>C'est pas déjà fait avec \"En Marche\" ? Je comp...</td>\n",
       "      <td>Homme</td>\n",
       "    </tr>\n",
       "    <tr>\n",
       "      <th>2</th>\n",
       "      <td>1001415254</td>\n",
       "      <td>#directSH revirement plus que tardif des écolo...</td>\n",
       "      <td>Homme</td>\n",
       "    </tr>\n",
       "    <tr>\n",
       "      <th>3</th>\n",
       "      <td>1001470369</td>\n",
       "      <td>Mort à la cité par projets Ça m’angoisse un pe...</td>\n",
       "      <td>Homme</td>\n",
       "    </tr>\n",
       "    <tr>\n",
       "      <th>4</th>\n",
       "      <td>1001569926</td>\n",
       "      <td>.@vpecresse très claire sur la grève du #5déce...</td>\n",
       "      <td>Homme</td>\n",
       "    </tr>\n",
       "  </tbody>\n",
       "</table>\n",
       "</div>"
      ],
      "text/plain": [
       "   id_profile                                             tweets   sexe\n",
       "0   100036070  Bisous Moi aussi :) bon après-midi bisous Ca n...  Homme\n",
       "1   100042705  C'est pas déjà fait avec \"En Marche\" ? Je comp...  Homme\n",
       "2  1001415254  #directSH revirement plus que tardif des écolo...  Homme\n",
       "3  1001470369  Mort à la cité par projets Ça m’angoisse un pe...  Homme\n",
       "4  1001569926  .@vpecresse très claire sur la grève du #5déce...  Homme"
      ]
     },
     "execution_count": 83,
     "metadata": {},
     "output_type": "execute_result"
    }
   ],
   "source": [
    "df_profiles_tweets.head()"
   ]
  },
  {
   "cell_type": "code",
   "execution_count": 84,
   "metadata": {
    "hidden": true
   },
   "outputs": [
    {
     "data": {
      "text/plain": [
       "id_profile       0\n",
       "tweets           0\n",
       "sexe          3795\n",
       "dtype: int64"
      ]
     },
     "execution_count": 84,
     "metadata": {},
     "output_type": "execute_result"
    }
   ],
   "source": [
    "df_profiles_tweets.isna().sum()"
   ]
  },
  {
   "cell_type": "code",
   "execution_count": 86,
   "metadata": {
    "hidden": true
   },
   "outputs": [],
   "source": [
    "df_profiles_tweets.dropna(subset=['sexe'], inplace=True)"
   ]
  },
  {
   "cell_type": "code",
   "execution_count": 87,
   "metadata": {
    "hidden": true
   },
   "outputs": [
    {
     "data": {
      "text/plain": [
       "(10416, 3)"
      ]
     },
     "execution_count": 87,
     "metadata": {},
     "output_type": "execute_result"
    }
   ],
   "source": [
    "df_profiles_tweets.shape"
   ]
  },
  {
   "cell_type": "markdown",
   "metadata": {
    "hidden": true
   },
   "source": [
    "#### Saving :"
   ]
  },
  {
   "cell_type": "code",
   "execution_count": 88,
   "metadata": {
    "hidden": true
   },
   "outputs": [],
   "source": [
    "df_profiles_tweets.to_csv('Donnees_clean/twitter/tweets/tweets_elysee_2017_sexe.csv', index=False)"
   ]
  },
  {
   "cell_type": "markdown",
   "metadata": {
    "heading_collapsed": true
   },
   "source": [
    "## Concaténation des contributions pour NLP "
   ]
  },
  {
   "cell_type": "markdown",
   "metadata": {
    "hidden": true
   },
   "source": [
    "Concaténation des différentes contributions, une seule pour chaque auteur et pour chaque thème dans un premier temps, puis concaténation de tous les thèmes pour chaque auteur."
   ]
  },
  {
   "cell_type": "code",
   "execution_count": 2,
   "metadata": {
    "hidden": true
   },
   "outputs": [
    {
     "name": "stderr",
     "output_type": "stream",
     "text": [
      "C:\\Users\\adrie\\Anaconda3\\lib\\site-packages\\IPython\\core\\interactiveshell.py:3049: DtypeWarning: Columns (6) have mixed types. Specify dtype option on import or set low_memory=False.\n",
      "  interactivity=interactivity, compiler=compiler, result=result)\n",
      "C:\\Users\\adrie\\Anaconda3\\lib\\site-packages\\IPython\\core\\interactiveshell.py:3049: DtypeWarning: Columns (7) have mixed types. Specify dtype option on import or set low_memory=False.\n",
      "  interactivity=interactivity, compiler=compiler, result=result)\n"
     ]
    }
   ],
   "source": [
    "#Imports des contributions :\n",
    "data_ecolo=pd.read_csv('Donnees_clean/contributions/data_ecolo.csv')\n",
    "data_serv_pub =pd.read_csv('Donnees_clean/contributions/data_serv_pub.csv')\n",
    "data_fisc= pd.read_csv('Donnees_clean/contributions/data_fisc.csv')\n",
    "data_dem=pd.read_csv('Donnees_clean/contributions/data_dem.csv')"
   ]
  },
  {
   "cell_type": "code",
   "execution_count": 3,
   "metadata": {
    "hidden": true
   },
   "outputs": [],
   "source": [
    "data_ecolo.drop(['reference', 'createdAt', 'publishedAt', 'updatedAt','trashed', 'trashedStatus', 'authorType', 'authorZipCode'],axis=1, inplace=True)\n",
    "data_dem.drop(['reference', 'createdAt', 'publishedAt', 'updatedAt','trashed', 'trashedStatus', 'authorType', 'authorZipCode', 'id'],axis=1, inplace=True)\n",
    "data_serv_pub.drop(['reference', 'createdAt', 'publishedAt', 'updatedAt','trashed', 'trashedStatus', 'authorType', 'authorZipCode', 'id'],axis=1, inplace=True)\n",
    "data_fisc.drop(['reference', 'createdAt', 'publishedAt', 'updatedAt','trashed', 'trashedStatus', 'authorType', 'authorZipCode', 'id'],axis=1, inplace=True)"
   ]
  },
  {
   "cell_type": "code",
   "execution_count": 4,
   "metadata": {
    "hidden": true
   },
   "outputs": [],
   "source": [
    "#On doit s'occuper des nans, sinon agg ne fonctionne pas :\n",
    "data_ecolo.fillna(' ', inplace=True) \n",
    "data_ecolo_merge=pd.DataFrame(data_ecolo.groupby(\"authorId\", as_index=False).agg(lambda x : ' '.join(set(x))))\n",
    "data_fisc.fillna(' ', inplace=True)\n",
    "data_fisc_merge=pd.DataFrame(data_fisc.groupby(\"authorId\", as_index=False).agg(lambda x : ' '.join(set(x))))\n",
    "data_serv_pub.fillna(' ', inplace=True)\n",
    "data_serv_pub_merge=pd.DataFrame(data_serv_pub.groupby(\"authorId\", as_index=False).agg(lambda x : ' '.join(set(x))))\n",
    "data_dem.fillna(' ', inplace=True)\n",
    "data_dem_merge=pd.DataFrame(data_dem.groupby(\"authorId\", as_index=False).agg(lambda x : ' '.join(set(x))))"
   ]
  },
  {
   "cell_type": "markdown",
   "metadata": {
    "hidden": true
   },
   "source": [
    "concaténation de tous les thèmes :"
   ]
  },
  {
   "cell_type": "code",
   "execution_count": 5,
   "metadata": {
    "hidden": true
   },
   "outputs": [],
   "source": [
    "df_contrib = pd.merge(data_ecolo_merge, data_fisc_merge,left_on='authorId', right_on='authorId', how='outer')\n",
    "df_contrib = pd.merge(df_contrib, data_serv_pub_merge, left_on='authorId', right_on='authorId', how='outer')\n",
    "df_contrib=pd.merge(df_contrib,data_dem_merge,left_on='authorId', right_on='authorId', how='outer')"
   ]
  },
  {
   "cell_type": "markdown",
   "metadata": {
    "hidden": true
   },
   "source": [
    "Il n'y a plus qu'une ligne pour chaque personne et que les colonnes présentes sont bien celles pertinentes. \n",
    "\n",
    "On fait la concaténation de tout le texte écrit par chaque personne :"
   ]
  },
  {
   "cell_type": "code",
   "execution_count": 6,
   "metadata": {
    "hidden": true
   },
   "outputs": [],
   "source": [
    "d = {'authorId': df_contrib['authorId'], 'texte': df_contrib[df_contrib.columns[1:]].apply(lambda x: ' '.join(x.dropna().astype(str)),axis=1)}\n",
    "df_author_contrib = pd.DataFrame(data=d)"
   ]
  },
  {
   "cell_type": "code",
   "execution_count": 7,
   "metadata": {
    "hidden": true
   },
   "outputs": [
    {
     "data": {
      "text/plain": [
       "(143348, 2)"
      ]
     },
     "execution_count": 7,
     "metadata": {},
     "output_type": "execute_result"
    }
   ],
   "source": [
    "df_author_contrib.shape"
   ]
  },
  {
   "cell_type": "code",
   "execution_count": 8,
   "metadata": {
    "hidden": true
   },
   "outputs": [
    {
     "name": "stdout",
     "output_type": "stream",
     "text": [
      "<class 'pandas.core.frame.DataFrame'>\n",
      "Int64Index: 143348 entries, 0 to 143347\n",
      "Data columns (total 2 columns):\n",
      "authorId    143348 non-null object\n",
      "texte       143348 non-null object\n",
      "dtypes: object(2)\n",
      "memory usage: 3.3+ MB\n"
     ]
    }
   ],
   "source": [
    "df_author_contrib.info()"
   ]
  },
  {
   "cell_type": "markdown",
   "metadata": {
    "hidden": true
   },
   "source": [
    "### Saving :"
   ]
  },
  {
   "cell_type": "code",
   "execution_count": 9,
   "metadata": {
    "hidden": true
   },
   "outputs": [],
   "source": [
    "df_author_contrib.to_csv('Donnees_clean/contributions_auteur_unique/data_contrib_auteur_unique.csv', index=False)"
   ]
  }
 ],
 "metadata": {
  "kernelspec": {
   "display_name": "Python 3",
   "language": "python",
   "name": "python3"
  },
  "language_info": {
   "codemirror_mode": {
    "name": "ipython",
    "version": 3
   },
   "file_extension": ".py",
   "mimetype": "text/x-python",
   "name": "python",
   "nbconvert_exporter": "python",
   "pygments_lexer": "ipython3",
   "version": "3.7.4"
  },
  "toc": {
   "base_numbering": 1,
   "nav_menu": {},
   "number_sections": true,
   "sideBar": true,
   "skip_h1_title": true,
   "title_cell": "Table of Contents",
   "title_sidebar": "Contents",
   "toc_cell": false,
   "toc_position": {
    "height": "calc(100% - 180px)",
    "left": "10px",
    "top": "150px",
    "width": "292.4px"
   },
   "toc_section_display": true,
   "toc_window_display": true
  }
 },
 "nbformat": 4,
 "nbformat_minor": 2
}
